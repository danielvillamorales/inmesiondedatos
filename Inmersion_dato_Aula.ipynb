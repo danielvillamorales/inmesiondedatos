{
  "nbformat": 4,
  "nbformat_minor": 0,
  "metadata": {
    "colab": {
      "provenance": [],
      "authorship_tag": "ABX9TyPNZXtkSQnX1tjTqGn24BMA",
      "include_colab_link": true
    },
    "kernelspec": {
      "name": "python3",
      "display_name": "Python 3"
    },
    "language_info": {
      "name": "python"
    }
  },
  "cells": [
    {
      "cell_type": "markdown",
      "metadata": {
        "id": "view-in-github",
        "colab_type": "text"
      },
      "source": [
        "<a href=\"https://colab.research.google.com/github/danielvillamorales/inmesiondedatos/blob/main/Inmersion_dato_Aula.ipynb\" target=\"_parent\"><img src=\"https://colab.research.google.com/assets/colab-badge.svg\" alt=\"Open In Colab\"/></a>"
      ]
    },
    {
      "cell_type": "markdown",
      "source": [
        "**# Bienvenido a nuestra inmersion de datos.**\n",
        "\n",
        "---\n",
        "\n"
      ],
      "metadata": {
        "id": "ELDRX8kNOOjp"
      }
    },
    {
      "cell_type": "markdown",
      "source": [
        "Primera clase de inmersion de datos con python."
      ],
      "metadata": {
        "id": "tiryjOimQfUx"
      }
    },
    {
      "cell_type": "markdown",
      "source": [
        "# Aula 1"
      ],
      "metadata": {
        "id": "yKGn3PHQANL7"
      }
    },
    {
      "cell_type": "code",
      "source": [
        "from google.colab import drive #se conecta con drive para la traer la informacion de la cuenta  \n",
        "drive.mount('/content/drive') #monta la unidad de drive"
      ],
      "metadata": {
        "id": "Jh8bJaFXPiHw",
        "colab": {
          "base_uri": "https://localhost:8080/"
        },
        "outputId": "e715f978-cf42-4d04-b91a-2cc4b9acc982"
      },
      "execution_count": 1,
      "outputs": [
        {
          "output_type": "stream",
          "name": "stdout",
          "text": [
            "Mounted at /content/drive\n"
          ]
        }
      ]
    },
    {
      "cell_type": "markdown",
      "source": [],
      "metadata": {
        "id": "LPYqiFNPQe16"
      }
    },
    {
      "cell_type": "code",
      "source": [
        "import pandas as pd #importacion de pandas\n",
        "\n",
        "inmuebles = pd.read_csv('/content/drive/MyDrive/inmercion_datos/inmuebles_bogota.csv') #cargar archivo csv con la libreria de pandas\n",
        "inmuebles.head() #trae los primeros 5 registros"
      ],
      "metadata": {
        "colab": {
          "base_uri": "https://localhost:8080/",
          "height": 206
        },
        "id": "jQWLnIatSSHs",
        "outputId": "5918861d-192f-4a3a-f797-0357f8cde507"
      },
      "execution_count": 2,
      "outputs": [
        {
          "output_type": "execute_result",
          "data": {
            "text/plain": [
              "          Tipo                                 Descripcion  Habitaciones  \\\n",
              "0  Apartamento  Apartamento en venta en Zona Noroccidental             3   \n",
              "1         Casa                   Casa en venta en Castilla             4   \n",
              "2  Apartamento     Apartamento en venta en Chico Reservado             3   \n",
              "3  Apartamento             Apartamento en venta en Usaquén             3   \n",
              "4  Apartamento         Apartamento en venta en Bella Suiza             2   \n",
              "\n",
              "   Baños  Área              Barrio                                    UPZ  \\\n",
              "0      2    70  Zona Noroccidental     CHAPINERO: Pardo Rubio + Chapinero   \n",
              "1      3   170            Castilla            KENNEDY: Castilla + Bavaria   \n",
              "2      3   144     Chico Reservado     CHAPINERO: Chicó Lago + El Refugio   \n",
              "3      2   154             Usaquén                                Usaquén   \n",
              "4      3   128         Bella Suiza  USAQUÉN: Country Club + Santa Bárbara   \n",
              "\n",
              "             Valor  \n",
              "0    $ 360.000.000  \n",
              "1    $ 670.000.000  \n",
              "2  $ 1.120.000.000  \n",
              "3    $ 890.000.000  \n",
              "4    $ 970.000.000  "
            ],
            "text/html": [
              "\n",
              "  <div id=\"df-2d82f355-885a-4aee-9523-d1126fdb2c7a\">\n",
              "    <div class=\"colab-df-container\">\n",
              "      <div>\n",
              "<style scoped>\n",
              "    .dataframe tbody tr th:only-of-type {\n",
              "        vertical-align: middle;\n",
              "    }\n",
              "\n",
              "    .dataframe tbody tr th {\n",
              "        vertical-align: top;\n",
              "    }\n",
              "\n",
              "    .dataframe thead th {\n",
              "        text-align: right;\n",
              "    }\n",
              "</style>\n",
              "<table border=\"1\" class=\"dataframe\">\n",
              "  <thead>\n",
              "    <tr style=\"text-align: right;\">\n",
              "      <th></th>\n",
              "      <th>Tipo</th>\n",
              "      <th>Descripcion</th>\n",
              "      <th>Habitaciones</th>\n",
              "      <th>Baños</th>\n",
              "      <th>Área</th>\n",
              "      <th>Barrio</th>\n",
              "      <th>UPZ</th>\n",
              "      <th>Valor</th>\n",
              "    </tr>\n",
              "  </thead>\n",
              "  <tbody>\n",
              "    <tr>\n",
              "      <th>0</th>\n",
              "      <td>Apartamento</td>\n",
              "      <td>Apartamento en venta en Zona Noroccidental</td>\n",
              "      <td>3</td>\n",
              "      <td>2</td>\n",
              "      <td>70</td>\n",
              "      <td>Zona Noroccidental</td>\n",
              "      <td>CHAPINERO: Pardo Rubio + Chapinero</td>\n",
              "      <td>$ 360.000.000</td>\n",
              "    </tr>\n",
              "    <tr>\n",
              "      <th>1</th>\n",
              "      <td>Casa</td>\n",
              "      <td>Casa en venta en Castilla</td>\n",
              "      <td>4</td>\n",
              "      <td>3</td>\n",
              "      <td>170</td>\n",
              "      <td>Castilla</td>\n",
              "      <td>KENNEDY: Castilla + Bavaria</td>\n",
              "      <td>$ 670.000.000</td>\n",
              "    </tr>\n",
              "    <tr>\n",
              "      <th>2</th>\n",
              "      <td>Apartamento</td>\n",
              "      <td>Apartamento en venta en Chico Reservado</td>\n",
              "      <td>3</td>\n",
              "      <td>3</td>\n",
              "      <td>144</td>\n",
              "      <td>Chico Reservado</td>\n",
              "      <td>CHAPINERO: Chicó Lago + El Refugio</td>\n",
              "      <td>$ 1.120.000.000</td>\n",
              "    </tr>\n",
              "    <tr>\n",
              "      <th>3</th>\n",
              "      <td>Apartamento</td>\n",
              "      <td>Apartamento en venta en Usaquén</td>\n",
              "      <td>3</td>\n",
              "      <td>2</td>\n",
              "      <td>154</td>\n",
              "      <td>Usaquén</td>\n",
              "      <td>Usaquén</td>\n",
              "      <td>$ 890.000.000</td>\n",
              "    </tr>\n",
              "    <tr>\n",
              "      <th>4</th>\n",
              "      <td>Apartamento</td>\n",
              "      <td>Apartamento en venta en Bella Suiza</td>\n",
              "      <td>2</td>\n",
              "      <td>3</td>\n",
              "      <td>128</td>\n",
              "      <td>Bella Suiza</td>\n",
              "      <td>USAQUÉN: Country Club + Santa Bárbara</td>\n",
              "      <td>$ 970.000.000</td>\n",
              "    </tr>\n",
              "  </tbody>\n",
              "</table>\n",
              "</div>\n",
              "      <button class=\"colab-df-convert\" onclick=\"convertToInteractive('df-2d82f355-885a-4aee-9523-d1126fdb2c7a')\"\n",
              "              title=\"Convert this dataframe to an interactive table.\"\n",
              "              style=\"display:none;\">\n",
              "        \n",
              "  <svg xmlns=\"http://www.w3.org/2000/svg\" height=\"24px\"viewBox=\"0 0 24 24\"\n",
              "       width=\"24px\">\n",
              "    <path d=\"M0 0h24v24H0V0z\" fill=\"none\"/>\n",
              "    <path d=\"M18.56 5.44l.94 2.06.94-2.06 2.06-.94-2.06-.94-.94-2.06-.94 2.06-2.06.94zm-11 1L8.5 8.5l.94-2.06 2.06-.94-2.06-.94L8.5 2.5l-.94 2.06-2.06.94zm10 10l.94 2.06.94-2.06 2.06-.94-2.06-.94-.94-2.06-.94 2.06-2.06.94z\"/><path d=\"M17.41 7.96l-1.37-1.37c-.4-.4-.92-.59-1.43-.59-.52 0-1.04.2-1.43.59L10.3 9.45l-7.72 7.72c-.78.78-.78 2.05 0 2.83L4 21.41c.39.39.9.59 1.41.59.51 0 1.02-.2 1.41-.59l7.78-7.78 2.81-2.81c.8-.78.8-2.07 0-2.86zM5.41 20L4 18.59l7.72-7.72 1.47 1.35L5.41 20z\"/>\n",
              "  </svg>\n",
              "      </button>\n",
              "      \n",
              "  <style>\n",
              "    .colab-df-container {\n",
              "      display:flex;\n",
              "      flex-wrap:wrap;\n",
              "      gap: 12px;\n",
              "    }\n",
              "\n",
              "    .colab-df-convert {\n",
              "      background-color: #E8F0FE;\n",
              "      border: none;\n",
              "      border-radius: 50%;\n",
              "      cursor: pointer;\n",
              "      display: none;\n",
              "      fill: #1967D2;\n",
              "      height: 32px;\n",
              "      padding: 0 0 0 0;\n",
              "      width: 32px;\n",
              "    }\n",
              "\n",
              "    .colab-df-convert:hover {\n",
              "      background-color: #E2EBFA;\n",
              "      box-shadow: 0px 1px 2px rgba(60, 64, 67, 0.3), 0px 1px 3px 1px rgba(60, 64, 67, 0.15);\n",
              "      fill: #174EA6;\n",
              "    }\n",
              "\n",
              "    [theme=dark] .colab-df-convert {\n",
              "      background-color: #3B4455;\n",
              "      fill: #D2E3FC;\n",
              "    }\n",
              "\n",
              "    [theme=dark] .colab-df-convert:hover {\n",
              "      background-color: #434B5C;\n",
              "      box-shadow: 0px 1px 3px 1px rgba(0, 0, 0, 0.15);\n",
              "      filter: drop-shadow(0px 1px 2px rgba(0, 0, 0, 0.3));\n",
              "      fill: #FFFFFF;\n",
              "    }\n",
              "  </style>\n",
              "\n",
              "      <script>\n",
              "        const buttonEl =\n",
              "          document.querySelector('#df-2d82f355-885a-4aee-9523-d1126fdb2c7a button.colab-df-convert');\n",
              "        buttonEl.style.display =\n",
              "          google.colab.kernel.accessAllowed ? 'block' : 'none';\n",
              "\n",
              "        async function convertToInteractive(key) {\n",
              "          const element = document.querySelector('#df-2d82f355-885a-4aee-9523-d1126fdb2c7a');\n",
              "          const dataTable =\n",
              "            await google.colab.kernel.invokeFunction('convertToInteractive',\n",
              "                                                     [key], {});\n",
              "          if (!dataTable) return;\n",
              "\n",
              "          const docLinkHtml = 'Like what you see? Visit the ' +\n",
              "            '<a target=\"_blank\" href=https://colab.research.google.com/notebooks/data_table.ipynb>data table notebook</a>'\n",
              "            + ' to learn more about interactive tables.';\n",
              "          element.innerHTML = '';\n",
              "          dataTable['output_type'] = 'display_data';\n",
              "          await google.colab.output.renderOutput(dataTable, element);\n",
              "          const docLink = document.createElement('div');\n",
              "          docLink.innerHTML = docLinkHtml;\n",
              "          element.appendChild(docLink);\n",
              "        }\n",
              "      </script>\n",
              "    </div>\n",
              "  </div>\n",
              "  "
            ]
          },
          "metadata": {},
          "execution_count": 2
        }
      ]
    },
    {
      "cell_type": "code",
      "source": [
        "inmuebles.shape #trae la informacion de numero de columnas y el numero de filas del archivo"
      ],
      "metadata": {
        "colab": {
          "base_uri": "https://localhost:8080/"
        },
        "id": "u51cmhAiTpQ6",
        "outputId": "08cc1af7-8a20-4bd1-c492-9391791eea41"
      },
      "execution_count": 3,
      "outputs": [
        {
          "output_type": "execute_result",
          "data": {
            "text/plain": [
              "(9520, 8)"
            ]
          },
          "metadata": {},
          "execution_count": 3
        }
      ]
    },
    {
      "cell_type": "code",
      "source": [
        "inmuebles.columns #trae el nombre de cada columna del archivo"
      ],
      "metadata": {
        "colab": {
          "base_uri": "https://localhost:8080/"
        },
        "id": "UDHjWfZDTBlC",
        "outputId": "2775683d-d64d-4ddc-af4e-83b1a04a1d24"
      },
      "execution_count": 4,
      "outputs": [
        {
          "output_type": "execute_result",
          "data": {
            "text/plain": [
              "Index(['Tipo', 'Descripcion', 'Habitaciones', 'Baños', 'Área', 'Barrio', 'UPZ',\n",
              "       'Valor'],\n",
              "      dtype='object')"
            ]
          },
          "metadata": {},
          "execution_count": 4
        }
      ]
    },
    {
      "cell_type": "code",
      "source": [
        "columnas = { 'Baños':'Banos','Área':'Area'} #diccionario para transformar la informacion de los titulos\n",
        "inmuebles = inmuebles.rename(columns=columnas) # se modifica el nombre de las columnas utilizando el anterior diccionario\n",
        "inmuebles.sample(10) #trae 10 registros del archivo aleatoriamente"
      ],
      "metadata": {
        "colab": {
          "base_uri": "https://localhost:8080/",
          "height": 363
        },
        "id": "uTFfuPhXUCuq",
        "outputId": "991b16ad-96de-4a4f-b2ee-a8025aeaa0f2"
      },
      "execution_count": 5,
      "outputs": [
        {
          "output_type": "execute_result",
          "data": {
            "text/plain": [
              "             Tipo                                 Descripcion  Habitaciones  \\\n",
              "7839         Casa               Casa en venta en Gran Granada             2   \n",
              "5932  Apartamento  Apartamento en venta en Zona Noroccidental             3   \n",
              "3134  Apartamento         Apartamento en venta en Los Rosales             3   \n",
              "5679  Apartamento      Apartamento en venta en Quinta Paredes             3   \n",
              "5353  Apartamento                Apartamento en venta en Bosa             3   \n",
              "1128  Apartamento         Apartamento en venta en Teusaquillo             3   \n",
              "5854  Apartamento      Apartamento en venta en Quinta Paredes             2   \n",
              "5828         Casa                   Casa en venta en Fontibón             3   \n",
              "3877  Apartamento            Apartamento en venta en El Batán             1   \n",
              "6693         Casa                   Casa en venta en Cedritos             4   \n",
              "\n",
              "      Banos  Area              Barrio                                 UPZ  \\\n",
              "7839      1    79        Gran Granada                        Garcés Navas   \n",
              "5932      2    88  Zona Noroccidental  CHAPINERO: Pardo Rubio + Chapinero   \n",
              "3134      4   234         Los Rosales  CHAPINERO: Chicó Lago + El Refugio   \n",
              "5679      2    80      Quinta Paredes                         Teusaquillo   \n",
              "5353      1    47                Bosa                        Bosa Central   \n",
              "1128      3   167         Teusaquillo                         Teusaquillo   \n",
              "5854      3   153      Quinta Paredes                         Teusaquillo   \n",
              "5828      3    65            Fontibón                            Fontibón   \n",
              "3877      1    43            El Batán                         La Alhambra   \n",
              "6693      5   250            Cedritos                             Usaquén   \n",
              "\n",
              "                Valor  \n",
              "7839    $ 230.000.000  \n",
              "5932    $ 500.000.000  \n",
              "3134  $ 2.190.000.000  \n",
              "5679    $ 528.000.000  \n",
              "5353    $ 129.000.000  \n",
              "1128  $ 1.300.000.000  \n",
              "5854    $ 739.000.000  \n",
              "5828    $ 315.000.000  \n",
              "3877    $ 300.000.000  \n",
              "6693    $ 900.000.000  "
            ],
            "text/html": [
              "\n",
              "  <div id=\"df-f609ae93-2321-4e1c-b14a-ea19646fb604\">\n",
              "    <div class=\"colab-df-container\">\n",
              "      <div>\n",
              "<style scoped>\n",
              "    .dataframe tbody tr th:only-of-type {\n",
              "        vertical-align: middle;\n",
              "    }\n",
              "\n",
              "    .dataframe tbody tr th {\n",
              "        vertical-align: top;\n",
              "    }\n",
              "\n",
              "    .dataframe thead th {\n",
              "        text-align: right;\n",
              "    }\n",
              "</style>\n",
              "<table border=\"1\" class=\"dataframe\">\n",
              "  <thead>\n",
              "    <tr style=\"text-align: right;\">\n",
              "      <th></th>\n",
              "      <th>Tipo</th>\n",
              "      <th>Descripcion</th>\n",
              "      <th>Habitaciones</th>\n",
              "      <th>Banos</th>\n",
              "      <th>Area</th>\n",
              "      <th>Barrio</th>\n",
              "      <th>UPZ</th>\n",
              "      <th>Valor</th>\n",
              "    </tr>\n",
              "  </thead>\n",
              "  <tbody>\n",
              "    <tr>\n",
              "      <th>7839</th>\n",
              "      <td>Casa</td>\n",
              "      <td>Casa en venta en Gran Granada</td>\n",
              "      <td>2</td>\n",
              "      <td>1</td>\n",
              "      <td>79</td>\n",
              "      <td>Gran Granada</td>\n",
              "      <td>Garcés Navas</td>\n",
              "      <td>$ 230.000.000</td>\n",
              "    </tr>\n",
              "    <tr>\n",
              "      <th>5932</th>\n",
              "      <td>Apartamento</td>\n",
              "      <td>Apartamento en venta en Zona Noroccidental</td>\n",
              "      <td>3</td>\n",
              "      <td>2</td>\n",
              "      <td>88</td>\n",
              "      <td>Zona Noroccidental</td>\n",
              "      <td>CHAPINERO: Pardo Rubio + Chapinero</td>\n",
              "      <td>$ 500.000.000</td>\n",
              "    </tr>\n",
              "    <tr>\n",
              "      <th>3134</th>\n",
              "      <td>Apartamento</td>\n",
              "      <td>Apartamento en venta en Los Rosales</td>\n",
              "      <td>3</td>\n",
              "      <td>4</td>\n",
              "      <td>234</td>\n",
              "      <td>Los Rosales</td>\n",
              "      <td>CHAPINERO: Chicó Lago + El Refugio</td>\n",
              "      <td>$ 2.190.000.000</td>\n",
              "    </tr>\n",
              "    <tr>\n",
              "      <th>5679</th>\n",
              "      <td>Apartamento</td>\n",
              "      <td>Apartamento en venta en Quinta Paredes</td>\n",
              "      <td>3</td>\n",
              "      <td>2</td>\n",
              "      <td>80</td>\n",
              "      <td>Quinta Paredes</td>\n",
              "      <td>Teusaquillo</td>\n",
              "      <td>$ 528.000.000</td>\n",
              "    </tr>\n",
              "    <tr>\n",
              "      <th>5353</th>\n",
              "      <td>Apartamento</td>\n",
              "      <td>Apartamento en venta en Bosa</td>\n",
              "      <td>3</td>\n",
              "      <td>1</td>\n",
              "      <td>47</td>\n",
              "      <td>Bosa</td>\n",
              "      <td>Bosa Central</td>\n",
              "      <td>$ 129.000.000</td>\n",
              "    </tr>\n",
              "    <tr>\n",
              "      <th>1128</th>\n",
              "      <td>Apartamento</td>\n",
              "      <td>Apartamento en venta en Teusaquillo</td>\n",
              "      <td>3</td>\n",
              "      <td>3</td>\n",
              "      <td>167</td>\n",
              "      <td>Teusaquillo</td>\n",
              "      <td>Teusaquillo</td>\n",
              "      <td>$ 1.300.000.000</td>\n",
              "    </tr>\n",
              "    <tr>\n",
              "      <th>5854</th>\n",
              "      <td>Apartamento</td>\n",
              "      <td>Apartamento en venta en Quinta Paredes</td>\n",
              "      <td>2</td>\n",
              "      <td>3</td>\n",
              "      <td>153</td>\n",
              "      <td>Quinta Paredes</td>\n",
              "      <td>Teusaquillo</td>\n",
              "      <td>$ 739.000.000</td>\n",
              "    </tr>\n",
              "    <tr>\n",
              "      <th>5828</th>\n",
              "      <td>Casa</td>\n",
              "      <td>Casa en venta en Fontibón</td>\n",
              "      <td>3</td>\n",
              "      <td>3</td>\n",
              "      <td>65</td>\n",
              "      <td>Fontibón</td>\n",
              "      <td>Fontibón</td>\n",
              "      <td>$ 315.000.000</td>\n",
              "    </tr>\n",
              "    <tr>\n",
              "      <th>3877</th>\n",
              "      <td>Apartamento</td>\n",
              "      <td>Apartamento en venta en El Batán</td>\n",
              "      <td>1</td>\n",
              "      <td>1</td>\n",
              "      <td>43</td>\n",
              "      <td>El Batán</td>\n",
              "      <td>La Alhambra</td>\n",
              "      <td>$ 300.000.000</td>\n",
              "    </tr>\n",
              "    <tr>\n",
              "      <th>6693</th>\n",
              "      <td>Casa</td>\n",
              "      <td>Casa en venta en Cedritos</td>\n",
              "      <td>4</td>\n",
              "      <td>5</td>\n",
              "      <td>250</td>\n",
              "      <td>Cedritos</td>\n",
              "      <td>Usaquén</td>\n",
              "      <td>$ 900.000.000</td>\n",
              "    </tr>\n",
              "  </tbody>\n",
              "</table>\n",
              "</div>\n",
              "      <button class=\"colab-df-convert\" onclick=\"convertToInteractive('df-f609ae93-2321-4e1c-b14a-ea19646fb604')\"\n",
              "              title=\"Convert this dataframe to an interactive table.\"\n",
              "              style=\"display:none;\">\n",
              "        \n",
              "  <svg xmlns=\"http://www.w3.org/2000/svg\" height=\"24px\"viewBox=\"0 0 24 24\"\n",
              "       width=\"24px\">\n",
              "    <path d=\"M0 0h24v24H0V0z\" fill=\"none\"/>\n",
              "    <path d=\"M18.56 5.44l.94 2.06.94-2.06 2.06-.94-2.06-.94-.94-2.06-.94 2.06-2.06.94zm-11 1L8.5 8.5l.94-2.06 2.06-.94-2.06-.94L8.5 2.5l-.94 2.06-2.06.94zm10 10l.94 2.06.94-2.06 2.06-.94-2.06-.94-.94-2.06-.94 2.06-2.06.94z\"/><path d=\"M17.41 7.96l-1.37-1.37c-.4-.4-.92-.59-1.43-.59-.52 0-1.04.2-1.43.59L10.3 9.45l-7.72 7.72c-.78.78-.78 2.05 0 2.83L4 21.41c.39.39.9.59 1.41.59.51 0 1.02-.2 1.41-.59l7.78-7.78 2.81-2.81c.8-.78.8-2.07 0-2.86zM5.41 20L4 18.59l7.72-7.72 1.47 1.35L5.41 20z\"/>\n",
              "  </svg>\n",
              "      </button>\n",
              "      \n",
              "  <style>\n",
              "    .colab-df-container {\n",
              "      display:flex;\n",
              "      flex-wrap:wrap;\n",
              "      gap: 12px;\n",
              "    }\n",
              "\n",
              "    .colab-df-convert {\n",
              "      background-color: #E8F0FE;\n",
              "      border: none;\n",
              "      border-radius: 50%;\n",
              "      cursor: pointer;\n",
              "      display: none;\n",
              "      fill: #1967D2;\n",
              "      height: 32px;\n",
              "      padding: 0 0 0 0;\n",
              "      width: 32px;\n",
              "    }\n",
              "\n",
              "    .colab-df-convert:hover {\n",
              "      background-color: #E2EBFA;\n",
              "      box-shadow: 0px 1px 2px rgba(60, 64, 67, 0.3), 0px 1px 3px 1px rgba(60, 64, 67, 0.15);\n",
              "      fill: #174EA6;\n",
              "    }\n",
              "\n",
              "    [theme=dark] .colab-df-convert {\n",
              "      background-color: #3B4455;\n",
              "      fill: #D2E3FC;\n",
              "    }\n",
              "\n",
              "    [theme=dark] .colab-df-convert:hover {\n",
              "      background-color: #434B5C;\n",
              "      box-shadow: 0px 1px 3px 1px rgba(0, 0, 0, 0.15);\n",
              "      filter: drop-shadow(0px 1px 2px rgba(0, 0, 0, 0.3));\n",
              "      fill: #FFFFFF;\n",
              "    }\n",
              "  </style>\n",
              "\n",
              "      <script>\n",
              "        const buttonEl =\n",
              "          document.querySelector('#df-f609ae93-2321-4e1c-b14a-ea19646fb604 button.colab-df-convert');\n",
              "        buttonEl.style.display =\n",
              "          google.colab.kernel.accessAllowed ? 'block' : 'none';\n",
              "\n",
              "        async function convertToInteractive(key) {\n",
              "          const element = document.querySelector('#df-f609ae93-2321-4e1c-b14a-ea19646fb604');\n",
              "          const dataTable =\n",
              "            await google.colab.kernel.invokeFunction('convertToInteractive',\n",
              "                                                     [key], {});\n",
              "          if (!dataTable) return;\n",
              "\n",
              "          const docLinkHtml = 'Like what you see? Visit the ' +\n",
              "            '<a target=\"_blank\" href=https://colab.research.google.com/notebooks/data_table.ipynb>data table notebook</a>'\n",
              "            + ' to learn more about interactive tables.';\n",
              "          element.innerHTML = '';\n",
              "          dataTable['output_type'] = 'display_data';\n",
              "          await google.colab.output.renderOutput(dataTable, element);\n",
              "          const docLink = document.createElement('div');\n",
              "          docLink.innerHTML = docLinkHtml;\n",
              "          element.appendChild(docLink);\n",
              "        }\n",
              "      </script>\n",
              "    </div>\n",
              "  </div>\n",
              "  "
            ]
          },
          "metadata": {},
          "execution_count": 5
        }
      ]
    },
    {
      "cell_type": "code",
      "source": [
        "inmuebles.info() #nos trae la informacion de cada columna si trae vacios o tiene  vacios etc"
      ],
      "metadata": {
        "colab": {
          "base_uri": "https://localhost:8080/"
        },
        "id": "Q5KoOyAJVBrC",
        "outputId": "c69a6610-b98d-4780-8776-d20e00d55f91"
      },
      "execution_count": 6,
      "outputs": [
        {
          "output_type": "stream",
          "name": "stdout",
          "text": [
            "<class 'pandas.core.frame.DataFrame'>\n",
            "RangeIndex: 9520 entries, 0 to 9519\n",
            "Data columns (total 8 columns):\n",
            " #   Column        Non-Null Count  Dtype \n",
            "---  ------        --------------  ----- \n",
            " 0   Tipo          9520 non-null   object\n",
            " 1   Descripcion   9520 non-null   object\n",
            " 2   Habitaciones  9520 non-null   int64 \n",
            " 3   Banos         9520 non-null   int64 \n",
            " 4   Area          9520 non-null   int64 \n",
            " 5   Barrio        9520 non-null   object\n",
            " 6   UPZ           9478 non-null   object\n",
            " 7   Valor         9520 non-null   object\n",
            "dtypes: int64(3), object(5)\n",
            "memory usage: 595.1+ KB\n"
          ]
        }
      ]
    },
    {
      "cell_type": "code",
      "source": [
        "inmuebles.iloc[300] #traer la informacion de un campo"
      ],
      "metadata": {
        "colab": {
          "base_uri": "https://localhost:8080/"
        },
        "id": "1to8vV6nVuo9",
        "outputId": "db44d5f8-51f7-40bb-d419-cf5738befadc"
      },
      "execution_count": 7,
      "outputs": [
        {
          "output_type": "execute_result",
          "data": {
            "text/plain": [
              "Tipo                                Apartamento\n",
              "Descripcion     Apartamento en venta en Kennedy\n",
              "Habitaciones                                  2\n",
              "Banos                                         1\n",
              "Area                                         42\n",
              "Barrio                                  Kennedy\n",
              "UPZ                             Kennedy Central\n",
              "Valor                             $ 116.100.000\n",
              "Name: 300, dtype: object"
            ]
          },
          "metadata": {},
          "execution_count": 7
        }
      ]
    },
    {
      "cell_type": "code",
      "source": [
        "inmuebles.iloc[300:305] # treaela informacion de un rango de filas"
      ],
      "metadata": {
        "colab": {
          "base_uri": "https://localhost:8080/",
          "height": 206
        },
        "id": "l80d655FXe-a",
        "outputId": "04f0c364-76b2-4765-f3da-ef94e6e82076"
      },
      "execution_count": 8,
      "outputs": [
        {
          "output_type": "execute_result",
          "data": {
            "text/plain": [
              "            Tipo                          Descripcion  Habitaciones  Banos  \\\n",
              "300  Apartamento      Apartamento en venta en Kennedy             2      1   \n",
              "301  Apartamento  Apartamento en venta en Chico Norte             2      2   \n",
              "302  Apartamento      Apartamento en venta en Kennedy             3      2   \n",
              "303  Apartamento      Apartamento en venta en Kennedy             3      2   \n",
              "304  Apartamento     Apartamento en venta en Cedritos             4      4   \n",
              "\n",
              "     Area       Barrio                                 UPZ          Valor  \n",
              "300    42      Kennedy                     Kennedy Central  $ 116.100.000  \n",
              "301    95  Chico Norte  CHAPINERO: Chicó Lago + El Refugio  $ 980.000.000  \n",
              "302    54      Kennedy                     Kennedy Central  $ 237.000.000  \n",
              "303    67      Kennedy                     Kennedy Central  $ 320.000.000  \n",
              "304   132     Cedritos                             Usaquén  $ 530.000.000  "
            ],
            "text/html": [
              "\n",
              "  <div id=\"df-a8b5f251-f496-42ab-953b-0fb094a86c55\">\n",
              "    <div class=\"colab-df-container\">\n",
              "      <div>\n",
              "<style scoped>\n",
              "    .dataframe tbody tr th:only-of-type {\n",
              "        vertical-align: middle;\n",
              "    }\n",
              "\n",
              "    .dataframe tbody tr th {\n",
              "        vertical-align: top;\n",
              "    }\n",
              "\n",
              "    .dataframe thead th {\n",
              "        text-align: right;\n",
              "    }\n",
              "</style>\n",
              "<table border=\"1\" class=\"dataframe\">\n",
              "  <thead>\n",
              "    <tr style=\"text-align: right;\">\n",
              "      <th></th>\n",
              "      <th>Tipo</th>\n",
              "      <th>Descripcion</th>\n",
              "      <th>Habitaciones</th>\n",
              "      <th>Banos</th>\n",
              "      <th>Area</th>\n",
              "      <th>Barrio</th>\n",
              "      <th>UPZ</th>\n",
              "      <th>Valor</th>\n",
              "    </tr>\n",
              "  </thead>\n",
              "  <tbody>\n",
              "    <tr>\n",
              "      <th>300</th>\n",
              "      <td>Apartamento</td>\n",
              "      <td>Apartamento en venta en Kennedy</td>\n",
              "      <td>2</td>\n",
              "      <td>1</td>\n",
              "      <td>42</td>\n",
              "      <td>Kennedy</td>\n",
              "      <td>Kennedy Central</td>\n",
              "      <td>$ 116.100.000</td>\n",
              "    </tr>\n",
              "    <tr>\n",
              "      <th>301</th>\n",
              "      <td>Apartamento</td>\n",
              "      <td>Apartamento en venta en Chico Norte</td>\n",
              "      <td>2</td>\n",
              "      <td>2</td>\n",
              "      <td>95</td>\n",
              "      <td>Chico Norte</td>\n",
              "      <td>CHAPINERO: Chicó Lago + El Refugio</td>\n",
              "      <td>$ 980.000.000</td>\n",
              "    </tr>\n",
              "    <tr>\n",
              "      <th>302</th>\n",
              "      <td>Apartamento</td>\n",
              "      <td>Apartamento en venta en Kennedy</td>\n",
              "      <td>3</td>\n",
              "      <td>2</td>\n",
              "      <td>54</td>\n",
              "      <td>Kennedy</td>\n",
              "      <td>Kennedy Central</td>\n",
              "      <td>$ 237.000.000</td>\n",
              "    </tr>\n",
              "    <tr>\n",
              "      <th>303</th>\n",
              "      <td>Apartamento</td>\n",
              "      <td>Apartamento en venta en Kennedy</td>\n",
              "      <td>3</td>\n",
              "      <td>2</td>\n",
              "      <td>67</td>\n",
              "      <td>Kennedy</td>\n",
              "      <td>Kennedy Central</td>\n",
              "      <td>$ 320.000.000</td>\n",
              "    </tr>\n",
              "    <tr>\n",
              "      <th>304</th>\n",
              "      <td>Apartamento</td>\n",
              "      <td>Apartamento en venta en Cedritos</td>\n",
              "      <td>4</td>\n",
              "      <td>4</td>\n",
              "      <td>132</td>\n",
              "      <td>Cedritos</td>\n",
              "      <td>Usaquén</td>\n",
              "      <td>$ 530.000.000</td>\n",
              "    </tr>\n",
              "  </tbody>\n",
              "</table>\n",
              "</div>\n",
              "      <button class=\"colab-df-convert\" onclick=\"convertToInteractive('df-a8b5f251-f496-42ab-953b-0fb094a86c55')\"\n",
              "              title=\"Convert this dataframe to an interactive table.\"\n",
              "              style=\"display:none;\">\n",
              "        \n",
              "  <svg xmlns=\"http://www.w3.org/2000/svg\" height=\"24px\"viewBox=\"0 0 24 24\"\n",
              "       width=\"24px\">\n",
              "    <path d=\"M0 0h24v24H0V0z\" fill=\"none\"/>\n",
              "    <path d=\"M18.56 5.44l.94 2.06.94-2.06 2.06-.94-2.06-.94-.94-2.06-.94 2.06-2.06.94zm-11 1L8.5 8.5l.94-2.06 2.06-.94-2.06-.94L8.5 2.5l-.94 2.06-2.06.94zm10 10l.94 2.06.94-2.06 2.06-.94-2.06-.94-.94-2.06-.94 2.06-2.06.94z\"/><path d=\"M17.41 7.96l-1.37-1.37c-.4-.4-.92-.59-1.43-.59-.52 0-1.04.2-1.43.59L10.3 9.45l-7.72 7.72c-.78.78-.78 2.05 0 2.83L4 21.41c.39.39.9.59 1.41.59.51 0 1.02-.2 1.41-.59l7.78-7.78 2.81-2.81c.8-.78.8-2.07 0-2.86zM5.41 20L4 18.59l7.72-7.72 1.47 1.35L5.41 20z\"/>\n",
              "  </svg>\n",
              "      </button>\n",
              "      \n",
              "  <style>\n",
              "    .colab-df-container {\n",
              "      display:flex;\n",
              "      flex-wrap:wrap;\n",
              "      gap: 12px;\n",
              "    }\n",
              "\n",
              "    .colab-df-convert {\n",
              "      background-color: #E8F0FE;\n",
              "      border: none;\n",
              "      border-radius: 50%;\n",
              "      cursor: pointer;\n",
              "      display: none;\n",
              "      fill: #1967D2;\n",
              "      height: 32px;\n",
              "      padding: 0 0 0 0;\n",
              "      width: 32px;\n",
              "    }\n",
              "\n",
              "    .colab-df-convert:hover {\n",
              "      background-color: #E2EBFA;\n",
              "      box-shadow: 0px 1px 2px rgba(60, 64, 67, 0.3), 0px 1px 3px 1px rgba(60, 64, 67, 0.15);\n",
              "      fill: #174EA6;\n",
              "    }\n",
              "\n",
              "    [theme=dark] .colab-df-convert {\n",
              "      background-color: #3B4455;\n",
              "      fill: #D2E3FC;\n",
              "    }\n",
              "\n",
              "    [theme=dark] .colab-df-convert:hover {\n",
              "      background-color: #434B5C;\n",
              "      box-shadow: 0px 1px 3px 1px rgba(0, 0, 0, 0.15);\n",
              "      filter: drop-shadow(0px 1px 2px rgba(0, 0, 0, 0.3));\n",
              "      fill: #FFFFFF;\n",
              "    }\n",
              "  </style>\n",
              "\n",
              "      <script>\n",
              "        const buttonEl =\n",
              "          document.querySelector('#df-a8b5f251-f496-42ab-953b-0fb094a86c55 button.colab-df-convert');\n",
              "        buttonEl.style.display =\n",
              "          google.colab.kernel.accessAllowed ? 'block' : 'none';\n",
              "\n",
              "        async function convertToInteractive(key) {\n",
              "          const element = document.querySelector('#df-a8b5f251-f496-42ab-953b-0fb094a86c55');\n",
              "          const dataTable =\n",
              "            await google.colab.kernel.invokeFunction('convertToInteractive',\n",
              "                                                     [key], {});\n",
              "          if (!dataTable) return;\n",
              "\n",
              "          const docLinkHtml = 'Like what you see? Visit the ' +\n",
              "            '<a target=\"_blank\" href=https://colab.research.google.com/notebooks/data_table.ipynb>data table notebook</a>'\n",
              "            + ' to learn more about interactive tables.';\n",
              "          element.innerHTML = '';\n",
              "          dataTable['output_type'] = 'display_data';\n",
              "          await google.colab.output.renderOutput(dataTable, element);\n",
              "          const docLink = document.createElement('div');\n",
              "          docLink.innerHTML = docLinkHtml;\n",
              "          element.appendChild(docLink);\n",
              "        }\n",
              "      </script>\n",
              "    </div>\n",
              "  </div>\n",
              "  "
            ]
          },
          "metadata": {},
          "execution_count": 8
        }
      ]
    },
    {
      "cell_type": "code",
      "source": [
        "inmuebles['Valor'][300:305] #traer la informacion de un rango de filas y solo el campo Valor"
      ],
      "metadata": {
        "colab": {
          "base_uri": "https://localhost:8080/"
        },
        "id": "sig1l7nWXzJ3",
        "outputId": "7f278eb2-e827-4fab-e372-4a50d9f06d14"
      },
      "execution_count": 9,
      "outputs": [
        {
          "output_type": "execute_result",
          "data": {
            "text/plain": [
              "300    $ 116.100.000\n",
              "301    $ 980.000.000\n",
              "302    $ 237.000.000\n",
              "303    $ 320.000.000\n",
              "304    $ 530.000.000\n",
              "Name: Valor, dtype: object"
            ]
          },
          "metadata": {},
          "execution_count": 9
        }
      ]
    },
    {
      "cell_type": "code",
      "source": [
        "type(inmuebles['Valor'][300:305]) #ver de que tipo es una columna"
      ],
      "metadata": {
        "colab": {
          "base_uri": "https://localhost:8080/"
        },
        "id": "xpE1PnmAYDAi",
        "outputId": "6b80dca3-d62a-42fc-9636-61750d0f5bb0"
      },
      "execution_count": 10,
      "outputs": [
        {
          "output_type": "execute_result",
          "data": {
            "text/plain": [
              "pandas.core.series.Series"
            ]
          },
          "metadata": {},
          "execution_count": 10
        }
      ]
    },
    {
      "cell_type": "code",
      "source": [
        "inmuebles.columns"
      ],
      "metadata": {
        "colab": {
          "base_uri": "https://localhost:8080/"
        },
        "id": "yuMFO-VThgYQ",
        "outputId": "64f19350-ef59-40fc-c13a-aa856e02daa3"
      },
      "execution_count": 11,
      "outputs": [
        {
          "output_type": "execute_result",
          "data": {
            "text/plain": [
              "Index(['Tipo', 'Descripcion', 'Habitaciones', 'Banos', 'Area', 'Barrio', 'UPZ',\n",
              "       'Valor'],\n",
              "      dtype='object')"
            ]
          },
          "metadata": {},
          "execution_count": 11
        }
      ]
    },
    {
      "cell_type": "code",
      "source": [
        "#area del inmueble\n",
        "inmuebles.Area.mean() #calculo del promedio del area de los inmuebles"
      ],
      "metadata": {
        "colab": {
          "base_uri": "https://localhost:8080/"
        },
        "id": "U_HY8IVro1j4",
        "outputId": "a888c769-fb30-4c62-a9b9-7cbccb8395da"
      },
      "execution_count": 12,
      "outputs": [
        {
          "output_type": "execute_result",
          "data": {
            "text/plain": [
              "146.66470588235293"
            ]
          },
          "metadata": {},
          "execution_count": 12
        }
      ]
    },
    {
      "cell_type": "code",
      "source": [
        "(inmuebles.Barrio == 'Chico Reservado') #ver cuales son los inmuebles de chico reservado"
      ],
      "metadata": {
        "colab": {
          "base_uri": "https://localhost:8080/"
        },
        "id": "0QUabq2So_HP",
        "outputId": "c5079108-71ae-4244-f04c-ed3ef4ddbe61"
      },
      "execution_count": 13,
      "outputs": [
        {
          "output_type": "execute_result",
          "data": {
            "text/plain": [
              "0       False\n",
              "1       False\n",
              "2        True\n",
              "3       False\n",
              "4       False\n",
              "        ...  \n",
              "9515    False\n",
              "9516    False\n",
              "9517    False\n",
              "9518    False\n",
              "9519    False\n",
              "Name: Barrio, Length: 9520, dtype: bool"
            ]
          },
          "metadata": {},
          "execution_count": 13
        }
      ]
    },
    {
      "cell_type": "code",
      "source": [
        "sum((inmuebles.Barrio == 'Chico Reservado')) #conteo de barrios que perteneces a chico"
      ],
      "metadata": {
        "colab": {
          "base_uri": "https://localhost:8080/"
        },
        "id": "Qdp7R2xypp3v",
        "outputId": "f9bb98ff-f73a-4c24-9d5b-6cde5a5a5c9e"
      },
      "execution_count": 14,
      "outputs": [
        {
          "output_type": "execute_result",
          "data": {
            "text/plain": [
              "225"
            ]
          },
          "metadata": {},
          "execution_count": 14
        }
      ]
    },
    {
      "cell_type": "code",
      "source": [
        "inmuebles_chico = (inmuebles.Barrio == 'Chico Reservado')\n",
        "type((inmuebles.Barrio == 'Chico Reservado'))\n",
        "inmuebles_chico"
      ],
      "metadata": {
        "colab": {
          "base_uri": "https://localhost:8080/"
        },
        "id": "0aaxqkW3qFj2",
        "outputId": "b52495fe-4a09-4fae-e2d8-12bba3c26d41"
      },
      "execution_count": 15,
      "outputs": [
        {
          "output_type": "execute_result",
          "data": {
            "text/plain": [
              "0       False\n",
              "1       False\n",
              "2        True\n",
              "3       False\n",
              "4       False\n",
              "        ...  \n",
              "9515    False\n",
              "9516    False\n",
              "9517    False\n",
              "9518    False\n",
              "9519    False\n",
              "Name: Barrio, Length: 9520, dtype: bool"
            ]
          },
          "metadata": {},
          "execution_count": 15
        }
      ]
    },
    {
      "cell_type": "code",
      "source": [
        "chico = inmuebles[inmuebles_chico] #asignar a chico los valores de inmuebles_chico cuando es verdadero\n",
        "chico"
      ],
      "metadata": {
        "colab": {
          "base_uri": "https://localhost:8080/",
          "height": 424
        },
        "id": "-dReACzzrwzM",
        "outputId": "709822bb-3a4c-4f32-d915-671b6b80c5cc"
      },
      "execution_count": 16,
      "outputs": [
        {
          "output_type": "execute_result",
          "data": {
            "text/plain": [
              "             Tipo                              Descripcion  Habitaciones  \\\n",
              "2     Apartamento  Apartamento en venta en Chico Reservado             3   \n",
              "39    Apartamento  Apartamento en venta en Chico Reservado             1   \n",
              "72    Apartamento  Apartamento en venta en Chico Reservado             1   \n",
              "126   Apartamento  Apartamento en venta en Chico Reservado             3   \n",
              "143   Apartamento  Apartamento en venta en Chico Reservado             2   \n",
              "...           ...                                      ...           ...   \n",
              "9299  Apartamento  Apartamento en venta en Chico Reservado             3   \n",
              "9335  Apartamento  Apartamento en venta en Chico Reservado             3   \n",
              "9341  Apartamento  Apartamento en venta en Chico Reservado             2   \n",
              "9472  Apartamento  Apartamento en venta en Chico Reservado             3   \n",
              "9506  Apartamento  Apartamento en venta en Chico Reservado             3   \n",
              "\n",
              "      Banos  Area           Barrio                                 UPZ  \\\n",
              "2         3   144  Chico Reservado  CHAPINERO: Chicó Lago + El Refugio   \n",
              "39        1    64  Chico Reservado  CHAPINERO: Chicó Lago + El Refugio   \n",
              "72        1    64  Chico Reservado  CHAPINERO: Chicó Lago + El Refugio   \n",
              "126       4   150  Chico Reservado  CHAPINERO: Chicó Lago + El Refugio   \n",
              "143       4   104  Chico Reservado  CHAPINERO: Chicó Lago + El Refugio   \n",
              "...     ...   ...              ...                                 ...   \n",
              "9299      3   148  Chico Reservado  CHAPINERO: Chicó Lago + El Refugio   \n",
              "9335      3   176  Chico Reservado  CHAPINERO: Chicó Lago + El Refugio   \n",
              "9341      3   118  Chico Reservado  CHAPINERO: Chicó Lago + El Refugio   \n",
              "9472      1    49  Chico Reservado  CHAPINERO: Chicó Lago + El Refugio   \n",
              "9506      4   390  Chico Reservado  CHAPINERO: Chicó Lago + El Refugio   \n",
              "\n",
              "                Valor  \n",
              "2     $ 1.120.000.000  \n",
              "39      $ 495.000.000  \n",
              "72      $ 495.000.000  \n",
              "126   $ 1.300.000.000  \n",
              "143   $ 1.100.000.000  \n",
              "...               ...  \n",
              "9299    $ 780.000.000  \n",
              "9335    $ 850.000.000  \n",
              "9341    $ 700.000.000  \n",
              "9472    $ 200.000.000  \n",
              "9506  $ 3.200.000.000  \n",
              "\n",
              "[225 rows x 8 columns]"
            ],
            "text/html": [
              "\n",
              "  <div id=\"df-dd9f5c6a-0f1d-42ab-83aa-49aa44adbec8\">\n",
              "    <div class=\"colab-df-container\">\n",
              "      <div>\n",
              "<style scoped>\n",
              "    .dataframe tbody tr th:only-of-type {\n",
              "        vertical-align: middle;\n",
              "    }\n",
              "\n",
              "    .dataframe tbody tr th {\n",
              "        vertical-align: top;\n",
              "    }\n",
              "\n",
              "    .dataframe thead th {\n",
              "        text-align: right;\n",
              "    }\n",
              "</style>\n",
              "<table border=\"1\" class=\"dataframe\">\n",
              "  <thead>\n",
              "    <tr style=\"text-align: right;\">\n",
              "      <th></th>\n",
              "      <th>Tipo</th>\n",
              "      <th>Descripcion</th>\n",
              "      <th>Habitaciones</th>\n",
              "      <th>Banos</th>\n",
              "      <th>Area</th>\n",
              "      <th>Barrio</th>\n",
              "      <th>UPZ</th>\n",
              "      <th>Valor</th>\n",
              "    </tr>\n",
              "  </thead>\n",
              "  <tbody>\n",
              "    <tr>\n",
              "      <th>2</th>\n",
              "      <td>Apartamento</td>\n",
              "      <td>Apartamento en venta en Chico Reservado</td>\n",
              "      <td>3</td>\n",
              "      <td>3</td>\n",
              "      <td>144</td>\n",
              "      <td>Chico Reservado</td>\n",
              "      <td>CHAPINERO: Chicó Lago + El Refugio</td>\n",
              "      <td>$ 1.120.000.000</td>\n",
              "    </tr>\n",
              "    <tr>\n",
              "      <th>39</th>\n",
              "      <td>Apartamento</td>\n",
              "      <td>Apartamento en venta en Chico Reservado</td>\n",
              "      <td>1</td>\n",
              "      <td>1</td>\n",
              "      <td>64</td>\n",
              "      <td>Chico Reservado</td>\n",
              "      <td>CHAPINERO: Chicó Lago + El Refugio</td>\n",
              "      <td>$ 495.000.000</td>\n",
              "    </tr>\n",
              "    <tr>\n",
              "      <th>72</th>\n",
              "      <td>Apartamento</td>\n",
              "      <td>Apartamento en venta en Chico Reservado</td>\n",
              "      <td>1</td>\n",
              "      <td>1</td>\n",
              "      <td>64</td>\n",
              "      <td>Chico Reservado</td>\n",
              "      <td>CHAPINERO: Chicó Lago + El Refugio</td>\n",
              "      <td>$ 495.000.000</td>\n",
              "    </tr>\n",
              "    <tr>\n",
              "      <th>126</th>\n",
              "      <td>Apartamento</td>\n",
              "      <td>Apartamento en venta en Chico Reservado</td>\n",
              "      <td>3</td>\n",
              "      <td>4</td>\n",
              "      <td>150</td>\n",
              "      <td>Chico Reservado</td>\n",
              "      <td>CHAPINERO: Chicó Lago + El Refugio</td>\n",
              "      <td>$ 1.300.000.000</td>\n",
              "    </tr>\n",
              "    <tr>\n",
              "      <th>143</th>\n",
              "      <td>Apartamento</td>\n",
              "      <td>Apartamento en venta en Chico Reservado</td>\n",
              "      <td>2</td>\n",
              "      <td>4</td>\n",
              "      <td>104</td>\n",
              "      <td>Chico Reservado</td>\n",
              "      <td>CHAPINERO: Chicó Lago + El Refugio</td>\n",
              "      <td>$ 1.100.000.000</td>\n",
              "    </tr>\n",
              "    <tr>\n",
              "      <th>...</th>\n",
              "      <td>...</td>\n",
              "      <td>...</td>\n",
              "      <td>...</td>\n",
              "      <td>...</td>\n",
              "      <td>...</td>\n",
              "      <td>...</td>\n",
              "      <td>...</td>\n",
              "      <td>...</td>\n",
              "    </tr>\n",
              "    <tr>\n",
              "      <th>9299</th>\n",
              "      <td>Apartamento</td>\n",
              "      <td>Apartamento en venta en Chico Reservado</td>\n",
              "      <td>3</td>\n",
              "      <td>3</td>\n",
              "      <td>148</td>\n",
              "      <td>Chico Reservado</td>\n",
              "      <td>CHAPINERO: Chicó Lago + El Refugio</td>\n",
              "      <td>$ 780.000.000</td>\n",
              "    </tr>\n",
              "    <tr>\n",
              "      <th>9335</th>\n",
              "      <td>Apartamento</td>\n",
              "      <td>Apartamento en venta en Chico Reservado</td>\n",
              "      <td>3</td>\n",
              "      <td>3</td>\n",
              "      <td>176</td>\n",
              "      <td>Chico Reservado</td>\n",
              "      <td>CHAPINERO: Chicó Lago + El Refugio</td>\n",
              "      <td>$ 850.000.000</td>\n",
              "    </tr>\n",
              "    <tr>\n",
              "      <th>9341</th>\n",
              "      <td>Apartamento</td>\n",
              "      <td>Apartamento en venta en Chico Reservado</td>\n",
              "      <td>2</td>\n",
              "      <td>3</td>\n",
              "      <td>118</td>\n",
              "      <td>Chico Reservado</td>\n",
              "      <td>CHAPINERO: Chicó Lago + El Refugio</td>\n",
              "      <td>$ 700.000.000</td>\n",
              "    </tr>\n",
              "    <tr>\n",
              "      <th>9472</th>\n",
              "      <td>Apartamento</td>\n",
              "      <td>Apartamento en venta en Chico Reservado</td>\n",
              "      <td>3</td>\n",
              "      <td>1</td>\n",
              "      <td>49</td>\n",
              "      <td>Chico Reservado</td>\n",
              "      <td>CHAPINERO: Chicó Lago + El Refugio</td>\n",
              "      <td>$ 200.000.000</td>\n",
              "    </tr>\n",
              "    <tr>\n",
              "      <th>9506</th>\n",
              "      <td>Apartamento</td>\n",
              "      <td>Apartamento en venta en Chico Reservado</td>\n",
              "      <td>3</td>\n",
              "      <td>4</td>\n",
              "      <td>390</td>\n",
              "      <td>Chico Reservado</td>\n",
              "      <td>CHAPINERO: Chicó Lago + El Refugio</td>\n",
              "      <td>$ 3.200.000.000</td>\n",
              "    </tr>\n",
              "  </tbody>\n",
              "</table>\n",
              "<p>225 rows × 8 columns</p>\n",
              "</div>\n",
              "      <button class=\"colab-df-convert\" onclick=\"convertToInteractive('df-dd9f5c6a-0f1d-42ab-83aa-49aa44adbec8')\"\n",
              "              title=\"Convert this dataframe to an interactive table.\"\n",
              "              style=\"display:none;\">\n",
              "        \n",
              "  <svg xmlns=\"http://www.w3.org/2000/svg\" height=\"24px\"viewBox=\"0 0 24 24\"\n",
              "       width=\"24px\">\n",
              "    <path d=\"M0 0h24v24H0V0z\" fill=\"none\"/>\n",
              "    <path d=\"M18.56 5.44l.94 2.06.94-2.06 2.06-.94-2.06-.94-.94-2.06-.94 2.06-2.06.94zm-11 1L8.5 8.5l.94-2.06 2.06-.94-2.06-.94L8.5 2.5l-.94 2.06-2.06.94zm10 10l.94 2.06.94-2.06 2.06-.94-2.06-.94-.94-2.06-.94 2.06-2.06.94z\"/><path d=\"M17.41 7.96l-1.37-1.37c-.4-.4-.92-.59-1.43-.59-.52 0-1.04.2-1.43.59L10.3 9.45l-7.72 7.72c-.78.78-.78 2.05 0 2.83L4 21.41c.39.39.9.59 1.41.59.51 0 1.02-.2 1.41-.59l7.78-7.78 2.81-2.81c.8-.78.8-2.07 0-2.86zM5.41 20L4 18.59l7.72-7.72 1.47 1.35L5.41 20z\"/>\n",
              "  </svg>\n",
              "      </button>\n",
              "      \n",
              "  <style>\n",
              "    .colab-df-container {\n",
              "      display:flex;\n",
              "      flex-wrap:wrap;\n",
              "      gap: 12px;\n",
              "    }\n",
              "\n",
              "    .colab-df-convert {\n",
              "      background-color: #E8F0FE;\n",
              "      border: none;\n",
              "      border-radius: 50%;\n",
              "      cursor: pointer;\n",
              "      display: none;\n",
              "      fill: #1967D2;\n",
              "      height: 32px;\n",
              "      padding: 0 0 0 0;\n",
              "      width: 32px;\n",
              "    }\n",
              "\n",
              "    .colab-df-convert:hover {\n",
              "      background-color: #E2EBFA;\n",
              "      box-shadow: 0px 1px 2px rgba(60, 64, 67, 0.3), 0px 1px 3px 1px rgba(60, 64, 67, 0.15);\n",
              "      fill: #174EA6;\n",
              "    }\n",
              "\n",
              "    [theme=dark] .colab-df-convert {\n",
              "      background-color: #3B4455;\n",
              "      fill: #D2E3FC;\n",
              "    }\n",
              "\n",
              "    [theme=dark] .colab-df-convert:hover {\n",
              "      background-color: #434B5C;\n",
              "      box-shadow: 0px 1px 3px 1px rgba(0, 0, 0, 0.15);\n",
              "      filter: drop-shadow(0px 1px 2px rgba(0, 0, 0, 0.3));\n",
              "      fill: #FFFFFF;\n",
              "    }\n",
              "  </style>\n",
              "\n",
              "      <script>\n",
              "        const buttonEl =\n",
              "          document.querySelector('#df-dd9f5c6a-0f1d-42ab-83aa-49aa44adbec8 button.colab-df-convert');\n",
              "        buttonEl.style.display =\n",
              "          google.colab.kernel.accessAllowed ? 'block' : 'none';\n",
              "\n",
              "        async function convertToInteractive(key) {\n",
              "          const element = document.querySelector('#df-dd9f5c6a-0f1d-42ab-83aa-49aa44adbec8');\n",
              "          const dataTable =\n",
              "            await google.colab.kernel.invokeFunction('convertToInteractive',\n",
              "                                                     [key], {});\n",
              "          if (!dataTable) return;\n",
              "\n",
              "          const docLinkHtml = 'Like what you see? Visit the ' +\n",
              "            '<a target=\"_blank\" href=https://colab.research.google.com/notebooks/data_table.ipynb>data table notebook</a>'\n",
              "            + ' to learn more about interactive tables.';\n",
              "          element.innerHTML = '';\n",
              "          dataTable['output_type'] = 'display_data';\n",
              "          await google.colab.output.renderOutput(dataTable, element);\n",
              "          const docLink = document.createElement('div');\n",
              "          docLink.innerHTML = docLinkHtml;\n",
              "          element.appendChild(docLink);\n",
              "        }\n",
              "      </script>\n",
              "    </div>\n",
              "  </div>\n",
              "  "
            ]
          },
          "metadata": {},
          "execution_count": 16
        }
      ]
    },
    {
      "cell_type": "code",
      "source": [
        "f'Area chico: {chico.Area.mean()} area general: {inmuebles.Area.mean()}'"
      ],
      "metadata": {
        "colab": {
          "base_uri": "https://localhost:8080/",
          "height": 35
        },
        "id": "YY0mukwfsK0o",
        "outputId": "40f32e80-6de6-40bb-ecf2-a404960cc068"
      },
      "execution_count": 17,
      "outputs": [
        {
          "output_type": "execute_result",
          "data": {
            "text/plain": [
              "'Area chico: 142.78666666666666 area general: 146.66470588235293'"
            ],
            "application/vnd.google.colaboratory.intrinsic+json": {
              "type": "string"
            }
          },
          "metadata": {},
          "execution_count": 17
        }
      ]
    },
    {
      "cell_type": "code",
      "source": [
        "len(inmuebles.Barrio.value_counts()) #conteo de los barrios "
      ],
      "metadata": {
        "colab": {
          "base_uri": "https://localhost:8080/"
        },
        "id": "oaa7H3cV0iEH",
        "outputId": "80821874-f25d-4179-9139-f5024a3725a8"
      },
      "execution_count": 18,
      "outputs": [
        {
          "output_type": "execute_result",
          "data": {
            "text/plain": [
              "149"
            ]
          },
          "metadata": {},
          "execution_count": 18
        }
      ]
    },
    {
      "cell_type": "code",
      "source": [
        "inmuebles.Barrio.value_counts()"
      ],
      "metadata": {
        "colab": {
          "base_uri": "https://localhost:8080/"
        },
        "id": "rI4ig7nH1vYa",
        "outputId": "a42e407f-a308-489c-84aa-cea4f669954c"
      },
      "execution_count": 19,
      "outputs": [
        {
          "output_type": "execute_result",
          "data": {
            "text/plain": [
              "Usaquén               1105\n",
              "Zona Noroccidental     877\n",
              "Bosa                   589\n",
              "Kennedy                589\n",
              "Cedritos               554\n",
              "                      ... \n",
              "Colinas De Suba          1\n",
              "La Estanzuela            1\n",
              "Roma                     1\n",
              "Alameda                  1\n",
              "Prado Veraniego          1\n",
              "Name: Barrio, Length: 149, dtype: int64"
            ]
          },
          "metadata": {},
          "execution_count": 19
        }
      ]
    },
    {
      "cell_type": "code",
      "source": [
        "inmuebles.UPZ.value_counts()"
      ],
      "metadata": {
        "colab": {
          "base_uri": "https://localhost:8080/"
        },
        "id": "2IYoM6c81x4s",
        "outputId": "c816484c-935b-4039-d4f2-0371a23191e3"
      },
      "execution_count": 20,
      "outputs": [
        {
          "output_type": "execute_result",
          "data": {
            "text/plain": [
              "Usaquén                                  1681\n",
              "CHAPINERO: Pardo Rubio + Chapinero       1274\n",
              "USAQUÉN: Country Club + Santa Bárbara     771\n",
              "Bosa Central                              591\n",
              "Kennedy Central                           589\n",
              "                                         ... \n",
              "Localidad Usme resto                        2\n",
              "Las Cruces                                  2\n",
              "La Macarena                                 1\n",
              "Fontibón San Pablo                          1\n",
              "Zona Franca                                 1\n",
              "Name: UPZ, Length: 63, dtype: int64"
            ]
          },
          "metadata": {},
          "execution_count": 20
        }
      ]
    },
    {
      "cell_type": "code",
      "source": [
        "inmuebles_barrio = inmuebles.Barrio.value_counts()\n",
        "inmuebles_barrio.plot.line() #grafico de barrios"
      ],
      "metadata": {
        "colab": {
          "base_uri": "https://localhost:8080/",
          "height": 447
        },
        "id": "rPEohaBG2Jgm",
        "outputId": "8ba749ef-4b4f-4dca-c52f-a0dee07d7658"
      },
      "execution_count": 21,
      "outputs": [
        {
          "output_type": "execute_result",
          "data": {
            "text/plain": [
              "<Axes: >"
            ]
          },
          "metadata": {},
          "execution_count": 21
        },
        {
          "output_type": "display_data",
          "data": {
            "text/plain": [
              "<Figure size 640x480 with 1 Axes>"
            ],
            "image/png": "[encoded data removed]"
          },
          "metadata": {}
        }
      ]
    },
    {
      "cell_type": "code",
      "source": [
        "inmuebles_barrio.head(15).plot.bar() #traer los 15 primeros barrios"
      ],
      "metadata": {
        "colab": {
          "base_uri": "https://localhost:8080/",
          "height": 569
        },
        "id": "ctBAIoFS4xMo",
        "outputId": "f88cae82-7573-4520-bdd0-5acd1a49bbb7"
      },
      "execution_count": 22,
      "outputs": [
        {
          "output_type": "execute_result",
          "data": {
            "text/plain": [
              "<Axes: >"
            ]
          },
          "metadata": {},
          "execution_count": 22
        },
        {
          "output_type": "display_data",
          "data": {
            "text/plain": [
              "<Figure size 640x480 with 1 Axes>"
            ],
            "image/png": "[encoded data removed]"
          },
          "metadata": {}
        }
      ]
    },
    {
      "cell_type": "markdown",
      "source": [
        "1. promedio de area de todos los barrios y grafica top ten\n",
        "2. buscar documentacion pandas.\n",
        "3. consultar conteo valores minimo , mediana ,"
      ],
      "metadata": {
        "id": "JoKAGazy6d_3"
      }
    },
    {
      "cell_type": "code",
      "source": [
        "inmuebles_grupo_barrio = inmuebles.groupby('Barrio').Area.mean().sort_values(ascending=False) #sacar el promedio del area de todos los barrios ordenados ascendentemente\n",
        "inmuebles_grupo_barrio"
      ],
      "metadata": {
        "colab": {
          "base_uri": "https://localhost:8080/"
        },
        "id": "HOf9Y0Zj66vB",
        "outputId": "8824a1db-ca8d-4b85-ccc5-32af61fa95bf"
      },
      "execution_count": 23,
      "outputs": [
        {
          "output_type": "execute_result",
          "data": {
            "text/plain": [
              "Barrio\n",
              "Modelia            4316.750000\n",
              "Libertador          642.000000\n",
              "Bosa Piamonte       400.000000\n",
              "La Soledad          378.625000\n",
              "Restrepo            336.500000\n",
              "                      ...     \n",
              "La Merced            41.000000\n",
              "El Tunal             41.000000\n",
              "San Diego            40.666667\n",
              "La Macarena          37.000000\n",
              "Prado Veraniego      25.000000\n",
              "Name: Area, Length: 149, dtype: float64"
            ]
          },
          "metadata": {},
          "execution_count": 23
        }
      ]
    },
    {
      "cell_type": "code",
      "source": [
        "inmuebles_grupo_barrio.head(15).plot.bar()#graficar el promedio"
      ],
      "metadata": {
        "colab": {
          "base_uri": "https://localhost:8080/",
          "height": 599
        },
        "id": "cJkelzXj7CJ0",
        "outputId": "88c22d6a-67ce-4c18-a612-a39c03b79420"
      },
      "execution_count": 24,
      "outputs": [
        {
          "output_type": "execute_result",
          "data": {
            "text/plain": [
              "<Axes: xlabel='Barrio'>"
            ]
          },
          "metadata": {},
          "execution_count": 24
        },
        {
          "output_type": "display_data",
          "data": {
            "text/plain": [
              "<Figure size 640x480 with 1 Axes>"
            ],
            "image/png": "[encoded data removed]"
          },
          "metadata": {}
        }
      ]
    },
    {
      "cell_type": "code",
      "source": [
        "valor_minimos_barrio = inmuebles.groupby('Barrio').Area.min().sort_values(ascending=False)#sacar el valor minimo de cada barrio del area\n",
        "valor_minimos_barrio"
      ],
      "metadata": {
        "colab": {
          "base_uri": "https://localhost:8080/"
        },
        "id": "YV_KTf9x8dxM",
        "outputId": "d325fea2-5aae-4cc8-ba73-d41f07945c6b"
      },
      "execution_count": 25,
      "outputs": [
        {
          "output_type": "execute_result",
          "data": {
            "text/plain": [
              "Barrio\n",
              "Bosa Piamonte         400\n",
              "Las Ferias            320\n",
              "Santa Librada         316\n",
              "Libertador            300\n",
              "Roma                  260\n",
              "                     ... \n",
              "Las Nieves             16\n",
              "Zona Noroccidental     16\n",
              "Chapinero              15\n",
              "Rafael Uribe Uribe      5\n",
              "San Cristobal           2\n",
              "Name: Area, Length: 149, dtype: int64"
            ]
          },
          "metadata": {},
          "execution_count": 25
        }
      ]
    },
    {
      "cell_type": "markdown",
      "source": [
        "# Aula 2"
      ],
      "metadata": {
        "id": "sLza6fy9Y8zW"
      }
    },
    {
      "cell_type": "code",
      "source": [
        "inmuebles.info()"
      ],
      "metadata": {
        "colab": {
          "base_uri": "https://localhost:8080/"
        },
        "id": "Stv-zWzfZQH4",
        "outputId": "6c4b6dd3-c35c-47d6-eea8-0a126d7f478f"
      },
      "execution_count": 26,
      "outputs": [
        {
          "output_type": "stream",
          "name": "stdout",
          "text": [
            "<class 'pandas.core.frame.DataFrame'>\n",
            "RangeIndex: 9520 entries, 0 to 9519\n",
            "Data columns (total 8 columns):\n",
            " #   Column        Non-Null Count  Dtype \n",
            "---  ------        --------------  ----- \n",
            " 0   Tipo          9520 non-null   object\n",
            " 1   Descripcion   9520 non-null   object\n",
            " 2   Habitaciones  9520 non-null   int64 \n",
            " 3   Banos         9520 non-null   int64 \n",
            " 4   Area          9520 non-null   int64 \n",
            " 5   Barrio        9520 non-null   object\n",
            " 6   UPZ           9478 non-null   object\n",
            " 7   Valor         9520 non-null   object\n",
            "dtypes: int64(3), object(5)\n",
            "memory usage: 595.1+ KB\n"
          ]
        }
      ]
    },
    {
      "cell_type": "code",
      "source": [
        "inmuebles.Valor[0] + inmuebles.Valor[1] + inmuebles.Valor[:5]"
      ],
      "metadata": {
        "colab": {
          "base_uri": "https://localhost:8080/"
        },
        "id": "uyHle3GRZtJh",
        "outputId": "253c7c63-fc3f-4e16-f6b2-62eb33b30fe5"
      },
      "execution_count": 27,
      "outputs": [
        {
          "output_type": "execute_result",
          "data": {
            "text/plain": [
              "0      $ 360.000.000$ 670.000.000$ 360.000.000\n",
              "1      $ 360.000.000$ 670.000.000$ 670.000.000\n",
              "2    $ 360.000.000$ 670.000.000$ 1.120.000.000\n",
              "3      $ 360.000.000$ 670.000.000$ 890.000.000\n",
              "4      $ 360.000.000$ 670.000.000$ 970.000.000\n",
              "Name: Valor, dtype: object"
            ]
          },
          "metadata": {},
          "execution_count": 27
        }
      ]
    },
    {
      "cell_type": "code",
      "source": [
        "inmuebles.Valor[0].split() # por defecto esta tomando el espacio para separar"
      ],
      "metadata": {
        "colab": {
          "base_uri": "https://localhost:8080/"
        },
        "id": "qZg7VeqsaJLE",
        "outputId": "f5311d9a-3006-46cb-a6a5-6db804b21665"
      },
      "execution_count": 28,
      "outputs": [
        {
          "output_type": "execute_result",
          "data": {
            "text/plain": [
              "['$', '360.000.000']"
            ]
          },
          "metadata": {},
          "execution_count": 28
        }
      ]
    },
    {
      "cell_type": "code",
      "source": [
        "valor = inmuebles.Valor.str.split(expand=True) #separar cada valor el por espacio el expand lo que hace es devolver un formato data frame\n",
        "inmuebles['Moneda'] = valor[0]\n",
        "inmuebles['Precio'] = valor[1]"
      ],
      "metadata": {
        "id": "UtE0qHWFbJC0"
      },
      "execution_count": 29,
      "outputs": []
    },
    {
      "cell_type": "code",
      "source": [
        "inmuebles"
      ],
      "metadata": {
        "colab": {
          "base_uri": "https://localhost:8080/",
          "height": 424
        },
        "id": "1Xp3CfexbcOG",
        "outputId": "7cd47e5e-ac2c-43c8-b75e-012f77a0406a"
      },
      "execution_count": 30,
      "outputs": [
        {
          "output_type": "execute_result",
          "data": {
            "text/plain": [
              "             Tipo                                     Descripcion  \\\n",
              "0     Apartamento      Apartamento en venta en Zona Noroccidental   \n",
              "1            Casa                       Casa en venta en Castilla   \n",
              "2     Apartamento         Apartamento en venta en Chico Reservado   \n",
              "3     Apartamento                 Apartamento en venta en Usaquén   \n",
              "4     Apartamento             Apartamento en venta en Bella Suiza   \n",
              "...           ...                                             ...   \n",
              "9515  Apartamento                 Apartamento en venta en Kennedy   \n",
              "9516  Apartamento  Apartamento en venta en Parque Central Bavaria   \n",
              "9517        Local                      Local en venta en Restrepo   \n",
              "9518         Casa                       Casa en venta en Engativa   \n",
              "9519  Apartamento                 Apartamento en venta en Tintala   \n",
              "\n",
              "      Habitaciones  Banos  Area                  Barrio  \\\n",
              "0                3      2    70      Zona Noroccidental   \n",
              "1                4      3   170                Castilla   \n",
              "2                3      3   144         Chico Reservado   \n",
              "3                3      2   154                 Usaquén   \n",
              "4                2      3   128             Bella Suiza   \n",
              "...            ...    ...   ...                     ...   \n",
              "9515             3      2    70                 Kennedy   \n",
              "9516             2      2   100  Parque Central Bavaria   \n",
              "9517             8      6   383                Restrepo   \n",
              "9518             3      2   183                Engativa   \n",
              "9519             3      1    52                 Tintala   \n",
              "\n",
              "                                         UPZ            Valor Moneda  \\\n",
              "0         CHAPINERO: Pardo Rubio + Chapinero    $ 360.000.000      $   \n",
              "1                KENNEDY: Castilla + Bavaria    $ 670.000.000      $   \n",
              "2         CHAPINERO: Chicó Lago + El Refugio  $ 1.120.000.000      $   \n",
              "3                                    Usaquén    $ 890.000.000      $   \n",
              "4      USAQUÉN: Country Club + Santa Bárbara    $ 970.000.000      $   \n",
              "...                                      ...              ...    ...   \n",
              "9515                         Kennedy Central    $ 290.000.000      $   \n",
              "9516  SANTA FE: Las Nieves + Sagrado Corazón    $ 670.000.000      $   \n",
              "9517                                Restrepo    $ 900.000.000      $   \n",
              "9518                                Engativá    $ 335.000.000      $   \n",
              "9519                                 Tintala    $ 144.990.000      $   \n",
              "\n",
              "             Precio  \n",
              "0       360.000.000  \n",
              "1       670.000.000  \n",
              "2     1.120.000.000  \n",
              "3       890.000.000  \n",
              "4       970.000.000  \n",
              "...             ...  \n",
              "9515    290.000.000  \n",
              "9516    670.000.000  \n",
              "9517    900.000.000  \n",
              "9518    335.000.000  \n",
              "9519    144.990.000  \n",
              "\n",
              "[9520 rows x 10 columns]"
            ],
            "text/html": [
              "\n",
              "  <div id=\"df-69f15216-94ce-4be4-b4d8-6f3d2b70c33c\">\n",
              "    <div class=\"colab-df-container\">\n",
              "      <div>\n",
              "<style scoped>\n",
              "    .dataframe tbody tr th:only-of-type {\n",
              "        vertical-align: middle;\n",
              "    }\n",
              "\n",
              "    .dataframe tbody tr th {\n",
              "        vertical-align: top;\n",
              "    }\n",
              "\n",
              "    .dataframe thead th {\n",
              "        text-align: right;\n",
              "    }\n",
              "</style>\n",
              "<table border=\"1\" class=\"dataframe\">\n",
              "  <thead>\n",
              "    <tr style=\"text-align: right;\">\n",
              "      <th></th>\n",
              "      <th>Tipo</th>\n",
              "      <th>Descripcion</th>\n",
              "      <th>Habitaciones</th>\n",
              "      <th>Banos</th>\n",
              "      <th>Area</th>\n",
              "      <th>Barrio</th>\n",
              "      <th>UPZ</th>\n",
              "      <th>Valor</th>\n",
              "      <th>Moneda</th>\n",
              "      <th>Precio</th>\n",
              "    </tr>\n",
              "  </thead>\n",
              "  <tbody>\n",
              "    <tr>\n",
              "      <th>0</th>\n",
              "      <td>Apartamento</td>\n",
              "      <td>Apartamento en venta en Zona Noroccidental</td>\n",
              "      <td>3</td>\n",
              "      <td>2</td>\n",
              "      <td>70</td>\n",
              "      <td>Zona Noroccidental</td>\n",
              "      <td>CHAPINERO: Pardo Rubio + Chapinero</td>\n",
              "      <td>$ 360.000.000</td>\n",
              "      <td>$</td>\n",
              "      <td>360.000.000</td>\n",
              "    </tr>\n",
              "    <tr>\n",
              "      <th>1</th>\n",
              "      <td>Casa</td>\n",
              "      <td>Casa en venta en Castilla</td>\n",
              "      <td>4</td>\n",
              "      <td>3</td>\n",
              "      <td>170</td>\n",
              "      <td>Castilla</td>\n",
              "      <td>KENNEDY: Castilla + Bavaria</td>\n",
              "      <td>$ 670.000.000</td>\n",
              "      <td>$</td>\n",
              "      <td>670.000.000</td>\n",
              "    </tr>\n",
              "    <tr>\n",
              "      <th>2</th>\n",
              "      <td>Apartamento</td>\n",
              "      <td>Apartamento en venta en Chico Reservado</td>\n",
              "      <td>3</td>\n",
              "      <td>3</td>\n",
              "      <td>144</td>\n",
              "      <td>Chico Reservado</td>\n",
              "      <td>CHAPINERO: Chicó Lago + El Refugio</td>\n",
              "      <td>$ 1.120.000.000</td>\n",
              "      <td>$</td>\n",
              "      <td>1.120.000.000</td>\n",
              "    </tr>\n",
              "    <tr>\n",
              "      <th>3</th>\n",
              "      <td>Apartamento</td>\n",
              "      <td>Apartamento en venta en Usaquén</td>\n",
              "      <td>3</td>\n",
              "      <td>2</td>\n",
              "      <td>154</td>\n",
              "      <td>Usaquén</td>\n",
              "      <td>Usaquén</td>\n",
              "      <td>$ 890.000.000</td>\n",
              "      <td>$</td>\n",
              "      <td>890.000.000</td>\n",
              "    </tr>\n",
              "    <tr>\n",
              "      <th>4</th>\n",
              "      <td>Apartamento</td>\n",
              "      <td>Apartamento en venta en Bella Suiza</td>\n",
              "      <td>2</td>\n",
              "      <td>3</td>\n",
              "      <td>128</td>\n",
              "      <td>Bella Suiza</td>\n",
              "      <td>USAQUÉN: Country Club + Santa Bárbara</td>\n",
              "      <td>$ 970.000.000</td>\n",
              "      <td>$</td>\n",
              "      <td>970.000.000</td>\n",
              "    </tr>\n",
              "    <tr>\n",
              "      <th>...</th>\n",
              "      <td>...</td>\n",
              "      <td>...</td>\n",
              "      <td>...</td>\n",
              "      <td>...</td>\n",
              "      <td>...</td>\n",
              "      <td>...</td>\n",
              "      <td>...</td>\n",
              "      <td>...</td>\n",
              "      <td>...</td>\n",
              "      <td>...</td>\n",
              "    </tr>\n",
              "    <tr>\n",
              "      <th>9515</th>\n",
              "      <td>Apartamento</td>\n",
              "      <td>Apartamento en venta en Kennedy</td>\n",
              "      <td>3</td>\n",
              "      <td>2</td>\n",
              "      <td>70</td>\n",
              "      <td>Kennedy</td>\n",
              "      <td>Kennedy Central</td>\n",
              "      <td>$ 290.000.000</td>\n",
              "      <td>$</td>\n",
              "      <td>290.000.000</td>\n",
              "    </tr>\n",
              "    <tr>\n",
              "      <th>9516</th>\n",
              "      <td>Apartamento</td>\n",
              "      <td>Apartamento en venta en Parque Central Bavaria</td>\n",
              "      <td>2</td>\n",
              "      <td>2</td>\n",
              "      <td>100</td>\n",
              "      <td>Parque Central Bavaria</td>\n",
              "      <td>SANTA FE: Las Nieves + Sagrado Corazón</td>\n",
              "      <td>$ 670.000.000</td>\n",
              "      <td>$</td>\n",
              "      <td>670.000.000</td>\n",
              "    </tr>\n",
              "    <tr>\n",
              "      <th>9517</th>\n",
              "      <td>Local</td>\n",
              "      <td>Local en venta en Restrepo</td>\n",
              "      <td>8</td>\n",
              "      <td>6</td>\n",
              "      <td>383</td>\n",
              "      <td>Restrepo</td>\n",
              "      <td>Restrepo</td>\n",
              "      <td>$ 900.000.000</td>\n",
              "      <td>$</td>\n",
              "      <td>900.000.000</td>\n",
              "    </tr>\n",
              "    <tr>\n",
              "      <th>9518</th>\n",
              "      <td>Casa</td>\n",
              "      <td>Casa en venta en Engativa</td>\n",
              "      <td>3</td>\n",
              "      <td>2</td>\n",
              "      <td>183</td>\n",
              "      <td>Engativa</td>\n",
              "      <td>Engativá</td>\n",
              "      <td>$ 335.000.000</td>\n",
              "      <td>$</td>\n",
              "      <td>335.000.000</td>\n",
              "    </tr>\n",
              "    <tr>\n",
              "      <th>9519</th>\n",
              "      <td>Apartamento</td>\n",
              "      <td>Apartamento en venta en Tintala</td>\n",
              "      <td>3</td>\n",
              "      <td>1</td>\n",
              "      <td>52</td>\n",
              "      <td>Tintala</td>\n",
              "      <td>Tintala</td>\n",
              "      <td>$ 144.990.000</td>\n",
              "      <td>$</td>\n",
              "      <td>144.990.000</td>\n",
              "    </tr>\n",
              "  </tbody>\n",
              "</table>\n",
              "<p>9520 rows × 10 columns</p>\n",
              "</div>\n",
              "      <button class=\"colab-df-convert\" onclick=\"convertToInteractive('df-69f15216-94ce-4be4-b4d8-6f3d2b70c33c')\"\n",
              "              title=\"Convert this dataframe to an interactive table.\"\n",
              "              style=\"display:none;\">\n",
              "        \n",
              "  <svg xmlns=\"http://www.w3.org/2000/svg\" height=\"24px\"viewBox=\"0 0 24 24\"\n",
              "       width=\"24px\">\n",
              "    <path d=\"M0 0h24v24H0V0z\" fill=\"none\"/>\n",
              "    <path d=\"M18.56 5.44l.94 2.06.94-2.06 2.06-.94-2.06-.94-.94-2.06-.94 2.06-2.06.94zm-11 1L8.5 8.5l.94-2.06 2.06-.94-2.06-.94L8.5 2.5l-.94 2.06-2.06.94zm10 10l.94 2.06.94-2.06 2.06-.94-2.06-.94-.94-2.06-.94 2.06-2.06.94z\"/><path d=\"M17.41 7.96l-1.37-1.37c-.4-.4-.92-.59-1.43-.59-.52 0-1.04.2-1.43.59L10.3 9.45l-7.72 7.72c-.78.78-.78 2.05 0 2.83L4 21.41c.39.39.9.59 1.41.59.51 0 1.02-.2 1.41-.59l7.78-7.78 2.81-2.81c.8-.78.8-2.07 0-2.86zM5.41 20L4 18.59l7.72-7.72 1.47 1.35L5.41 20z\"/>\n",
              "  </svg>\n",
              "      </button>\n",
              "      \n",
              "  <style>\n",
              "    .colab-df-container {\n",
              "      display:flex;\n",
              "      flex-wrap:wrap;\n",
              "      gap: 12px;\n",
              "    }\n",
              "\n",
              "    .colab-df-convert {\n",
              "      background-color: #E8F0FE;\n",
              "      border: none;\n",
              "      border-radius: 50%;\n",
              "      cursor: pointer;\n",
              "      display: none;\n",
              "      fill: #1967D2;\n",
              "      height: 32px;\n",
              "      padding: 0 0 0 0;\n",
              "      width: 32px;\n",
              "    }\n",
              "\n",
              "    .colab-df-convert:hover {\n",
              "      background-color: #E2EBFA;\n",
              "      box-shadow: 0px 1px 2px rgba(60, 64, 67, 0.3), 0px 1px 3px 1px rgba(60, 64, 67, 0.15);\n",
              "      fill: #174EA6;\n",
              "    }\n",
              "\n",
              "    [theme=dark] .colab-df-convert {\n",
              "      background-color: #3B4455;\n",
              "      fill: #D2E3FC;\n",
              "    }\n",
              "\n",
              "    [theme=dark] .colab-df-convert:hover {\n",
              "      background-color: #434B5C;\n",
              "      box-shadow: 0px 1px 3px 1px rgba(0, 0, 0, 0.15);\n",
              "      filter: drop-shadow(0px 1px 2px rgba(0, 0, 0, 0.3));\n",
              "      fill: #FFFFFF;\n",
              "    }\n",
              "  </style>\n",
              "\n",
              "      <script>\n",
              "        const buttonEl =\n",
              "          document.querySelector('#df-69f15216-94ce-4be4-b4d8-6f3d2b70c33c button.colab-df-convert');\n",
              "        buttonEl.style.display =\n",
              "          google.colab.kernel.accessAllowed ? 'block' : 'none';\n",
              "\n",
              "        async function convertToInteractive(key) {\n",
              "          const element = document.querySelector('#df-69f15216-94ce-4be4-b4d8-6f3d2b70c33c');\n",
              "          const dataTable =\n",
              "            await google.colab.kernel.invokeFunction('convertToInteractive',\n",
              "                                                     [key], {});\n",
              "          if (!dataTable) return;\n",
              "\n",
              "          const docLinkHtml = 'Like what you see? Visit the ' +\n",
              "            '<a target=\"_blank\" href=https://colab.research.google.com/notebooks/data_table.ipynb>data table notebook</a>'\n",
              "            + ' to learn more about interactive tables.';\n",
              "          element.innerHTML = '';\n",
              "          dataTable['output_type'] = 'display_data';\n",
              "          await google.colab.output.renderOutput(dataTable, element);\n",
              "          const docLink = document.createElement('div');\n",
              "          docLink.innerHTML = docLinkHtml;\n",
              "          element.appendChild(docLink);\n",
              "        }\n",
              "      </script>\n",
              "    </div>\n",
              "  </div>\n",
              "  "
            ]
          },
          "metadata": {},
          "execution_count": 30
        }
      ]
    },
    {
      "cell_type": "code",
      "source": [
        "inmuebles['Precio'] = inmuebles['Precio'].str.replace('.','',regex=True)\n",
        "inmuebles"
      ],
      "metadata": {
        "colab": {
          "base_uri": "https://localhost:8080/",
          "height": 424
        },
        "id": "KRLComHicRXZ",
        "outputId": "ea1fce28-b293-4788-a123-f212a8774630"
      },
      "execution_count": 31,
      "outputs": [
        {
          "output_type": "execute_result",
          "data": {
            "text/plain": [
              "             Tipo                                     Descripcion  \\\n",
              "0     Apartamento      Apartamento en venta en Zona Noroccidental   \n",
              "1            Casa                       Casa en venta en Castilla   \n",
              "2     Apartamento         Apartamento en venta en Chico Reservado   \n",
              "3     Apartamento                 Apartamento en venta en Usaquén   \n",
              "4     Apartamento             Apartamento en venta en Bella Suiza   \n",
              "...           ...                                             ...   \n",
              "9515  Apartamento                 Apartamento en venta en Kennedy   \n",
              "9516  Apartamento  Apartamento en venta en Parque Central Bavaria   \n",
              "9517        Local                      Local en venta en Restrepo   \n",
              "9518         Casa                       Casa en venta en Engativa   \n",
              "9519  Apartamento                 Apartamento en venta en Tintala   \n",
              "\n",
              "      Habitaciones  Banos  Area                  Barrio  \\\n",
              "0                3      2    70      Zona Noroccidental   \n",
              "1                4      3   170                Castilla   \n",
              "2                3      3   144         Chico Reservado   \n",
              "3                3      2   154                 Usaquén   \n",
              "4                2      3   128             Bella Suiza   \n",
              "...            ...    ...   ...                     ...   \n",
              "9515             3      2    70                 Kennedy   \n",
              "9516             2      2   100  Parque Central Bavaria   \n",
              "9517             8      6   383                Restrepo   \n",
              "9518             3      2   183                Engativa   \n",
              "9519             3      1    52                 Tintala   \n",
              "\n",
              "                                         UPZ            Valor Moneda  \\\n",
              "0         CHAPINERO: Pardo Rubio + Chapinero    $ 360.000.000      $   \n",
              "1                KENNEDY: Castilla + Bavaria    $ 670.000.000      $   \n",
              "2         CHAPINERO: Chicó Lago + El Refugio  $ 1.120.000.000      $   \n",
              "3                                    Usaquén    $ 890.000.000      $   \n",
              "4      USAQUÉN: Country Club + Santa Bárbara    $ 970.000.000      $   \n",
              "...                                      ...              ...    ...   \n",
              "9515                         Kennedy Central    $ 290.000.000      $   \n",
              "9516  SANTA FE: Las Nieves + Sagrado Corazón    $ 670.000.000      $   \n",
              "9517                                Restrepo    $ 900.000.000      $   \n",
              "9518                                Engativá    $ 335.000.000      $   \n",
              "9519                                 Tintala    $ 144.990.000      $   \n",
              "\n",
              "          Precio  \n",
              "0      360000000  \n",
              "1      670000000  \n",
              "2     1120000000  \n",
              "3      890000000  \n",
              "4      970000000  \n",
              "...          ...  \n",
              "9515   290000000  \n",
              "9516   670000000  \n",
              "9517   900000000  \n",
              "9518   335000000  \n",
              "9519   144990000  \n",
              "\n",
              "[9520 rows x 10 columns]"
            ],
            "text/html": [
              "\n",
              "  <div id=\"df-b09c10d2-7180-431f-a52f-b8bc5ff2a868\">\n",
              "    <div class=\"colab-df-container\">\n",
              "      <div>\n",
              "<style scoped>\n",
              "    .dataframe tbody tr th:only-of-type {\n",
              "        vertical-align: middle;\n",
              "    }\n",
              "\n",
              "    .dataframe tbody tr th {\n",
              "        vertical-align: top;\n",
              "    }\n",
              "\n",
              "    .dataframe thead th {\n",
              "        text-align: right;\n",
              "    }\n",
              "</style>\n",
              "<table border=\"1\" class=\"dataframe\">\n",
              "  <thead>\n",
              "    <tr style=\"text-align: right;\">\n",
              "      <th></th>\n",
              "      <th>Tipo</th>\n",
              "      <th>Descripcion</th>\n",
              "      <th>Habitaciones</th>\n",
              "      <th>Banos</th>\n",
              "      <th>Area</th>\n",
              "      <th>Barrio</th>\n",
              "      <th>UPZ</th>\n",
              "      <th>Valor</th>\n",
              "      <th>Moneda</th>\n",
              "      <th>Precio</th>\n",
              "    </tr>\n",
              "  </thead>\n",
              "  <tbody>\n",
              "    <tr>\n",
              "      <th>0</th>\n",
              "      <td>Apartamento</td>\n",
              "      <td>Apartamento en venta en Zona Noroccidental</td>\n",
              "      <td>3</td>\n",
              "      <td>2</td>\n",
              "      <td>70</td>\n",
              "      <td>Zona Noroccidental</td>\n",
              "      <td>CHAPINERO: Pardo Rubio + Chapinero</td>\n",
              "      <td>$ 360.000.000</td>\n",
              "      <td>$</td>\n",
              "      <td>360000000</td>\n",
              "    </tr>\n",
              "    <tr>\n",
              "      <th>1</th>\n",
              "      <td>Casa</td>\n",
              "      <td>Casa en venta en Castilla</td>\n",
              "      <td>4</td>\n",
              "      <td>3</td>\n",
              "      <td>170</td>\n",
              "      <td>Castilla</td>\n",
              "      <td>KENNEDY: Castilla + Bavaria</td>\n",
              "      <td>$ 670.000.000</td>\n",
              "      <td>$</td>\n",
              "      <td>670000000</td>\n",
              "    </tr>\n",
              "    <tr>\n",
              "      <th>2</th>\n",
              "      <td>Apartamento</td>\n",
              "      <td>Apartamento en venta en Chico Reservado</td>\n",
              "      <td>3</td>\n",
              "      <td>3</td>\n",
              "      <td>144</td>\n",
              "      <td>Chico Reservado</td>\n",
              "      <td>CHAPINERO: Chicó Lago + El Refugio</td>\n",
              "      <td>$ 1.120.000.000</td>\n",
              "      <td>$</td>\n",
              "      <td>1120000000</td>\n",
              "    </tr>\n",
              "    <tr>\n",
              "      <th>3</th>\n",
              "      <td>Apartamento</td>\n",
              "      <td>Apartamento en venta en Usaquén</td>\n",
              "      <td>3</td>\n",
              "      <td>2</td>\n",
              "      <td>154</td>\n",
              "      <td>Usaquén</td>\n",
              "      <td>Usaquén</td>\n",
              "      <td>$ 890.000.000</td>\n",
              "      <td>$</td>\n",
              "      <td>890000000</td>\n",
              "    </tr>\n",
              "    <tr>\n",
              "      <th>4</th>\n",
              "      <td>Apartamento</td>\n",
              "      <td>Apartamento en venta en Bella Suiza</td>\n",
              "      <td>2</td>\n",
              "      <td>3</td>\n",
              "      <td>128</td>\n",
              "      <td>Bella Suiza</td>\n",
              "      <td>USAQUÉN: Country Club + Santa Bárbara</td>\n",
              "      <td>$ 970.000.000</td>\n",
              "      <td>$</td>\n",
              "      <td>970000000</td>\n",
              "    </tr>\n",
              "    <tr>\n",
              "      <th>...</th>\n",
              "      <td>...</td>\n",
              "      <td>...</td>\n",
              "      <td>...</td>\n",
              "      <td>...</td>\n",
              "      <td>...</td>\n",
              "      <td>...</td>\n",
              "      <td>...</td>\n",
              "      <td>...</td>\n",
              "      <td>...</td>\n",
              "      <td>...</td>\n",
              "    </tr>\n",
              "    <tr>\n",
              "      <th>9515</th>\n",
              "      <td>Apartamento</td>\n",
              "      <td>Apartamento en venta en Kennedy</td>\n",
              "      <td>3</td>\n",
              "      <td>2</td>\n",
              "      <td>70</td>\n",
              "      <td>Kennedy</td>\n",
              "      <td>Kennedy Central</td>\n",
              "      <td>$ 290.000.000</td>\n",
              "      <td>$</td>\n",
              "      <td>290000000</td>\n",
              "    </tr>\n",
              "    <tr>\n",
              "      <th>9516</th>\n",
              "      <td>Apartamento</td>\n",
              "      <td>Apartamento en venta en Parque Central Bavaria</td>\n",
              "      <td>2</td>\n",
              "      <td>2</td>\n",
              "      <td>100</td>\n",
              "      <td>Parque Central Bavaria</td>\n",
              "      <td>SANTA FE: Las Nieves + Sagrado Corazón</td>\n",
              "      <td>$ 670.000.000</td>\n",
              "      <td>$</td>\n",
              "      <td>670000000</td>\n",
              "    </tr>\n",
              "    <tr>\n",
              "      <th>9517</th>\n",
              "      <td>Local</td>\n",
              "      <td>Local en venta en Restrepo</td>\n",
              "      <td>8</td>\n",
              "      <td>6</td>\n",
              "      <td>383</td>\n",
              "      <td>Restrepo</td>\n",
              "      <td>Restrepo</td>\n",
              "      <td>$ 900.000.000</td>\n",
              "      <td>$</td>\n",
              "      <td>900000000</td>\n",
              "    </tr>\n",
              "    <tr>\n",
              "      <th>9518</th>\n",
              "      <td>Casa</td>\n",
              "      <td>Casa en venta en Engativa</td>\n",
              "      <td>3</td>\n",
              "      <td>2</td>\n",
              "      <td>183</td>\n",
              "      <td>Engativa</td>\n",
              "      <td>Engativá</td>\n",
              "      <td>$ 335.000.000</td>\n",
              "      <td>$</td>\n",
              "      <td>335000000</td>\n",
              "    </tr>\n",
              "    <tr>\n",
              "      <th>9519</th>\n",
              "      <td>Apartamento</td>\n",
              "      <td>Apartamento en venta en Tintala</td>\n",
              "      <td>3</td>\n",
              "      <td>1</td>\n",
              "      <td>52</td>\n",
              "      <td>Tintala</td>\n",
              "      <td>Tintala</td>\n",
              "      <td>$ 144.990.000</td>\n",
              "      <td>$</td>\n",
              "      <td>144990000</td>\n",
              "    </tr>\n",
              "  </tbody>\n",
              "</table>\n",
              "<p>9520 rows × 10 columns</p>\n",
              "</div>\n",
              "      <button class=\"colab-df-convert\" onclick=\"convertToInteractive('df-b09c10d2-7180-431f-a52f-b8bc5ff2a868')\"\n",
              "              title=\"Convert this dataframe to an interactive table.\"\n",
              "              style=\"display:none;\">\n",
              "        \n",
              "  <svg xmlns=\"http://www.w3.org/2000/svg\" height=\"24px\"viewBox=\"0 0 24 24\"\n",
              "       width=\"24px\">\n",
              "    <path d=\"M0 0h24v24H0V0z\" fill=\"none\"/>\n",
              "    <path d=\"M18.56 5.44l.94 2.06.94-2.06 2.06-.94-2.06-.94-.94-2.06-.94 2.06-2.06.94zm-11 1L8.5 8.5l.94-2.06 2.06-.94-2.06-.94L8.5 2.5l-.94 2.06-2.06.94zm10 10l.94 2.06.94-2.06 2.06-.94-2.06-.94-.94-2.06-.94 2.06-2.06.94z\"/><path d=\"M17.41 7.96l-1.37-1.37c-.4-.4-.92-.59-1.43-.59-.52 0-1.04.2-1.43.59L10.3 9.45l-7.72 7.72c-.78.78-.78 2.05 0 2.83L4 21.41c.39.39.9.59 1.41.59.51 0 1.02-.2 1.41-.59l7.78-7.78 2.81-2.81c.8-.78.8-2.07 0-2.86zM5.41 20L4 18.59l7.72-7.72 1.47 1.35L5.41 20z\"/>\n",
              "  </svg>\n",
              "      </button>\n",
              "      \n",
              "  <style>\n",
              "    .colab-df-container {\n",
              "      display:flex;\n",
              "      flex-wrap:wrap;\n",
              "      gap: 12px;\n",
              "    }\n",
              "\n",
              "    .colab-df-convert {\n",
              "      background-color: #E8F0FE;\n",
              "      border: none;\n",
              "      border-radius: 50%;\n",
              "      cursor: pointer;\n",
              "      display: none;\n",
              "      fill: #1967D2;\n",
              "      height: 32px;\n",
              "      padding: 0 0 0 0;\n",
              "      width: 32px;\n",
              "    }\n",
              "\n",
              "    .colab-df-convert:hover {\n",
              "      background-color: #E2EBFA;\n",
              "      box-shadow: 0px 1px 2px rgba(60, 64, 67, 0.3), 0px 1px 3px 1px rgba(60, 64, 67, 0.15);\n",
              "      fill: #174EA6;\n",
              "    }\n",
              "\n",
              "    [theme=dark] .colab-df-convert {\n",
              "      background-color: #3B4455;\n",
              "      fill: #D2E3FC;\n",
              "    }\n",
              "\n",
              "    [theme=dark] .colab-df-convert:hover {\n",
              "      background-color: #434B5C;\n",
              "      box-shadow: 0px 1px 3px 1px rgba(0, 0, 0, 0.15);\n",
              "      filter: drop-shadow(0px 1px 2px rgba(0, 0, 0, 0.3));\n",
              "      fill: #FFFFFF;\n",
              "    }\n",
              "  </style>\n",
              "\n",
              "      <script>\n",
              "        const buttonEl =\n",
              "          document.querySelector('#df-b09c10d2-7180-431f-a52f-b8bc5ff2a868 button.colab-df-convert');\n",
              "        buttonEl.style.display =\n",
              "          google.colab.kernel.accessAllowed ? 'block' : 'none';\n",
              "\n",
              "        async function convertToInteractive(key) {\n",
              "          const element = document.querySelector('#df-b09c10d2-7180-431f-a52f-b8bc5ff2a868');\n",
              "          const dataTable =\n",
              "            await google.colab.kernel.invokeFunction('convertToInteractive',\n",
              "                                                     [key], {});\n",
              "          if (!dataTable) return;\n",
              "\n",
              "          const docLinkHtml = 'Like what you see? Visit the ' +\n",
              "            '<a target=\"_blank\" href=https://colab.research.google.com/notebooks/data_table.ipynb>data table notebook</a>'\n",
              "            + ' to learn more about interactive tables.';\n",
              "          element.innerHTML = '';\n",
              "          dataTable['output_type'] = 'display_data';\n",
              "          await google.colab.output.renderOutput(dataTable, element);\n",
              "          const docLink = document.createElement('div');\n",
              "          docLink.innerHTML = docLinkHtml;\n",
              "          element.appendChild(docLink);\n",
              "        }\n",
              "      </script>\n",
              "    </div>\n",
              "  </div>\n",
              "  "
            ]
          },
          "metadata": {},
          "execution_count": 31
        }
      ]
    },
    {
      "cell_type": "code",
      "source": [
        "inmuebles[['Barrio','Precio']]"
      ],
      "metadata": {
        "colab": {
          "base_uri": "https://localhost:8080/",
          "height": 424
        },
        "id": "DZWwP7cVcUh2",
        "outputId": "72487781-39ac-4366-d336-face6aa9c7f7"
      },
      "execution_count": 32,
      "outputs": [
        {
          "output_type": "execute_result",
          "data": {
            "text/plain": [
              "                      Barrio      Precio\n",
              "0         Zona Noroccidental   360000000\n",
              "1                   Castilla   670000000\n",
              "2            Chico Reservado  1120000000\n",
              "3                    Usaquén   890000000\n",
              "4                Bella Suiza   970000000\n",
              "...                      ...         ...\n",
              "9515                 Kennedy   290000000\n",
              "9516  Parque Central Bavaria   670000000\n",
              "9517                Restrepo   900000000\n",
              "9518                Engativa   335000000\n",
              "9519                 Tintala   144990000\n",
              "\n",
              "[9520 rows x 2 columns]"
            ],
            "text/html": [
              "\n",
              "  <div id=\"df-bb56c8d1-8645-4ec8-9a28-ae2166d45b60\">\n",
              "    <div class=\"colab-df-container\">\n",
              "      <div>\n",
              "<style scoped>\n",
              "    .dataframe tbody tr th:only-of-type {\n",
              "        vertical-align: middle;\n",
              "    }\n",
              "\n",
              "    .dataframe tbody tr th {\n",
              "        vertical-align: top;\n",
              "    }\n",
              "\n",
              "    .dataframe thead th {\n",
              "        text-align: right;\n",
              "    }\n",
              "</style>\n",
              "<table border=\"1\" class=\"dataframe\">\n",
              "  <thead>\n",
              "    <tr style=\"text-align: right;\">\n",
              "      <th></th>\n",
              "      <th>Barrio</th>\n",
              "      <th>Precio</th>\n",
              "    </tr>\n",
              "  </thead>\n",
              "  <tbody>\n",
              "    <tr>\n",
              "      <th>0</th>\n",
              "      <td>Zona Noroccidental</td>\n",
              "      <td>360000000</td>\n",
              "    </tr>\n",
              "    <tr>\n",
              "      <th>1</th>\n",
              "      <td>Castilla</td>\n",
              "      <td>670000000</td>\n",
              "    </tr>\n",
              "    <tr>\n",
              "      <th>2</th>\n",
              "      <td>Chico Reservado</td>\n",
              "      <td>1120000000</td>\n",
              "    </tr>\n",
              "    <tr>\n",
              "      <th>3</th>\n",
              "      <td>Usaquén</td>\n",
              "      <td>890000000</td>\n",
              "    </tr>\n",
              "    <tr>\n",
              "      <th>4</th>\n",
              "      <td>Bella Suiza</td>\n",
              "      <td>970000000</td>\n",
              "    </tr>\n",
              "    <tr>\n",
              "      <th>...</th>\n",
              "      <td>...</td>\n",
              "      <td>...</td>\n",
              "    </tr>\n",
              "    <tr>\n",
              "      <th>9515</th>\n",
              "      <td>Kennedy</td>\n",
              "      <td>290000000</td>\n",
              "    </tr>\n",
              "    <tr>\n",
              "      <th>9516</th>\n",
              "      <td>Parque Central Bavaria</td>\n",
              "      <td>670000000</td>\n",
              "    </tr>\n",
              "    <tr>\n",
              "      <th>9517</th>\n",
              "      <td>Restrepo</td>\n",
              "      <td>900000000</td>\n",
              "    </tr>\n",
              "    <tr>\n",
              "      <th>9518</th>\n",
              "      <td>Engativa</td>\n",
              "      <td>335000000</td>\n",
              "    </tr>\n",
              "    <tr>\n",
              "      <th>9519</th>\n",
              "      <td>Tintala</td>\n",
              "      <td>144990000</td>\n",
              "    </tr>\n",
              "  </tbody>\n",
              "</table>\n",
              "<p>9520 rows × 2 columns</p>\n",
              "</div>\n",
              "      <button class=\"colab-df-convert\" onclick=\"convertToInteractive('df-bb56c8d1-8645-4ec8-9a28-ae2166d45b60')\"\n",
              "              title=\"Convert this dataframe to an interactive table.\"\n",
              "              style=\"display:none;\">\n",
              "        \n",
              "  <svg xmlns=\"http://www.w3.org/2000/svg\" height=\"24px\"viewBox=\"0 0 24 24\"\n",
              "       width=\"24px\">\n",
              "    <path d=\"M0 0h24v24H0V0z\" fill=\"none\"/>\n",
              "    <path d=\"M18.56 5.44l.94 2.06.94-2.06 2.06-.94-2.06-.94-.94-2.06-.94 2.06-2.06.94zm-11 1L8.5 8.5l.94-2.06 2.06-.94-2.06-.94L8.5 2.5l-.94 2.06-2.06.94zm10 10l.94 2.06.94-2.06 2.06-.94-2.06-.94-.94-2.06-.94 2.06-2.06.94z\"/><path d=\"M17.41 7.96l-1.37-1.37c-.4-.4-.92-.59-1.43-.59-.52 0-1.04.2-1.43.59L10.3 9.45l-7.72 7.72c-.78.78-.78 2.05 0 2.83L4 21.41c.39.39.9.59 1.41.59.51 0 1.02-.2 1.41-.59l7.78-7.78 2.81-2.81c.8-.78.8-2.07 0-2.86zM5.41 20L4 18.59l7.72-7.72 1.47 1.35L5.41 20z\"/>\n",
              "  </svg>\n",
              "      </button>\n",
              "      \n",
              "  <style>\n",
              "    .colab-df-container {\n",
              "      display:flex;\n",
              "      flex-wrap:wrap;\n",
              "      gap: 12px;\n",
              "    }\n",
              "\n",
              "    .colab-df-convert {\n",
              "      background-color: #E8F0FE;\n",
              "      border: none;\n",
              "      border-radius: 50%;\n",
              "      cursor: pointer;\n",
              "      display: none;\n",
              "      fill: #1967D2;\n",
              "      height: 32px;\n",
              "      padding: 0 0 0 0;\n",
              "      width: 32px;\n",
              "    }\n",
              "\n",
              "    .colab-df-convert:hover {\n",
              "      background-color: #E2EBFA;\n",
              "      box-shadow: 0px 1px 2px rgba(60, 64, 67, 0.3), 0px 1px 3px 1px rgba(60, 64, 67, 0.15);\n",
              "      fill: #174EA6;\n",
              "    }\n",
              "\n",
              "    [theme=dark] .colab-df-convert {\n",
              "      background-color: #3B4455;\n",
              "      fill: #D2E3FC;\n",
              "    }\n",
              "\n",
              "    [theme=dark] .colab-df-convert:hover {\n",
              "      background-color: #434B5C;\n",
              "      box-shadow: 0px 1px 3px 1px rgba(0, 0, 0, 0.15);\n",
              "      filter: drop-shadow(0px 1px 2px rgba(0, 0, 0, 0.3));\n",
              "      fill: #FFFFFF;\n",
              "    }\n",
              "  </style>\n",
              "\n",
              "      <script>\n",
              "        const buttonEl =\n",
              "          document.querySelector('#df-bb56c8d1-8645-4ec8-9a28-ae2166d45b60 button.colab-df-convert');\n",
              "        buttonEl.style.display =\n",
              "          google.colab.kernel.accessAllowed ? 'block' : 'none';\n",
              "\n",
              "        async function convertToInteractive(key) {\n",
              "          const element = document.querySelector('#df-bb56c8d1-8645-4ec8-9a28-ae2166d45b60');\n",
              "          const dataTable =\n",
              "            await google.colab.kernel.invokeFunction('convertToInteractive',\n",
              "                                                     [key], {});\n",
              "          if (!dataTable) return;\n",
              "\n",
              "          const docLinkHtml = 'Like what you see? Visit the ' +\n",
              "            '<a target=\"_blank\" href=https://colab.research.google.com/notebooks/data_table.ipynb>data table notebook</a>'\n",
              "            + ' to learn more about interactive tables.';\n",
              "          element.innerHTML = '';\n",
              "          dataTable['output_type'] = 'display_data';\n",
              "          await google.colab.output.renderOutput(dataTable, element);\n",
              "          const docLink = document.createElement('div');\n",
              "          docLink.innerHTML = docLinkHtml;\n",
              "          element.appendChild(docLink);\n",
              "        }\n",
              "      </script>\n",
              "    </div>\n",
              "  </div>\n",
              "  "
            ]
          },
          "metadata": {},
          "execution_count": 32
        }
      ]
    },
    {
      "cell_type": "code",
      "source": [
        "inmuebles['Precio_Millon'] = inmuebles.Precio.astype('float')/1000000\n",
        "inmuebles.info()"
      ],
      "metadata": {
        "colab": {
          "base_uri": "https://localhost:8080/"
        },
        "id": "c7kfhfbkdOPz",
        "outputId": "8295c20f-a9be-485b-dfcc-abcd2bf38407"
      },
      "execution_count": 33,
      "outputs": [
        {
          "output_type": "stream",
          "name": "stdout",
          "text": [
            "<class 'pandas.core.frame.DataFrame'>\n",
            "RangeIndex: 9520 entries, 0 to 9519\n",
            "Data columns (total 11 columns):\n",
            " #   Column         Non-Null Count  Dtype  \n",
            "---  ------         --------------  -----  \n",
            " 0   Tipo           9520 non-null   object \n",
            " 1   Descripcion    9520 non-null   object \n",
            " 2   Habitaciones   9520 non-null   int64  \n",
            " 3   Banos          9520 non-null   int64  \n",
            " 4   Area           9520 non-null   int64  \n",
            " 5   Barrio         9520 non-null   object \n",
            " 6   UPZ            9478 non-null   object \n",
            " 7   Valor          9520 non-null   object \n",
            " 8   Moneda         9520 non-null   object \n",
            " 9   Precio         9520 non-null   object \n",
            " 10  Precio_Millon  9520 non-null   float64\n",
            "dtypes: float64(1), int64(3), object(7)\n",
            "memory usage: 818.2+ KB\n"
          ]
        }
      ]
    },
    {
      "cell_type": "code",
      "source": [
        "inmuebles.describe()"
      ],
      "metadata": {
        "colab": {
          "base_uri": "https://localhost:8080/",
          "height": 300
        },
        "id": "qtu6OCBoddO5",
        "outputId": "b2781b02-a451-4ed3-8860-2514200836e4"
      },
      "execution_count": 34,
      "outputs": [
        {
          "output_type": "execute_result",
          "data": {
            "text/plain": [
              "       Habitaciones        Banos           Area  Precio_Millon\n",
              "count   9520.000000  9520.000000    9520.000000    9520.000000\n",
              "mean       3.072479     2.447899     146.664706     602.062354\n",
              "std        2.049856     1.255314    1731.379622     704.602062\n",
              "min        1.000000     0.000000       2.000000      60.000000\n",
              "25%        2.000000     2.000000      57.000000     250.000000\n",
              "50%        3.000000     2.000000      80.000000     409.182500\n",
              "75%        3.000000     3.000000     135.000000     680.000000\n",
              "max      110.000000     9.000000  166243.000000   16000.000000"
            ],
            "text/html": [
              "\n",
              "  <div id=\"df-161382e6-6634-4d73-a36e-75678984ddf4\">\n",
              "    <div class=\"colab-df-container\">\n",
              "      <div>\n",
              "<style scoped>\n",
              "    .dataframe tbody tr th:only-of-type {\n",
              "        vertical-align: middle;\n",
              "    }\n",
              "\n",
              "    .dataframe tbody tr th {\n",
              "        vertical-align: top;\n",
              "    }\n",
              "\n",
              "    .dataframe thead th {\n",
              "        text-align: right;\n",
              "    }\n",
              "</style>\n",
              "<table border=\"1\" class=\"dataframe\">\n",
              "  <thead>\n",
              "    <tr style=\"text-align: right;\">\n",
              "      <th></th>\n",
              "      <th>Habitaciones</th>\n",
              "      <th>Banos</th>\n",
              "      <th>Area</th>\n",
              "      <th>Precio_Millon</th>\n",
              "    </tr>\n",
              "  </thead>\n",
              "  <tbody>\n",
              "    <tr>\n",
              "      <th>count</th>\n",
              "      <td>9520.000000</td>\n",
              "      <td>9520.000000</td>\n",
              "      <td>9520.000000</td>\n",
              "      <td>9520.000000</td>\n",
              "    </tr>\n",
              "    <tr>\n",
              "      <th>mean</th>\n",
              "      <td>3.072479</td>\n",
              "      <td>2.447899</td>\n",
              "      <td>146.664706</td>\n",
              "      <td>602.062354</td>\n",
              "    </tr>\n",
              "    <tr>\n",
              "      <th>std</th>\n",
              "      <td>2.049856</td>\n",
              "      <td>1.255314</td>\n",
              "      <td>1731.379622</td>\n",
              "      <td>704.602062</td>\n",
              "    </tr>\n",
              "    <tr>\n",
              "      <th>min</th>\n",
              "      <td>1.000000</td>\n",
              "      <td>0.000000</td>\n",
              "      <td>2.000000</td>\n",
              "      <td>60.000000</td>\n",
              "    </tr>\n",
              "    <tr>\n",
              "      <th>25%</th>\n",
              "      <td>2.000000</td>\n",
              "      <td>2.000000</td>\n",
              "      <td>57.000000</td>\n",
              "      <td>250.000000</td>\n",
              "    </tr>\n",
              "    <tr>\n",
              "      <th>50%</th>\n",
              "      <td>3.000000</td>\n",
              "      <td>2.000000</td>\n",
              "      <td>80.000000</td>\n",
              "      <td>409.182500</td>\n",
              "    </tr>\n",
              "    <tr>\n",
              "      <th>75%</th>\n",
              "      <td>3.000000</td>\n",
              "      <td>3.000000</td>\n",
              "      <td>135.000000</td>\n",
              "      <td>680.000000</td>\n",
              "    </tr>\n",
              "    <tr>\n",
              "      <th>max</th>\n",
              "      <td>110.000000</td>\n",
              "      <td>9.000000</td>\n",
              "      <td>166243.000000</td>\n",
              "      <td>16000.000000</td>\n",
              "    </tr>\n",
              "  </tbody>\n",
              "</table>\n",
              "</div>\n",
              "      <button class=\"colab-df-convert\" onclick=\"convertToInteractive('df-161382e6-6634-4d73-a36e-75678984ddf4')\"\n",
              "              title=\"Convert this dataframe to an interactive table.\"\n",
              "              style=\"display:none;\">\n",
              "        \n",
              "  <svg xmlns=\"http://www.w3.org/2000/svg\" height=\"24px\"viewBox=\"0 0 24 24\"\n",
              "       width=\"24px\">\n",
              "    <path d=\"M0 0h24v24H0V0z\" fill=\"none\"/>\n",
              "    <path d=\"M18.56 5.44l.94 2.06.94-2.06 2.06-.94-2.06-.94-.94-2.06-.94 2.06-2.06.94zm-11 1L8.5 8.5l.94-2.06 2.06-.94-2.06-.94L8.5 2.5l-.94 2.06-2.06.94zm10 10l.94 2.06.94-2.06 2.06-.94-2.06-.94-.94-2.06-.94 2.06-2.06.94z\"/><path d=\"M17.41 7.96l-1.37-1.37c-.4-.4-.92-.59-1.43-.59-.52 0-1.04.2-1.43.59L10.3 9.45l-7.72 7.72c-.78.78-.78 2.05 0 2.83L4 21.41c.39.39.9.59 1.41.59.51 0 1.02-.2 1.41-.59l7.78-7.78 2.81-2.81c.8-.78.8-2.07 0-2.86zM5.41 20L4 18.59l7.72-7.72 1.47 1.35L5.41 20z\"/>\n",
              "  </svg>\n",
              "      </button>\n",
              "      \n",
              "  <style>\n",
              "    .colab-df-container {\n",
              "      display:flex;\n",
              "      flex-wrap:wrap;\n",
              "      gap: 12px;\n",
              "    }\n",
              "\n",
              "    .colab-df-convert {\n",
              "      background-color: #E8F0FE;\n",
              "      border: none;\n",
              "      border-radius: 50%;\n",
              "      cursor: pointer;\n",
              "      display: none;\n",
              "      fill: #1967D2;\n",
              "      height: 32px;\n",
              "      padding: 0 0 0 0;\n",
              "      width: 32px;\n",
              "    }\n",
              "\n",
              "    .colab-df-convert:hover {\n",
              "      background-color: #E2EBFA;\n",
              "      box-shadow: 0px 1px 2px rgba(60, 64, 67, 0.3), 0px 1px 3px 1px rgba(60, 64, 67, 0.15);\n",
              "      fill: #174EA6;\n",
              "    }\n",
              "\n",
              "    [theme=dark] .colab-df-convert {\n",
              "      background-color: #3B4455;\n",
              "      fill: #D2E3FC;\n",
              "    }\n",
              "\n",
              "    [theme=dark] .colab-df-convert:hover {\n",
              "      background-color: #434B5C;\n",
              "      box-shadow: 0px 1px 3px 1px rgba(0, 0, 0, 0.15);\n",
              "      filter: drop-shadow(0px 1px 2px rgba(0, 0, 0, 0.3));\n",
              "      fill: #FFFFFF;\n",
              "    }\n",
              "  </style>\n",
              "\n",
              "      <script>\n",
              "        const buttonEl =\n",
              "          document.querySelector('#df-161382e6-6634-4d73-a36e-75678984ddf4 button.colab-df-convert');\n",
              "        buttonEl.style.display =\n",
              "          google.colab.kernel.accessAllowed ? 'block' : 'none';\n",
              "\n",
              "        async function convertToInteractive(key) {\n",
              "          const element = document.querySelector('#df-161382e6-6634-4d73-a36e-75678984ddf4');\n",
              "          const dataTable =\n",
              "            await google.colab.kernel.invokeFunction('convertToInteractive',\n",
              "                                                     [key], {});\n",
              "          if (!dataTable) return;\n",
              "\n",
              "          const docLinkHtml = 'Like what you see? Visit the ' +\n",
              "            '<a target=\"_blank\" href=https://colab.research.google.com/notebooks/data_table.ipynb>data table notebook</a>'\n",
              "            + ' to learn more about interactive tables.';\n",
              "          element.innerHTML = '';\n",
              "          dataTable['output_type'] = 'display_data';\n",
              "          await google.colab.output.renderOutput(dataTable, element);\n",
              "          const docLink = document.createElement('div');\n",
              "          docLink.innerHTML = docLinkHtml;\n",
              "          element.appendChild(docLink);\n",
              "        }\n",
              "      </script>\n",
              "    </div>\n",
              "  </div>\n",
              "  "
            ]
          },
          "metadata": {},
          "execution_count": 34
        }
      ]
    },
    {
      "cell_type": "code",
      "source": [
        "pd.set_option('display.precision',2)\n",
        "pd.set_option('display.float_format', lambda x: '%.2f' % x) #setea el formato de las variables tipo float\n",
        "inmuebles.describe() #saca las funciones estadisticas de cada variable numerica"
      ],
      "metadata": {
        "colab": {
          "base_uri": "https://localhost:8080/",
          "height": 300
        },
        "id": "WS-cHzHeeV52",
        "outputId": "9349e624-daf2-4d65-dd6e-969d2a4eec93"
      },
      "execution_count": 35,
      "outputs": [
        {
          "output_type": "execute_result",
          "data": {
            "text/plain": [
              "       Habitaciones   Banos      Area  Precio_Millon\n",
              "count       9520.00 9520.00   9520.00        9520.00\n",
              "mean           3.07    2.45    146.66         602.06\n",
              "std            2.05    1.26   1731.38         704.60\n",
              "min            1.00    0.00      2.00          60.00\n",
              "25%            2.00    2.00     57.00         250.00\n",
              "50%            3.00    2.00     80.00         409.18\n",
              "75%            3.00    3.00    135.00         680.00\n",
              "max          110.00    9.00 166243.00       16000.00"
            ],
            "text/html": [
              "\n",
              "  <div id=\"df-e8149dc4-c705-418f-aa39-f99a5646ed4d\">\n",
              "    <div class=\"colab-df-container\">\n",
              "      <div>\n",
              "<style scoped>\n",
              "    .dataframe tbody tr th:only-of-type {\n",
              "        vertical-align: middle;\n",
              "    }\n",
              "\n",
              "    .dataframe tbody tr th {\n",
              "        vertical-align: top;\n",
              "    }\n",
              "\n",
              "    .dataframe thead th {\n",
              "        text-align: right;\n",
              "    }\n",
              "</style>\n",
              "<table border=\"1\" class=\"dataframe\">\n",
              "  <thead>\n",
              "    <tr style=\"text-align: right;\">\n",
              "      <th></th>\n",
              "      <th>Habitaciones</th>\n",
              "      <th>Banos</th>\n",
              "      <th>Area</th>\n",
              "      <th>Precio_Millon</th>\n",
              "    </tr>\n",
              "  </thead>\n",
              "  <tbody>\n",
              "    <tr>\n",
              "      <th>count</th>\n",
              "      <td>9520.00</td>\n",
              "      <td>9520.00</td>\n",
              "      <td>9520.00</td>\n",
              "      <td>9520.00</td>\n",
              "    </tr>\n",
              "    <tr>\n",
              "      <th>mean</th>\n",
              "      <td>3.07</td>\n",
              "      <td>2.45</td>\n",
              "      <td>146.66</td>\n",
              "      <td>602.06</td>\n",
              "    </tr>\n",
              "    <tr>\n",
              "      <th>std</th>\n",
              "      <td>2.05</td>\n",
              "      <td>1.26</td>\n",
              "      <td>1731.38</td>\n",
              "      <td>704.60</td>\n",
              "    </tr>\n",
              "    <tr>\n",
              "      <th>min</th>\n",
              "      <td>1.00</td>\n",
              "      <td>0.00</td>\n",
              "      <td>2.00</td>\n",
              "      <td>60.00</td>\n",
              "    </tr>\n",
              "    <tr>\n",
              "      <th>25%</th>\n",
              "      <td>2.00</td>\n",
              "      <td>2.00</td>\n",
              "      <td>57.00</td>\n",
              "      <td>250.00</td>\n",
              "    </tr>\n",
              "    <tr>\n",
              "      <th>50%</th>\n",
              "      <td>3.00</td>\n",
              "      <td>2.00</td>\n",
              "      <td>80.00</td>\n",
              "      <td>409.18</td>\n",
              "    </tr>\n",
              "    <tr>\n",
              "      <th>75%</th>\n",
              "      <td>3.00</td>\n",
              "      <td>3.00</td>\n",
              "      <td>135.00</td>\n",
              "      <td>680.00</td>\n",
              "    </tr>\n",
              "    <tr>\n",
              "      <th>max</th>\n",
              "      <td>110.00</td>\n",
              "      <td>9.00</td>\n",
              "      <td>166243.00</td>\n",
              "      <td>16000.00</td>\n",
              "    </tr>\n",
              "  </tbody>\n",
              "</table>\n",
              "</div>\n",
              "      <button class=\"colab-df-convert\" onclick=\"convertToInteractive('df-e8149dc4-c705-418f-aa39-f99a5646ed4d')\"\n",
              "              title=\"Convert this dataframe to an interactive table.\"\n",
              "              style=\"display:none;\">\n",
              "        \n",
              "  <svg xmlns=\"http://www.w3.org/2000/svg\" height=\"24px\"viewBox=\"0 0 24 24\"\n",
              "       width=\"24px\">\n",
              "    <path d=\"M0 0h24v24H0V0z\" fill=\"none\"/>\n",
              "    <path d=\"M18.56 5.44l.94 2.06.94-2.06 2.06-.94-2.06-.94-.94-2.06-.94 2.06-2.06.94zm-11 1L8.5 8.5l.94-2.06 2.06-.94-2.06-.94L8.5 2.5l-.94 2.06-2.06.94zm10 10l.94 2.06.94-2.06 2.06-.94-2.06-.94-.94-2.06-.94 2.06-2.06.94z\"/><path d=\"M17.41 7.96l-1.37-1.37c-.4-.4-.92-.59-1.43-.59-.52 0-1.04.2-1.43.59L10.3 9.45l-7.72 7.72c-.78.78-.78 2.05 0 2.83L4 21.41c.39.39.9.59 1.41.59.51 0 1.02-.2 1.41-.59l7.78-7.78 2.81-2.81c.8-.78.8-2.07 0-2.86zM5.41 20L4 18.59l7.72-7.72 1.47 1.35L5.41 20z\"/>\n",
              "  </svg>\n",
              "      </button>\n",
              "      \n",
              "  <style>\n",
              "    .colab-df-container {\n",
              "      display:flex;\n",
              "      flex-wrap:wrap;\n",
              "      gap: 12px;\n",
              "    }\n",
              "\n",
              "    .colab-df-convert {\n",
              "      background-color: #E8F0FE;\n",
              "      border: none;\n",
              "      border-radius: 50%;\n",
              "      cursor: pointer;\n",
              "      display: none;\n",
              "      fill: #1967D2;\n",
              "      height: 32px;\n",
              "      padding: 0 0 0 0;\n",
              "      width: 32px;\n",
              "    }\n",
              "\n",
              "    .colab-df-convert:hover {\n",
              "      background-color: #E2EBFA;\n",
              "      box-shadow: 0px 1px 2px rgba(60, 64, 67, 0.3), 0px 1px 3px 1px rgba(60, 64, 67, 0.15);\n",
              "      fill: #174EA6;\n",
              "    }\n",
              "\n",
              "    [theme=dark] .colab-df-convert {\n",
              "      background-color: #3B4455;\n",
              "      fill: #D2E3FC;\n",
              "    }\n",
              "\n",
              "    [theme=dark] .colab-df-convert:hover {\n",
              "      background-color: #434B5C;\n",
              "      box-shadow: 0px 1px 3px 1px rgba(0, 0, 0, 0.15);\n",
              "      filter: drop-shadow(0px 1px 2px rgba(0, 0, 0, 0.3));\n",
              "      fill: #FFFFFF;\n",
              "    }\n",
              "  </style>\n",
              "\n",
              "      <script>\n",
              "        const buttonEl =\n",
              "          document.querySelector('#df-e8149dc4-c705-418f-aa39-f99a5646ed4d button.colab-df-convert');\n",
              "        buttonEl.style.display =\n",
              "          google.colab.kernel.accessAllowed ? 'block' : 'none';\n",
              "\n",
              "        async function convertToInteractive(key) {\n",
              "          const element = document.querySelector('#df-e8149dc4-c705-418f-aa39-f99a5646ed4d');\n",
              "          const dataTable =\n",
              "            await google.colab.kernel.invokeFunction('convertToInteractive',\n",
              "                                                     [key], {});\n",
              "          if (!dataTable) return;\n",
              "\n",
              "          const docLinkHtml = 'Like what you see? Visit the ' +\n",
              "            '<a target=\"_blank\" href=https://colab.research.google.com/notebooks/data_table.ipynb>data table notebook</a>'\n",
              "            + ' to learn more about interactive tables.';\n",
              "          element.innerHTML = '';\n",
              "          dataTable['output_type'] = 'display_data';\n",
              "          await google.colab.output.renderOutput(dataTable, element);\n",
              "          const docLink = document.createElement('div');\n",
              "          docLink.innerHTML = docLinkHtml;\n",
              "          element.appendChild(docLink);\n",
              "        }\n",
              "      </script>\n",
              "    </div>\n",
              "  </div>\n",
              "  "
            ]
          },
          "metadata": {},
          "execution_count": 35
        }
      ]
    },
    {
      "cell_type": "code",
      "source": [
        "inmuebles.loc[inmuebles.Habitaciones==110]"
      ],
      "metadata": {
        "colab": {
          "base_uri": "https://localhost:8080/",
          "height": 81
        },
        "id": "80OQpf-1fJ0k",
        "outputId": "97875ac6-a2cc-4042-aed7-0ee14cddb641"
      },
      "execution_count": 36,
      "outputs": [
        {
          "output_type": "execute_result",
          "data": {
            "text/plain": [
              "     Tipo                Descripcion  Habitaciones  Banos  Area    Barrio  \\\n",
              "897  Casa  Casa en venta en La Uribe           110      2   110  La Uribe   \n",
              "\n",
              "         UPZ          Valor Moneda     Precio  Precio_Millon  \n",
              "897  Usaquén  $ 480.000.000      $  480000000         480.00  "
            ],
            "text/html": [
              "\n",
              "  <div id=\"df-31246de4-1e3c-4ceb-907a-2a71c1af8d66\">\n",
              "    <div class=\"colab-df-container\">\n",
              "      <div>\n",
              "<style scoped>\n",
              "    .dataframe tbody tr th:only-of-type {\n",
              "        vertical-align: middle;\n",
              "    }\n",
              "\n",
              "    .dataframe tbody tr th {\n",
              "        vertical-align: top;\n",
              "    }\n",
              "\n",
              "    .dataframe thead th {\n",
              "        text-align: right;\n",
              "    }\n",
              "</style>\n",
              "<table border=\"1\" class=\"dataframe\">\n",
              "  <thead>\n",
              "    <tr style=\"text-align: right;\">\n",
              "      <th></th>\n",
              "      <th>Tipo</th>\n",
              "      <th>Descripcion</th>\n",
              "      <th>Habitaciones</th>\n",
              "      <th>Banos</th>\n",
              "      <th>Area</th>\n",
              "      <th>Barrio</th>\n",
              "      <th>UPZ</th>\n",
              "      <th>Valor</th>\n",
              "      <th>Moneda</th>\n",
              "      <th>Precio</th>\n",
              "      <th>Precio_Millon</th>\n",
              "    </tr>\n",
              "  </thead>\n",
              "  <tbody>\n",
              "    <tr>\n",
              "      <th>897</th>\n",
              "      <td>Casa</td>\n",
              "      <td>Casa en venta en La Uribe</td>\n",
              "      <td>110</td>\n",
              "      <td>2</td>\n",
              "      <td>110</td>\n",
              "      <td>La Uribe</td>\n",
              "      <td>Usaquén</td>\n",
              "      <td>$ 480.000.000</td>\n",
              "      <td>$</td>\n",
              "      <td>480000000</td>\n",
              "      <td>480.00</td>\n",
              "    </tr>\n",
              "  </tbody>\n",
              "</table>\n",
              "</div>\n",
              "      <button class=\"colab-df-convert\" onclick=\"convertToInteractive('df-31246de4-1e3c-4ceb-907a-2a71c1af8d66')\"\n",
              "              title=\"Convert this dataframe to an interactive table.\"\n",
              "              style=\"display:none;\">\n",
              "        \n",
              "  <svg xmlns=\"http://www.w3.org/2000/svg\" height=\"24px\"viewBox=\"0 0 24 24\"\n",
              "       width=\"24px\">\n",
              "    <path d=\"M0 0h24v24H0V0z\" fill=\"none\"/>\n",
              "    <path d=\"M18.56 5.44l.94 2.06.94-2.06 2.06-.94-2.06-.94-.94-2.06-.94 2.06-2.06.94zm-11 1L8.5 8.5l.94-2.06 2.06-.94-2.06-.94L8.5 2.5l-.94 2.06-2.06.94zm10 10l.94 2.06.94-2.06 2.06-.94-2.06-.94-.94-2.06-.94 2.06-2.06.94z\"/><path d=\"M17.41 7.96l-1.37-1.37c-.4-.4-.92-.59-1.43-.59-.52 0-1.04.2-1.43.59L10.3 9.45l-7.72 7.72c-.78.78-.78 2.05 0 2.83L4 21.41c.39.39.9.59 1.41.59.51 0 1.02-.2 1.41-.59l7.78-7.78 2.81-2.81c.8-.78.8-2.07 0-2.86zM5.41 20L4 18.59l7.72-7.72 1.47 1.35L5.41 20z\"/>\n",
              "  </svg>\n",
              "      </button>\n",
              "      \n",
              "  <style>\n",
              "    .colab-df-container {\n",
              "      display:flex;\n",
              "      flex-wrap:wrap;\n",
              "      gap: 12px;\n",
              "    }\n",
              "\n",
              "    .colab-df-convert {\n",
              "      background-color: #E8F0FE;\n",
              "      border: none;\n",
              "      border-radius: 50%;\n",
              "      cursor: pointer;\n",
              "      display: none;\n",
              "      fill: #1967D2;\n",
              "      height: 32px;\n",
              "      padding: 0 0 0 0;\n",
              "      width: 32px;\n",
              "    }\n",
              "\n",
              "    .colab-df-convert:hover {\n",
              "      background-color: #E2EBFA;\n",
              "      box-shadow: 0px 1px 2px rgba(60, 64, 67, 0.3), 0px 1px 3px 1px rgba(60, 64, 67, 0.15);\n",
              "      fill: #174EA6;\n",
              "    }\n",
              "\n",
              "    [theme=dark] .colab-df-convert {\n",
              "      background-color: #3B4455;\n",
              "      fill: #D2E3FC;\n",
              "    }\n",
              "\n",
              "    [theme=dark] .colab-df-convert:hover {\n",
              "      background-color: #434B5C;\n",
              "      box-shadow: 0px 1px 3px 1px rgba(0, 0, 0, 0.15);\n",
              "      filter: drop-shadow(0px 1px 2px rgba(0, 0, 0, 0.3));\n",
              "      fill: #FFFFFF;\n",
              "    }\n",
              "  </style>\n",
              "\n",
              "      <script>\n",
              "        const buttonEl =\n",
              "          document.querySelector('#df-31246de4-1e3c-4ceb-907a-2a71c1af8d66 button.colab-df-convert');\n",
              "        buttonEl.style.display =\n",
              "          google.colab.kernel.accessAllowed ? 'block' : 'none';\n",
              "\n",
              "        async function convertToInteractive(key) {\n",
              "          const element = document.querySelector('#df-31246de4-1e3c-4ceb-907a-2a71c1af8d66');\n",
              "          const dataTable =\n",
              "            await google.colab.kernel.invokeFunction('convertToInteractive',\n",
              "                                                     [key], {});\n",
              "          if (!dataTable) return;\n",
              "\n",
              "          const docLinkHtml = 'Like what you see? Visit the ' +\n",
              "            '<a target=\"_blank\" href=https://colab.research.google.com/notebooks/data_table.ipynb>data table notebook</a>'\n",
              "            + ' to learn more about interactive tables.';\n",
              "          element.innerHTML = '';\n",
              "          dataTable['output_type'] = 'display_data';\n",
              "          await google.colab.output.renderOutput(dataTable, element);\n",
              "          const docLink = document.createElement('div');\n",
              "          docLink.innerHTML = docLinkHtml;\n",
              "          element.appendChild(docLink);\n",
              "        }\n",
              "      </script>\n",
              "    </div>\n",
              "  </div>\n",
              "  "
            ]
          },
          "metadata": {},
          "execution_count": 36
        }
      ]
    },
    {
      "cell_type": "code",
      "source": [
        "inmuebles.loc[inmuebles.Area==2]"
      ],
      "metadata": {
        "colab": {
          "base_uri": "https://localhost:8080/",
          "height": 81
        },
        "id": "QcNUDo1IfeFG",
        "outputId": "849806d7-1383-468a-a7c9-03c1f876d761"
      },
      "execution_count": 37,
      "outputs": [
        {
          "output_type": "execute_result",
          "data": {
            "text/plain": [
              "             Tipo                            Descripcion  Habitaciones  Banos  \\\n",
              "8401  Apartamento  Apartamento en venta en San Cristobal             3      1   \n",
              "\n",
              "      Area         Barrio      UPZ          Valor Moneda     Precio  \\\n",
              "8401     2  San Cristobal  Sosiego  $ 180.000.000      $  180000000   \n",
              "\n",
              "      Precio_Millon  \n",
              "8401         180.00  "
            ],
            "text/html": [
              "\n",
              "  <div id=\"df-50e7ac22-99e5-438e-ac5f-f40734e3c0d5\">\n",
              "    <div class=\"colab-df-container\">\n",
              "      <div>\n",
              "<style scoped>\n",
              "    .dataframe tbody tr th:only-of-type {\n",
              "        vertical-align: middle;\n",
              "    }\n",
              "\n",
              "    .dataframe tbody tr th {\n",
              "        vertical-align: top;\n",
              "    }\n",
              "\n",
              "    .dataframe thead th {\n",
              "        text-align: right;\n",
              "    }\n",
              "</style>\n",
              "<table border=\"1\" class=\"dataframe\">\n",
              "  <thead>\n",
              "    <tr style=\"text-align: right;\">\n",
              "      <th></th>\n",
              "      <th>Tipo</th>\n",
              "      <th>Descripcion</th>\n",
              "      <th>Habitaciones</th>\n",
              "      <th>Banos</th>\n",
              "      <th>Area</th>\n",
              "      <th>Barrio</th>\n",
              "      <th>UPZ</th>\n",
              "      <th>Valor</th>\n",
              "      <th>Moneda</th>\n",
              "      <th>Precio</th>\n",
              "      <th>Precio_Millon</th>\n",
              "    </tr>\n",
              "  </thead>\n",
              "  <tbody>\n",
              "    <tr>\n",
              "      <th>8401</th>\n",
              "      <td>Apartamento</td>\n",
              "      <td>Apartamento en venta en San Cristobal</td>\n",
              "      <td>3</td>\n",
              "      <td>1</td>\n",
              "      <td>2</td>\n",
              "      <td>San Cristobal</td>\n",
              "      <td>Sosiego</td>\n",
              "      <td>$ 180.000.000</td>\n",
              "      <td>$</td>\n",
              "      <td>180000000</td>\n",
              "      <td>180.00</td>\n",
              "    </tr>\n",
              "  </tbody>\n",
              "</table>\n",
              "</div>\n",
              "      <button class=\"colab-df-convert\" onclick=\"convertToInteractive('df-50e7ac22-99e5-438e-ac5f-f40734e3c0d5')\"\n",
              "              title=\"Convert this dataframe to an interactive table.\"\n",
              "              style=\"display:none;\">\n",
              "        \n",
              "  <svg xmlns=\"http://www.w3.org/2000/svg\" height=\"24px\"viewBox=\"0 0 24 24\"\n",
              "       width=\"24px\">\n",
              "    <path d=\"M0 0h24v24H0V0z\" fill=\"none\"/>\n",
              "    <path d=\"M18.56 5.44l.94 2.06.94-2.06 2.06-.94-2.06-.94-.94-2.06-.94 2.06-2.06.94zm-11 1L8.5 8.5l.94-2.06 2.06-.94-2.06-.94L8.5 2.5l-.94 2.06-2.06.94zm10 10l.94 2.06.94-2.06 2.06-.94-2.06-.94-.94-2.06-.94 2.06-2.06.94z\"/><path d=\"M17.41 7.96l-1.37-1.37c-.4-.4-.92-.59-1.43-.59-.52 0-1.04.2-1.43.59L10.3 9.45l-7.72 7.72c-.78.78-.78 2.05 0 2.83L4 21.41c.39.39.9.59 1.41.59.51 0 1.02-.2 1.41-.59l7.78-7.78 2.81-2.81c.8-.78.8-2.07 0-2.86zM5.41 20L4 18.59l7.72-7.72 1.47 1.35L5.41 20z\"/>\n",
              "  </svg>\n",
              "      </button>\n",
              "      \n",
              "  <style>\n",
              "    .colab-df-container {\n",
              "      display:flex;\n",
              "      flex-wrap:wrap;\n",
              "      gap: 12px;\n",
              "    }\n",
              "\n",
              "    .colab-df-convert {\n",
              "      background-color: #E8F0FE;\n",
              "      border: none;\n",
              "      border-radius: 50%;\n",
              "      cursor: pointer;\n",
              "      display: none;\n",
              "      fill: #1967D2;\n",
              "      height: 32px;\n",
              "      padding: 0 0 0 0;\n",
              "      width: 32px;\n",
              "    }\n",
              "\n",
              "    .colab-df-convert:hover {\n",
              "      background-color: #E2EBFA;\n",
              "      box-shadow: 0px 1px 2px rgba(60, 64, 67, 0.3), 0px 1px 3px 1px rgba(60, 64, 67, 0.15);\n",
              "      fill: #174EA6;\n",
              "    }\n",
              "\n",
              "    [theme=dark] .colab-df-convert {\n",
              "      background-color: #3B4455;\n",
              "      fill: #D2E3FC;\n",
              "    }\n",
              "\n",
              "    [theme=dark] .colab-df-convert:hover {\n",
              "      background-color: #434B5C;\n",
              "      box-shadow: 0px 1px 3px 1px rgba(0, 0, 0, 0.15);\n",
              "      filter: drop-shadow(0px 1px 2px rgba(0, 0, 0, 0.3));\n",
              "      fill: #FFFFFF;\n",
              "    }\n",
              "  </style>\n",
              "\n",
              "      <script>\n",
              "        const buttonEl =\n",
              "          document.querySelector('#df-50e7ac22-99e5-438e-ac5f-f40734e3c0d5 button.colab-df-convert');\n",
              "        buttonEl.style.display =\n",
              "          google.colab.kernel.accessAllowed ? 'block' : 'none';\n",
              "\n",
              "        async function convertToInteractive(key) {\n",
              "          const element = document.querySelector('#df-50e7ac22-99e5-438e-ac5f-f40734e3c0d5');\n",
              "          const dataTable =\n",
              "            await google.colab.kernel.invokeFunction('convertToInteractive',\n",
              "                                                     [key], {});\n",
              "          if (!dataTable) return;\n",
              "\n",
              "          const docLinkHtml = 'Like what you see? Visit the ' +\n",
              "            '<a target=\"_blank\" href=https://colab.research.google.com/notebooks/data_table.ipynb>data table notebook</a>'\n",
              "            + ' to learn more about interactive tables.';\n",
              "          element.innerHTML = '';\n",
              "          dataTable['output_type'] = 'display_data';\n",
              "          await google.colab.output.renderOutput(dataTable, element);\n",
              "          const docLink = document.createElement('div');\n",
              "          docLink.innerHTML = docLinkHtml;\n",
              "          element.appendChild(docLink);\n",
              "        }\n",
              "      </script>\n",
              "    </div>\n",
              "  </div>\n",
              "  "
            ]
          },
          "metadata": {},
          "execution_count": 37
        }
      ]
    },
    {
      "cell_type": "code",
      "source": [
        "inmuebles['Precio_Millon'].plot.hist(bins = 100)"
      ],
      "metadata": {
        "colab": {
          "base_uri": "https://localhost:8080/",
          "height": 447
        },
        "id": "D-2PbkesgGHt",
        "outputId": "c8feed9f-b393-43da-e476-66d6028cee75"
      },
      "execution_count": 41,
      "outputs": [
        {
          "output_type": "execute_result",
          "data": {
            "text/plain": [
              "<Axes: ylabel='Frequency'>"
            ]
          },
          "metadata": {},
          "execution_count": 41
        },
        {
          "output_type": "display_data",
          "data": {
            "text/plain": [
              "<Figure size 640x480 with 1 Axes>"
            ],
            "image/png": "[encoded data removed]"
          },
          "metadata": {}
        }
      ]
    },
    {
      "cell_type": "code",
      "source": [
        "inmuebles['Precio_Millon']"
      ],
      "metadata": {
        "colab": {
          "base_uri": "https://localhost:8080/"
        },
        "id": "lCIlyTVy98C3",
        "outputId": "f34abbd1-4be1-482e-e641-5ea5cb02dfbd"
      },
      "execution_count": 42,
      "outputs": [
        {
          "output_type": "execute_result",
          "data": {
            "text/plain": [
              "0       360.00\n",
              "1       670.00\n",
              "2      1120.00\n",
              "3       890.00\n",
              "4       970.00\n",
              "         ...  \n",
              "9515    290.00\n",
              "9516    670.00\n",
              "9517    900.00\n",
              "9518    335.00\n",
              "9519    144.99\n",
              "Name: Precio_Millon, Length: 9520, dtype: float64"
            ]
          },
          "metadata": {},
          "execution_count": 42
        }
      ]
    },
    {
      "cell_type": "code",
      "source": [
        "import plotly.express as px\n",
        "fig = px.histogram(inmuebles['Barrio'])\n",
        "fig.show()"
      ],
      "metadata": {
        "colab": {
          "base_uri": "https://localhost:8080/",
          "height": 542
        },
        "id": "0TL9VmLj846a",
        "outputId": "04f1cac3-302f-4a54-ace6-a328ad31b716"
      },
      "execution_count": 49,
      "outputs": [
        {
          "output_type": "display_data",
          "data": {
            "text/html": [
              "<html>\n",
              "<head><meta charset=\"utf-8\" /></head>\n",
              "<body>\n",
              "    <div>            <script src=\"https://cdnjs.cloudflare.com/ajax/libs/mathjax/2.7.5/MathJax.js?config=TeX-AMS-MML_SVG\"></script><script type=\"text/javascript\">if (window.MathJax && window.MathJax.Hub && window.MathJax.Hub.Config) {window.MathJax.Hub.Config({SVG: {font: \"STIX-Web\"}});}</script>                <script type=\"text/javascript\">window.PlotlyConfig = {MathJaxConfig: 'local'};</script>\n",
              "        <script src=\"https://cdn.plot.ly/plotly-2.18.2.min.js\"></script>                <div id=\"8c17059b-35ca-43c3-995e-e3b04a7c2aad\" class=\"plotly-graph-div\" style=\"height:525px; width:100%;\"></div>            <script type=\"text/javascript\">                                    window.PLOTLYENV=window.PLOTLYENV || {};                                    if (document.getElementById(\"8c17059b-35ca-43c3-995e-e3b04a7c2aad\")) {                    Plotly.newPlot(                        \"8c17059b-35ca-43c3-995e-e3b04a7c2aad\",                        [{\"alignmentgroup\":\"True\",\"bingroup\":\"x\",\"hovertemplate\":\"variable=Barrio<br>value=%{x}<br>count=%{y}<extra></extra>\",\"legendgroup\":\"Barrio\",\"marker\":{\"color\":\"#636efa\",\"pattern\":{\"shape\":\"\"}},\"name\":\"Barrio\",\"offsetgroup\":\"Barrio\",\"orientation\":\"v\",\"showlegend\":true,\"x\":[\"Zona Noroccidental\",\"Castilla\",\"Chico Reservado\",\"Usaqu\\u00e9n\",\"Bella Suiza\",\"Bella Suiza\",\"Bella Suiza\",\"Bella Suiza\",\"El Chic\\u00f3\",\"Bella Suiza\",\"Bella Suiza\",\"Tintala\",\"Tintala\",\"Marly\",\"Kennedy\",\"Zona Noroccidental\",\"Nicolas De Federman\",\"La Calleja\",\"Zona Noroccidental\",\"Zona Noroccidental\",\"Usaqu\\u00e9n\",\"Nicolas De Federman\",\"Zona Noroccidental\",\"Zona Noroccidental\",\"Zona Noroccidental\",\"Mazuren\",\"Zona Noroccidental\",\"Suba\",\"Zona Noroccidental\",\"Barrios Unidos\",\"Usaqu\\u00e9n\",\"Zona Noroccidental\",\"Engativa\",\"Fontib\\u00f3n\",\"Tintala\",\"Zona Noroccidental\",\"Villa Alsacia\",\"Zona Noroccidental\",\"Palermo\",\"Chico Reservado\",\"Zona Noroccidental\",\"La Candelaria\",\"Zona Noroccidental\",\"El Contador\",\"El Bat\\u00e1n\",\"Usaqu\\u00e9n\",\"Santa Barbara\",\"Mirandela \",\"Zona Noroccidental\",\"Castilla\",\"Cedritos\",\"Mazuren\",\"Zona Noroccidental\",\"Fontib\\u00f3n\",\"El Contador\",\"Kennedy\",\"Usaqu\\u00e9n\",\"Colina Campestre\",\"Zona Noroccidental\",\"Colina Campestre\",\"Fontib\\u00f3n\",\"Usaqu\\u00e9n\",\"Hayuelos\",\"Zona Noroccidental\",\"Engativa\",\"Fontib\\u00f3n\",\"Villa Alsacia\",\"Zona Noroccidental\",\"Zona Noroccidental\",\"Tintala\",\"Palermo\",\"El Bat\\u00e1n\",\"Chico Reservado\",\"Usaqu\\u00e9n\",\"Castilla\",\"Santa Barbara\",\"Mirandela \",\"Zona Noroccidental\",\"Cedritos\",\"Zona Noroccidental\",\"Fontib\\u00f3n\",\"Mazuren\",\"Zona Noroccidental\",\"Kennedy\",\"El Contador\",\"Usaqu\\u00e9n\",\"Zona Noroccidental\",\"La Candelaria\",\"El Contador\",\"Zona Noroccidental\",\"Zona Noroccidental\",\"Engativa\",\"Zona Noroccidental\",\"Usaqu\\u00e9n\",\"Kennedy\",\"Kennedy\",\"Fontib\\u00f3n\",\"Zona Noroccidental\",\"Kennedy\",\"Santa Barbara\",\"Zona Noroccidental\",\"Ciudad Salitre\",\"Quinta Paredes\",\"Hayuelos\",\"Usaqu\\u00e9n\",\"Usaqu\\u00e9n\",\"Cedritos\",\"Ciudad Salitre\",\"Santa Barbara\",\"Zona Noroccidental\",\"Cedritos\",\"Usaqu\\u00e9n\",\"Candelaria La Nueva\",\"Kennedy\",\"Kennedy\",\"Zona Noroccidental\",\"Zona Noroccidental\",\"Santa Barbara\",\"Bella Suiza\",\"Engativa\",\"Colina Campestre\",\"Chico Norte\",\"Mazuren\",\"Usaqu\\u00e9n\",\"Normandia\",\"Bella Suiza\",\"Chico Reservado\",\"Ciudad Bol\\u00edvar\",\"Cedritos\",\"Engativa\",\"Bosa\",\"Rafael Uribe Uribe\",\"Zona Noroccidental\",\"Cedritos\",\"Cedritos\",\"Bella Suiza\",\"Zona Noroccidental\",\"Usaqu\\u00e9n\",\"Usaqu\\u00e9n\",\"Fontib\\u00f3n\",\"Santa Barbara\",\"Las Villas\",\"Cedritos\",\"Chico Reservado\",\"Cedritos\",\"Modelia\",\"Usaqu\\u00e9n\",\"San Patricio\",\"Barrancas\",\"Cedritos\",\"Zona Noroccidental\",\"Cedritos\",\"Usaqu\\u00e9n\",\"Cedritos\",\"Cedritos\",\"Cedritos\",\"Zona Noroccidental\",\"Cedritos\",\"Tintala\",\"Teusaquillo\",\"Barrancas\",\"Ciudad Bol\\u00edvar\",\"Usaqu\\u00e9n\",\"Chico Reservado\",\"Engativa\",\"Ciudad Salitre\",\"Quinta Paredes\",\"Hayuelos\",\"Usaqu\\u00e9n\",\"Usaqu\\u00e9n\",\"Cedritos\",\"Zona Noroccidental\",\"Cedritos\",\"Santa Barbara\",\"Ciudad Salitre\",\"Kennedy\",\"Usaqu\\u00e9n\",\"Candelaria La Nueva\",\"Zona Noroccidental\",\"Kennedy\",\"Usaqu\\u00e9n\",\"Puente Aranda\",\"Usaqu\\u00e9n\",\"Cedritos\",\"La Calleja\",\"La Calleja\",\"Zona Noroccidental\",\"Cedritos\",\"Cedritos\",\"Bella Suiza\",\"Chapinero\",\"Zona Noroccidental\",\"Usaqu\\u00e9n\",\"Santa Barbara\",\"Zona Noroccidental\",\"Zona Noroccidental\",\"Zona Noroccidental\",\"Cedritos\",\"El Contador\",\"Bella Suiza\",\"El Contador\",\"Cedritos\",\"Rafael Uribe Uribe\",\"Zona Noroccidental\",\"Zona Noroccidental\",\"Bella Suiza\",\"Santa Barbara\",\"Engativa\",\"Bella Suiza\",\"Santa Barbara\",\"Usaqu\\u00e9n\",\"Zona Noroccidental\",\"Colina Campestre\",\"Chapinero\",\"Chapinero\",\"Cedritos\",\"Usme\",\"Ciudad Salitre\",\"Kennedy\",\"Zona Noroccidental\",\"Usme\",\"Engativa\",\"Usme\",\"Usaqu\\u00e9n\",\"Zona Noroccidental\",\"El Contador\",\"Nueva Zelandia\",\"Usaqu\\u00e9n\",\"Usme\",\"Cedritos\",\"Cedritos\",\"La Calleja\",\"Cedritos\",\"Zona Noroccidental\",\"Cedritos\",\"Madelena\",\"Zona Noroccidental\",\"El Plan\",\"Suba\",\"Kennedy\",\"Cedritos\",\"San Patricio\",\"Usaqu\\u00e9n\",\"Santa Barbara\",\"Usaqu\\u00e9n\",\"Villa Alsacia\",\"Hayuelos\",\"Kennedy\",\"Tintala\",\"Tintala\",\"Nueva Zelandia\",\"Santa Paula\",\"Zona Noroccidental\",\"Usaqu\\u00e9n\",\"Cedritos\",\"Villemar\",\"Santa Fe\",\"Kennedy\",\"Tintala\",\"Kennedy\",\"Santa Fe\",\"Tintala\",\"Kennedy\",\"Zona Noroccidental\",\"Mazuren\",\"Bella Suiza\",\"El Contador\",\"Antonio Nari\\u00f1o\",\"El Bat\\u00e1n\",\"Usaqu\\u00e9n\",\"Zona Noroccidental\",\"El Bat\\u00e1n\",\"Usaqu\\u00e9n\",\"Bella Suiza\",\"Tintala\",\"Zona Noroccidental\",\"Mazuren\",\"Usaqu\\u00e9n\",\"Usaqu\\u00e9n\",\"La Uribe\",\"Usaqu\\u00e9n\",\"Santa Barbara\",\"Usaqu\\u00e9n\",\"Zona Noroccidental\",\"Santa Fe\",\"Rafael Uribe Uribe\",\"La Uribe\",\"Usaqu\\u00e9n\",\"Engativa\",\"Santa Barbara\",\"El Contador\",\"Bosa\",\"Kennedy\",\"Usaqu\\u00e9n\",\"La Uribe\",\"Cedritos\",\"Kennedy\",\"Usaqu\\u00e9n\",\"Fontib\\u00f3n\",\"Chico Norte\",\"Kennedy\",\"Chico Norte\",\"Kennedy\",\"Kennedy\",\"Cedritos\",\"Cedritos\",\"Bosa\",\"Chico Reservado\",\"Chico Reservado\",\"Cedritos\",\"Cedritos\",\"Cedritos\",\"Cedritos\",\"Santa Barbara\",\"Ciudad Salitre\",\"Cedritos\",\"Cedritos\",\"Las Villas\",\"Los Rosales\",\"Zona Noroccidental\",\"Bella Suiza\",\"Bella Suiza\",\"Bella Suiza\",\"Kennedy\",\"Tintala\",\"Cedritos\",\"Tintala\",\"Cedritos\",\"Santa Barbara\",\"Mazuren\",\"Chapinero\",\"Bella Suiza\",\"Ciudad Salitre\",\"Kennedy\",\"Engativa\",\"La Calleja\",\"Cedritos\",\"Ciudad Salitre\",\"Fontib\\u00f3n\",\"El Bat\\u00e1n\",\"Bosa\",\"Chapinero Central\",\"El Bat\\u00e1n\",\"La Uribe\",\"Usaqu\\u00e9n\",\"La Calleja\",\"Zona Noroccidental\",\"Santa Barbara\",\"Los Rosales\",\"Fontib\\u00f3n\",\"Engativa\",\"Engativa\",\"El Chic\\u00f3\",\"Engativa\",\"Chapinero\",\"Hayuelos\",\"Zona Noroccidental\",\"Puente Aranda\",\"Santa Barbara\",\"Cedritos\",\"Santa Barbara\",\"Teusaquillo\",\"Zona Noroccidental\",\"Zona Noroccidental\",\"Kennedy\",\"Los M\\u00e1rtires\",\"Bosa\",\"Tintala\",\"Bogot\\u00e1 D.C\",\"Kennedy\",\"Mazuren\",\"Bosa\",\"Cedritos\",\"Fontib\\u00f3n\",\"Bosa\",\"Castilla\",\"Antonio Nari\\u00f1o\",\"Tintala\",\"Santa Fe\",\"Bosa\",\"Kennedy\",\"Kennedy\",\"Teusaquillo\",\"Teusaquillo\",\"Tintala\",\"Marly\",\"Santa Barbara\",\"Santa Barbara\",\"Chapinero\",\"Normandia\",\"El Bat\\u00e1n\",\"Kennedy\",\"Usaqu\\u00e9n\",\"Cedritos\",\"Tintala\",\"Nicolas De Federman\",\"Santa Barbara\",\"El Bat\\u00e1n\",\"Cedritos\",\"Chapinero\",\"Zona Noroccidental\",\"Puente Aranda\",\"Hayuelos\",\"Teusaquillo\",\"Zona Noroccidental\",\"Cedritos\",\"Usaqu\\u00e9n\",\"Zona Noroccidental\",\"Teusaquillo\",\"El Plan\",\"Bosa\",\"Engativa\",\"Teusaquillo\",\"San Cristobal\",\"Nicolas De Federman\",\"Bogot\\u00e1 D.C\",\"Castilla\",\"Engativa\",\"Cedritos\",\"Santa Barbara\",\"Marly\",\"Usaqu\\u00e9n\",\"Cedritos\",\"Boyaca \",\"Zona Noroccidental\",\"Usaqu\\u00e9n\",\"Teusaquillo\",\"Engativa\",\"Kennedy\",\"Santa Fe\",\"Bosa\",\"Timiza\",\"Chapinero\",\"Bosa\",\"Kennedy\",\"Kennedy\",\"Kennedy\",\"Kennedy\",\"Kennedy\",\"Kennedy\",\"Kennedy\",\"Teusaquillo\",\"Ciudad Salitre\",\"Kennedy\",\"Bosa\",\"Kennedy\",\"Bogot\\u00e1 D.C\",\"Bogot\\u00e1 D.C\",\"Gran America\",\"Barrios Unidos\",\"Bella Suiza\",\"Santa Barbara\",\"Cedritos\",\"Zona Noroccidental\",\"Santa Barbara\",\"Chico Norte\",\"Bosa\",\"Bosa\",\"Kennedy\",\"Bosa\",\"San Cristobal\",\"Antonio Nari\\u00f1o\",\"Bosa\",\"Bosa\",\"Costa Azul\",\"Fontib\\u00f3n\",\"Bosa\",\"Cedritos\",\"Gran Granada\",\"Villa Alsacia\",\"Bosa\",\"Usme\",\"Cedritos\",\"San Patricio\",\"Santa Barbara\",\"Engativa\",\"Usaqu\\u00e9n\",\"El Bat\\u00e1n\",\"Engativa\",\"Engativa\",\"Cedritos\",\"Gran Granada\",\"Cedritos\",\"Usaqu\\u00e9n\",\"Usaqu\\u00e9n\",\"Teusaquillo\",\"Engativa\",\"Bogot\\u00e1 D.C\",\"Bogot\\u00e1 D.C\",\"Usaqu\\u00e9n\",\"Usaqu\\u00e9n\",\"Usaqu\\u00e9n\",\"Kennedy\",\"La Calleja\",\"Cedritos\",\"Fontib\\u00f3n\",\"Fontib\\u00f3n\",\"Chico Reservado\",\"Zona Noroccidental\",\"Engativa\",\"Fontib\\u00f3n\",\"Fontib\\u00f3n\",\"Usaqu\\u00e9n\",\"San Patricio\",\"Usaqu\\u00e9n\",\"Tintala\",\"Zona Noroccidental\",\"Usaqu\\u00e9n\",\"Engativa\",\"Kennedy\",\"Kennedy\",\"Santa Barbara\",\"Gran America\",\"Usaqu\\u00e9n\",\"Rafael Uribe Uribe\",\"Engativa\",\"Kennedy\",\"Fontib\\u00f3n\",\"Kennedy\",\"Usaqu\\u00e9n\",\"Bella Suiza\",\"Cedritos\",\"Puente Aranda\",\"Bella Suiza\",\"Usaqu\\u00e9n\",\"Barrios Unidos\",\"San Cristobal\",\"Bosa\",\"Bosa\",\"Usaqu\\u00e9n\",\"Bosa\",\"Bosa\",\"La Salle\",\"Usaqu\\u00e9n\",\"El Contador\",\"Chico Reservado\",\"Engativa\",\"Kennedy\",\"Usaqu\\u00e9n\",\"Zona Noroccidental\",\"Engativa\",\"Portales Del Norte\",\"Chapinero\",\"Villemar\",\"Teusaquillo\",\"Usaqu\\u00e9n\",\"Engativa\",\"Chico Reservado\",\"Villa Alsacia\",\"Engativa\",\"Kennedy\",\"Zona Noroccidental\",\"Marly\",\"Santa Barbara\",\"El Contador\",\"Zona Noroccidental\",\"Zona Noroccidental\",\"Zona Noroccidental\",\"Fontib\\u00f3n\",\"Antonio Nari\\u00f1o\",\"Usaqu\\u00e9n\",\"Bosa\",\"Engativa\",\"Santa Fe\",\"Colina Campestre\",\"Engativa\",\"Zona Noroccidental\",\"Usaqu\\u00e9n\",\"Bella Suiza\",\"Portales Del Norte\",\"Bosa\",\"Santa Barbara\",\"Portales Del Norte\",\"Portales Del Norte\",\"Colina Campestre\",\"Usaqu\\u00e9n\",\"Engativa\",\"Bosa\",\"Zona Noroccidental\",\"El Bat\\u00e1n\",\"San Patricio\",\"Cantagallo\",\"Engativa\",\"Zona Noroccidental\",\"Cedritos\",\"Engativa\",\"Santa Barbara\",\"Ciudad Berna\",\"Zona Noroccidental\",\"La Calleja\",\"Tintala\",\"Usaqu\\u00e9n\",\"Usaqu\\u00e9n\",\"Zona Noroccidental\",\"Zona Noroccidental\",\"Usaqu\\u00e9n\",\"Zona Noroccidental\",\"Bosa\",\"Ciudad Bol\\u00edvar\",\"Cantagallo\",\"Zona Noroccidental\",\"Zona Noroccidental\",\"Usaqu\\u00e9n\",\"Usaqu\\u00e9n\",\"Zona Noroccidental\",\"El Plan\",\"Suba\",\"Teusaquillo\",\"Fontib\\u00f3n\",\"Santa Barbara\",\"Marly\",\"Bosa\",\"Bosa\",\"Bosa\",\"Bosa\",\"Bosa\",\"Engativa\",\"Cedritos\",\"Bosa\",\"Bosa\",\"Bosa\",\"Bosa\",\"Usaqu\\u00e9n\",\"Zona Noroccidental\",\"Cantagallo\",\"Chapinero\",\"El Plan\",\"Barrios Unidos\",\"La Uribe\",\"Engativa\",\"Usaqu\\u00e9n\",\"Usaqu\\u00e9n\",\"Usaqu\\u00e9n\",\"Usaqu\\u00e9n\",\"Usaqu\\u00e9n\",\"Fontib\\u00f3n\",\"El Plan\",\"Fontib\\u00f3n\",\"Kennedy\",\"Kennedy\",\"Zona Noroccidental\",\"Cedritos\",\"Villas De Granada\",\"Engativa\",\"Portales Del Norte\",\"Ciudad Bol\\u00edvar\",\"Kennedy\",\"Santa Barbara\",\"Ciudad Salitre\",\"Usaqu\\u00e9n\",\"Zona Noroccidental\",\"Zona Noroccidental\",\"Nicolas De Federman\",\"Engativa\",\"Villas De Granada\",\"Cedritos\",\"Usaqu\\u00e9n\",\"Chapinero\",\"Santa Teresa\",\"Mazuren\",\"Santa Fe\",\"Antonio Nari\\u00f1o\",\"Santa Barbara\",\"El Contador\",\"Zona Noroccidental\",\"Engativa\",\"Usaqu\\u00e9n\",\"El Bat\\u00e1n\",\"San Patricio\",\"Zona Noroccidental\",\"Bosa\",\"Santa Barbara\",\"Portales Del Norte\",\"Portales Del Norte\",\"Zona Noroccidental\",\"Usaqu\\u00e9n\",\"Cantagallo\",\"Engativa\",\"Engativa\",\"Engativa\",\"Engativa\",\"Usaqu\\u00e9n\",\"Bosa\",\"Colina Campestre\",\"Zona Noroccidental\",\"Tintala\",\"Cedritos\",\"Santa Barbara\",\"Bosa\",\"Zona Noroccidental\",\"Santa Barbara\",\"El Plan\",\"Usaqu\\u00e9n\",\"Kennedy\",\"El Chic\\u00f3\",\"Kennedy\",\"Engativa\",\"Santa Barbara\",\"Portales Del Norte\",\"Zona Noroccidental\",\"Kennedy\",\"Zona Noroccidental\",\"Usaqu\\u00e9n\",\"Cantagallo\",\"Zona Noroccidental\",\"Zona Noroccidental\",\"Zona Noroccidental\",\"Barrancas\",\"Palermo\",\"Ciudad Bol\\u00edvar\",\"Engativa\",\"Chapinero\",\"Santa Barbara\",\"Santa Barbara\",\"Usaqu\\u00e9n\",\"Eduardo Santos\",\"Kennedy\",\"Bosa\",\"Cedritos\",\"Cedritos\",\"Quinta Paredes\",\"Normandia\",\"Zona Noroccidental\",\"Ciudad Salitre\",\"Pasadena \",\"Teusaquillo\",\"San Patricio\",\"El Plan\",\"San Patricio\",\"Kennedy\",\"Kennedy\",\"Zona Noroccidental\",\"Antonio Nari\\u00f1o\",\"Cedritos\",\"Cedritos\",\"Suba\",\"Mazuren\",\"Florida Blanca\",\"Zona Noroccidental\",\"Zona Noroccidental\",\"Santa Barbara\",\"Metropolis\",\"Zona Noroccidental\",\"Puente Aranda\",\"Zona Noroccidental\",\"Zona Noroccidental\",\"Barrios Unidos\",\"Santa Teresa\",\"Rafael Uribe Uribe\",\"Fontib\\u00f3n\",\"Fontib\\u00f3n\",\"Kennedy\",\"Bosa\",\"Engativa\",\"Fontib\\u00f3n\",\"Fontib\\u00f3n\",\"Usaqu\\u00e9n\",\"Kennedy\",\"Chapinero\",\"Kennedy\",\"Puente Aranda\",\"Cedritos\",\"Castilla\",\"Usaqu\\u00e9n\",\"Galicia\",\"Zona Noroccidental\",\"Cedritos\",\"Zona Noroccidental\",\"Fontib\\u00f3n\",\"Cedritos\",\"Cedritos\",\"El Plan\",\"Nueva Zelandia\",\"Cedritos\",\"Usaqu\\u00e9n\",\"Chico Reservado\",\"Chapinero\",\"Usaqu\\u00e9n\",\"Engativa\",\"Usaqu\\u00e9n\",\"Usaqu\\u00e9n\",\"Engativa\",\"Chapinero Central\",\"Santa Barbara\",\"Kennedy\",\"Usaqu\\u00e9n\",\"Fontib\\u00f3n\",\"Usaqu\\u00e9n\",\"Zona Noroccidental\",\"Usaqu\\u00e9n\",\"Usaqu\\u00e9n\",\"Engativa\",\"Chapinero Central\",\"Kennedy\",\"Kennedy\",\"Teusaquillo\",\"Usme\",\"Chapinero Central\",\"Villa Maria\",\"Bosa\",\"Zona Noroccidental\",\"Kennedy\",\"Zona Noroccidental\",\"Mazuren\",\"Cantagallo\",\"El Plan\",\"Mazuren\",\"Bogot\\u00e1 D.C\",\"Cantagallo\",\"Usaqu\\u00e9n\",\"El Chic\\u00f3\",\"Zona Noroccidental\",\"Kennedy\",\"Kennedy\",\"Teusaquillo\",\"Zona Noroccidental\",\"Rafael Uribe Uribe\",\"Zona Noroccidental\",\"Engativa\",\"Barrancas\",\"Teusaquillo\",\"Engativa\",\"Kennedy\",\"Rafael Uribe Uribe\",\"Zona Noroccidental\",\"Cedritos\",\"Cedritos\",\"Zona Noroccidental\",\"Cedritos\",\"Usaqu\\u00e9n\",\"Engativa\",\"Teusaquillo\",\"Cantagallo\",\"Santa Barbara\",\"Puente Largo\",\"Engativa\",\"Engativa\",\"Engativa\",\"Kennedy\",\"Gran Granada\",\"Engativa\",\"La Salle\",\"Cedritos\",\"Teusaquillo\",\"Normandia\",\"Cedritos\",\"El Bat\\u00e1n\",\"Gran Granada\",\"Santa Barbara\",\"Engativa\",\"Rafael Uribe Uribe\",\"Cedritos\",\"Cedritos\",\"Cedritos\",\"Cedritos\",\"Cedritos\",\"Cedritos\",\"Cedritos\",\"Cedritos\",\"Usme\",\"Zona Noroccidental\",\"Bosa\",\"Bosa\",\"Cedritos\",\"Kennedy\",\"Mazuren\",\"Chapinero\",\"Chapinero\",\"Cedritos\",\"Santa Fe\",\"Zona Noroccidental\",\"Mazuren\",\"Ciudad Salitre\",\"Bosa\",\"Usaqu\\u00e9n\",\"Chico Reservado\",\"Kennedy\",\"Rafael Uribe Uribe\",\"Chico Norte\",\"Mirandela \",\"Zona Noroccidental\",\"Santa Paula\",\"Usaqu\\u00e9n\",\"Usaqu\\u00e9n\",\"Chico Reservado\",\"Bella Suiza\",\"Cedritos\",\"El Bat\\u00e1n\",\"Engativa\",\"Normandia\",\"Usaqu\\u00e9n\",\"Barrios Unidos\",\"Zona Noroccidental\",\"La Calleja\",\"Kennedy\",\"Barrios Unidos\",\"Portales Del Norte\",\"La Uribe\",\"Puente Aranda\",\"Chapinero\",\"Castilla\",\"Kennedy\",\"Chapinero\",\"Cedritos\",\"Usaqu\\u00e9n\",\"San Patricio\",\"Mazuren\",\"Santa Paula\",\"La Estancia\",\"San Patricio\",\"La Estancia\",\"San Patricio\",\"Zona Noroccidental\",\"Cedritos\",\"Usaqu\\u00e9n\",\"El Bat\\u00e1n\",\"Zona Noroccidental\",\"Cedritos\",\"Engativa\",\"Usaqu\\u00e9n\",\"Colina Campestre\",\"Cantagallo\",\"Sotavento\",\"Mazuren\",\"Kennedy\",\"Kennedy\",\"Tintala\",\"Santa Barbara\",\"La Calleja\",\"Cedritos\",\"Santa Barbara\",\"Nicolas De Federman\",\"Fontib\\u00f3n\",\"Cedritos\",\"Bella Suiza\",\"Cedritos\",\"El Bat\\u00e1n\",\"Fontib\\u00f3n\",\"Normandia\",\"Colina Campestre\",\"Usaqu\\u00e9n\",\"La Calleja\",\"Cantagallo\",\"Gran Granada\",\"Usaqu\\u00e9n\",\"Zona Noroccidental\",\"Usaqu\\u00e9n\",\"Zona Noroccidental\",\"Barrios Unidos\",\"San Patricio\",\"Teusaquillo\",\"Usaqu\\u00e9n\",\"Teusaquillo\",\"Engativa\",\"Bella Suiza\",\"Santa Barbara\",\"La Calleja\",\"Usaqu\\u00e9n\",\"Cedritos\",\"Bella Suiza\",\"Usme\",\"Bosque De Pinos\",\"Fontib\\u00f3n\",\"Usaqu\\u00e9n\",\"Zona Noroccidental\",\"Florencia\",\"San Patricio\",\"Kennedy\",\"Cedritos\",\"Tintala\",\"Teusaquillo\",\"Kennedy\",\"Tintala\",\"Kennedy\",\"Zona Noroccidental\",\"Zona Noroccidental\",\"Zona Noroccidental\",\"Zona Noroccidental\",\"Bella Suiza\",\"Normandia\",\"Bella Suiza\",\"Chapinero\",\"Tintala\",\"Kennedy\",\"El Bat\\u00e1n\",\"Chico Norte\",\"Santa Barbara\",\"Ciudad Bol\\u00edvar\",\"Usaqu\\u00e9n\",\"Kennedy\",\"Usaqu\\u00e9n\",\"Chico Norte\",\"El Bat\\u00e1n\",\"Chapinero\",\"Tintala\",\"Usaqu\\u00e9n\",\"Zona Noroccidental\",\"Kennedy\",\"Zona Noroccidental\",\"Zona Noroccidental\",\"El Bat\\u00e1n\",\"Usme\",\"San Patricio\",\"Suba\",\"Kennedy\",\"Zona Noroccidental\",\"Zona Noroccidental\",\"Santa Fe\",\"Santa Fe\",\"Portales Del Norte\",\"Teusaquillo\",\"Kennedy\",\"El Bat\\u00e1n\",\"Zona Noroccidental\",\"Zona Noroccidental\",\"Zona Noroccidental\",\"Kennedy\",\"Tintala\",\"Kennedy\",\"Zona Noroccidental\",\"Zona Noroccidental\",\"Zona Noroccidental\",\"Zona Noroccidental\",\"Bella Suiza\",\"Normandia\",\"Bella Suiza\",\"Chapinero\",\"Tintala\",\"Kennedy\",\"El Bat\\u00e1n\",\"Chico Norte\",\"Santa Barbara\",\"Usaqu\\u00e9n\",\"Zona Noroccidental\",\"Zona Noroccidental\",\"Usaqu\\u00e9n\",\"Usaqu\\u00e9n\",\"Zona Noroccidental\",\"Ciudad Bol\\u00edvar\",\"Usaqu\\u00e9n\",\"Zona Noroccidental\",\"El Bat\\u00e1n\",\"Usme\",\"Zona Noroccidental\",\"Usaqu\\u00e9n\",\"Zona Noroccidental\",\"Engativa\",\"Cedritos\",\"Usaqu\\u00e9n\",\"Cedritos\",\"Kennedy\",\"Fontib\\u00f3n\",\"Zona Noroccidental\",\"Puente Aranda\",\"Cedritos\",\"Cedritos\",\"La Candelaria\",\"Cantagallo\",\"Cedritos\",\"Usaqu\\u00e9n\",\"Cedritos\",\"Bochica\",\"Engativa\",\"Engativa\",\"Bosque De Pinos\",\"Santa Fe\",\"Tunjuelito\",\"Usaqu\\u00e9n\",\"Barrios Unidos\",\"Zona Noroccidental\",\"Nicolas De Federman\",\"Chico Reservado\",\"Usaqu\\u00e9n\",\"Cedritos\",\"Usaqu\\u00e9n\",\"Cedritos\",\"Chapinero\",\"El Salitre\",\"Chapinero\",\"La Calleja\",\"Usaqu\\u00e9n\",\"Usaqu\\u00e9n\",\"La Granja\",\"Engativa\",\"La Soledad \",\"Usaqu\\u00e9n\",\"Usaqu\\u00e9n\",\"Zona Noroccidental\",\"Santa Barbara\",\"Fontib\\u00f3n\",\"El Chic\\u00f3\",\"Usaqu\\u00e9n\",\"Zona Noroccidental\",\"Chico Reservado\",\"Usaqu\\u00e9n\",\"Mazuren\",\"Cedritos\",\"Usaqu\\u00e9n\",\"Bella Suiza\",\"Kennedy\",\"Teusaquillo\",\"San Patricio\",\"Bella Suiza\",\"Santa Ana\",\"Boyaca \",\"Nicolas De Federman\",\"Santa Barbara\",\"Bosa\",\"Cedritos\",\"Chapinero\",\"Fontib\\u00f3n\",\"Kennedy\",\"El Chic\\u00f3\",\"Capellania\",\"Zona Noroccidental\",\"Zona Noroccidental\",\"Cedritos\",\"Usaqu\\u00e9n\",\"Kennedy\",\"Zona Noroccidental\",\"San Patricio\",\"La Calleja\",\"Cedritos\",\"Las Villas\",\"Usaqu\\u00e9n\",\"Usaqu\\u00e9n\",\"Teusaquillo\",\"Cedritos\",\"Teusaquillo\",\"Villas De Granada\",\"Portales Del Norte\",\"Mazuren\",\"El Plan\",\"Suba\",\"Zona Noroccidental\",\"Mazuren\",\"Portales Del Norte\",\"Teusaquillo\",\"San Cristobal\",\"Chico Reservado\",\"Los Rosales\",\"Teusaquillo\",\"Cedritos\",\"Zona Noroccidental\",\"Usaqu\\u00e9n\",\"Mazuren\",\"Mazuren\",\"Usaqu\\u00e9n\",\"Cantagallo\",\"Zona Noroccidental\",\"El Plan\",\"Teusaquillo\",\"Zona Noroccidental\",\"Barrios Unidos\",\"Usaqu\\u00e9n\",\"Kennedy\",\"Fontib\\u00f3n\",\"Bellavista Occidental\",\"Fontib\\u00f3n\",\"Fontib\\u00f3n\",\"Cedritos\",\"Suba\",\"Usaqu\\u00e9n\",\"Cedritos\",\"Puente Aranda\",\"Puente Aranda\",\"Teusaquillo\",\"Ciudad Bol\\u00edvar\",\"Teusaquillo\",\"Ciudad Salitre\",\"Suba\",\"San Patricio\",\"Usaqu\\u00e9n\",\"Antonio Nari\\u00f1o\",\"Teusaquillo\",\"Chapinero\",\"El Chic\\u00f3\",\"Barrios Unidos\",\"Fontib\\u00f3n\",\"Santa Barbara\",\"Zona Noroccidental\",\"Chapinero\",\"Chico Reservado\",\"Tunjuelito\",\"Usme\",\"Nueva Zelandia\",\"Alhambra\",\"Usme\",\"Chapinero\",\"Santa Teresa\",\"La Calleja\",\"Ciudad Salitre\",\"Santa Fe\",\"Chico Reservado\",\"Kennedy\",\"Kennedy\",\"Kennedy\",\"Kennedy\",\"Los Rosales\",\"San Cristobal\",\"Chico Norte\",\"Zona Noroccidental\",\"Usaqu\\u00e9n\",\"Usaqu\\u00e9n\",\"Chapinero\",\"Barrios Unidos\",\"Kennedy\",\"Engativa\",\"Tintala\",\"Kennedy\",\"Santa Fe\",\"Puente Aranda\",\"Santa Fe\",\"Kennedy\",\"Antonio Nari\\u00f1o\",\"Puente Aranda\",\"Zona Noroccidental\",\"Zona Noroccidental\",\"Suba\",\"Chapinero\",\"Usaqu\\u00e9n\",\"Zona Noroccidental\",\"Kennedy\",\"Kennedy\",\"Kennedy\",\"Los Rosales\",\"San Cristobal\",\"Chico Norte\",\"Zona Noroccidental\",\"Usaqu\\u00e9n\",\"Usaqu\\u00e9n\",\"Chapinero\",\"Barrios Unidos\",\"Kennedy\",\"Engativa\",\"Zona Noroccidental\",\"Capellania\",\"Zona Noroccidental\",\"Fontib\\u00f3n\",\"Kennedy\",\"Ciudad Bol\\u00edvar\",\"Kennedy\",\"Teusaquillo\",\"Zona Noroccidental\",\"Fontib\\u00f3n\",\"Tintala\",\"Ciudad Bol\\u00edvar\",\"Fontib\\u00f3n\",\"Bosa\",\"Fontib\\u00f3n\",\"Fontib\\u00f3n\",\"Santa Barbara\",\"Ciudad Bol\\u00edvar\",\"Teusaquillo\",\"Kennedy\",\"Zona Noroccidental\",\"Chapinero\",\"Santa Barbara\",\"Cedritos\",\"El Chic\\u00f3\",\"Usaqu\\u00e9n\",\"Chapinero Central\",\"Villemar\",\"Zona Noroccidental\",\"Veraguas\",\"El Retiro\",\"Chico Reservado\",\"El Chic\\u00f3\",\"El Refugio\",\"La Calleja\",\"Normandia\",\"Engativa\",\"Teusaquillo\",\"Usaqu\\u00e9n\",\"Mazuren\",\"Barrios Unidos\",\"Usaqu\\u00e9n\",\"Engativa\",\"Usaqu\\u00e9n\",\"Zona Noroccidental\",\"Cedritos\",\"Bosa\",\"Usaqu\\u00e9n\",\"Modelia\",\"Engativa\",\"Santa Fe\",\"Tintala\",\"Boyaca \",\"Gran America\",\"Usaqu\\u00e9n\",\"Usaqu\\u00e9n\",\"Nicolas De Federman\",\"Usaqu\\u00e9n\",\"Chico Reservado\",\"Chapinero\",\"Modelia\",\"Cedritos\",\"Chapinero\",\"San Cristobal\",\"Usaqu\\u00e9n\",\"Santa Barbara\",\"Chapinero\",\"Gran Granada\",\"Gran Granada\",\"Gran Granada\",\"Chapinero\",\"La Calleja\",\"Engativa\",\"Engativa\",\"Usaqu\\u00e9n\",\"Usaqu\\u00e9n\",\"Kennedy\",\"Kennedy\",\"Kennedy\",\"Engativa\",\"Kennedy\",\"Usaqu\\u00e9n\",\"Pontevedra \",\"Suba\",\"Chapinero\",\"Cedritos\",\"Usaqu\\u00e9n\",\"Kennedy\",\"Colina Campestre\",\"Chico Norte\",\"Costa Azul\",\"Zona Noroccidental\",\"Santa Barbara\",\"Chapinero\",\"Lagos De Cordoba\",\"Santa Barbara\",\"Zona Noroccidental\",\"Usaqu\\u00e9n\",\"Usaqu\\u00e9n\",\"El Bat\\u00e1n\",\"Zona Noroccidental\",\"Parque Central Bavaria\",\"Kennedy\",\"Los M\\u00e1rtires\",\"Suba\",\"Cedritos\",\"Fontib\\u00f3n\",\"Bosa\",\"Suba\",\"Zona Noroccidental\",\"El Chic\\u00f3\",\"Cedritos\",\"Bosa\",\"Santa Barbara\",\"Usme\",\"Bella Suiza\",\"Puente Largo\",\"La Candelaria\",\"Cedritos\",\"La Calleja\",\"Engativa\",\"Zona Noroccidental\",\"Zona Noroccidental\",\"Usaqu\\u00e9n\",\"Usaqu\\u00e9n\",\"Zona Noroccidental\",\"Santa Barbara\",\"Usaqu\\u00e9n\",\"Modelia\",\"Chico Reservado\",\"Bosa\",\"Bosa\",\"San Patricio\",\"San Patricio\",\"Suba\",\"Usaqu\\u00e9n\",\"Barrios Unidos\",\"San Patricio\",\"Fontib\\u00f3n\",\"Zona Noroccidental\",\"Zona Noroccidental\",\"Usaqu\\u00e9n\",\"Mazuren\",\"Usaqu\\u00e9n\",\"Zona Noroccidental\",\"El Plan\",\"Cedritos\",\"Santa Fe\",\"Kennedy\",\"Engativa\",\"Teusaquillo\",\"San Luis\",\"Mazuren\",\"Cedritos\",\"Usaqu\\u00e9n\",\"Zona Noroccidental\",\"La Calleja\",\"Teusaquillo\",\"Cedritos\",\"Usaqu\\u00e9n\",\"Cedritos\",\"Mazuren\",\"Usaqu\\u00e9n\",\"El Bat\\u00e1n\",\"Chapinero\",\"Cedritos\",\"San Patricio\",\"Usaqu\\u00e9n\",\"Usaqu\\u00e9n\",\"Cedritos\",\"San Cristobal\",\"Fontib\\u00f3n\",\"El Bat\\u00e1n\",\"Usaqu\\u00e9n\",\"Zona Noroccidental\",\"Quinta Camacho\",\"Zona Noroccidental\",\"Colina Campestre\",\"Antonio Nari\\u00f1o\",\"El Plan\",\"Zona Noroccidental\",\"Modelia\",\"Usaqu\\u00e9n\",\"Santa Barbara\",\"Portales Del Norte\",\"Zona Noroccidental\",\"Zona Noroccidental\",\"Zona Noroccidental\",\"Engativa\",\"Palermo\",\"Zona Noroccidental\",\"Quinta Paredes\",\"Zona Noroccidental\",\"Nicolas De Federman\",\"Usaqu\\u00e9n\",\"Fontib\\u00f3n\",\"Cedritos\",\"La Uribe\",\"Usaqu\\u00e9n\",\"Chapinero Central\",\"Teusaquillo\",\"Marly\",\"Cantagallo\",\"Kennedy\",\"Cedritos\",\"San Patricio\",\"Kennedy\",\"Zona Noroccidental\",\"Chico Reservado\",\"Cedritos\",\"Cedritos\",\"Nueva Zelandia\",\"Zona Noroccidental\",\"Ciudad Salitre\",\"San Cristobal\",\"Puente Aranda\",\"Cedritos\",\"Fontib\\u00f3n\",\"Tintala\",\"Zona Noroccidental\",\"Zona Noroccidental\",\"Santa Barbara\",\"Quinta Camacho\",\"Cedritos\",\"El Chic\\u00f3\",\"Engativa\",\"Zona Noroccidental\",\"Usaqu\\u00e9n\",\"Cantagallo\",\"Usaqu\\u00e9n\",\"Hayuelos\",\"Chapinero\",\"Cantagallo\",\"Santa Barbara\",\"Suba\",\"Usaqu\\u00e9n\",\"Santa Teresa\",\"Fontib\\u00f3n\",\"Pasadena \",\"San Patricio\",\"Usaqu\\u00e9n\",\"Usaqu\\u00e9n\",\"Kennedy\",\"Tunjuelito\",\"Suba\",\"Bosa\",\"Bosa\",\"Fontib\\u00f3n\",\"Kennedy\",\"Cedritos\",\"Suba\",\"Chapinero Central\",\"Tintala\",\"Bosa\",\"Bosa\",\"Fontib\\u00f3n\",\"Usaqu\\u00e9n\",\"San Cristobal\",\"San Luis\",\"Santa Fe\",\"Bella Suiza\",\"Usaqu\\u00e9n\",\"Chapinero Central\",\"Los Rosales\",\"Chico Reservado\",\"Chapinero\",\"Bella Suiza\",\"Chapinero\",\"Cedritos\",\"Suba\",\"La Candelaria\",\"Nueva Autopista\",\"Casablanca\",\"Fontib\\u00f3n\",\"Tintala\",\"Cedritos\",\"Las Nieves\",\"Suba\",\"Santa Fe\",\"Suba\",\"Teusaquillo\",\"Nueva Autopista\",\"Suba\",\"Suba\",\"Suba\",\"Cedritos\",\"Cedritos\",\"Pasadena \",\"Santa Barbara\",\"Fontib\\u00f3n\",\"Cedritos\",\"Fontib\\u00f3n\",\"Teusaquillo\",\"Teusaquillo\",\"Bosa\",\"Chapinero\",\"Santa Barbara\",\"Teusaquillo\",\"Zona Noroccidental\",\"Zona Noroccidental\",\"Zona Noroccidental\",\"Barrios Unidos\",\"Cedritos\",\"Chapinero\",\"Barrios Unidos\",\"Ciudad Salitre\",\"La Estancia\",\"Los Rosales\",\"Suba\",\"Usaqu\\u00e9n\",\"Barrios Unidos\",\"Suba\",\"Zona Noroccidental\",\"Usaqu\\u00e9n\",\"Suba\",\"Quinta Paredes\",\"Usaqu\\u00e9n\",\"Usaqu\\u00e9n\",\"Engativa\",\"Cedritos\",\"Cedritos\",\"Colina Campestre\",\"Chico Reservado\",\"Usaqu\\u00e9n\",\"Suba\",\"Usaqu\\u00e9n\",\"Usaqu\\u00e9n\",\"Fontib\\u00f3n\",\"Usaqu\\u00e9n\",\"San Patricio\",\"Mirandela \",\"Kennedy\",\"Kennedy\",\"Nueva Autopista\",\"Cedritos\",\"Kennedy\",\"Zona Noroccidental\",\"Santa Barbara\",\"Zona Noroccidental\",\"Chapinero\",\"Mirandela \",\"Teusaquillo\",\"Usaqu\\u00e9n\",\"Lagos De Cordoba\",\"Usaqu\\u00e9n\",\"El Bat\\u00e1n\",\"Suba\",\"Usaqu\\u00e9n\",\"Teusaquillo\",\"Cedritos\",\"Usaqu\\u00e9n\",\"Usaqu\\u00e9n\",\"Usaqu\\u00e9n\",\"Suba\",\"Suba\",\"Suba\",\"Quinta Paredes\",\"La Macarena\",\"Zona Noroccidental\",\"Bosa\",\"Zona Noroccidental\",\"Engativa\",\"Cedritos\",\"Cedritos\",\"Chico Reservado\",\"San Patricio\",\"Mirandela \",\"Usaqu\\u00e9n\",\"Colina Campestre\",\"Fontib\\u00f3n\",\"Kennedy\",\"Cedritos\",\"Mirandela \",\"Nueva Autopista\",\"Usaqu\\u00e9n\",\"El Bat\\u00e1n\",\"Tintala\",\"Zona Noroccidental\",\"Cedritos\",\"Chico Reservado\",\"Chapinero\",\"Mazuren\",\"Usaqu\\u00e9n\",\"Zona Noroccidental\",\"Fontib\\u00f3n\",\"Usaqu\\u00e9n\",\"El Bat\\u00e1n\",\"Ciudad Salitre\",\"Chapinero Central\",\"Kennedy\",\"Suba\",\"Tintala\",\"Usaqu\\u00e9n\",\"Suba\",\"Zona Noroccidental\",\"Suba\",\"Suba\",\"Suba\",\"Usaqu\\u00e9n\",\"Fontib\\u00f3n\",\"Fontib\\u00f3n\",\"Teusaquillo\",\"Fontib\\u00f3n\",\"Suba\",\"El Bat\\u00e1n\",\"Usaqu\\u00e9n\",\"Suba\",\"Ciudad Salitre\",\"Chapinero\",\"Engativa\",\"Engativa\",\"Villemar\",\"Engativa\",\"Chico Reservado\",\"Suba\",\"Barrios Unidos\",\"Puente Largo\",\"Fontib\\u00f3n\",\"Suba\",\"Engativa\",\"Suba\",\"Bosque Popular\",\"Usaqu\\u00e9n\",\"Colina Campestre\",\"Puente Largo\",\"Barrios Unidos\",\"Suba\",\"Suba\",\"Suba\",\"Barrios Unidos\",\"Modelia\",\"Fontib\\u00f3n\",\"Suba\",\"Santa Barbara\",\"Engativa\",\"Ciudad Bol\\u00edvar\",\"Chapinero\",\"Mazuren\",\"Chapinero\",\"Cantagallo\",\"Santa Barbara\",\"Zona Noroccidental\",\"Usaqu\\u00e9n\",\"Santa Barbara\",\"La Soledad \",\"Gran Granada\",\"Teusaquillo\",\"Kennedy\",\"Kennedy\",\"Santa Ana\",\"Zona Noroccidental\",\"Ciudadela Colsubsidio\",\"Kennedy\",\"Zona Noroccidental\",\"Ciudadela Colsubsidio\",\"Barrios Unidos\",\"Antonio Nari\\u00f1o\",\"El Chic\\u00f3\",\"San Patricio\",\"Usaqu\\u00e9n\",\"Usaqu\\u00e9n\",\"Fontib\\u00f3n\",\"Usaqu\\u00e9n\",\"Hayuelos\",\"Barrios Unidos\",\"El Salitre\",\"Cedritos\",\"Bella Suiza\",\"Los M\\u00e1rtires\",\"Cedritos\",\"Barrios Unidos\",\"Bosa\",\"Chapinero\",\"Cedritos\",\"Chapinero\",\"Cedritos\",\"Usaqu\\u00e9n\",\"Gran America\",\"Chico Reservado\",\"Chapinero\",\"Chapinero\",\"Pasadena \",\"Suba\",\"Chapinero\",\"Usaqu\\u00e9n\",\"Usaqu\\u00e9n\",\"Gran Granada\",\"Usaqu\\u00e9n\",\"Fontib\\u00f3n\",\"Usaqu\\u00e9n\",\"Engativa\",\"Suba\",\"La Granja\",\"Villa Alsacia\",\"Kennedy\",\"Sotavento\",\"Kennedy\",\"Suba\",\"Cedritos\",\"San Patricio\",\"Bogot\\u00e1 D.C\",\"Chico Reservado\",\"Suba\",\"Suba\",\"Chico Reservado\",\"Chico Reservado\",\"Puente Largo\",\"Villas De Granada\",\"Usaqu\\u00e9n\",\"Ciudad Salitre\",\"Chico Reservado\",\"Engativa\",\"Zona Noroccidental\",\"Parque Central Bavaria\",\"Usaqu\\u00e9n\",\"Santa Barbara\",\"El Chic\\u00f3\",\"Chico Norte\",\"Cedritos\",\"Chico Norte\",\"Santa Barbara\",\"Rafael Uribe Uribe\",\"Ciudadela Colsubsidio\",\"Engativa\",\"San Antonio Norte\",\"El Bat\\u00e1n\",\"Kennedy\",\"Candelaria La Nueva\",\"Usaqu\\u00e9n\",\"Suba\",\"Barrios Unidos\",\"Chico Reservado\",\"Chico Reservado\",\"Suba\",\"Cedritos\",\"Engativa\",\"Suba\",\"El Bat\\u00e1n\",\"El Bat\\u00e1n\",\"Puente Largo\",\"Hayuelos\",\"Usaqu\\u00e9n\",\"Usaqu\\u00e9n\",\"Puente Aranda\",\"Chapinero\",\"Zona Noroccidental\",\"La Salle\",\"Santa Fe\",\"El Chic\\u00f3\",\"Zona Noroccidental\",\"El Refugio\",\"Chico Reservado\",\"Cedritos\",\"Zona Noroccidental\",\"Chapinero\",\"Chapinero\",\"Zona Noroccidental\",\"Puente Largo\",\"El Bat\\u00e1n\",\"El Bat\\u00e1n\",\"Hayuelos\",\"Suba\",\"Cedritos\",\"Zona Noroccidental\",\"Usaqu\\u00e9n\",\"Cedritos\",\"El Chic\\u00f3\",\"Chico Reservado\",\"Cedritos\",\"Chico Reservado\",\"Chapinero\",\"Chico Norte\",\"Chapinero\",\"Chapinero\",\"La Calleja\",\"Las Villas\",\"La Calleja\",\"Zona Noroccidental\",\"Zona Noroccidental\",\"Barrios Unidos\",\"Usaqu\\u00e9n\",\"Chapinero\",\"Usaqu\\u00e9n\",\"Chapinero\",\"Teusaquillo\",\"Zona Noroccidental\",\"Zona Noroccidental\",\"Los M\\u00e1rtires\",\"Usaqu\\u00e9n\",\"Teusaquillo\",\"Engativa\",\"Usaqu\\u00e9n\",\"Chapinero\",\"Marly\",\"Chico Reservado\",\"Kennedy\",\"Los Rosales\",\"Santa Fe\",\"Chapinero\",\"Zona Noroccidental\",\"La Candelaria\",\"Zona Noroccidental\",\"Chapinero\",\"Chapinero\",\"Villa Alsacia\",\"Suba\",\"Usaqu\\u00e9n\",\"Usme\",\"Santa Barbara\",\"Kennedy\",\"Gran Granada\",\"Bella Suiza\",\"Teusaquillo\",\"Chapinero Alto\",\"Santa Fe\",\"El Chic\\u00f3\",\"Salitre \",\"Suba\",\"Barrios Unidos\",\"Usaqu\\u00e9n\",\"Capellania\",\"Cedritos\",\"Barrios Unidos\",\"El Retiro\",\"Hayuelos\",\"Barrios Unidos\",\"La Calleja\",\"Usaqu\\u00e9n\",\"Teusaquillo\",\"Usaqu\\u00e9n\",\"Marly\",\"Zona Noroccidental\",\"Santa Barbara\",\"Santa Barbara\",\"Barrios Unidos\",\"Barrios Unidos\",\"Barrios Unidos\",\"Barrios Unidos\",\"Barrios Unidos\",\"Engativa\",\"Engativa\",\"Los M\\u00e1rtires\",\"Cedritos\",\"Barrios Unidos\",\"Cedritos\",\"Rafael Uribe Uribe\",\"San Luis\",\"Kennedy\",\"Usaqu\\u00e9n\",\"Barrios Unidos\",\"Suba\",\"Barrios Unidos\",\"Barrios Unidos\",\"Chapinero\",\"Marly\",\"Gran America\",\"Santa Barbara\",\"Suba\",\"Chapinero\",\"Barrios Unidos\",\"Puente Aranda\",\"Barrios Unidos\",\"Barrios Unidos\",\"Barrios Unidos\",\"La Calleja\",\"Suba\",\"El Bat\\u00e1n\",\"Barrios Unidos\",\"Barrios Unidos\",\"Zona Noroccidental\",\"Usaqu\\u00e9n\",\"Teusaquillo\",\"Tunjuelito\",\"Zona Noroccidental\",\"Usaqu\\u00e9n\",\"Usaqu\\u00e9n\",\"Teusaquillo\",\"Zona Noroccidental\",\"Engativa\",\"El Chic\\u00f3\",\"Zona Noroccidental\",\"Usaqu\\u00e9n\",\"Usaqu\\u00e9n\",\"Usaqu\\u00e9n\",\"Usaqu\\u00e9n\",\"Zona Noroccidental\",\"Zona Noroccidental\",\"Engativa\",\"Bella Suiza\",\"Barrios Unidos\",\"Zona Noroccidental\",\"Cedritos\",\"Cedritos\",\"Fontib\\u00f3n\",\"Chico Reservado\",\"Chico Reservado\",\"Zona Noroccidental\",\"Zona Noroccidental\",\"Zona Noroccidental\",\"Zona Noroccidental\",\"Zona Noroccidental\",\"Zona Noroccidental\",\"Cedritos\",\"Zona Noroccidental\",\"Santa Barbara\",\"Zona Noroccidental\",\"Chapinero\",\"Zona Noroccidental\",\"Chico Reservado\",\"Zona Noroccidental\",\"Zona Noroccidental\",\"Chapinero\",\"Colina Campestre\",\"Usaqu\\u00e9n\",\"Usaqu\\u00e9n\",\"Teusaquillo\",\"La Soledad \",\"Barrios Unidos\",\"Engativa\",\"Santa Barbara\",\"Quinta Camacho\",\"Engativa\",\"San Patricio\",\"Engativa\",\"Suba\",\"Chapinero\",\"Puente Aranda\",\"Puente Aranda\",\"Quinta Camacho\",\"Usaqu\\u00e9n\",\"Suba\",\"Cedritos\",\"Barrios Unidos\",\"Barrios Unidos\",\"Barrios Unidos\",\"Suba\",\"Barrios Unidos\",\"Suba\",\"Cedritos\",\"Barrios Unidos\",\"Nueva Zelandia\",\"Suba\",\"Usaqu\\u00e9n\",\"Fontib\\u00f3n\",\"Chapinero\",\"Cedritos\",\"Usaqu\\u00e9n\",\"Barrios Unidos\",\"Suba\",\"Los Rosales\",\"Chapinero\",\"Usaqu\\u00e9n\",\"Engativa\",\"Teusaquillo\",\"Engativa\",\"Santa Barbara\",\"Kennedy\",\"Barrios Unidos\",\"Pasadena \",\"Barrios Unidos\",\"Barrios Unidos\",\"Barrios Unidos\",\"Suba\",\"Barrios Unidos\",\"Engativa\",\"Tintala\",\"Usaqu\\u00e9n\",\"Santa Barbara\",\"El Chic\\u00f3\",\"Chico Navarra\",\"Usaqu\\u00e9n\",\"Usaqu\\u00e9n\",\"Cedritos\",\"Santa Paula\",\"Santa Barbara\",\"San Patricio\",\"Santa Barbara\",\"Santa Barbara\",\"Usaqu\\u00e9n\",\"Usaqu\\u00e9n\",\"Bella Suiza\",\"Madelena\",\"Zona Noroccidental\",\"Los Rosales\",\"Santa Barbara\",\"Engativa\",\"Los Rosales\",\"Bosa\",\"Cedritos\",\"Usaqu\\u00e9n\",\"Usaqu\\u00e9n\",\"Usaqu\\u00e9n\",\"Barrios Unidos\",\"Barrios Unidos\",\"Barrios Unidos\",\"Barrios Unidos\",\"Barrios Unidos\",\"Alhambra\",\"Barrios Unidos\",\"Barrios Unidos\",\"Chico Norte\",\"Barrios Unidos\",\"Barrios Unidos\",\"Barrios Unidos\",\"Barrios Unidos\",\"Barrios Unidos\",\"Barrios Unidos\",\"Barrios Unidos\",\"San Patricio\",\"Barrios Unidos\",\"Barrios Unidos\",\"Barrios Unidos\",\"Barrios Unidos\",\"Castilla\",\"Barrios Unidos\",\"Barrios Unidos\",\"Barrios Unidos\",\"Barrios Unidos\",\"Usaqu\\u00e9n\",\"Barrios Unidos\",\"Suba\",\"Usaqu\\u00e9n\",\"Usaqu\\u00e9n\",\"Engativa\",\"Chico Reservado\",\"Usaqu\\u00e9n\",\"Barrios Unidos\",\"Suba\",\"Las Nieves\",\"Puente Aranda\",\"Barrios Unidos\",\"Usaqu\\u00e9n\",\"Suba\",\"Cedritos\",\"Nicolas De Federman\",\"Chapinero\",\"Kennedy\",\"Barrios Unidos\",\"Usaqu\\u00e9n\",\"Barrios Unidos\",\"Barrios Unidos\",\"Santa Barbara\",\"Barrios Unidos\",\"Engativa\",\"Barrios Unidos\",\"Barrios Unidos\",\"Barrios Unidos\",\"Usaqu\\u00e9n\",\"Barrios Unidos\",\"Barrios Unidos\",\"Cedritos\",\"Santa Teresa\",\"Teusaquillo\",\"Santa Barbara\",\"Barrios Unidos\",\"Chapinero\",\"Barrios Unidos\",\"Castilla\",\"Suba\",\"Barrios Unidos\",\"Barrios Unidos\",\"Santa Barbara\",\"Barrios Unidos\",\"Cedritos\",\"Usaqu\\u00e9n\",\"Engativa\",\"Barrios Unidos\",\"Barrios Unidos\",\"Barrios Unidos\",\"Barrios Unidos\",\"Santa Barbara\",\"Barrios Unidos\",\"Suba\",\"Barrios Unidos\",\"Barrios Unidos\",\"Barrios Unidos\",\"Kennedy\",\"Santa Barbara\",\"Barrios Unidos\",\"Barrios Unidos\",\"Usaqu\\u00e9n\",\"Engativa\",\"Santa Fe\",\"Chico Reservado\",\"Usaqu\\u00e9n\",\"Cedritos\",\"Usaqu\\u00e9n\",\"Zona Noroccidental\",\"Zona Noroccidental\",\"Kennedy\",\"Zona Noroccidental\",\"Chico Reservado\",\"Zona Noroccidental\",\"Usaqu\\u00e9n\",\"Teusaquillo\",\"Cedritos\",\"Usaqu\\u00e9n\",\"Chico Reservado\",\"Usaqu\\u00e9n\",\"Teusaquillo\",\"Teusaquillo\",\"Zona Noroccidental\",\"Santa Fe\",\"Zona Noroccidental\",\"Chico Reservado\",\"Usaqu\\u00e9n\",\"Puente Aranda\",\"Chico Reservado\",\"Cedritos\",\"San Patricio\",\"Suba\",\"San Cristobal\",\"Modelia\",\"Suba\",\"Barrios Unidos\",\"Barrios Unidos\",\"Normandia\",\"Fontib\\u00f3n\",\"Suba\",\"Quinta Camacho\",\"Teusaquillo\",\"San Patricio\",\"Las Nieves\",\"Normandia\",\"Usaqu\\u00e9n\",\"Modelia\",\"Barrios Unidos\",\"Bella Suiza\",\"Pasadena \",\"Usaqu\\u00e9n\",\"Kennedy\",\"Usaqu\\u00e9n\",\"Villa Alsacia\",\"La Calleja\",\"Puente Aranda\",\"Chapinero\",\"Puente Aranda\",\"Suba\",\"La Calleja\",\"Usaqu\\u00e9n\",\"Zona Noroccidental\",\"Zona Noroccidental\",\"Puente Aranda\",\"Usaqu\\u00e9n\",\"Fontib\\u00f3n\",\"Chapinero\",\"Chapinero\",\"Usaqu\\u00e9n\",\"Zona Noroccidental\",\"Santa Barbara\",\"Zona Noroccidental\",\"El Bat\\u00e1n\",\"Chico Reservado\",\"Cedritos\",\"Usaqu\\u00e9n\",\"Los Rosales\",\"Zona Noroccidental\",\"Puente Aranda\",\"Usaqu\\u00e9n\",\"Usaqu\\u00e9n\",\"Chico Reservado\",\"Usaqu\\u00e9n\",\"Zona Noroccidental\",\"Chapinero\",\"Usaqu\\u00e9n\",\"Santa Barbara\",\"Puente Aranda\",\"Chapinero\",\"Usaqu\\u00e9n\",\"Suba\",\"Usaqu\\u00e9n\",\"Kennedy\",\"Engativa\",\"Antonio Nari\\u00f1o\",\"Tintala\",\"Suba\",\"Usaqu\\u00e9n\",\"Chico Norte\",\"Engativa\",\"Barrios Unidos\",\"Tintala\",\"Engativa\",\"Santa Barbara\",\"Chico Reservado\",\"Chico Norte\",\"Suba\",\"Barrios Unidos\",\"Kennedy\",\"Barrios Unidos\",\"Barrios Unidos\",\"Barrios Unidos\",\"Los M\\u00e1rtires\",\"Barrios Unidos\",\"Usaqu\\u00e9n\",\"Engativa\",\"Usaqu\\u00e9n\",\"Bella Suiza\",\"Zona Noroccidental\",\"Bella Suiza\",\"Barrios Unidos\",\"Barrios Unidos\",\"Barrios Unidos\",\"Barrios Unidos\",\"Chapinero Central\",\"Barrios Unidos\",\"Cedritos\",\"Alhambra\",\"Kennedy\",\"Engativa\",\"Barrios Unidos\",\"Bella Suiza\",\"Santa Barbara\",\"Barrios Unidos\",\"Barrios Unidos\",\"Suba\",\"Barrios Unidos\",\"Puente Aranda\",\"Suba\",\"Barrios Unidos\",\"Bella Suiza\",\"Nicolas De Federman\",\"Gran Granada\",\"Modelia\",\"Chico Reservado\",\"Chico Reservado\",\"Los Rosales\",\"Santa Barbara\",\"Los Rosales\",\"Usaqu\\u00e9n\",\"Suba\",\"Barrios Unidos\",\"Kennedy\",\"Pasadena \",\"Pasadena \",\"Santa Barbara\",\"Barrios Unidos\",\"San Patricio\",\"Chapinero\",\"Barrios Unidos\",\"Barrios Unidos\",\"Barrios Unidos\",\"Santa Barbara\",\"Fontib\\u00f3n\",\"Usaqu\\u00e9n\",\"Barrios Unidos\",\"Usaqu\\u00e9n\",\"Barrios Unidos\",\"Barrios Unidos\",\"Barrios Unidos\",\"Pontevedra \",\"La Granja\",\"Suba\",\"Madelena\",\"Barrios Unidos\",\"Barrios Unidos\",\"Buenos Aires\",\"Suba\",\"Barrios Unidos\",\"Barrios Unidos\",\"Fontib\\u00f3n\",\"Kennedy\",\"Palermo\",\"Usaqu\\u00e9n\",\"Zona Noroccidental\",\"Zona Noroccidental\",\"Cedritos\",\"Suba\",\"Zona Noroccidental\",\"Santa Barbara\",\"Usaqu\\u00e9n\",\"Bogot\\u00e1 D.C\",\"Usaqu\\u00e9n\",\"Usaqu\\u00e9n\",\"Engativa\",\"Santa Barbara\",\"Cedritos\",\"Zona Noroccidental\",\"Engativa\",\"Los M\\u00e1rtires\",\"Zona Noroccidental\",\"Teusaquillo\",\"Engativa\",\"Chapinero\",\"Kennedy\",\"Zona Noroccidental\",\"Pontevedra \",\"Santa Barbara\",\"Zona Noroccidental\",\"Cedritos\",\"Cedritos\",\"Suba\",\"Santa Barbara\",\"Usaqu\\u00e9n\",\"Suba\",\"Suba\",\"Suba\",\"Suba\",\"Suba\",\"Suba\",\"Suba\",\"Suba\",\"El Bat\\u00e1n\",\"Teusaquillo\",\"Chapinero\",\"Barrios Unidos\",\"Santa Barbara\",\"Zona Noroccidental\",\"Suba\",\"Chico Navarra\",\"Cedritos\",\"Suba\",\"Nicolas De Federman\",\"Usaqu\\u00e9n\",\"Santa Barbara\",\"Barrios Unidos\",\"Barrios Unidos\",\"San Cristobal\",\"Barrios Unidos\",\"Barrios Unidos\",\"Pasadena \",\"Barrios Unidos\",\"Barrios Unidos\",\"Barrios Unidos\",\"Barrios Unidos\",\"Barrios Unidos\",\"Barrios Unidos\",\"Barrios Unidos\",\"Barrios Unidos\",\"Santa Barbara\",\"Barrios Unidos\",\"Castilla\",\"Barrios Unidos\",\"Teusaquillo\",\"Bella Suiza\",\"Usaqu\\u00e9n\",\"Santa Paula\",\"Suba\",\"Santa Barbara\",\"Bella Suiza\",\"Santa Paula\",\"Chico Navarra\",\"Usaqu\\u00e9n\",\"Santa Paula\",\"Santa Paula\",\"Usaqu\\u00e9n\",\"Cedritos\",\"Usaqu\\u00e9n\",\"Teusaquillo\",\"Teusaquillo\",\"Teusaquillo\",\"Cedritos\",\"Ciudad Bol\\u00edvar\",\"Chapinero\",\"Ricaurte\",\"Zona Noroccidental\",\"Usaqu\\u00e9n\",\"Usaqu\\u00e9n\",\"Usaqu\\u00e9n\",\"Usaqu\\u00e9n\",\"Suba\",\"Suba\",\"Puente Aranda\",\"Cedritos\",\"Nueva Autopista\",\"Teusaquillo\",\"Las Nieves\",\"Usaqu\\u00e9n\",\"Suba\",\"Suba\",\"Chapinero\",\"Suba\",\"Santa Barbara\",\"Kennedy\",\"Suba\",\"Suba\",\"Fontib\\u00f3n\",\"Usaqu\\u00e9n\",\"Bella Suiza\",\"Usaqu\\u00e9n\",\"Usaqu\\u00e9n\",\"Chapinero\",\"Engativa\",\"Puente Aranda\",\"Santa Barbara\",\"Santa Barbara\",\"Puente Largo\",\"Cedritos\",\"San Patricio\",\"Chapinero\",\"Chapinero\",\"Barrios Unidos\",\"San Patricio\",\"Antonio Nari\\u00f1o\",\"Pasadena \",\"Teusaquillo\",\"Barrios Unidos\",\"Cedritos\",\"Kennedy\",\"Usaqu\\u00e9n\",\"Suba\",\"Marly\",\"Engativa\",\"Cedritos\",\"Ciudad Salitre\",\"Barrios Unidos\",\"Suba\",\"La Calleja\",\"Cedritos\",\"Lagos De Cordoba\",\"Fontib\\u00f3n\",\"Las Nieves\",\"Bosa\",\"Teusaquillo\",\"Kennedy\",\"El Chic\\u00f3\",\"Quinta Paredes\",\"Teusaquillo\",\"Metropolis\",\"Restrepo\",\"Veraguas\",\"Chico Reservado\",\"Rafael Uribe Uribe\",\"Kennedy\",\"Barrios Unidos\",\"Bosque Popular\",\"Madelena\",\"Fontib\\u00f3n\",\"Los M\\u00e1rtires\",\"Teusaquillo\",\"Las Aguas\",\"Santa Fe\",\"Chico Norte\",\"Tunjuelito\",\"El Chic\\u00f3\",\"Kennedy\",\"Zona Noroccidental\",\"Barrios Unidos\",\"Barrios Unidos\",\"Chico Reservado\",\"San Patricio\",\"Sotavento\",\"Pasadena \",\"Fontib\\u00f3n\",\"Barrios Unidos\",\"Barrios Unidos\",\"Barrios Unidos\",\"Barrios Unidos\",\"Barrios Unidos\",\"Barrios Unidos\",\"Barrios Unidos\",\"Chico Norte Ii\",\"Barrios Unidos\",\"Barrios Unidos\",\"Ciudad Salitre\",\"Barrios Unidos\",\"Gran Granada\",\"Barrios Unidos\",\"Barrios Unidos\",\"Barrios Unidos\",\"Barrios Unidos\",\"Barrios Unidos\",\"Barrios Unidos\",\"Barrios Unidos\",\"Cedritos\",\"La Calleja\",\"Barrios Unidos\",\"Barrios Unidos\",\"Las Nieves\",\"Barrios Unidos\",\"Suba\",\"Niza\",\"Usaqu\\u00e9n\",\"El Bat\\u00e1n\",\"Fontib\\u00f3n\",\"Bosque Popular\",\"Usaqu\\u00e9n\",\"Puente Aranda\",\"Chapinero\",\"Usaqu\\u00e9n\",\"Zona Noroccidental\",\"Rafael Uribe Uribe\",\"Chapinero\",\"La Calleja\",\"Zona Noroccidental\",\"Costa Azul\",\"Chapinero Alto\",\"Usaqu\\u00e9n\",\"Alhambra\",\"Zona Noroccidental\",\"El Chic\\u00f3\",\"Normandia\",\"Cedritos\",\"Normandia\",\"Zona Noroccidental\",\"Chico Reservado\",\"Usaqu\\u00e9n\",\"Chapinero Alto\",\"Usaqu\\u00e9n\",\"Usaqu\\u00e9n\",\"Castilla\",\"Ciudad Salitre\",\"Usaqu\\u00e9n\",\"Zona Noroccidental\",\"Pinar De Suba\",\"Santa Barbara\",\"Chapinero Alto\",\"Estrada\",\"Los Rosales\",\"Usaqu\\u00e9n\",\"Ciudad Bol\\u00edvar\",\"Zona Noroccidental\",\"Cedritos\",\"Usaqu\\u00e9n\",\"Los Rosales\",\"Kennedy\",\"Bella Suiza\",\"El Retiro\",\"Parque Central Bavaria\",\"Usaqu\\u00e9n\",\"Kennedy\",\"Usaqu\\u00e9n\",\"Ciudad Bol\\u00edvar\",\"Kennedy\",\"Usaqu\\u00e9n\",\"Santa Fe\",\"Usaqu\\u00e9n\",\"Kennedy\",\"Chapinero\",\"Zona Noroccidental\",\"Chico Norte\",\"Chico Norte\",\"Suba\",\"La Candelaria\",\"Nicolas De Federman\",\"Usaqu\\u00e9n\",\"Los Rosales\",\"Engativa\",\"Niza\",\"Los Rosales\",\"Chapinero\",\"Los Rosales\",\"Los Rosales\",\"Chico Norte\",\"Chico Norte\",\"Kennedy\",\"Chico Reservado\",\"Castilla\",\"Mirandela \",\"Zona Noroccidental\",\"Los Rosales\",\"Chapinero Alto\",\"Gran Granada\",\"Usaqu\\u00e9n\",\"Zona Noroccidental\",\"Usaqu\\u00e9n\",\"Suba\",\"Cedritos\",\"Suba\",\"La Calleja\",\"Usaqu\\u00e9n\",\"Suba\",\"Suba\",\"Teusaquillo\",\"Cedritos\",\"Cedritos\",\"La Candelaria\",\"Zona Noroccidental\",\"Zona Noroccidental\",\"Cedritos\",\"Las Nieves\",\"Zona Noroccidental\",\"Los Rosales\",\"Zona Noroccidental\",\"Zona Noroccidental\",\"Fontib\\u00f3n\",\"Zona Noroccidental\",\"Engativa\",\"Fontib\\u00f3n\",\"Fontib\\u00f3n\",\"Fontib\\u00f3n\",\"Zona Noroccidental\",\"Usaqu\\u00e9n\",\"Suba\",\"Usaqu\\u00e9n\",\"Chico Reservado\",\"Chapinero\",\"Engativa\",\"Chico Norte\",\"Cedritos\",\"El Retiro\",\"Chapinero Alto\",\"Usaqu\\u00e9n\",\"Ciudad Salitre\",\"Usaqu\\u00e9n\",\"Ricaurte\",\"Zona Noroccidental\",\"Usaqu\\u00e9n\",\"Zona Noroccidental\",\"Zona Noroccidental\",\"Bella Suiza\",\"Chapinero\",\"Los Rosales\",\"Santa Barbara\",\"Chico Norte\",\"Gran Granada\",\"Cedritos\",\"Santa Barbara\",\"Usaqu\\u00e9n\",\"Zona Noroccidental\",\"Zona Noroccidental\",\"Barrios Unidos\",\"Bosa\",\"Chapinero Alto\",\"Usaqu\\u00e9n\",\"Usaqu\\u00e9n\",\"Los Rosales\",\"Santa Fe\",\"Barrios Unidos\",\"Puente Aranda\",\"Kennedy\",\"Santa Fe\",\"Pontevedra \",\"Santa Barbara\",\"Normandia\",\"Teusaquillo\",\"Chapinero Alto\",\"Chapinero Alto\",\"El Virrey\",\"Colina Campestre\",\"Chico Reservado\",\"La Salle\",\"Zona Noroccidental\",\"Las Nieves\",\"El Chic\\u00f3\",\"Pasadena \",\"Santa Barbara\",\"Kennedy\",\"Puente Aranda\",\"Usaqu\\u00e9n\",\"Chapinero\",\"Chapinero\",\"Chico Reservado\",\"Cedritos\",\"Chapinero\",\"Chico Norte\",\"El Chic\\u00f3\",\"El Bat\\u00e1n\",\"Zona Noroccidental\",\"Zona Noroccidental\",\"Las Villas\",\"Cedritos\",\"Usaqu\\u00e9n\",\"Santa Barbara\",\"Cedritos\",\"Cedritos\",\"Santa Barbara\",\"Santa Barbara\",\"Hayuelos\",\"Hayuelos\",\"Zona Noroccidental\",\"Fontib\\u00f3n\",\"Usaqu\\u00e9n\",\"Usaqu\\u00e9n\",\"Los M\\u00e1rtires\",\"Pinar De Suba\",\"Santa Ana\",\"Santa Barbara\",\"Zona Noroccidental\",\"Usaqu\\u00e9n\",\"Cedritos\",\"Usaqu\\u00e9n\",\"Colinas De Suba\",\"Usaqu\\u00e9n\",\"Galicia\",\"Engativa\",\"Chico Reservado\",\"Chico Reservado\",\"Santa Fe\",\"Puente Largo\",\"Alhambra\",\"Chico Norte\",\"Cedritos\",\"Ciudadela Colsubsidio\",\"Zona Noroccidental\",\"Barrios Unidos\",\"Usaqu\\u00e9n\",\"Fontib\\u00f3n\",\"Barrios Unidos\",\"Engativa\",\"Teusaquillo\",\"Engativa\",\"Usaqu\\u00e9n\",\"Barrios Unidos\",\"El Virrey\",\"Chico Norte\",\"Zona Noroccidental\",\"Las Nieves\",\"Santa Barbara\",\"Zona Noroccidental\",\"Nicolas De Federman\",\"Zona Noroccidental\",\"Mazuren\",\"Las Nieves\",\"Madelena\",\"Madelena\",\"Madelena\",\"Cedritos\",\"Kennedy\",\"Kennedy\",\"Zona Noroccidental\",\"Zona Noroccidental\",\"Los Rosales\",\"San Patricio\",\"Bosa\",\"Bosa\",\"Bosa\",\"Bosa\",\"Usaqu\\u00e9n\",\"Tintala\",\"Bosa\",\"Bosa\",\"Bosa\",\"Bosa\",\"Bosa\",\"Fontib\\u00f3n\",\"Bosa\",\"Kennedy\",\"Bosa\",\"Bosa\",\"Bosa\",\"Engativa\",\"Engativa\",\"Kennedy\",\"Cedritos\",\"Rafael Uribe Uribe\",\"Santa Fe\",\"San Cristobal\",\"Ciudadela Colsubsidio\",\"Cedritos\",\"Chico Reservado\",\"Usaqu\\u00e9n\",\"El Refugio\",\"Zona Noroccidental\",\"Chico Norte\",\"Madelena\",\"Nicolas De Federman\",\"Madelena\",\"Kennedy\",\"Bosa\",\"Cedritos\",\"Bosa\",\"Bosa\",\"Bosa\",\"Bosa\",\"Bosa\",\"Bosa\",\"Bosa\",\"Bosa\",\"Bosa\",\"Bosa\",\"Bosa\",\"Bosa\",\"Bosa\",\"Bosa\",\"Bosa\",\"Bosa\",\"Bosa\",\"Bosa\",\"Bosa\",\"Zona Noroccidental\",\"Zona Noroccidental\",\"Zona Noroccidental\",\"Zona Noroccidental\",\"Puente Largo\",\"Bosa\",\"Chico Norte\",\"Chico Reservado\",\"Chico Norte\",\"El Bat\\u00e1n\",\"Usaqu\\u00e9n\",\"Usaqu\\u00e9n\",\"Usaqu\\u00e9n\",\"Usaqu\\u00e9n\",\"Usaqu\\u00e9n\",\"Gustavo Restrepo\",\"Tunjuelito\",\"Mazuren\",\"Teusaquillo\",\"El Retiro\",\"Chapinero\",\"Nueva Castilla\",\"Cedritos\",\"Usaqu\\u00e9n\",\"Usaqu\\u00e9n\",\"Los M\\u00e1rtires\",\"Ciudad Salitre\",\"Usaqu\\u00e9n\",\"Zona Noroccidental\",\"Kennedy\",\"Cedritos\",\"Zona Noroccidental\",\"Bosa\",\"Usaqu\\u00e9n\",\"Usaqu\\u00e9n\",\"Zona Noroccidental\",\"Zona Noroccidental\",\"Fontib\\u00f3n\",\"Chapinero Alto\",\"Santa Barbara\",\"Tunjuelito\",\"Zona Noroccidental\",\"Bosa\",\"Tunjuelito\",\"Bosa\",\"Bosa\",\"Bosa\",\"Bosa\",\"Bosa\",\"Bosa\",\"Bosa\",\"Bosa\",\"Bosa\",\"Bosa\",\"Bosa\",\"Usaqu\\u00e9n\",\"Bosa\",\"Bosa\",\"Zona Noroccidental\",\"Bosa\",\"Bosa\",\"Zona Noroccidental\",\"Bosa\",\"Bosa\",\"Bosa\",\"Bosa\",\"Bosa\",\"Bosa\",\"Bosa\",\"Bosa\",\"Bosa\",\"Bosa\",\"Bosa\",\"Bosa\",\"Bosa\",\"Bosa\",\"Bosa\",\"Bosa\",\"Bosa\",\"Usaqu\\u00e9n\",\"Bosa\",\"Bosa\",\"Bosa\",\"Bosa\",\"Bosa\",\"Bosa\",\"Bosa\",\"Bosa\",\"Engativa\",\"Engativa\",\"Tunjuelito\",\"Usaqu\\u00e9n\",\"Kennedy\",\"Kennedy\",\"Barrios Unidos\",\"Fontib\\u00f3n\",\"Santa Barbara\",\"San Cristobal\",\"Las Aguas\",\"Quirigua\",\"Usme\",\"Santa Barbara\",\"Chico Reservado\",\"Kennedy\",\"Kennedy\",\"Usaqu\\u00e9n\",\"Santa Barbara\",\"Fontib\\u00f3n\",\"El Chic\\u00f3\",\"Usaqu\\u00e9n\",\"Usaqu\\u00e9n\",\"Cedritos\",\"Los Rosales\",\"Los Rosales\",\"El Chic\\u00f3\",\"Zona Noroccidental\",\"Fontib\\u00f3n\",\"San Cristobal\",\"Fontib\\u00f3n\",\"Boyaca \",\"Bosa\",\"Bosa\",\"Bosa\",\"Bosa\",\"Bosa\",\"Bosa\",\"Bosa\",\"Bosa\",\"Bosa\",\"Bosa\",\"Bosa\",\"Bosa\",\"Bosa\",\"Bosa\",\"Bosa\",\"Bosa\",\"Bosa\",\"Bosa\",\"Bosa\",\"Bosa\",\"Bosa\",\"Bosa\",\"Bosa\",\"Bosa\",\"Bosa\",\"Bosa\",\"Bosa\",\"Bosa\",\"Bosa\",\"Bosa\",\"Cedritos\",\"Villa Alsacia\",\"Cedritos\",\"Zona Noroccidental\",\"Zona Noroccidental\",\"Cedritos\",\"Nicolas De Federman\",\"Chapinero\",\"Nueva Castilla\",\"Barrios Unidos\",\"Usaqu\\u00e9n\",\"Zona Noroccidental\",\"Engativa\",\"Engativa\",\"El Chic\\u00f3\",\"Teusaquillo\",\"Puente Aranda\",\"Usaqu\\u00e9n\",\"Pasadena \",\"Barrios Unidos\",\"Colina Campestre\",\"Cedritos\",\"Kennedy\",\"Santa Barbara\",\"Chico Navarra\",\"Engativa\",\"Kennedy\",\"Bella Suiza\",\"Santa Barbara\",\"Santa Barbara\",\"Zona Noroccidental\",\"Los Lagartos\",\"Cedritos\",\"Usaqu\\u00e9n\",\"Bella Suiza\",\"Cedritos\",\"El Chic\\u00f3\",\"Engativa\",\"Engativa\",\"Usaqu\\u00e9n\",\"Zona Noroccidental\",\"Chico Norte\",\"Zona Noroccidental\",\"Chapinero Central\",\"Usaqu\\u00e9n\",\"Usaqu\\u00e9n\",\"Chapinero\",\"Los Rosales\",\"Santa Barbara\",\"Usaqu\\u00e9n\",\"Usaqu\\u00e9n\",\"Usaqu\\u00e9n\",\"Usaqu\\u00e9n\",\"Zona Noroccidental\",\"Chapinero\",\"Usaqu\\u00e9n\",\"Capellania\",\"Santa Ana\",\"Los Rosales\",\"Las Villas\",\"Bosa Porvenir\",\"Engativa\",\"El Retiro\",\"Usaqu\\u00e9n\",\"Los M\\u00e1rtires\",\"Zona Noroccidental\",\"Rafael Uribe Uribe\",\"Tunjuelito\",\"Zona Noroccidental\",\"Kennedy\",\"Kennedy\",\"Kennedy\",\"Fontib\\u00f3n\",\"Barrios Unidos\",\"Fontib\\u00f3n\",\"Castilla\",\"Bosa Piamonte\",\"Bosa\",\"Usaqu\\u00e9n\",\"Fontib\\u00f3n\",\"Santa Barbara\",\"Santa Barbara\",\"Santa Barbara\",\"Chico Navarra\",\"Zona Noroccidental\",\"Chapinero\",\"Chapinero\",\"Los Rosales\",\"Cedritos\",\"Rafael Uribe Uribe\",\"Santa Barbara\",\"Santa Barbara\",\"Santa Barbara\",\"Kennedy\",\"Usaqu\\u00e9n\",\"Barrios Unidos\",\"Andes Norte\",\"Zona Noroccidental\",\"Chico Navarra\",\"Barrios Unidos\",\"Engativa\",\"El Retiro\",\"Kennedy\",\"Los M\\u00e1rtires\",\"Bosa Piamonte\",\"Usaqu\\u00e9n\",\"Hayuelos\",\"Zona Noroccidental\",\"San Patricio\",\"Fontib\\u00f3n\",\"Castilla\",\"Bosa\",\"Zona Noroccidental\",\"Kennedy\",\"Rafael Uribe Uribe\",\"Usme\",\"Tunjuelito\",\"Bosa Porvenir\",\"Kennedy\",\"Fontib\\u00f3n\",\"Ciudadela Colsubsidio\",\"Engativa\",\"Engativa\",\"Cedritos\",\"Zona Noroccidental\",\"El Bat\\u00e1n\",\"Ciudadela Colsubsidio\",\"Usaqu\\u00e9n\",\"Cedritos\",\"Kennedy\",\"Pasadena \",\"Zona Noroccidental\",\"Colina Campestre\",\"Zona Noroccidental\",\"Chapinero\",\"Usaqu\\u00e9n\",\"Chico Norte\",\"Puente Aranda\",\"Modelia\",\"Gran Granada\",\"Zona Noroccidental\",\"La Salle\",\"Engativa\",\"Usaqu\\u00e9n\",\"Usaqu\\u00e9n\",\"Kennedy\",\"Santa Barbara\",\"Barrios Unidos\",\"Santa Barbara\",\"Usaqu\\u00e9n\",\"Usaqu\\u00e9n\",\"Cedritos\",\"Kennedy\",\"Usaqu\\u00e9n\",\"Barrios Unidos\",\"Cedritos\",\"Salitre \",\"Usaqu\\u00e9n\",\"Gran Granada\",\"Santa Barbara\",\"Santa Barbara\",\"Usaqu\\u00e9n\",\"Santa Barbara\",\"San Cristobal\",\"Zona Noroccidental\",\"Usaqu\\u00e9n\",\"El Chic\\u00f3\",\"El Bat\\u00e1n\",\"El Chic\\u00f3\",\"Barrios Unidos\",\"Chapinero\",\"Ciudadela Colsubsidio\",\"Chico Reservado\",\"San Patricio\",\"Usaqu\\u00e9n\",\"Usaqu\\u00e9n\",\"Usaqu\\u00e9n\",\"Usaqu\\u00e9n\",\"Santa Paula\",\"Chico Reservado\",\"Los Rosales\",\"Engativa\",\"Santa Barbara\",\"Engativa\",\"Cedritos\",\"Usaqu\\u00e9n\",\"Chico Reservado\",\"Zona Noroccidental\",\"Usaqu\\u00e9n\",\"Chico Reservado\",\"Zona Noroccidental\",\"Chapinero\",\"Zona Noroccidental\",\"Usaqu\\u00e9n\",\"Zona Noroccidental\",\"Zona Noroccidental\",\"Usaqu\\u00e9n\",\"Usaqu\\u00e9n\",\"Chico Reservado\",\"Chico Reservado\",\"El Retiro\",\"Los Rosales\",\"La Candelaria\",\"El Chic\\u00f3\",\"Usme\",\"Usme\",\"Fontib\\u00f3n\",\"Santa Barbara\",\"Chapinero\",\"Usaqu\\u00e9n\",\"Modelia\",\"Chapinero\",\"Zona Noroccidental\",\"La Salle\",\"Gran Granada\",\"Engativa\",\"Engativa\",\"Usaqu\\u00e9n\",\"Pontevedra \",\"Mirandela \",\"Los Rosales\",\"Suba\",\"Castilla\",\"Gran Granada\",\"Santa Barbara\",\"Santa Barbara\",\"Kennedy\",\"Usaqu\\u00e9n\",\"Villa Alsacia\",\"Barrios Unidos\",\"Hayuelos\",\"Colina Campestre\",\"Cedritos\",\"Usaqu\\u00e9n\",\"Santa Teresa\",\"Chapinero\",\"Colina Campestre\",\"Castilla\",\"Santa Barbara\",\"Salitre \",\"Galicia\",\"Kennedy\",\"Santa Barbara\",\"Engativa\",\"Teusaquillo\",\"Teusaquillo\",\"Barrios Unidos\",\"Quinta Paredes\",\"Quinta Paredes\",\"Quinta Paredes\",\"Quinta Paredes\",\"Zona Noroccidental\",\"Zona Noroccidental\",\"Usaqu\\u00e9n\",\"Chapinero\",\"Villa Alsacia\",\"Teusaquillo\",\"Ciudad Salitre\",\"Portales Del Norte\",\"Tintala\",\"Kennedy\",\"Kennedy\",\"Quinta Paredes\",\"Cantagallo\",\"Zona Noroccidental\",\"Quinta Paredes\",\"Quinta Paredes\",\"Zona Noroccidental\",\"Quinta Paredes\",\"Kennedy\",\"Teusaquillo\",\"Santa Fe\",\"Santa Fe\",\"Zona Noroccidental\",\"Los M\\u00e1rtires\",\"La Soledad \",\"Kennedy\",\"Quinta Paredes\",\"Usaqu\\u00e9n\",\"Teusaquillo\",\"Tintala\",\"Tintala\",\"Portales Del Norte\",\"Zona Noroccidental\",\"Portales Del Norte\",\"Villas De Granada\",\"Engativa\",\"Villemar\",\"Portales Del Norte\",\"Kennedy\",\"Villas De Granada\",\"Kennedy\",\"Zona Noroccidental\",\"Bosa\",\"Engativa\",\"Engativa\",\"Los Rosales\",\"Puente Aranda\",\"Usaqu\\u00e9n\",\"Usaqu\\u00e9n\",\"Usaqu\\u00e9n\",\"Usaqu\\u00e9n\",\"Usaqu\\u00e9n\",\"Barrios Unidos\",\"San Patricio\",\"Barrios Unidos\",\"Zona Noroccidental\",\"Zona Noroccidental\",\"El Refugio\",\"Chapinero\",\"San Patricio\",\"San Cristobal\",\"Usaqu\\u00e9n\",\"Usaqu\\u00e9n\",\"Engativa\",\"Zona Noroccidental\",\"Chapinero\",\"Zona Noroccidental\",\"Usaqu\\u00e9n\",\"Los M\\u00e1rtires\",\"Usaqu\\u00e9n\",\"El Chic\\u00f3\",\"Usaqu\\u00e9n\",\"Chico Reservado\",\"Chico Reservado\",\"Chapinero\",\"El Refugio\",\"Chico Reservado\",\"Chico Norte\",\"Los Rosales\",\"Kennedy\",\"Chico Norte\",\"Kennedy\",\"Villa Alsacia\",\"Gustavo Restrepo\",\"La Salle\",\"Chapinero\",\"San Cristobal\",\"Villas De Granada\",\"Bosa\",\"Engativa\",\"Fontib\\u00f3n\",\"Villemar\",\"Fontib\\u00f3n\",\"Portales Del Norte\",\"Portales Del Norte\",\"Portales Del Norte\",\"Kennedy\",\"Usaqu\\u00e9n\",\"Villas De Granada\",\"Portales Del Norte\",\"Villemar\",\"Kennedy\",\"Bosa\",\"Usaqu\\u00e9n\",\"Quinta Paredes\",\"Portales Del Norte\",\"Portales Del Norte\",\"Portales Del Norte\",\"Portales Del Norte\",\"Chapinero\",\"Quinta Paredes\",\"Quinta Paredes\",\"Quinta Paredes\",\"Quinta Paredes\",\"Kennedy\",\"Kennedy\",\"Kennedy\",\"Kennedy\",\"Teusaquillo\",\"Teusaquillo\",\"Quinta Paredes\",\"Quinta Paredes\",\"Zona Noroccidental\",\"Kennedy\",\"Kennedy\",\"Santa Fe\",\"Villas De Granada\",\"Engativa\",\"Villemar\",\"Engativa\",\"Villas De Granada\",\"Villas De Granada\",\"Antonio Nari\\u00f1o\",\"Venecia\",\"Barrios Unidos\",\"Ciudad Salitre\",\"Quirigua\",\"Bosa\",\"Bosa\",\"Bosa\",\"Cantagallo\",\"Engativa\",\"Engativa\",\"Timiza\",\"Cantagallo\",\"Zona Noroccidental\",\"Villemar\",\"Tintala\",\"Tintala\",\"Zona Noroccidental\",\"Zona Noroccidental\",\"Quinta Paredes\",\"Kennedy\",\"El Chic\\u00f3\",\"Villas De Granada\",\"Engativa\",\"Tintala\",\"Barrios Unidos\",\"Zona Noroccidental\",\"Chapinero\",\"Zona Noroccidental\",\"Usme\",\"Quinta Paredes\",\"Kennedy\",\"Kennedy\",\"Kennedy\",\"Kennedy\",\"Kennedy\",\"Kennedy\",\"Kennedy\",\"Kennedy\",\"Kennedy\",\"Chapinero Alto\",\"El Refugio\",\"Kennedy\",\"El Chic\\u00f3\",\"Ciudad Bol\\u00edvar\",\"Ciudad Bol\\u00edvar\",\"Madelena\",\"Santa Fe\",\"Bosa\",\"Bosa\",\"Bosa\",\"Bosa\",\"Chico Reservado\",\"Chico Reservado\",\"Zona Noroccidental\",\"Chico Reservado\",\"Chico Reservado\",\"Ciudad Bol\\u00edvar\",\"Chico Reservado\",\"Chico Reservado\",\"Chico Reservado\",\"Chico Reservado\",\"Zona Noroccidental\",\"Zona Noroccidental\",\"Zona Noroccidental\",\"Ciudad Bol\\u00edvar\",\"Chico Reservado\",\"Mazuren\",\"Mazuren\",\"Mazuren\",\"Santa Barbara\",\"Mazuren\",\"Bella Suiza\",\"Chico Reservado\",\"Engativa\",\"Normandia\",\"Chapinero\",\"Usaqu\\u00e9n\",\"Engativa\",\"Cedritos\",\"El Retiro\",\"Fontib\\u00f3n\",\"Portales Del Norte\",\"El Plan\",\"Fontib\\u00f3n\",\"San Patricio\",\"San Patricio\",\"Chapinero\",\"Usaqu\\u00e9n\",\"Bella Suiza\",\"Usaqu\\u00e9n\",\"Tintala\",\"Tintala\",\"Normandia\",\"El Bat\\u00e1n\",\"Bella Suiza\",\"Mazuren\",\"Puente Aranda\",\"Zona Noroccidental\",\"Nicolas De Federman\",\"Usaqu\\u00e9n\",\"Nicolas De Federman\",\"Bosa\",\"El Refugio\",\"Usaqu\\u00e9n\",\"Gran America\",\"Usaqu\\u00e9n\",\"Zona Noroccidental\",\"Antonio Nari\\u00f1o\",\"Ciudad Bol\\u00edvar\",\"San Patricio\",\"Pasadena \",\"Bosa\",\"Bosa\",\"Bosa\",\"Bosa\",\"Bosa\",\"Zona Noroccidental\",\"Bosa\",\"Bosa\",\"Usaqu\\u00e9n\",\"Zona Noroccidental\",\"El Retiro\",\"Fontib\\u00f3n\",\"Cedritos\",\"Chapinero\",\"Santa Fe\",\"Kennedy\",\"Kennedy\",\"Kennedy\",\"La Merced\",\"Chapinero\",\"Quinta Paredes\",\"Chapinero\",\"Quinta Paredes\",\"Quinta Paredes\",\"Kennedy\",\"Kennedy\",\"Kennedy\",\"Kennedy\",\"Kennedy\",\"Kennedy\",\"Kennedy\",\"Kennedy\",\"Los Rosales\",\"Venecia\",\"Kennedy\",\"San Diego\",\"El Refugio\",\"Teusaquillo\",\"Quinta Paredes\",\"Ciudad Salitre\",\"Kennedy\",\"Ciudad Salitre\",\"Ciudad Salitre\",\"Chapinero Central\",\"Villas De Granada\",\"Chico Reservado\",\"El Bat\\u00e1n\",\"Chico Reservado\",\"Zona Noroccidental\",\"La Calleja\",\"Santa Barbara\",\"San Patricio\",\"Engativa\",\"Mirandela \",\"Santa Barbara\",\"Santa Barbara\",\"Santa Barbara\",\"Santa Teresa\",\"La Calleja\",\"Mirandela \",\"Usaqu\\u00e9n\",\"Usaqu\\u00e9n\",\"Usaqu\\u00e9n\",\"Bosa\",\"Usaqu\\u00e9n\",\"Usaqu\\u00e9n\",\"Usaqu\\u00e9n\",\"Zona Noroccidental\",\"Santa Barbara\",\"Usaqu\\u00e9n\",\"Santa Barbara\",\"Zona Noroccidental\",\"Usaqu\\u00e9n\",\"Quirigua\",\"Engativa\",\"Engativa\",\"Fontib\\u00f3n\",\"Engativa\",\"Engativa\",\"Engativa\",\"Engativa\",\"Usaqu\\u00e9n\",\"Santa Barbara\",\"La Calleja\",\"La Calleja\",\"La Calleja\",\"Usaqu\\u00e9n\",\"Chapinero Alto\",\"El Chic\\u00f3\",\"Kennedy\",\"Kennedy\",\"Kennedy\",\"Kennedy\",\"Kennedy\",\"Ciudad Salitre\",\"Ciudad Salitre\",\"Chapinero Central\",\"San Cristobal\",\"El Retiro\",\"Ciudad Salitre\",\"Nicolas De Federman\",\"El Refugio\",\"Usaqu\\u00e9n\",\"Santa Ana\",\"Chapinero\",\"Zona Noroccidental\",\"Zona Noroccidental\",\"El Bat\\u00e1n\",\"El Refugio\",\"Usaqu\\u00e9n\",\"Zona Noroccidental\",\"Zona Noroccidental\",\"Nicolas De Federman\",\"Santa Barbara\",\"Cedritos\",\"Ciudad Bol\\u00edvar\",\"Zona Noroccidental\",\"Chapinero\",\"Zona Noroccidental\",\"Bosa\",\"Zona Noroccidental\",\"Bosa\",\"Bosa\",\"Usaqu\\u00e9n\",\"Zona Noroccidental\",\"Colina Campestre\",\"Zona Noroccidental\",\"Santa Barbara\",\"Santa Fe\",\"Fontib\\u00f3n\",\"Kennedy\",\"Zona Noroccidental\",\"Teusaquillo\",\"Bosa\",\"Metropolis\",\"Bosa\",\"Bosa\",\"Santa Fe\",\"Bosa\",\"Santa Barbara\",\"Ciudad Bol\\u00edvar\",\"Ciudad Bol\\u00edvar\",\"Madelena\",\"Chico Reservado\",\"Chico Reservado\",\"Zona Noroccidental\",\"Zona Noroccidental\",\"Zona Noroccidental\",\"Chapinero\",\"Zona Noroccidental\",\"Zona Noroccidental\",\"Cedritos\",\"El Retiro\",\"Usaqu\\u00e9n\",\"Bella Suiza\",\"Usaqu\\u00e9n\",\"Chico Norte\",\"Chico Norte\",\"Chico Norte\",\"Ciudad Salitre\",\"Ciudad Salitre\",\"Chico Norte\",\"Nicolas De Federman\",\"Nicolas De Federman\",\"Santa Barbara\",\"Zona Noroccidental\",\"Zona Noroccidental\",\"Santa Barbara\",\"Cedritos\",\"Portales Del Norte\",\"Bosa\",\"Mirandela \",\"El Chic\\u00f3\",\"Bella Suiza\",\"El Bat\\u00e1n\",\"El Bat\\u00e1n\",\"Zona Noroccidental\",\"El Contador\",\"Usaqu\\u00e9n\",\"Bosa\",\"Bosa\",\"Zona Noroccidental\",\"Usaqu\\u00e9n\",\"Usaqu\\u00e9n\",\"Bosa\",\"Bosa\",\"Usaqu\\u00e9n\",\"Zona Noroccidental\",\"Zona Noroccidental\",\"Zona Noroccidental\",\"Usaqu\\u00e9n\",\"Cedritos\",\"Santa Fe\",\"Madelena\",\"Restrepo\",\"Usme\",\"Santa Fe\",\"Ciudad Bol\\u00edvar\",\"Santa Fe\",\"Usaqu\\u00e9n\",\"Chico Norte\",\"Ciudad Salitre\",\"Ciudad Salitre\",\"Chico Norte\",\"Santa Paula\",\"Chico Norte\",\"Nicolas De Federman\",\"El Bat\\u00e1n\",\"Chico Norte\",\"Nicolas De Federman\",\"Bosa\",\"Ciudad Salitre\",\"Chico Norte\",\"Chico Norte\",\"Chico Norte\",\"Santa Barbara\",\"Metropolis\",\"Zona Noroccidental\",\"Zona Noroccidental\",\"Zona Noroccidental\",\"Zona Noroccidental\",\"Zona Noroccidental\",\"Andes Norte\",\"Engativa\",\"Cedritos\",\"Zona Noroccidental\",\"Usaqu\\u00e9n\",\"Fontib\\u00f3n\",\"Engativa\",\"Zona Noroccidental\",\"Zona Noroccidental\",\"El Bat\\u00e1n\",\"Fontib\\u00f3n\",\"Santa Barbara\",\"Cedritos\",\"Cedritos\",\"Chapinero\",\"Los Rosales\",\"Cedritos\",\"El Chic\\u00f3\",\"El Chic\\u00f3\",\"Zona Noroccidental\",\"Cedritos\",\"Bosa\",\"Zona Noroccidental\",\"Chico Norte\",\"Chico Norte\",\"Tintala\",\"Chico Reservado\",\"Tintala\",\"Usaqu\\u00e9n\",\"Usaqu\\u00e9n\",\"Chico Norte\",\"Engativa\",\"Chico Reservado\",\"Chico Reservado\",\"Chico Reservado\",\"Ciudad Bol\\u00edvar\",\"Ciudad Bol\\u00edvar\",\"Santa Fe\",\"Bosa\",\"Bosa\",\"Bosa\",\"Bosa\",\"Chico Reservado\",\"Zona Noroccidental\",\"Zona Noroccidental\",\"Tintala\",\"Usaqu\\u00e9n\",\"Engativa\",\"Engativa\",\"Santa Barbara\",\"El Salitre\",\"Cedritos\",\"Cedritos\",\"Chapinero\",\"Cedritos\",\"Cedritos\",\"Bella Suiza\",\"Santa Barbara\",\"Usaqu\\u00e9n\",\"Usaqu\\u00e9n\",\"Usaqu\\u00e9n\",\"Usaqu\\u00e9n\",\"Usaqu\\u00e9n\",\"Usaqu\\u00e9n\",\"Usaqu\\u00e9n\",\"Usaqu\\u00e9n\",\"Cedritos\",\"Usaqu\\u00e9n\",\"Engativa\",\"Puente Aranda\",\"Bella Suiza\",\"Zona Noroccidental\",\"Usaqu\\u00e9n\",\"Santa Barbara\",\"Usaqu\\u00e9n\",\"Usaqu\\u00e9n\",\"Fontib\\u00f3n\",\"Cedritos\",\"Fontib\\u00f3n\",\"Zona Noroccidental\",\"Zona Noroccidental\",\"Cedritos\",\"Bosa\",\"Nueva Zelandia\",\"Cedritos\",\"Bosa\",\"Barrios Unidos\",\"Usaqu\\u00e9n\",\"Cedritos\",\"Usaqu\\u00e9n\",\"Usaqu\\u00e9n\",\"Santa Barbara\",\"Nueva Zelandia\",\"Zona Noroccidental\",\"Zona Noroccidental\",\"Bosa\",\"Los Rosales\",\"La Candelaria\",\"Chapinero\",\"Zona Noroccidental\",\"San Patricio\",\"Bogot\\u00e1 D.C\",\"Los Rosales\",\"Usaqu\\u00e9n\",\"Usaqu\\u00e9n\",\"Bosa\",\"Kennedy\",\"Zona Noroccidental\",\"Portales Del Norte\",\"Mazuren\",\"Mazuren\",\"Mazuren\",\"Mazuren\",\"Usaqu\\u00e9n\",\"Normandia\",\"Bella Suiza\",\"Bella Suiza\",\"Chico Reservado\",\"Ciudad Salitre\",\"Santa Teresa\",\"Puente Aranda\",\"Usaqu\\u00e9n\",\"Kennedy\",\"Zona Noroccidental\",\"Portales Del Norte\",\"San Patricio\",\"San Patricio\",\"El Plan\",\"Zona Noroccidental\",\"San Patricio\",\"Los Rosales\",\"Zona Noroccidental\",\"El Plan\",\"San Patricio\",\"Zona Noroccidental\",\"Bella Suiza\",\"Chapinero\",\"El Plan\",\"Bella Suiza\",\"Cantagallo\",\"Usaqu\\u00e9n\",\"Mazuren\",\"Usaqu\\u00e9n\",\"San Patricio\",\"Mazuren\",\"Mazuren\",\"Mazuren\",\"Bella Suiza\",\"Kennedy\",\"San Patricio\",\"Engativa\",\"Engativa\",\"Mazuren\",\"Mazuren\",\"Puente Aranda\",\"Zona Noroccidental\",\"Zona Noroccidental\",\"Kennedy\",\"Engativa\",\"Zona Noroccidental\",\"Zona Noroccidental\",\"Cantagallo\",\"Mazuren\",\"Tintala\",\"San Patricio\",\"Bella Suiza\",\"San Patricio\",\"Mazuren\",\"San Patricio\",\"Mazuren\",\"Mazuren\",\"Mazuren\",\"Mazuren\",\"Engativa\",\"Usaqu\\u00e9n\",\"Zona Noroccidental\",\"Santa Barbara\",\"Usaqu\\u00e9n\",\"Mazuren\",\"Cedritos\",\"Kennedy\",\"Puente Largo\",\"Usaqu\\u00e9n\",\"Santa Barbara\",\"Usaqu\\u00e9n\",\"Zona Noroccidental\",\"Zona Noroccidental\",\"Zona Noroccidental\",\"Pasadena \",\"Zona Noroccidental\",\"Pasadena \",\"Kennedy\",\"Chapinero\",\"Usaqu\\u00e9n\",\"Chico Reservado\",\"El Bat\\u00e1n\",\"El Bat\\u00e1n\",\"Mirandela \",\"Tintala\",\"Zona Noroccidental\",\"Kennedy\",\"Santa Barbara\",\"Zona Noroccidental\",\"Zona Noroccidental\",\"Zona Noroccidental\",\"Cedritos\",\"El Bat\\u00e1n\",\"San Patricio\",\"Kennedy\",\"El Bat\\u00e1n\",\"Fontib\\u00f3n\",\"El Bat\\u00e1n\",\"Zona Noroccidental\",\"Chico Reservado\",\"Engativa\",\"Engativa\",\"Engativa\",\"Engativa\",\"Villa Maria\",\"Chapinero Central\",\"Engativa\",\"Villa Maria\",\"Fontib\\u00f3n\",\"Chapinero\",\"El Chic\\u00f3\",\"Portales Del Norte\",\"Chapinero\",\"Chapinero\",\"Los Rosales\",\"Boyaca \",\"Cedritos\",\"Zona Noroccidental\",\"San Patricio\",\"Santa Barbara\",\"Santa Barbara\",\"Engativa\",\"Zona Noroccidental\",\"Zona Noroccidental\",\"Chapinero\",\"Chapinero Central\",\"Teusaquillo\",\"Chapinero\",\"Usaqu\\u00e9n\",\"Zona Noroccidental\",\"Usaqu\\u00e9n\",\"Usaqu\\u00e9n\",\"Usaqu\\u00e9n\",\"Cedritos\",\"El Bat\\u00e1n\",\"Santa Barbara\",\"Cedritos\",\"Usaqu\\u00e9n\",\"Usaqu\\u00e9n\",\"Usaqu\\u00e9n\",\"Usaqu\\u00e9n\",\"Usaqu\\u00e9n\",\"Cedritos\",\"Santa Barbara\",\"San Patricio\",\"Cedritos\",\"Bosa\",\"Cedritos\",\"Fontib\\u00f3n\",\"Usaqu\\u00e9n\",\"Zona Noroccidental\",\"Usaqu\\u00e9n\",\"Usaqu\\u00e9n\",\"Zona Noroccidental\",\"Zona Noroccidental\",\"Zona Noroccidental\",\"Zona Noroccidental\",\"Usaqu\\u00e9n\",\"Santa Barbara\",\"Santa Barbara\",\"Chapinero\",\"Zona Noroccidental\",\"Zona Noroccidental\",\"Kennedy\",\"Zona Noroccidental\",\"Engativa\",\"Zona Noroccidental\",\"Engativa\",\"Engativa\",\"Usaqu\\u00e9n\",\"Usaqu\\u00e9n\",\"Libertador\",\"El Contador\",\"Kennedy\",\"Kennedy\",\"Zona Noroccidental\",\"Mazuren\",\"Cedritos\",\"Santa Barbara\",\"Santa Fe\",\"Barrios Unidos\",\"Engativa\",\"Zona Noroccidental\",\"Engativa\",\"Bosa\",\"Cedritos\",\"Cedritos\",\"El Plan\",\"Zona Noroccidental\",\"Usaqu\\u00e9n\",\"Cedritos\",\"Cedritos\",\"Usaqu\\u00e9n\",\"Usaqu\\u00e9n\",\"Santa Barbara\",\"San Patricio\",\"Cedritos\",\"Cedritos\",\"Usaqu\\u00e9n\",\"Santa Barbara\",\"Kennedy\",\"El Contador\",\"Tintala\",\"Zona Noroccidental\",\"El Bat\\u00e1n\",\"Fontib\\u00f3n\",\"Santa Barbara\",\"Zona Noroccidental\",\"Usaqu\\u00e9n\",\"Santa Barbara\",\"Usaqu\\u00e9n\",\"Usaqu\\u00e9n\",\"Usaqu\\u00e9n\",\"Zona Noroccidental\",\"Usaqu\\u00e9n\",\"Usaqu\\u00e9n\",\"Bosa\",\"Mazuren\",\"Mazuren\",\"Chico Reservado\",\"Portales Del Norte\",\"Santa Barbara\",\"Cedritos\",\"Ciudad Salitre\",\"La Uribe\",\"Santa Barbara\",\"Chapinero\",\"Santa Barbara\",\"Usaqu\\u00e9n\",\"Zona Noroccidental\",\"Cedritos\",\"Usaqu\\u00e9n\",\"Ciudadela Colsubsidio\",\"Barrios Unidos\",\"Bosa\",\"Teusaquillo\",\"Zona Noroccidental\",\"Zona Noroccidental\",\"Bosa\",\"Santa Barbara\",\"Santa Barbara\",\"Santa Barbara\",\"Barrios Unidos\",\"Mazuren\",\"Zona Noroccidental\",\"Santa Barbara\",\"Santa Barbara\",\"Cedritos\",\"Zona Noroccidental\",\"Zona Noroccidental\",\"Chapinero\",\"Los Rosales\",\"Tintala\",\"Kennedy\",\"Engativa\",\"Usaqu\\u00e9n\",\"Kennedy\",\"Tintala\",\"Engativa\",\"Kennedy\",\"Barrios Unidos\",\"Kennedy\",\"San Patricio\",\"El Contador\",\"Mazuren\",\"Mazuren\",\"Cedritos\",\"San Patricio\",\"Ciudad Bol\\u00edvar\",\"Usaqu\\u00e9n\",\"Zona Noroccidental\",\"Kennedy\",\"Zona Noroccidental\",\"El Bat\\u00e1n\",\"El Bat\\u00e1n\",\"Engativa\",\"Bosa\",\"Gran Granada\",\"Tintala\",\"Zona Noroccidental\",\"El Chic\\u00f3\",\"Zona Noroccidental\",\"El Bat\\u00e1n\",\"Zona Noroccidental\",\"Cedritos\",\"Gran Granada\",\"Zona Noroccidental\",\"Usaqu\\u00e9n\",\"Bosa\",\"Santa Barbara\",\"Santa Barbara\",\"Santa Barbara\",\"Barrios Unidos\",\"Mazuren\",\"Zona Noroccidental\",\"Santa Barbara\",\"Santa Barbara\",\"Cedritos\",\"Portales Del Norte\",\"Chico Reservado\",\"Usaqu\\u00e9n\",\"Usaqu\\u00e9n\",\"Portales Del Norte\",\"Portales Del Norte\",\"Santa Barbara\",\"Cedritos\",\"Usaqu\\u00e9n\",\"Zona Noroccidental\",\"Usaqu\\u00e9n\",\"Las Ferias\",\"Usaqu\\u00e9n\",\"Usaqu\\u00e9n\",\"Usaqu\\u00e9n\",\"Kennedy\",\"Chapinero\",\"Usaqu\\u00e9n\",\"Santa Barbara\",\"Rafael Uribe Uribe\",\"Santa Barbara\",\"Usaqu\\u00e9n\",\"Zona Noroccidental\",\"Chapinero\",\"Zona Noroccidental\",\"Barrios Unidos\",\"Kennedy\",\"Santa Barbara\",\"Kennedy\",\"Cantagallo\",\"Bosa\",\"Villa Maria\",\"Villa Maria\",\"Usaqu\\u00e9n\",\"Engativa\",\"Bosa\",\"Engativa\",\"Zona Noroccidental\",\"San Patricio\",\"Zona Noroccidental\",\"Quinta Paredes\",\"Villa Maria\",\"Barrios Unidos\",\"Chico Reservado\",\"Usaqu\\u00e9n\",\"Ciudad Salitre\",\"Zona Noroccidental\",\"Kennedy\",\"Palermo\",\"Usaqu\\u00e9n\",\"Zona Noroccidental\",\"Usaqu\\u00e9n\",\"Barrios Unidos\",\"Quinta Paredes\",\"Ciudad Salitre\",\"Modelia\",\"Engativa\",\"Hayuelos\",\"Bosa\",\"Capellania\",\"Zona Noroccidental\",\"Usme\",\"Cedritos\",\"Chico Reservado\",\"Cedritos\",\"Zona Noroccidental\",\"Chico Reservado\",\"Santa Barbara\",\"Bosa\",\"Cantagallo\",\"El Plan\",\"Kennedy\",\"Parque Central Bavaria\",\"Santa Barbara\",\"Engativa\",\"Cantagallo\",\"Usaqu\\u00e9n\",\"Cedritos\",\"Cedritos\",\"Usaqu\\u00e9n\",\"Hayuelos\",\"Cedritos\",\"Cantagallo\",\"Zona Noroccidental\",\"Engativa\",\"Zona Noroccidental\",\"Kennedy\",\"Fontib\\u00f3n\",\"Bosa\",\"Fontib\\u00f3n\",\"Bosa\",\"Bosa\",\"Usaqu\\u00e9n\",\"Bosa\",\"Barrios Unidos\",\"Zona Noroccidental\",\"Zona Noroccidental\",\"Zona Noroccidental\",\"Los Rosales\",\"Zona Noroccidental\",\"Zona Noroccidental\",\"Zona Noroccidental\",\"Villa Maria\",\"Villa Maria\",\"Zona Noroccidental\",\"Ciudad Salitre\",\"Villa Maria\",\"Nicolas De Federman\",\"Zona Noroccidental\",\"Zona Noroccidental\",\"Los M\\u00e1rtires\",\"Zona Noroccidental\",\"Bosa\",\"Mazuren\",\"Bosa\",\"Barrios Unidos\",\"Quinta Paredes\",\"Ciudad Salitre\",\"Modelia\",\"La Granja\",\"Capellania\",\"Bosa\",\"Palermo\",\"Kennedy\",\"Usaqu\\u00e9n\",\"Mazuren\",\"Usaqu\\u00e9n\",\"Santa Teresa\",\"El Plan\",\"Engativa\",\"Kennedy\",\"Chapinero\",\"Zona Noroccidental\",\"Ciudad Bol\\u00edvar\",\"Zona Noroccidental\",\"Quinta Paredes\",\"Santa Barbara\",\"Quinta Paredes\",\"Zona Noroccidental\",\"Zona Noroccidental\",\"Usaqu\\u00e9n\",\"Bosa\",\"Bosa\",\"Zona Noroccidental\",\"Barrios Unidos\",\"Bosa\",\"Tintala\",\"Engativa\",\"Gran Granada\",\"Engativa\",\"Engativa\",\"Engativa\",\"Usaqu\\u00e9n\",\"Zona Noroccidental\",\"Engativa\",\"El Bat\\u00e1n\",\"Kennedy\",\"Engativa\",\"Zona Noroccidental\",\"Las Ferias\",\"Engativa\",\"Bosa\",\"El Plan\",\"Zona Noroccidental\",\"Barrancas\",\"Santa Librada\",\"San Cristobal\",\"Engativa\",\"Chapinero\",\"Usaqu\\u00e9n\",\"El Bat\\u00e1n\",\"Engativa\",\"Kennedy\",\"Engativa\",\"Zona Noroccidental\",\"Usaqu\\u00e9n\",\"Santa Barbara\",\"Santa Barbara\",\"Chapinero\",\"Santa Barbara\",\"Barrancas\",\"Barrios Unidos\",\"Usaqu\\u00e9n\",\"El Plan\",\"Usaqu\\u00e9n\",\"Zona Noroccidental\",\"Zona Noroccidental\",\"Engativa\",\"Engativa\",\"Engativa\",\"Zona Noroccidental\",\"Portales Del Norte\",\"Usaqu\\u00e9n\",\"Portales Del Norte\",\"Usaqu\\u00e9n\",\"Cedritos\",\"Cedritos\",\"Portales Del Norte\",\"Usaqu\\u00e9n\",\"Villa Maria\",\"Villa Maria\",\"Bosa\",\"Usaqu\\u00e9n\",\"Cantagallo\",\"Portales Del Norte\",\"Usaqu\\u00e9n\",\"Santa Barbara\",\"Zona Noroccidental\",\"Hayuelos\",\"Cedritos\",\"Cantagallo\",\"Engativa\",\"Zona Noroccidental\",\"Kennedy\",\"Fontib\\u00f3n\",\"Bosa\",\"Fontib\\u00f3n\",\"Bosa\",\"Bosa\",\"Quirigua\",\"Zona Noroccidental\",\"Santa Fe\",\"Barrios Unidos\",\"Barrios Unidos\",\"El Bat\\u00e1n\",\"Marly\",\"Santa Barbara\",\"Cedritos\",\"Chapinero\",\"Chapinero\",\"Zona Noroccidental\",\"Zona Noroccidental\",\"Santa Fe\",\"Zona Noroccidental\",\"Engativa\",\"Fontib\\u00f3n\",\"Usaqu\\u00e9n\",\"Usaqu\\u00e9n\",\"Zona Noroccidental\",\"Usaqu\\u00e9n\",\"Teusaquillo\",\"Tunjuelito\",\"Zona Noroccidental\",\"Usaqu\\u00e9n\",\"Usaqu\\u00e9n\",\"Teusaquillo\",\"Zona Noroccidental\",\"Engativa\",\"El Chic\\u00f3\",\"Zona Noroccidental\",\"Usaqu\\u00e9n\",\"Usaqu\\u00e9n\",\"Usaqu\\u00e9n\",\"Usaqu\\u00e9n\",\"Zona Noroccidental\",\"Zona Noroccidental\",\"Engativa\",\"Bella Suiza\",\"Barrios Unidos\",\"Zona Noroccidental\",\"Cedritos\",\"Cedritos\",\"Fontib\\u00f3n\",\"Chico Reservado\",\"Chico Reservado\",\"Zona Noroccidental\",\"Zona Noroccidental\",\"Zona Noroccidental\",\"Zona Noroccidental\",\"Zona Noroccidental\",\"Zona Noroccidental\",\"Cedritos\",\"Zona Noroccidental\",\"Santa Barbara\",\"Zona Noroccidental\",\"Chapinero\",\"Zona Noroccidental\",\"Chico Reservado\",\"Zona Noroccidental\",\"Zona Noroccidental\",\"Chapinero\",\"Usaqu\\u00e9n\",\"Chico Reservado\",\"Suba\",\"Cedritos\",\"Engativa\",\"Suba\",\"Barrios Unidos\",\"Santa Barbara\",\"Chapinero\",\"Kennedy\",\"Usaqu\\u00e9n\",\"Chapinero\",\"Chico Reservado\",\"Barrios Unidos\",\"Suba\",\"Usaqu\\u00e9n\",\"Suba\",\"Usme\",\"Barrios Unidos\",\"Barrios Unidos\",\"Kennedy\",\"Gran Granada\",\"Bella Suiza\",\"Teusaquillo\",\"Chapinero Alto\",\"Santa Fe\",\"El Chic\\u00f3\",\"Salitre \",\"Suba\",\"Barrios Unidos\",\"Usaqu\\u00e9n\",\"Fontib\\u00f3n\",\"Chapinero\",\"Cedritos\",\"Usaqu\\u00e9n\",\"Barrios Unidos\",\"Suba\",\"Los Rosales\",\"Chapinero\",\"Usaqu\\u00e9n\",\"Engativa\",\"Teusaquillo\",\"Engativa\",\"Santa Barbara\",\"Kennedy\",\"Barrios Unidos\",\"Pasadena \",\"Barrios Unidos\",\"Suba\",\"Cedritos\",\"Santa Barbara\",\"Barrios Unidos\",\"Suba\",\"Suba\",\"Kennedy\",\"Kennedy\",\"Cedritos\",\"La Calleja\",\"Barrios Unidos\",\"San Cristobal\",\"Engativa\",\"Los M\\u00e1rtires\",\"Cedritos\",\"Barrios Unidos\",\"Cedritos\",\"Rafael Uribe Uribe\",\"San Luis\",\"Kennedy\",\"Usaqu\\u00e9n\",\"Barrios Unidos\",\"Suba\",\"Barrios Unidos\",\"Barrios Unidos\",\"Chapinero\",\"Marly\",\"Gran America\",\"Santa Barbara\",\"Suba\",\"Chapinero\",\"Barrios Unidos\",\"Puente Aranda\",\"Barrios Unidos\",\"Barrios Unidos\",\"Barrios Unidos\",\"La Calleja\",\"Suba\",\"El Bat\\u00e1n\",\"Barrios Unidos\",\"Barrios Unidos\",\"Engativa\",\"Barrios Unidos\",\"Cedritos\",\"Barrios Unidos\",\"Cedritos\",\"Barrios Unidos\",\"Barrios Unidos\",\"Cedritos\",\"Usaqu\\u00e9n\",\"Barrios Unidos\",\"Kennedy\",\"Barrios Unidos\",\"Usaqu\\u00e9n\",\"Barrios Unidos\",\"Barrios Unidos\",\"Barrios Unidos\",\"Usaqu\\u00e9n\",\"San Patricio\",\"Cedritos\",\"La Calleja\",\"Barrios Unidos\",\"Barrios Unidos\",\"Barrios Unidos\",\"Villemar\",\"Quinta Camacho\",\"Santa Barbara\",\"Barrios Unidos\",\"Tintala\",\"Kennedy\",\"Barrios Unidos\",\"Barrios Unidos\",\"Barrios Unidos\",\"Tintala\",\"Kennedy\",\"Barrios Unidos\",\"Barrios Unidos\",\"Barrios Unidos\",\"Barrios Unidos\",\"Pasadena \",\"Barrios Unidos\",\"San Cristobal\",\"Barrios Unidos\",\"San Patricio\",\"Suba\",\"Barrios Unidos\",\"Barrios Unidos\",\"Normandia\",\"Barrios Unidos\",\"Barrios Unidos\",\"Barrios Unidos\",\"Kennedy\",\"Barrios Unidos\",\"Alhambra\",\"Salitre \",\"Barrios Unidos\",\"San Patricio\",\"Zona Noroccidental\",\"Ciudad Berna\",\"Colina Campestre\",\"Usaqu\\u00e9n\",\"Modelia\",\"Suba\",\"Cedritos\",\"Cedritos\",\"Rafael Uribe Uribe\",\"Barrios Unidos\",\"San Cristobal\",\"Chico Reservado\",\"Barrios Unidos\",\"Teusaquillo\",\"Gran Granada\",\"Barrios Unidos\",\"Barrios Unidos\",\"Barrios Unidos\",\"Santa Barbara\",\"Barrios Unidos\",\"Suba\",\"Barrios Unidos\",\"Cedritos\",\"Barrios Unidos\",\"Quinta Camacho\",\"Barrios Unidos\",\"Barrios Unidos\",\"Barrios Unidos\",\"San Patricio\",\"Santa Barbara\",\"Barrios Unidos\",\"Barrios Unidos\",\"Barrios Unidos\",\"Barrios Unidos\",\"Barrios Unidos\",\"Tintala\",\"Usaqu\\u00e9n\",\"Santa Barbara\",\"El Chic\\u00f3\",\"Chico Navarra\",\"Usaqu\\u00e9n\",\"Usaqu\\u00e9n\",\"Cedritos\",\"Santa Paula\",\"Santa Barbara\",\"San Patricio\",\"Santa Barbara\",\"Santa Barbara\",\"Usaqu\\u00e9n\",\"Usaqu\\u00e9n\",\"Bella Suiza\",\"Madelena\",\"Zona Noroccidental\",\"Los Rosales\",\"Santa Barbara\",\"Engativa\",\"Los Rosales\",\"Bosa\",\"Cedritos\",\"Usaqu\\u00e9n\",\"Usaqu\\u00e9n\",\"Usaqu\\u00e9n\",\"Barrios Unidos\",\"Barrios Unidos\",\"Barrios Unidos\",\"Las Nieves\",\"Normandia\",\"Usaqu\\u00e9n\",\"Modelia\",\"Barrios Unidos\",\"Bella Suiza\",\"Pasadena \",\"Usaqu\\u00e9n\",\"Kennedy\",\"Usaqu\\u00e9n\",\"Villa Alsacia\",\"La Calleja\",\"Puente Aranda\",\"Chapinero\",\"Puente Aranda\",\"Suba\",\"La Calleja\",\"Kennedy\",\"Suba\",\"Quinta Camacho\",\"Barrios Unidos\",\"Santa Barbara\",\"Barrios Unidos\",\"Puente Largo\",\"Chico Norte Ii\",\"Chapinero\",\"El Bat\\u00e1n\",\"Barrios Unidos\",\"Barrios Unidos\",\"Lagos De Cordoba\",\"Chapinero\",\"El Bat\\u00e1n\",\"Barrios Unidos\",\"Barrios Unidos\",\"Lagos De Cordoba\",\"Engativa\",\"Barrios Unidos\",\"Palermo\",\"Usaqu\\u00e9n\",\"Chico Norte\",\"Cedritos\",\"Fontib\\u00f3n\",\"Normandia\",\"Teusaquillo\",\"Suba\",\"Teusaquillo\",\"Usaqu\\u00e9n\",\"Engativa\",\"Chapinero\",\"Kennedy\",\"Sotavento\",\"Usaqu\\u00e9n\",\"Suba\",\"Usaqu\\u00e9n\",\"Kennedy\",\"Engativa\",\"Antonio Nari\\u00f1o\",\"Tintala\",\"Suba\",\"Usaqu\\u00e9n\",\"Santa Barbara\",\"Chico Reservado\",\"Chico Norte\",\"Suba\",\"Barrios Unidos\",\"Kennedy\",\"Barrios Unidos\",\"Barrios Unidos\",\"Barrios Unidos\",\"Los M\\u00e1rtires\",\"Barrios Unidos\",\"Usaqu\\u00e9n\",\"Engativa\",\"Usaqu\\u00e9n\",\"Bella Suiza\",\"Zona Noroccidental\",\"Bella Suiza\",\"Suba\",\"Barrios Unidos\",\"Barrios Unidos\",\"Barrios Unidos\",\"Barrios Unidos\",\"Chapinero Central\",\"Barrios Unidos\",\"Cedritos\",\"Alhambra\",\"Kennedy\",\"Engativa\",\"Barrios Unidos\",\"Bella Suiza\",\"Cedritos\",\"Usaqu\\u00e9n\",\"Zona Noroccidental\",\"Zona Noroccidental\",\"Kennedy\",\"Zona Noroccidental\",\"Chico Reservado\",\"Zona Noroccidental\",\"Usaqu\\u00e9n\",\"Teusaquillo\",\"Cedritos\",\"Usaqu\\u00e9n\",\"Chico Reservado\",\"Usaqu\\u00e9n\",\"Teusaquillo\",\"Teusaquillo\",\"Zona Noroccidental\",\"Santa Fe\",\"Zona Noroccidental\",\"Chico Reservado\",\"Usaqu\\u00e9n\",\"Puente Aranda\",\"Chico Reservado\",\"Cedritos\",\"Barrios Unidos\",\"Usaqu\\u00e9n\",\"Usaqu\\u00e9n\",\"Puente Aranda\",\"El Chic\\u00f3\",\"Zona Noroccidental\",\"Santa Barbara\",\"Fontib\\u00f3n\",\"Usaqu\\u00e9n\",\"Barrios Unidos\",\"Usaqu\\u00e9n\",\"Barrios Unidos\",\"Barrios Unidos\",\"Barrios Unidos\",\"Pontevedra \",\"La Granja\",\"Suba\",\"Madelena\",\"Barrios Unidos\",\"Barrios Unidos\",\"Buenos Aires\",\"Suba\",\"Barrios Unidos\",\"Barrios Unidos\",\"Usaqu\\u00e9n\",\"Chico Norte\",\"Fontib\\u00f3n\",\"Kennedy\",\"Usaqu\\u00e9n\",\"Barrios Unidos\",\"Suba\",\"Barrios Unidos\",\"Barrios Unidos\",\"Cedritos\",\"Chapinero\",\"Villa Alsacia\",\"Chico Reservado\",\"Barrios Unidos\",\"Santa Barbara\",\"Barrios Unidos\",\"Barrios Unidos\",\"Barrancas\",\"Usaqu\\u00e9n\",\"Santa Barbara\",\"Villa Alsacia\",\"Barrios Unidos\",\"Barrios Unidos\",\"Nueva Autopista\",\"Barrios Unidos\",\"Bosa\",\"Puente Aranda\",\"Pinar De Suba\",\"Suba\",\"Los Rosales\",\"Cedritos\",\"Suba\",\"Santa Barbara\",\"Usaqu\\u00e9n\",\"Suba\",\"Suba\",\"Suba\",\"Suba\",\"Suba\",\"Suba\",\"Suba\",\"Suba\",\"El Bat\\u00e1n\",\"Teusaquillo\",\"Chapinero\",\"Barrios Unidos\",\"Santa Barbara\",\"Zona Noroccidental\",\"Suba\",\"Chico Navarra\",\"Cedritos\",\"Suba\",\"Nicolas De Federman\",\"Usaqu\\u00e9n\",\"Santa Barbara\",\"Barrios Unidos\",\"Barrios Unidos\",\"San Cristobal\",\"Barrios Unidos\",\"Barrios Unidos\",\"Pasadena \",\"Barrios Unidos\",\"Barrios Unidos\",\"Barrios Unidos\",\"Barrios Unidos\",\"Barrios Unidos\",\"Barrios Unidos\",\"Barrios Unidos\",\"Barrios Unidos\",\"Santa Barbara\",\"Barrios Unidos\",\"Castilla\",\"Chapinero Alto\",\"Chico Norte\",\"Chapinero Alto\",\"Los Rosales\",\"Usaqu\\u00e9n\",\"Chapinero Central\",\"Usaqu\\u00e9n\",\"Colina Campestre\",\"Chico Reservado\",\"Teusaquillo\",\"Santa Barbara\",\"Los Rosales\",\"Chico Norte\",\"Chapinero\",\"Chapinero\",\"Los Rosales\",\"Chico Norte\",\"Chapinero\",\"Chapinero\",\"Chapinero\",\"Ricaurte\",\"Chico Reservado\",\"Los Rosales\",\"Barrios Unidos\",\"Zona Noroccidental\",\"Teusaquillo\",\"Teusaquillo\",\"Santa Barbara\",\"Usaqu\\u00e9n\",\"Cedritos\",\"Usaqu\\u00e9n\",\"Usaqu\\u00e9n\",\"Usaqu\\u00e9n\",\"Suba\",\"Suba\",\"Puente Aranda\",\"Cedritos\",\"Nueva Autopista\",\"Teusaquillo\",\"Las Nieves\",\"Usaqu\\u00e9n\",\"Suba\",\"Suba\",\"Chapinero\",\"Suba\",\"Santa Barbara\",\"Kennedy\",\"Suba\",\"Suba\",\"Fontib\\u00f3n\",\"Usaqu\\u00e9n\",\"Bella Suiza\",\"Usaqu\\u00e9n\",\"Madelena\",\"Zona Noroccidental\",\"Cedritos\",\"Barrios Unidos\",\"Engativa\",\"Zona Noroccidental\",\"Santa Barbara\",\"La Candelaria\",\"La Candelaria\",\"Bogot\\u00e1 D.C\",\"La Candelaria\",\"Bella Suiza\",\"Zona Noroccidental\",\"Zona Noroccidental\",\"Usaqu\\u00e9n\",\"Zona Noroccidental\",\"Zona Noroccidental\",\"Suba\",\"Santa Barbara\",\"Cedritos\",\"Villas De Granada\",\"Engativa\",\"Zona Noroccidental\",\"Engativa\",\"Veraguas\",\"Fontib\\u00f3n\",\"Las Nieves\",\"Bosa\",\"Teusaquillo\",\"Kennedy\",\"El Chic\\u00f3\",\"Quinta Paredes\",\"Teusaquillo\",\"Metropolis\",\"Restrepo\",\"Veraguas\",\"Chico Reservado\",\"Teusaquillo\",\"Metropolis\",\"Restrepo\",\"Veraguas\",\"Chico Reservado\",\"Rafael Uribe Uribe\",\"Kennedy\",\"Barrios Unidos\",\"Bosque Popular\",\"Madelena\",\"Fontib\\u00f3n\",\"Los M\\u00e1rtires\",\"Teusaquillo\",\"Las Aguas\",\"Santa Fe\",\"Chico Norte\",\"Tunjuelito\",\"El Chic\\u00f3\",\"Kennedy\",\"Zona Noroccidental\",\"Barrios Unidos\",\"Barrios Unidos\",\"Chico Reservado\",\"San Patricio\",\"Sotavento\",\"Pasadena \",\"Fontib\\u00f3n\",\"Barrios Unidos\",\"Barrios Unidos\",\"Barrios Unidos\",\"El Bat\\u00e1n\",\"El Salitre\",\"Suba\",\"Kennedy\",\"Barrios Unidos\",\"Cedritos\",\"Antonio Nari\\u00f1o\",\"Usaqu\\u00e9n\",\"Chico Reservado\",\"Modelia\",\"Modelia\",\"El Bat\\u00e1n\",\"La Calleja\",\"Chico Reservado\",\"Engativa\",\"Usaqu\\u00e9n\",\"Suba\",\"Suba\",\"Engativa\",\"Cedritos\",\"El Bat\\u00e1n\",\"Usaqu\\u00e9n\",\"San Patricio\",\"Cedritos\",\"Barrios Unidos\",\"Engativa\",\"Antonio Nari\\u00f1o\",\"Usaqu\\u00e9n\",\"Suba\",\"Usaqu\\u00e9n\",\"Barrios Unidos\",\"Barrios Unidos\",\"Barrios Unidos\",\"Barrios Unidos\",\"Barrios Unidos\",\"Quinta Camacho\",\"Engativa\",\"Barrios Unidos\",\"Barrios Unidos\",\"Suba\",\"Barrios Unidos\",\"Barrios Unidos\",\"Barrios Unidos\",\"Barrios Unidos\",\"Barrios Unidos\",\"Barrios Unidos\",\"Barrios Unidos\",\"Kennedy\",\"Fontib\\u00f3n\",\"Barrios Unidos\",\"Barrios Unidos\",\"Barrios Unidos\",\"Barrios Unidos\",\"Barrios Unidos\",\"Barrios Unidos\",\"Barrios Unidos\",\"Barrios Unidos\",\"Barrios Unidos\",\"Barrios Unidos\",\"Suba\",\"Barrios Unidos\",\"Barrios Unidos\",\"Barrios Unidos\",\"Barrios Unidos\",\"Suba\",\"Barrios Unidos\",\"Barrios Unidos\",\"Barrios Unidos\",\"Engativa\",\"Chapinero\",\"Niza\",\"Chico Norte\",\"Chico Norte\",\"Los Rosales\",\"Chapinero\",\"Chico Norte\",\"Los Rosales\",\"Chico Norte\",\"Chico Norte\",\"Chapinero Alto\",\"Chico Reservado\",\"Los Rosales\",\"Chico Norte\",\"Chico Norte\",\"Suba\",\"La Candelaria\",\"Nicolas De Federman\",\"Usaqu\\u00e9n\",\"Los Rosales\",\"Engativa\",\"Chico Norte\",\"Chico Norte\",\"Kennedy\",\"Chico Reservado\",\"Castilla\",\"Mirandela \",\"Zona Noroccidental\",\"Los Rosales\",\"Chapinero Alto\",\"Gran Granada\",\"Usaqu\\u00e9n\",\"Zona Noroccidental\",\"Usaqu\\u00e9n\",\"Suba\",\"Cedritos\",\"Suba\",\"La Calleja\",\"Usaqu\\u00e9n\",\"Suba\",\"Suba\",\"Teusaquillo\",\"Cedritos\",\"Cedritos\",\"La Candelaria\",\"Zona Noroccidental\",\"Zona Noroccidental\",\"Cedritos\",\"Las Nieves\",\"Zona Noroccidental\",\"Los Rosales\",\"Zona Noroccidental\",\"Zona Noroccidental\",\"Fontib\\u00f3n\",\"Zona Noroccidental\",\"Engativa\",\"Fontib\\u00f3n\",\"Fontib\\u00f3n\",\"Fontib\\u00f3n\",\"Zona Noroccidental\",\"Usaqu\\u00e9n\",\"Suba\",\"Usaqu\\u00e9n\",\"Chico Reservado\",\"Chapinero\",\"Engativa\",\"Chico Norte\",\"Cedritos\",\"Castilla\",\"Zona Noroccidental\",\"Chapinero\",\"Santa Barbara\",\"Chapinero Alto\",\"Chico Navarra\",\"Teusaquillo\",\"Santa Barbara\",\"Restrepo\",\"Chico Norte Ii\",\"Hayuelos\",\"Santa Barbara\",\"Rafael Uribe Uribe\",\"Chapinero Central\",\"Chico Norte\",\"Chico Reservado\",\"Cedritos\",\"Bosque Popular\",\"Modelia\",\"Cedritos\",\"Usaqu\\u00e9n\",\"Los Rosales\",\"Pontevedra \",\"Chico Reservado\",\"Chico Reservado\",\"Bella Suiza\",\"Usme\",\"Los Rosales\",\"Chico Navarra\",\"Los Rosales\",\"Kennedy\",\"Santa Fe\",\"Pontevedra \",\"Santa Barbara\",\"Normandia\",\"Teusaquillo\",\"Chapinero Alto\",\"Chapinero Alto\",\"El Virrey\",\"Colina Campestre\",\"Chico Reservado\",\"La Salle\",\"Zona Noroccidental\",\"Ciudad Salitre\",\"Usaqu\\u00e9n\",\"Zona Noroccidental\",\"Pinar De Suba\",\"Santa Barbara\",\"Chapinero Alto\",\"Estrada\",\"Los Rosales\",\"Usaqu\\u00e9n\",\"Ciudad Bol\\u00edvar\",\"Zona Noroccidental\",\"Cedritos\",\"Usaqu\\u00e9n\",\"Los Rosales\",\"Kennedy\",\"Bella Suiza\",\"El Retiro\",\"Parque Central Bavaria\",\"Usaqu\\u00e9n\",\"Kennedy\",\"Usaqu\\u00e9n\",\"Ciudad Bol\\u00edvar\",\"Kennedy\",\"Usaqu\\u00e9n\",\"Santa Fe\",\"Usaqu\\u00e9n\",\"Kennedy\",\"Chapinero\",\"Zona Noroccidental\",\"Las Villas\",\"Chapinero Alto\",\"Bella Suiza\",\"Las Villas\",\"El Chic\\u00f3\",\"El Chic\\u00f3\",\"Cedritos\",\"Bella Suiza\",\"Barrios Unidos\",\"Usaqu\\u00e9n\",\"Zona Noroccidental\",\"Bella Suiza\",\"Villa Alsacia\",\"Zona Noroccidental\",\"Santa Fe\",\"Santa Barbara\",\"Chico Norte\",\"Engativa\",\"Kennedy\",\"Engativa\",\"Zona Noroccidental\",\"Chico Reservado\",\"Bella Suiza\",\"Usaqu\\u00e9n\",\"Los Rosales\",\"El Chic\\u00f3\",\"Cedritos\",\"Chapinero Alto\",\"Hayuelos\",\"Engativa\",\"Chico Norte\",\"Chico Norte\",\"Barrios Unidos\",\"Fontib\\u00f3n\",\"Chapinero\",\"Engativa\",\"Chapinero Alto\",\"El Virrey\",\"Bella Suiza\",\"El Virrey\",\"Usaqu\\u00e9n\",\"Chapinero\",\"Kennedy\",\"Zona Noroccidental\",\"Zona Noroccidental\",\"Usaqu\\u00e9n\",\"Chapinero Alto\",\"Chico Norte\",\"Mirandela \",\"Usaqu\\u00e9n\",\"Los Rosales\",\"Usaqu\\u00e9n\",\"Chapinero Alto\",\"Usaqu\\u00e9n\",\"Mazuren\",\"El Retiro\",\"Chapinero Alto\",\"Usaqu\\u00e9n\",\"Ciudad Salitre\",\"Usaqu\\u00e9n\",\"Ricaurte\",\"Chico Reservado\",\"Zona Noroccidental\",\"Nueva Castilla\",\"Usaqu\\u00e9n\",\"Cedritos\",\"Chico Norte\",\"Pasadena \",\"Suba\",\"Santa Barbara\",\"Cedritos\",\"Barrios Unidos\",\"Chico Norte\",\"Santa Barbara\",\"Chico Norte\",\"Alhambra\",\"Usaqu\\u00e9n\",\"Bella Suiza\",\"Pasadena \",\"Ciudad Bol\\u00edvar\",\"Usaqu\\u00e9n\",\"Cedritos\",\"Chico Reservado\",\"Castilla\",\"Kennedy\",\"Suba\",\"Barrios Unidos\",\"Santa Fe\",\"Zona Noroccidental\",\"El Chic\\u00f3\",\"Chapinero\",\"Barrios Unidos\",\"Usaqu\\u00e9n\",\"Cedritos\",\"Chapinero\",\"Santa Fe\",\"Usaqu\\u00e9n\",\"Barrios Unidos\",\"Barrios Unidos\",\"Castilla\",\"Suba\",\"Santa Fe\",\"Barrios Unidos\",\"Kennedy\",\"Usaqu\\u00e9n\",\"El Virrey\",\"Bella Suiza\",\"Zona Noroccidental\",\"Zona Noroccidental\",\"Zona Noroccidental\",\"Zona Noroccidental\",\"Zona Noroccidental\",\"Puente Largo\",\"Bosa\",\"Chico Norte\",\"Chico Reservado\",\"Chico Norte\",\"El Bat\\u00e1n\",\"Usaqu\\u00e9n\",\"Usaqu\\u00e9n\",\"Usaqu\\u00e9n\",\"Usaqu\\u00e9n\",\"Engativa\",\"Santa Ana\",\"Galerias\",\"Cedritos\",\"Cedritos\",\"Los M\\u00e1rtires\",\"Santa Barbara\",\"Zona Noroccidental\",\"Chapinero\",\"Chico Norte\",\"Usaqu\\u00e9n\",\"Chapinero Alto\",\"Rafael Uribe Uribe\",\"Tintala\",\"Lagos De Cordoba\",\"Galerias\",\"Zona Noroccidental\",\"Usaqu\\u00e9n\",\"Fontib\\u00f3n\",\"Kennedy\",\"Salitre \",\"Zona Noroccidental\",\"Gratamira\",\"Zona Noroccidental\",\"Ciudadela Colsubsidio\",\"Cedritos\",\"Madelena\",\"Madelena\",\"Madelena\",\"Bosa\",\"Bosa\",\"Bosa\",\"Zona Noroccidental\",\"Bosa\",\"Bosa\",\"Bosa\",\"Bosa\",\"Bosa\",\"Bosa\",\"Bosa\",\"Bosa\",\"Bosa\",\"Bosa\",\"Bosa\",\"Bosa\",\"Bosa\",\"Bosa\",\"Bosa\",\"Bosa\",\"Bosa\",\"Bosa\",\"Bosa\",\"Bosa\",\"Bosa\",\"Bosa\",\"Bosa\",\"Usaqu\\u00e9n\",\"Bosa\",\"Bosa\",\"Bosa\",\"Bosa\",\"Bosa\",\"Bosa\",\"Bosa\",\"Bosa\",\"Bosa\",\"Bosa\",\"Bosa\",\"Bosa\",\"Bosa\",\"Bosa\",\"Bosa\",\"Bosa\",\"Bosa\",\"Bosa\",\"Bosa\",\"Usaqu\\u00e9n\",\"Bosa\",\"Fontib\\u00f3n\",\"Engativa\",\"Bosa\",\"Bosa\",\"Bosa\",\"Bosa\",\"Bosa\",\"Bosa\",\"Bosa\",\"Bosa\",\"Bosa\",\"Bosa\",\"Bosa\",\"Bosa\",\"Bosa\",\"Bosa\",\"Bosa\",\"Bosa\",\"Bosa\",\"Bosa\",\"Bosa\",\"Bosa\",\"Bosa\",\"Bosa\",\"Bosa\",\"Bosa\",\"Bosa\",\"Bosa\",\"Bosa\",\"Bosa\",\"Bosa\",\"Bosa\",\"Bosa\",\"Bosa\",\"Bosa\",\"Bosa\",\"Bosa\",\"Bosa\",\"Bosa\",\"Bosa\",\"Bosa\",\"Bosa\",\"Bosa\",\"Bosa\",\"Bosa\",\"Bosa\",\"Bosa\",\"Bosa\",\"Bosa\",\"Bosa\",\"Bosa\",\"Bosa\",\"Bosa\",\"Bosa\",\"Bosa\",\"Bosa\",\"Bosa\",\"Bosa\",\"Bosa\",\"Bosa\",\"Bosa\",\"Bosa\",\"Bosa\",\"Bosa\",\"Bosa\",\"Bosa\",\"Bosa\",\"Bosa\",\"Bosa\",\"Bosa\",\"Bosa\",\"Rafael Uribe Uribe\",\"Normandia\",\"La Uribe\",\"Suba\",\"Salitre \",\"Kennedy\",\"Usaqu\\u00e9n\",\"Usaqu\\u00e9n\",\"El Bat\\u00e1n\",\"Usaqu\\u00e9n\",\"Chico Reservado\",\"Alameda\",\"Bella Suiza\",\"Chico Reservado\",\"Pasadena \",\"Gran America\",\"Madelena\",\"Parque Central Bavaria\",\"El Refugio\",\"El Refugio\",\"Zona Noroccidental\",\"Mirandela \",\"Ciudadela Colsubsidio\",\"Ciudad Bol\\u00edvar\",\"Ciudad Bol\\u00edvar\",\"El Chic\\u00f3\",\"Engativa\",\"Zona Noroccidental\",\"Zona Noroccidental\",\"Kennedy\",\"Bosa\",\"Bosa\",\"Bosa\",\"Bosa\",\"Bosa\",\"Bosa\",\"Bosa\",\"Bosa\",\"Bosa\",\"Bosa\",\"Bosa\",\"Bosa\",\"Bosa\",\"Bosa\",\"Bosa\",\"Bosa\",\"Bosa\",\"Bosa\",\"Bosa\",\"Bosa\",\"Bosa\",\"Bosa\",\"Bosa\",\"Bosa\",\"Bosa\",\"Bosa\",\"Bosa\",\"Bosa\",\"Bosa\",\"Bosa\",\"Barrios Unidos\",\"Kennedy\",\"Los M\\u00e1rtires\",\"Chico Navarra\",\"Zona Noroccidental\",\"Andes Norte\",\"Santa Barbara\",\"Zona Noroccidental\",\"Gran Granada\",\"Engativa\",\"San Cipriano\",\"Barrios Unidos\",\"Zona Noroccidental\",\"Chapinero\",\"Chapinero\",\"Los Rosales\",\"Chico Reservado\",\"Cedritos\",\"Rafael Uribe Uribe\",\"Kennedy\",\"Santa Barbara\",\"Zona Noroccidental\",\"Kennedy\",\"Colina Campestre\",\"Tintala\",\"Suba\",\"Usaqu\\u00e9n\",\"Salitre \",\"Chapinero Central\",\"Cedritos\",\"Puente Largo\",\"Puente Largo\",\"El Chic\\u00f3\",\"Usaqu\\u00e9n\",\"La Salle\",\"Suba\",\"Usaqu\\u00e9n\",\"Cedritos\",\"Kennedy\",\"Chapinero Alto\",\"Zona Noroccidental\",\"Engativa\",\"Usaqu\\u00e9n\",\"Chico Norte\",\"Usaqu\\u00e9n\",\"Santa Barbara\",\"Nicolas De Federman\",\"Zona Noroccidental\",\"San Cristobal\",\"Cedritos\",\"Kennedy\",\"Pasadena \",\"Zona Noroccidental\",\"Usaqu\\u00e9n\",\"Ciudad Bol\\u00edvar\",\"Santa Barbara\",\"Kennedy\",\"Zona Noroccidental\",\"Engativa\",\"Cedritos\",\"Usaqu\\u00e9n\",\"Zona Noroccidental\",\"Engativa\",\"Engativa\",\"El Chic\\u00f3\",\"Teusaquillo\",\"Puente Aranda\",\"Usaqu\\u00e9n\",\"Pasadena \",\"Barrios Unidos\",\"Colina Campestre\",\"Cedritos\",\"Kennedy\",\"Santa Barbara\",\"Chico Navarra\",\"Engativa\",\"Kennedy\",\"Bella Suiza\",\"Santa Barbara\",\"Santa Barbara\",\"Salitre \",\"Salitre \",\"Zona Noroccidental\",\"Chico Norte\",\"Usaqu\\u00e9n\",\"Chapinero\",\"San Patricio\",\"Pontevedra \",\"El Bat\\u00e1n\",\"Usaqu\\u00e9n\",\"Chapinero\",\"Zona Noroccidental\",\"Santa Barbara\",\"Usaqu\\u00e9n\",\"Zona Noroccidental\",\"Usaqu\\u00e9n\",\"Zona Noroccidental\",\"Los Rosales\",\"Santa Barbara\",\"Rafael Uribe Uribe\",\"Andes Norte\",\"Usaqu\\u00e9n\",\"Fontib\\u00f3n\",\"Usaqu\\u00e9n\",\"Santa Barbara\",\"Santa Barbara\",\"Barrios Unidos\",\"Engativa\",\"Cedritos\",\"Zona Noroccidental\",\"Usaqu\\u00e9n\",\"Engativa\",\"Chapinero\",\"Barrios Unidos\",\"Engativa\",\"Usaqu\\u00e9n\",\"Barrios Unidos\",\"Santa Barbara\",\"Kennedy\",\"Barrios Unidos\",\"Cantagallo\",\"Zona Noroccidental\",\"Santa Barbara\",\"Santa Ana\",\"Usaqu\\u00e9n\",\"Los Rosales\",\"Cedritos\",\"Fontib\\u00f3n\",\"Los Lagartos\",\"Chico Reservado\",\"Zona Noroccidental\",\"Los Lagartos\",\"Bella Suiza\",\"Chapinero\",\"Cedritos\",\"Santa Barbara\",\"Usaqu\\u00e9n\",\"Bella Suiza\",\"Chapinero\",\"Gran Granada\",\"Modelia\",\"Usaqu\\u00e9n\",\"Usaqu\\u00e9n\",\"Usaqu\\u00e9n\",\"Bosa\",\"Usaqu\\u00e9n\",\"Santa Barbara\",\"Tintala\",\"Santa Barbara\",\"Usaqu\\u00e9n\",\"Usaqu\\u00e9n\",\"Usaqu\\u00e9n\",\"Cedritos\",\"Cedritos\",\"Cedritos\",\"Nicolas De Federman\",\"Cedritos\",\"Zona Noroccidental\",\"Zona Noroccidental\",\"Cedritos\",\"Villa Alsacia\",\"Cedritos\",\"Bosa\",\"Usaqu\\u00e9n\",\"Zona Noroccidental\",\"Usaqu\\u00e9n\",\"Barrios Unidos\",\"Los Rosales\",\"Usaqu\\u00e9n\",\"Santa Barbara\",\"Engativa\",\"Engativa\",\"Barrios Unidos\",\"Usaqu\\u00e9n\",\"Zona Noroccidental\",\"Usme\",\"Bogot\\u00e1 D.C\",\"Chapinero\",\"Kennedy\",\"Bogot\\u00e1 D.C\",\"Los Rosales\",\"Zona Noroccidental\",\"Usaqu\\u00e9n\",\"Cedritos\",\"Santa Barbara\",\"Usaqu\\u00e9n\",\"Zona Noroccidental\",\"Usaqu\\u00e9n\",\"Santa Paula\",\"Chico Reservado\",\"Usaqu\\u00e9n\",\"Fontib\\u00f3n\",\"Usaqu\\u00e9n\",\"Zona Noroccidental\",\"Usaqu\\u00e9n\",\"Engativa\",\"Zona Noroccidental\",\"Usaqu\\u00e9n\",\"San Cipriano\",\"Usaqu\\u00e9n\",\"Chapinero\",\"Los Rosales\",\"Santa Barbara\",\"Chapinero\",\"Santa Barbara\",\"Los Rosales\",\"Quinta Camacho\",\"Chico Reservado\",\"Zona Noroccidental\",\"Usaqu\\u00e9n\",\"Zona Noroccidental\",\"Zona Noroccidental\",\"Zona Noroccidental\",\"Los M\\u00e1rtires\",\"Zona Noroccidental\",\"El Refugio\",\"Chapinero\",\"Engativa\",\"Usaqu\\u00e9n\",\"Zona Noroccidental\",\"Usaqu\\u00e9n\",\"Los M\\u00e1rtires\",\"Modelia\",\"Engativa\",\"Engativa\",\"Gran Granada\",\"Castilla\",\"Quinta Paredes\",\"Barrios Unidos\",\"Kennedy\",\"Quinta Paredes\",\"Quinta Paredes\",\"Kennedy\",\"Teusaquillo\",\"Quinta Paredes\",\"Quinta Paredes\",\"La Soledad \",\"La Soledad \",\"Quinta Paredes\",\"San Diego\",\"El Bat\\u00e1n\",\"Cedritos\",\"Niza\",\"Los Rosales\",\"Santa Barbara\",\"El Retiro\",\"Cerros De Suba\",\"Usaqu\\u00e9n\",\"Chapinero Central\",\"Los Rosales\",\"Chapinero\",\"Santa Barbara\",\"Usaqu\\u00e9n\",\"Usaqu\\u00e9n\",\"Usaqu\\u00e9n\",\"Chico Norte\",\"El Retiro\",\"Hayuelos\",\"Chico Norte\",\"Las Villas\",\"Chapinero\",\"Santa Barbara\",\"Los Rosales\",\"Teusaquillo\",\"Zona Noroccidental\",\"El Chic\\u00f3\",\"Teusaquillo\",\"Zona Noroccidental\",\"Usaqu\\u00e9n\",\"Barrios Unidos\",\"Usaqu\\u00e9n\",\"Chico Reservado\",\"Usme\",\"La Candelaria\",\"Usaqu\\u00e9n\",\"Santa Barbara\",\"Engativa\",\"Kennedy\",\"Chico Norte\",\"Cedritos\",\"San Patricio\",\"El Bat\\u00e1n\",\"Usaqu\\u00e9n\",\"Chapinero\",\"Zona Noroccidental\",\"Zona Noroccidental\",\"Santa Barbara\",\"Usaqu\\u00e9n\",\"San Cipriano\",\"Zona Noroccidental\",\"El Chic\\u00f3\",\"Usaqu\\u00e9n\",\"Chico Reservado\",\"Usaqu\\u00e9n\",\"Los Rosales\",\"Zona Noroccidental\",\"Usaqu\\u00e9n\",\"Los Rosales\",\"Puente Aranda\",\"Teusaquillo\",\"Fontib\\u00f3n\",\"Los Rosales\",\"El Retiro\",\"Zona Noroccidental\",\"Santa Barbara\",\"Zona Noroccidental\",\"Santa Barbara\",\"Zona Noroccidental\",\"Usaqu\\u00e9n\",\"Usaqu\\u00e9n\",\"Rafael Uribe Uribe\",\"Santa Barbara\",\"Chapinero Alto\",\"Chapinero\",\"Kennedy\",\"Metropolis\",\"Cedritos\",\"Barrios Unidos\",\"Chico Norte\",\"Quiroga\",\"Usme\",\"Usaqu\\u00e9n\",\"Chico Norte\",\"Los Rosales\",\"Santa Barbara\",\"Zona Noroccidental\",\"Cedritos\",\"Teusaquillo\",\"Usaqu\\u00e9n\",\"Lagos De Cordoba\",\"Engativa\",\"Engativa\",\"Galicia\",\"Engativa\",\"Usaqu\\u00e9n\",\"Usaqu\\u00e9n\",\"Zona Noroccidental\",\"Boyaca \",\"Kennedy\",\"Zona Noroccidental\",\"Zona Noroccidental\",\"Engativa\",\"Ciudad Bol\\u00edvar\",\"Santa Barbara\",\"Galicia\",\"Usme\",\"Fontib\\u00f3n\",\"Antonio Nari\\u00f1o\",\"Engativa\",\"Villas De Granada\",\"Cantagallo\",\"Santa Fe\",\"Teusaquillo\",\"Teusaquillo\",\"Puente Aranda\",\"Kennedy\",\"Kennedy\",\"Engativa\",\"El Chic\\u00f3\",\"Kennedy\",\"Fontib\\u00f3n\",\"Chapinero\",\"Zona Noroccidental\",\"Quinta Paredes\",\"Quinta Paredes\",\"Quinta Paredes\",\"Santa Fe\",\"Chapinero\",\"Quinta Paredes\",\"Quinta Paredes\",\"Bosa\",\"Barrios Unidos\",\"Kennedy\",\"Engativa\",\"Fontib\\u00f3n\",\"Engativa\",\"Kennedy\",\"Kennedy\",\"Kennedy\",\"Kennedy\",\"Kennedy\",\"Villemar\",\"Puente Aranda\",\"Zona Noroccidental\",\"Fontib\\u00f3n\",\"Engativa\",\"Villas De Granada\",\"Engativa\",\"Kennedy\",\"Kennedy\",\"Kennedy\",\"Engativa\",\"Villas De Granada\",\"Kennedy\",\"Kennedy\",\"Kennedy\",\"Kennedy\",\"Kennedy\",\"Chapinero\",\"Chapinero Central\",\"El Chic\\u00f3\",\"Chapinero Alto\",\"Zona Noroccidental\",\"Zona Noroccidental\",\"Tintala\",\"Antonio Nari\\u00f1o\",\"Engativa\",\"Bosa\",\"Zona Noroccidental\",\"Quinta Paredes\",\"Quinta Paredes\",\"Teusaquillo\",\"Kennedy\",\"Santa Barbara\",\"Santa Barbara\",\"Usaqu\\u00e9n\",\"Engativa\",\"Usaqu\\u00e9n\",\"Chapinero\",\"Barrios Unidos\",\"Gran America\",\"Usaqu\\u00e9n\",\"Zona Noroccidental\",\"Antonio Nari\\u00f1o\",\"Ciudad Bol\\u00edvar\",\"San Patricio\",\"Pasadena \",\"Bosa\",\"Bosa\",\"Bosa\",\"Bosa\",\"Bosa\",\"Zona Noroccidental\",\"Bosa\",\"Bosa\",\"Usaqu\\u00e9n\",\"Zona Noroccidental\",\"El Retiro\",\"Fontib\\u00f3n\",\"Cedritos\",\"Chapinero\",\"Santa Fe\",\"Santa Fe\",\"Santa Barbara\",\"Santa Barbara\",\"Usaqu\\u00e9n\",\"La Calleja\",\"Mirandela \",\"Usaqu\\u00e9n\",\"Santa Teresa\",\"Usaqu\\u00e9n\",\"Santa Barbara\",\"La Calleja\",\"San Patricio\",\"Santa Barbara\",\"Zona Noroccidental\",\"Usaqu\\u00e9n\",\"Zona Noroccidental\",\"Usaqu\\u00e9n\",\"Santa Barbara\",\"Usaqu\\u00e9n\",\"Fontib\\u00f3n\",\"Usaqu\\u00e9n\",\"Usaqu\\u00e9n\",\"Usaqu\\u00e9n\",\"Fontib\\u00f3n\",\"Usaqu\\u00e9n\",\"Engativa\",\"Puente Aranda\",\"Cedritos\",\"Cedritos\",\"Fontib\\u00f3n\",\"Usaqu\\u00e9n\",\"Usaqu\\u00e9n\",\"Zona Noroccidental\",\"Usaqu\\u00e9n\",\"Santa Barbara\",\"Usaqu\\u00e9n\",\"Bella Suiza\",\"Zona Noroccidental\",\"Bosa\",\"Bosa\",\"Bosa\",\"Bosa\",\"El Bat\\u00e1n\",\"Zona Noroccidental\",\"Chico Reservado\",\"Chico Reservado\",\"Zona Noroccidental\",\"Zona Noroccidental\",\"Zona Noroccidental\",\"Chico Reservado\",\"Chico Reservado\",\"Chico Reservado\",\"Chico Reservado\",\"Zona Noroccidental\",\"Zona Noroccidental\",\"La Calleja\",\"Chico Reservado\",\"Chico Reservado\",\"Chico Reservado\",\"Zona Noroccidental\",\"Zona Noroccidental\",\"Usaqu\\u00e9n\",\"Usaqu\\u00e9n\",\"Usaqu\\u00e9n\",\"Usaqu\\u00e9n\",\"Cedritos\",\"Usaqu\\u00e9n\",\"El Retiro\",\"Fontib\\u00f3n\",\"Puente Aranda\",\"Zona Noroccidental\",\"Chapinero\",\"Bosa\",\"Zona Noroccidental\",\"Zona Noroccidental\",\"Zona Noroccidental\",\"Zona Noroccidental\",\"Usaqu\\u00e9n\",\"Zona Noroccidental\",\"Zona Noroccidental\",\"Usaqu\\u00e9n\",\"Santa Barbara\",\"Santa Barbara\",\"Mazuren\",\"Santa Barbara\",\"San Patricio\",\"Nicolas De Federman\",\"Gran America\",\"San Patricio\",\"Zona Noroccidental\",\"Zona Noroccidental\",\"Santa Barbara\",\"La Calleja\",\"La Calleja\",\"Santa Barbara\",\"La Calleja\",\"Ciudad Bol\\u00edvar\",\"Cedritos\",\"La Salle\",\"Chico Reservado\",\"Chico Reservado\",\"Ciudad Bol\\u00edvar\",\"Ciudad Bol\\u00edvar\",\"Zona Noroccidental\",\"Zona Noroccidental\",\"Chico Reservado\",\"Chico Reservado\",\"Chico Reservado\",\"Chico Reservado\",\"Chico Reservado\",\"Ciudad Bol\\u00edvar\",\"Las Nieves\",\"Santa Fe\",\"Ciudad Bol\\u00edvar\",\"Santa Fe\",\"Santa Fe\",\"Santa Fe\",\"Antonio Nari\\u00f1o\",\"Santa Fe\",\"Santa Fe\",\"Las Nieves\",\"Santa Fe\",\"Santa Fe\",\"Santa Fe\",\"Ciudad Bol\\u00edvar\",\"Cedritos\",\"Cedritos\",\"Usaqu\\u00e9n\",\"Santa Teresa\",\"Engativa\",\"Kennedy\",\"Zona Noroccidental\",\"Kennedy\",\"La Calleja\",\"Metropolis\",\"Barrios Unidos\",\"Santa Barbara\",\"La Calleja\",\"Usaqu\\u00e9n\",\"Engativa\",\"El Contador\",\"Usaqu\\u00e9n\",\"Teusaquillo\",\"Fontib\\u00f3n\",\"Bosa\",\"Mazuren\",\"Kennedy\",\"Zona Noroccidental\",\"Santa Barbara\",\"Cedritos\",\"Santa Barbara\",\"Usaqu\\u00e9n\",\"Cedritos\",\"Zona Noroccidental\",\"Nueva Zelandia\",\"Cedritos\",\"Usaqu\\u00e9n\",\"Cedritos\",\"Los Rosales\",\"Veraguas\",\"Kennedy\",\"Kennedy\",\"Kennedy\",\"Zona Noroccidental\",\"Zona Noroccidental\",\"Zona Noroccidental\",\"Kennedy\",\"El Bat\\u00e1n\",\"Zona Noroccidental\",\"El Bat\\u00e1n\",\"El Bat\\u00e1n\",\"Santa Barbara\",\"Pasadena \",\"Zona Noroccidental\",\"Zona Noroccidental\",\"Zona Noroccidental\",\"Zona Noroccidental\",\"Zona Noroccidental\",\"Costa Azul\",\"Zona Noroccidental\",\"Zona Noroccidental\",\"Zona Noroccidental\",\"Santa Barbara\",\"Santa Barbara\",\"El Bat\\u00e1n\",\"Zona Noroccidental\",\"Zona Noroccidental\",\"El Bat\\u00e1n\",\"Kennedy\",\"Kennedy\",\"San Patricio\",\"Engativa\",\"El Plan\",\"Bella Suiza\",\"Engativa\",\"Bosa\",\"Fontib\\u00f3n\",\"Puente Aranda\",\"Cedritos\",\"Nicolas De Federman\",\"El Bat\\u00e1n\",\"Gran America\",\"Zona Noroccidental\",\"Zona Noroccidental\",\"Santa Barbara\",\"Santa Barbara\",\"Santa Ana\",\"Bosa\",\"Zona Noroccidental\",\"Zona Noroccidental\",\"El Bat\\u00e1n\",\"El Refugio\",\"Usaqu\\u00e9n\",\"Zona Noroccidental\",\"Zona Noroccidental\",\"Nicolas De Federman\",\"Santa Barbara\",\"Cedritos\",\"El Chic\\u00f3\",\"Zona Noroccidental\",\"Zona Noroccidental\",\"Zona Noroccidental\",\"El Bat\\u00e1n\",\"Zona Noroccidental\",\"Kennedy\",\"Zona Noroccidental\",\"Zona Noroccidental\",\"Santa Barbara\",\"El Bat\\u00e1n\",\"Fontib\\u00f3n\",\"El Bat\\u00e1n\",\"Tintala\",\"Santa Barbara\",\"Zona Noroccidental\",\"Usaqu\\u00e9n\",\"Zona Noroccidental\",\"Zona Noroccidental\",\"El Contador\",\"Cedritos\",\"Engativa\",\"Santa Barbara\",\"Cedritos\",\"San Patricio\",\"El Refugio\",\"Cedritos\",\"Portales Del Norte\",\"Chapinero\",\"Los Rosales\",\"Kennedy\",\"Kennedy\",\"Kennedy\",\"Engativa\",\"Villas De Granada\",\"Kennedy\",\"Villemar\",\"Puente Aranda\",\"Fontib\\u00f3n\",\"Bosa\",\"Zona Noroccidental\",\"Tintala\",\"Kennedy\",\"Teusaquillo\",\"Tintala\",\"Cantagallo\",\"Bosa\",\"Antonio Nari\\u00f1o\",\"Zona Noroccidental\",\"Kennedy\",\"El Chic\\u00f3\",\"Zona Noroccidental\",\"Zona Noroccidental\",\"Santa Fe\",\"Santa Fe\",\"Santa Fe\",\"Antonio Nari\\u00f1o\",\"Ciudad Bol\\u00edvar\",\"Santa Fe\",\"Santa Fe\",\"Chapinero\",\"Pasadena \",\"Fontib\\u00f3n\",\"Chico Norte\",\"Santa Barbara\",\"El Bat\\u00e1n\",\"Usaqu\\u00e9n\",\"Usaqu\\u00e9n\",\"Usaqu\\u00e9n\",\"Fontib\\u00f3n\",\"Zona Noroccidental\",\"El Bat\\u00e1n\",\"Fontib\\u00f3n\",\"Zona Noroccidental\",\"El Plan\",\"Zona Noroccidental\",\"Zona Noroccidental\",\"Usaqu\\u00e9n\",\"Usaqu\\u00e9n\",\"Santa Barbara\",\"Usaqu\\u00e9n\",\"Usaqu\\u00e9n\",\"La Calleja\",\"Usaqu\\u00e9n\",\"Usaqu\\u00e9n\",\"Usaqu\\u00e9n\",\"El Contador\",\"Cedritos\",\"Cedritos\",\"Usaqu\\u00e9n\",\"Usaqu\\u00e9n\",\"La Calleja\",\"Usaqu\\u00e9n\",\"El Bat\\u00e1n\",\"Santa Barbara\",\"Zona Noroccidental\",\"Usaqu\\u00e9n\",\"Santa Barbara\",\"Usaqu\\u00e9n\",\"Usaqu\\u00e9n\",\"Cedritos\",\"La Calleja\",\"Cedritos\",\"Usaqu\\u00e9n\",\"San Patricio\",\"Usaqu\\u00e9n\",\"Usaqu\\u00e9n\",\"Usaqu\\u00e9n\",\"Cedritos\",\"Tintala\",\"Cedritos\",\"Chapinero\",\"Ciudad Salitre\",\"Barrios Unidos\",\"Cantagallo\",\"Kennedy\",\"Zona Noroccidental\",\"San Patricio\",\"San Patricio\",\"San Patricio\",\"Zona Noroccidental\",\"Zona Noroccidental\",\"Zona Noroccidental\",\"Engativa\",\"Portales Del Norte\",\"Engativa\",\"Portales Del Norte\",\"Puente Largo\",\"Tintala\",\"Chapinero Central\",\"El Chic\\u00f3\",\"Usaqu\\u00e9n\",\"Engativa\",\"Usaqu\\u00e9n\",\"Usaqu\\u00e9n\",\"Usaqu\\u00e9n\",\"Kennedy\",\"Tintala\",\"Usaqu\\u00e9n\",\"Kennedy\",\"Engativa\",\"Zona Noroccidental\",\"El Contador\",\"Cedritos\",\"El Bat\\u00e1n\",\"Santa Barbara\",\"Ricaurte\",\"El Bat\\u00e1n\",\"Zona Noroccidental\",\"Cedritos\",\"Zona Noroccidental\",\"Zona Noroccidental\",\"Usaqu\\u00e9n\",\"Usaqu\\u00e9n\",\"Chico Reservado\",\"Engativa\",\"Usaqu\\u00e9n\",\"Zona Noroccidental\",\"Cedritos\",\"Usaqu\\u00e9n\",\"Portales Del Norte\",\"Portales Del Norte\",\"Usaqu\\u00e9n\",\"Bosa\",\"Usaqu\\u00e9n\",\"Zona Noroccidental\",\"Cantagallo\",\"Usaqu\\u00e9n\",\"Engativa\",\"Barrios Unidos\",\"Bosa\",\"El Plan\",\"Engativa\",\"Bosa\",\"Zona Noroccidental\",\"Chapinero\",\"Usaqu\\u00e9n\",\"Usaqu\\u00e9n\",\"Portales Del Norte\",\"Usaqu\\u00e9n\",\"Engativa\",\"Mirandela \",\"Bella Suiza\",\"Usaqu\\u00e9n\",\"Fontib\\u00f3n\",\"Cedritos\",\"Usaqu\\u00e9n\",\"Usaqu\\u00e9n\",\"Zona Noroccidental\",\"Fontib\\u00f3n\",\"Engativa\",\"Chico Reservado\",\"Puente Aranda\",\"Chico Norte\",\"El Chic\\u00f3\",\"El Chic\\u00f3\",\"Antonio Nari\\u00f1o\",\"Antonio Nari\\u00f1o\",\"San Patricio\",\"San Patricio\",\"Kennedy\",\"Barrios Unidos\",\"Teusaquillo\",\"Engativa\",\"Zona Noroccidental\",\"Chapinero Central\",\"Usaqu\\u00e9n\",\"Usaqu\\u00e9n\",\"Chapinero Central\",\"El Bat\\u00e1n\",\"San Patricio\",\"Modelia\",\"Zona Noroccidental\",\"Cedritos\",\"Portales Del Norte\",\"Santa Barbara\",\"Engativa\",\"Santa Barbara\",\"Chapinero\",\"Engativa\",\"Engativa\",\"Usaqu\\u00e9n\",\"Chico Norte\",\"Santa Barbara\",\"Chapinero\",\"Chico Reservado\",\"Zona Noroccidental\",\"Santa Barbara\",\"Santa Barbara\",\"Cedritos\",\"Bosa\",\"Mazuren\",\"Santa Barbara\",\"Cedritos\",\"Gran Granada\",\"Usaqu\\u00e9n\",\"Puente Largo\",\"Zona Noroccidental\",\"Kennedy\",\"El Bat\\u00e1n\",\"Casablanca\",\"Chapinero\",\"Teusaquillo\",\"Fontib\\u00f3n\",\"Fontib\\u00f3n\",\"Fontib\\u00f3n\",\"Fontib\\u00f3n\",\"Palermo\",\"Chapinero\",\"Fontib\\u00f3n\",\"Fontib\\u00f3n\",\"Tintala\",\"Cedritos\",\"San Patricio\",\"Libertador\",\"Engativa\",\"Chico Norte\",\"Zona Noroccidental\",\"Usaqu\\u00e9n\",\"Bosa\",\"Chapinero\",\"Cedritos\",\"Bosa\",\"Chico Reservado\",\"El Chic\\u00f3\",\"Zona Noroccidental\",\"Zona Noroccidental\",\"Chico Reservado\",\"Mazuren\",\"Santa Barbara\",\"Usaqu\\u00e9n\",\"Santa Teresa\",\"Usaqu\\u00e9n\",\"Usaqu\\u00e9n\",\"Usaqu\\u00e9n\",\"Usaqu\\u00e9n\",\"Zona Noroccidental\",\"Cantagallo\",\"Zona Noroccidental\",\"Bella Suiza\",\"Mazuren\",\"Mazuren\",\"San Patricio\",\"Mazuren\",\"Chapinero\",\"Usaqu\\u00e9n\",\"San Patricio\",\"Zona Noroccidental\",\"Tintala\",\"San Patricio\",\"Cedritos\",\"El Contador\",\"Usaqu\\u00e9n\",\"Bosa\",\"Usaqu\\u00e9n\",\"Usaqu\\u00e9n\",\"Usaqu\\u00e9n\",\"El Bat\\u00e1n\",\"Bosa\",\"El Bat\\u00e1n\",\"Zona Noroccidental\",\"El Bat\\u00e1n\",\"Santa Barbara\",\"Zona Noroccidental\",\"Zona Noroccidental\",\"Zona Noroccidental\",\"Pasadena \",\"Zona Noroccidental\",\"Chapinero\",\"Usaqu\\u00e9n\",\"Chico Reservado\",\"Mirandela \",\"El Bat\\u00e1n\",\"Zona Noroccidental\",\"Zona Noroccidental\",\"Zona Noroccidental\",\"Kennedy\",\"Colina Campestre\",\"San Patricio\",\"Zona Noroccidental\",\"Santa Barbara\",\"Santa Barbara\",\"Costa Azul\",\"El Bat\\u00e1n\",\"Metropolis\",\"Andes Norte\",\"Engativa\",\"Cedritos\",\"Cedritos\",\"Usaqu\\u00e9n\",\"Santa Barbara\",\"Usaqu\\u00e9n\",\"La Calleja\",\"Santa Barbara\",\"Usaqu\\u00e9n\",\"Usaqu\\u00e9n\",\"Usaqu\\u00e9n\",\"La Calleja\",\"El Bat\\u00e1n\",\"Usaqu\\u00e9n\",\"Usaqu\\u00e9n\",\"Usaqu\\u00e9n\",\"Santa Barbara\",\"Usaqu\\u00e9n\",\"Chico Norte\",\"Santa Barbara\",\"Santa Barbara\",\"Usaqu\\u00e9n\",\"El Bat\\u00e1n\",\"Usaqu\\u00e9n\",\"Cedritos\",\"Chico Norte\",\"Engativa\",\"Usaqu\\u00e9n\",\"Chico Reservado\",\"Chapinero Central\",\"Usaqu\\u00e9n\",\"Tintala\",\"El Bat\\u00e1n\",\"Zona Noroccidental\",\"Andes Norte\",\"Santa Barbara\",\"Kennedy\",\"Parque Central Bavaria\",\"Santa Barbara\",\"Engativa\",\"Cantagallo\",\"Usaqu\\u00e9n\",\"Zona Noroccidental\",\"Cedritos\",\"Cedritos\",\"Chapinero\",\"Cedritos\",\"Kennedy\",\"Usaqu\\u00e9n\",\"Cedritos\",\"Teusaquillo\",\"Cedritos\",\"Cedritos\",\"Cedritos\",\"Cedritos\",\"Venecia\",\"Zona Noroccidental\",\"Zona Noroccidental\",\"Zona Noroccidental\",\"Zona Noroccidental\",\"La Calleja\",\"Usaqu\\u00e9n\",\"Barrios Unidos\",\"Teusaquillo\",\"Kennedy\",\"Chico Norte\",\"Tintala\",\"El Contador\",\"Cedritos\",\"Los Rosales\",\"Cedritos\",\"Barrios Unidos\",\"Bella Suiza\",\"Usaqu\\u00e9n\",\"Cedritos\",\"El Bat\\u00e1n\",\"San Patricio\",\"El Contador\",\"San Patricio\",\"Usaqu\\u00e9n\",\"Mazuren\",\"Usaqu\\u00e9n\",\"Mazuren\",\"Engativa\",\"Chapinero\",\"Cedritos\",\"Cedritos\",\"Ciudad Salitre\",\"Usaqu\\u00e9n\",\"Usaqu\\u00e9n\",\"Chico Reservado\",\"Chico Norte\",\"Tintala\",\"Usaqu\\u00e9n\",\"Chico Reservado\",\"Modelia\",\"Usaqu\\u00e9n\",\"Zona Noroccidental\",\"Barrios Unidos\",\"Mazuren\",\"El Contador\",\"Antonio Nari\\u00f1o\",\"Gran Granada\",\"Santa Barbara\",\"Usaqu\\u00e9n\",\"Santa Barbara\",\"Santa Barbara\",\"Santa Barbara\",\"Usaqu\\u00e9n\",\"Usaqu\\u00e9n\",\"Chico Norte\",\"Usaqu\\u00e9n\",\"Usaqu\\u00e9n\",\"Zona Noroccidental\",\"Chico Reservado\",\"Portales Del Norte\",\"Santa Barbara\",\"Cedritos\",\"Ciudad Salitre\",\"La Uribe\",\"Santa Barbara\",\"Chapinero\",\"Santa Barbara\",\"Usaqu\\u00e9n\",\"El Plan\",\"Chapinero\",\"Usaqu\\u00e9n\",\"Santa Barbara\",\"Chapinero\",\"Cedritos\",\"Usaqu\\u00e9n\",\"Usaqu\\u00e9n\",\"Ciudadela Colsubsidio\",\"Chapinero\",\"Usaqu\\u00e9n\",\"Fontib\\u00f3n\",\"Kennedy\",\"Kennedy\",\"Usaqu\\u00e9n\",\"Cedritos\",\"Zona Noroccidental\",\"Engativa\",\"El Plan\",\"Zona Noroccidental\",\"Usaqu\\u00e9n\",\"Engativa\",\"Puente Largo\",\"Engativa\",\"Zona Noroccidental\",\"Usaqu\\u00e9n\",\"Cedritos\",\"Bosa\",\"Cedritos\",\"Engativa\",\"Zona Noroccidental\",\"Rafael Uribe Uribe\",\"Usaqu\\u00e9n\",\"Santa Barbara\",\"El Chic\\u00f3\",\"Usaqu\\u00e9n\",\"Santa Barbara\",\"Santa Barbara\",\"Portales Del Norte\",\"Portales Del Norte\",\"Cedritos\",\"Cedritos\",\"Portales Del Norte\",\"Usaqu\\u00e9n\",\"Bosa\",\"Villa Maria\",\"Villa Maria\",\"Usaqu\\u00e9n\",\"Usaqu\\u00e9n\",\"Fontib\\u00f3n\",\"Puente Aranda\",\"Engativa\",\"Cedritos\",\"Portales Del Norte\",\"Engativa\",\"Barrios Unidos\",\"Quinta Paredes\",\"Bosa\",\"La Calleja\",\"Zona Noroccidental\",\"Usaqu\\u00e9n\",\"Zona Noroccidental\",\"Zona Noroccidental\",\"Usaqu\\u00e9n\",\"San Patricio\",\"Modelia\",\"Usaqu\\u00e9n\",\"Usaqu\\u00e9n\",\"Zona Noroccidental\",\"Cedritos\",\"Engativa\",\"Engativa\",\"Barrios Unidos\",\"Bosa\",\"Engativa\",\"Usaqu\\u00e9n\",\"Usaqu\\u00e9n\",\"Usaqu\\u00e9n\",\"Zona Noroccidental\",\"Usaqu\\u00e9n\",\"Cantagallo\",\"Usaqu\\u00e9n\",\"Cedritos\",\"Chapinero\",\"Zona Noroccidental\",\"Usaqu\\u00e9n\",\"Portales Del Norte\",\"Portales Del Norte\",\"Chico Reservado\",\"Bosa\",\"Mazuren\",\"Santa Barbara\",\"Cedritos\",\"Zona Noroccidental\",\"Santa Barbara\",\"Santa Barbara\",\"Cedritos\",\"Chico Reservado\",\"Usaqu\\u00e9n\",\"Bosa\",\"Santa Barbara\",\"Cantagallo\",\"Cantagallo\",\"Cantagallo\",\"Cantagallo\",\"Quinta Paredes\",\"Barrios Unidos\",\"Palermo\",\"Usaqu\\u00e9n\",\"Cedritos\",\"Engativa\",\"Usaqu\\u00e9n\",\"Zona Noroccidental\",\"Barrios Unidos\",\"Cedritos\",\"Usaqu\\u00e9n\",\"Usme\",\"Gran Granada\",\"Bosa\",\"Hayuelos\",\"Engativa\",\"Tintala\",\"El Contador\",\"Usaqu\\u00e9n\",\"Zona Noroccidental\",\"Usaqu\\u00e9n\",\"Usaqu\\u00e9n\",\"Cantagallo\",\"Portales Del Norte\",\"Santa Barbara\",\"Cedritos\",\"Zona Noroccidental\",\"La Calleja\",\"Usme\",\"Usme\",\"Cantagallo\",\"Zona Noroccidental\",\"Zona Noroccidental\",\"Cedritos\",\"Cedritos\",\"Zona Noroccidental\",\"Cedritos\",\"Kennedy\",\"Usaqu\\u00e9n\",\"Cedritos\",\"Cedritos\",\"Chapinero\",\"Teusaquillo\",\"Cedritos\",\"Teusaquillo\",\"Chico Reservado\",\"El Chic\\u00f3\",\"Zona Noroccidental\",\"Zona Noroccidental\",\"Modelia\",\"Cedritos\",\"Chapinero\",\"Zona Noroccidental\",\"Chico Reservado\",\"Engativa\",\"El Plan\",\"Cedritos\",\"Zona Noroccidental\",\"Engativa\",\"Bosa\",\"Engativa\",\"Engativa\",\"Santa Barbara\",\"Engativa\",\"Engativa\",\"Zona Noroccidental\",\"Fontib\\u00f3n\",\"Teusaquillo\",\"Bosa\",\"Zona Noroccidental\",\"Mazuren\",\"Bosa\",\"Bosa\",\"Kennedy\",\"Zona Noroccidental\",\"Nicolas De Federman\",\"Zona Noroccidental\",\"Capellania\",\"Usaqu\\u00e9n\",\"Bosa\",\"Zona Noroccidental\",\"Zona Noroccidental\",\"Zona Noroccidental\",\"Salitre \",\"Bosa\",\"Bosa\",\"Barrios Unidos\",\"Zona Noroccidental\",\"Teusaquillo\",\"Kennedy\",\"Engativa\",\"Bosa\",\"Santa Teresa\",\"El Plan\",\"Barrios Unidos\",\"Barrios Unidos\",\"Usaqu\\u00e9n\",\"Mazuren\",\"Bosa\",\"Usaqu\\u00e9n\",\"Bosa\",\"Zona Noroccidental\",\"Barrios Unidos\",\"Teusaquillo\",\"Chico Reservado\",\"Barrios Unidos\",\"Bosa\",\"Usaqu\\u00e9n\",\"Tunjuelito\",\"San Luis\",\"El Plan\",\"Puente Aranda\",\"Usaqu\\u00e9n\",\"Usaqu\\u00e9n\",\"Kennedy\",\"Usaqu\\u00e9n\",\"La Calleja\",\"Zona Noroccidental\",\"Santa Barbara\",\"Kennedy\",\"Teusaquillo\",\"Teusaquillo\",\"Usaqu\\u00e9n\",\"Gran Granada\",\"Cedritos\",\"Usaqu\\u00e9n\",\"Fontib\\u00f3n\",\"Modelia\",\"Kennedy\",\"Chico Reservado\",\"Las Nieves\",\"Los M\\u00e1rtires\",\"Bosa\",\"Libertador\",\"Ciudadela Colsubsidio\",\"Antonio Nari\\u00f1o\",\"Suba\",\"Chico Reservado\",\"Chico Reservado\",\"Usaqu\\u00e9n\",\"Ciudad Salitre\",\"Chico Reservado\",\"Chico Reservado\",\"Suba\",\"Chapinero\",\"Kennedy\",\"Boyaca \",\"Usaqu\\u00e9n\",\"Usaqu\\u00e9n\",\"Usaqu\\u00e9n\",\"Suba\",\"Usaqu\\u00e9n\",\"Usaqu\\u00e9n\",\"Suba\",\"Usaqu\\u00e9n\",\"Boyaca \",\"La Calleja\",\"Santa Paula\",\"Kennedy\",\"Bosa\",\"Usaqu\\u00e9n\",\"Suba\",\"Chapinero\",\"Santa Barbara\",\"Santa Barbara\",\"Suba\",\"Cedritos\",\"Usaqu\\u00e9n\",\"Puente Aranda\",\"Puente Aranda\",\"Usaqu\\u00e9n\",\"Castilla\",\"Castilla\",\"Cedritos\",\"El Bat\\u00e1n\",\"Fontib\\u00f3n\",\"Suba\",\"Kennedy\",\"Bosa\",\"Puente Aranda\",\"Fontib\\u00f3n\",\"Cedritos\",\"Fontib\\u00f3n\",\"Cedritos\",\"Santa Barbara\",\"Usaqu\\u00e9n\",\"Cedritos\",\"La Calleja\",\"Usaqu\\u00e9n\",\"Suba\",\"Cedritos\",\"Fontib\\u00f3n\",\"Santa Barbara\",\"Engativa\",\"Bosa\",\"Cedritos\",\"Usaqu\\u00e9n\",\"Santa Barbara\",\"Engativa\",\"La Calleja\",\"Bosa\",\"Suba\",\"Santa Barbara\",\"Kennedy\",\"Teusaquillo\",\"Usaqu\\u00e9n\",\"Teusaquillo\",\"Gran Granada\",\"Cedritos\",\"Usaqu\\u00e9n\",\"Modelia\",\"Fontib\\u00f3n\",\"Chico Reservado\",\"Las Nieves\",\"Los M\\u00e1rtires\",\"Kennedy\",\"Ciudad Salitre\",\"Suba\",\"Ciudadela Colsubsidio\",\"Libertador\",\"Usaqu\\u00e9n\",\"Chico Reservado\",\"Chico Reservado\",\"Bosa\",\"Antonio Nari\\u00f1o\",\"Santa Barbara\",\"Suba\",\"Chapinero\",\"Cedritos\",\"Boyaca \",\"Suba\",\"Santa Barbara\",\"Santa Barbara\",\"Usaqu\\u00e9n\",\"Suba\",\"Chico Reservado\",\"La Calleja\",\"Cedritos\",\"Suba\",\"Boyaca \",\"Fontib\\u00f3n\",\"Cedritos\",\"Suba\",\"Suba\",\"Usaqu\\u00e9n\",\"Los Rosales\",\"Usaqu\\u00e9n\",\"San Patricio\",\"Chapinero\",\"Nueva Autopista\",\"Chapinero\",\"Suba\",\"Kennedy\",\"Bosa\",\"Santa Paula\",\"Chapinero\",\"Usaqu\\u00e9n\",\"Fontib\\u00f3n\",\"Cedritos\",\"Nueva Autopista\",\"Boyaca \",\"Usaqu\\u00e9n\",\"Kennedy\",\"Bosa\",\"Usaqu\\u00e9n\",\"Suba\",\"Usaqu\\u00e9n\",\"Santa Paula\",\"Chapinero\",\"Suba\",\"Puente Aranda\",\"Suba\",\"Bosa\",\"Usaqu\\u00e9n\",\"Modelia\",\"Roma\",\"Fontib\\u00f3n\",\"Usaqu\\u00e9n\",\"Barrios Unidos\",\"Chico Norte\",\"Suba\",\"Suba\",\"Bellavista Occidental\",\"Chapinero\",\"Suba\",\"Pinar De Suba\",\"Cedritos\",\"Cedritos\",\"La Estanzuela\",\"Cedritos\",\"Suba\",\"Las Nieves\",\"Hayuelos\",\"La Calleja\",\"Fontib\\u00f3n\",\"Suba\",\"Suba\",\"Bosa\",\"San Cristobal\",\"Zona Noroccidental\",\"Teusaquillo\",\"La Sabana\",\"Los M\\u00e1rtires\",\"Suba\",\"Patio Bonito\",\"Suba\",\"Turingia\",\"Cedritos\",\"Pasadena \",\"La Calleja\",\"Niza\",\"Santa Barbara\",\"Usaqu\\u00e9n\",\"Kennedy\",\"Hayuelos\",\"Kennedy\",\"Hayuelos\",\"Fontib\\u00f3n\",\"Usaqu\\u00e9n\",\"Bosa\",\"Kennedy\",\"Kennedy\",\"Tintala\",\"Villa Alsacia\",\"Bosa\",\"Chico Reservado\",\"La Calleja\",\"Bosa\",\"Santa Paula\",\"Zona Noroccidental\",\"Puente Aranda\",\"Suba\",\"Usaqu\\u00e9n\",\"Bosa\",\"Bosa\",\"Chapinero\",\"Los M\\u00e1rtires\",\"Bosa\",\"Cedritos\",\"Fontib\\u00f3n\",\"Cedritos\",\"Puente Aranda\",\"Kennedy\",\"Usaqu\\u00e9n\",\"Suba\",\"Usaqu\\u00e9n\",\"Teusaquillo\",\"Cedritos\",\"Puente Largo\",\"Bosa\",\"Bosa\",\"Los M\\u00e1rtires\",\"El Bat\\u00e1n\",\"Usaqu\\u00e9n\",\"Cedritos\",\"Usaqu\\u00e9n\",\"Kennedy\",\"Kennedy\",\"Chapinero\",\"Puente Aranda\",\"Niza\",\"Usaqu\\u00e9n\",\"Sotavento\",\"San Patricio\",\"Bosa\",\"Suba\",\"Bosa\",\"Suba\",\"Fontib\\u00f3n\",\"Modelia\",\"Suba\",\"Santa Barbara\",\"Chapinero\",\"Barrios Unidos\",\"Engativa\",\"Santa Barbara\",\"Usaqu\\u00e9n\",\"Kennedy\",\"Hayuelos\",\"Fontib\\u00f3n\",\"Usaqu\\u00e9n\",\"Villa Alsacia\",\"Bosa\",\"Chico Reservado\",\"La Calleja\",\"Zona Noroccidental\",\"Puente Aranda\",\"Bosa\",\"Cedritos\",\"Suba\",\"Santa Paula\",\"Fontib\\u00f3n\",\"Puente Aranda\",\"Cedritos\",\"Bosa\",\"Tintala\",\"Kennedy\",\"Kennedy\",\"Bosa\",\"Bosa\",\"Usaqu\\u00e9n\",\"Usaqu\\u00e9n\",\"Cedritos\",\"Cedritos\",\"Teusaquillo\",\"Kennedy\",\"Suba\",\"Bosa\",\"Los M\\u00e1rtires\",\"Puente Largo\",\"El Bat\\u00e1n\",\"Chapinero\",\"Engativa\",\"Usaqu\\u00e9n\",\"Modelia\",\"Usaqu\\u00e9n\",\"Puente Aranda\",\"Chapinero\",\"Kennedy\",\"Cedritos\",\"Usaqu\\u00e9n\",\"Usaqu\\u00e9n\",\"Kennedy\",\"Niza\",\"Sotavento\",\"San Patricio\",\"Bosa\",\"Suba\",\"Bosa\",\"Suba\",\"Ciudad Bol\\u00edvar\",\"El Plan\",\"Las Nieves\",\"Barrios Unidos\",\"Fontib\\u00f3n\",\"Usaqu\\u00e9n\",\"Colina Campestre\",\"Zona Noroccidental\",\"Kennedy\",\"Bosa\",\"Kennedy\",\"Bosa\",\"Bosa\",\"Kennedy\",\"Cedritos\",\"San Antonio Norte\",\"Zona Noroccidental\",\"Zona Noroccidental\",\"Usaqu\\u00e9n\",\"Usaqu\\u00e9n\",\"Zona Noroccidental\",\"Barrancas\",\"Kennedy\",\"Gran Granada\",\"Engativa\",\"Cedritos\",\"Usaqu\\u00e9n\",\"Usaqu\\u00e9n\",\"Barrancas\",\"Santa Barbara\",\"Las Cruces\",\"Usaqu\\u00e9n\",\"Santa Barbara\",\"Engativa\",\"Kennedy\",\"Zona Noroccidental\",\"Rafael Uribe Uribe\",\"Bosa\",\"Kennedy\",\"Engativa\",\"Villa Alsacia\",\"Rafael Uribe Uribe\",\"Chapinero\",\"San Diego\",\"Kennedy\",\"Tintala\",\"Tintala\",\"San Diego\",\"Engativa\",\"La Candelaria\",\"Kennedy\",\"Kennedy\",\"Villemar\",\"Usme\",\"Cantagallo\",\"Bosa\",\"Zona Noroccidental\",\"Zona Noroccidental\",\"Zona Noroccidental\",\"Fontib\\u00f3n\",\"Santa Fe\",\"Zona Noroccidental\",\"Bosa\",\"Bosa\",\"Bosa\",\"Zona Noroccidental\",\"Fontib\\u00f3n\",\"Cedritos\",\"Zona Noroccidental\",\"Zona Noroccidental\",\"Antonio Nari\\u00f1o\",\"Ciudad Bol\\u00edvar\",\"Kennedy\",\"Kennedy\",\"Fontib\\u00f3n\",\"Bosa\",\"Ciudad Bol\\u00edvar\",\"Bosa\",\"Zona Noroccidental\",\"Bosa\",\"Zona Noroccidental\",\"Bosa\",\"Madelena\",\"Ciudad Bol\\u00edvar\",\"Ciudad Bol\\u00edvar\",\"Bosa\",\"La Estancia\",\"El Bat\\u00e1n\",\"Teusaquillo\",\"Bosa\",\"Zona Noroccidental\",\"La Candelaria\",\"Rafael Uribe Uribe\",\"Bosa\",\"Zona Noroccidental\",\"Kennedy\",\"Tintala\",\"Zona Noroccidental\",\"Bosa\",\"Puente Largo\",\"Zona Noroccidental\",\"Fontib\\u00f3n\",\"Zona Noroccidental\",\"Zona Noroccidental\",\"Zona Noroccidental\",\"Tintala\",\"Engativa\",\"Kennedy\",\"Castilla\",\"Cedritos\",\"Kennedy\",\"Kennedy\",\"Bosa\",\"La Candelaria\",\"Cedritos\",\"Zona Noroccidental\",\"Kennedy\",\"Kennedy\",\"Pasadena \",\"Castilla\",\"Chapinero\",\"Puente Largo\",\"Zona Noroccidental\",\"Cedritos\",\"Kennedy\",\"San Patricio\",\"Bosa\",\"Zona Noroccidental\",\"Kennedy\",\"Zona Noroccidental\",\"Fontib\\u00f3n\",\"Engativa\",\"Zona Noroccidental\",\"Bosa\",\"Zona Noroccidental\",\"Cedritos\",\"Cantagallo\",\"Cedritos\",\"Bosa\",\"Usaqu\\u00e9n\",\"Santa Barbara\",\"Usaqu\\u00e9n\",\"Usme\",\"Zona Noroccidental\",\"Kennedy\",\"Zona Noroccidental\",\"Barrios Unidos\",\"Engativa\",\"Usaqu\\u00e9n\",\"Kennedy\",\"Bosa\",\"Kennedy\",\"Teusaquillo\",\"Fontib\\u00f3n\",\"Kennedy\",\"Portales Del Norte\",\"Cedritos\",\"Bosa\",\"Santa Barbara\",\"Portales Del Norte\",\"Zona Noroccidental\",\"Engativa\",\"Fontib\\u00f3n\",\"Bosa\",\"Kennedy\",\"Capellania\",\"Zona Noroccidental\",\"Ciudad Bol\\u00edvar\",\"Zona Noroccidental\",\"Bosa\",\"Usaqu\\u00e9n\",\"Santa Barbara\",\"Zona Noroccidental\",\"Usaqu\\u00e9n\",\"Zona Noroccidental\",\"Usaqu\\u00e9n\",\"Zona Noroccidental\",\"Zona Noroccidental\",\"Zona Noroccidental\",\"Usaqu\\u00e9n\",\"Engativa\",\"Zona Noroccidental\",\"Usaqu\\u00e9n\",\"Usaqu\\u00e9n\",\"Zona Noroccidental\",\"Barrancas\",\"Kennedy\",\"Gran Granada\",\"Engativa\",\"Cedritos\",\"Usaqu\\u00e9n\",\"Usaqu\\u00e9n\",\"Barrancas\",\"Zona Noroccidental\",\"Santa Barbara\",\"Bosa\",\"Kennedy\",\"Kennedy\",\"Cedritos\",\"San Antonio Norte\",\"Bosa\",\"Bosa\",\"Las Cruces\",\"Usaqu\\u00e9n\",\"Santa Barbara\",\"Tintala\",\"Tintala\",\"Tintala\",\"Tintala\",\"Kennedy\",\"Engativa\",\"Engativa\",\"Kennedy\",\"Fontib\\u00f3n\",\"Engativa\",\"Tintala\",\"Engativa\",\"Bosa\",\"San Cristobal\",\"Bosa\",\"Bosa\",\"Kennedy\",\"Tintala\",\"Tintala\",\"Rafael Uribe Uribe\",\"Engativa\",\"Usaqu\\u00e9n\",\"Tintala\",\"Kennedy\",\"Santa Fe\",\"Tintala\",\"Tintala\",\"Tintala\",\"Bosa\",\"Usme\",\"Teusaquillo\",\"Tintala\",\"Bosa\",\"Zona Noroccidental\",\"Puente Aranda\",\"Bosa\",\"Ciudad Bol\\u00edvar\",\"Zona Noroccidental\",\"Bosa\",\"Las Aguas\",\"Puente Aranda\",\"Zona Noroccidental\",\"Bosa\",\"Nueva Zelandia\",\"Bosa\",\"Bosa\",\"Bosa\",\"Lago De Suba\",\"Zona Noroccidental\",\"Cedritos\",\"Zona Franca\",\"Usaqu\\u00e9n\",\"Usaqu\\u00e9n\",\"Zona Noroccidental\",\"Zona Noroccidental\",\"Puente Largo\",\"Zona Noroccidental\",\"Pasadena \",\"La Candelaria\",\"Zona Noroccidental\",\"Zona Noroccidental\",\"Fontib\\u00f3n\",\"Cedritos\",\"Kennedy\",\"Kennedy\",\"Kennedy\",\"Chapinero Central\",\"Bosa\",\"Zona Noroccidental\",\"Bosa\",\"Zona Noroccidental\",\"Bosa\",\"San Patricio\",\"Rafael Uribe Uribe\",\"Zona Noroccidental\",\"Ciudad Bol\\u00edvar\",\"Bosa\",\"Antonio Nari\\u00f1o\",\"Fontib\\u00f3n\",\"Zona Noroccidental\",\"Kennedy\",\"Kennedy\",\"Bosa\",\"Zona Noroccidental\",\"Bosa\",\"Ciudad Bol\\u00edvar\",\"Bosa\",\"Santa Barbara\",\"Chico Norte\",\"Usaqu\\u00e9n\",\"Bosa\",\"Cedritos\",\"Usaqu\\u00e9n\",\"Zona Noroccidental\",\"Bosa\",\"Usaqu\\u00e9n\",\"Santa Barbara\",\"Cedritos\",\"Cantagallo\",\"Zona Noroccidental\",\"Zona Noroccidental\",\"Zona Noroccidental\",\"Bosa\",\"Gran Granada\",\"Engativa\",\"Usaqu\\u00e9n\",\"Zona Noroccidental\",\"Kennedy\",\"Usme\",\"Zona Noroccidental\",\"Usme\",\"Barrios Unidos\",\"Zona Noroccidental\",\"Bosa\",\"Zona Noroccidental\",\"Zona Noroccidental\",\"Kennedy\",\"Bosa\",\"Engativa\",\"Zona Noroccidental\",\"Usme\",\"Zona Noroccidental\",\"Bosa\",\"Teusaquillo\",\"Santa Teresa\",\"Santa Barbara\",\"Usme\",\"Zona Noroccidental\",\"Bosa\",\"Zona Noroccidental\",\"Bosa\",\"Kennedy\",\"Castilla\",\"Usme\",\"Cantagallo\",\"Bosa\",\"Zona Noroccidental\",\"Bosa\",\"Zona Noroccidental\",\"Zona Noroccidental\",\"Tunjuelito\",\"Engativa\",\"Kennedy\",\"Los M\\u00e1rtires\",\"Cedritos\",\"Usaqu\\u00e9n\",\"Patio Bonito\",\"Niza\",\"Tunjuelito\",\"Usaqu\\u00e9n\",\"Bellavista Occidental\",\"Kennedy\",\"Suba\",\"Santa Barbara\",\"La Candelaria\",\"Alhambra\",\"Santa Barbara\",\"Puente Aranda\",\"Engativa\",\"Suba\",\"Usaqu\\u00e9n\",\"Ingles\",\"Los M\\u00e1rtires\",\"Rafael Uribe Uribe\",\"Engativa\",\"Kennedy\",\"Los M\\u00e1rtires\",\"Kennedy\",\"La Sabana\",\"Bellavista Occidental\",\"Niza\",\"Tunjuelito\",\"Kennedy\",\"San Cristobal\",\"Alhambra\",\"Kennedy\",\"Tintala\",\"Kennedy\",\"Kennedy\",\"Kennedy\",\"Tintala\",\"Teusaquillo\",\"Fontib\\u00f3n\",\"Tunjuelito\",\"Antonio Nari\\u00f1o\",\"Kennedy\",\"Kennedy\",\"Kennedy\",\"Puente Aranda\",\"Villa Alsacia\",\"Villa Alsacia\",\"Villa Alsacia\",\"Puente Aranda\",\"Villa Alsacia\",\"Ciudad Salitre\",\"Puente Aranda\",\"Kennedy\",\"Kennedy\",\"Tintala\",\"Fontib\\u00f3n\",\"Tunjuelito\",\"Kennedy\",\"Kennedy\",\"Kennedy\",\"Ciudad Bol\\u00edvar\",\"Usaqu\\u00e9n\",\"Kennedy\",\"Kennedy\",\"Kennedy\",\"Kennedy\",\"Usaqu\\u00e9n\",\"Suba\",\"Bosa\",\"Suba\",\"Chapinero\",\"Rafael Uribe Uribe\",\"Usme\",\"Bosa\",\"Fontib\\u00f3n\",\"Lagos De Cordoba\",\"Suba\",\"Las Nieves\",\"Fontib\\u00f3n\",\"Kennedy\",\"Lagos De Cordoba\",\"Suba\",\"Las Nieves\",\"Puente Aranda\",\"Suba\",\"Bosa\",\"Kennedy\",\"Suba\",\"Puente Aranda\",\"Santa Barbara\",\"Fontib\\u00f3n\",\"Bosa\",\"Santa Barbara\",\"Engativa\",\"Boyaca \",\"Suba\",\"Teusaquillo\",\"Nicolas De Federman\",\"Chapinero\",\"Usaqu\\u00e9n\",\"Antonio Nari\\u00f1o\",\"Antonio Nari\\u00f1o\",\"Kennedy\",\"Santa Barbara\",\"Usaqu\\u00e9n\",\"Barrios Unidos\",\"Suba\",\"Suba\",\"Suba\",\"Cedritos\",\"Kennedy\",\"Villa Alsacia\",\"Usaqu\\u00e9n\",\"Kennedy\",\"Usme\",\"Chapinero\",\"Suba\",\"Bosa\",\"Rafael Uribe Uribe\",\"Suba\",\"Kennedy\",\"Kennedy\",\"Chapinero\",\"Kennedy\",\"Kennedy\",\"Kennedy\",\"Usaqu\\u00e9n\",\"Rafael Uribe Uribe\",\"Niza\",\"Lagos De Cordoba\",\"Lagos De Cordoba\",\"Suba\",\"Chico Reservado\",\"Suba\",\"Chico Reservado\",\"Santa Paula\",\"Usaqu\\u00e9n\",\"Usaqu\\u00e9n\",\"Fontib\\u00f3n\",\"Santa Barbara\",\"Bosa\",\"Usaqu\\u00e9n\",\"Santa Barbara\",\"Usaqu\\u00e9n\",\"Usaqu\\u00e9n\",\"San Patricio\",\"San Patricio\",\"Suba\",\"Suba\",\"Engativa\",\"Engativa\",\"Engativa\",\"Chapinero Alto\",\"Tintala\",\"Chapinero\",\"Usaqu\\u00e9n\",\"Suba\",\"Puente Aranda\",\"Engativa\",\"Bosa\",\"Kennedy\",\"Puente Aranda\",\"Suba\",\"Puente Aranda\",\"Rafael Uribe Uribe\",\"Usaqu\\u00e9n\",\"Kennedy\",\"Santa Barbara\",\"Antonio Nari\\u00f1o\",\"Suba\",\"Chico Reservado\",\"Bosa\",\"Suba\",\"Usaqu\\u00e9n\",\"Los M\\u00e1rtires\",\"San Patricio\",\"Normandia\",\"Rafael Uribe Uribe\",\"Kennedy\",\"Usaqu\\u00e9n\",\"Engativa\",\"Engativa\",\"Engativa\",\"Engativa\",\"Usaqu\\u00e9n\",\"Chico Reservado\",\"Kennedy\",\"Fontib\\u00f3n\",\"Niza\",\"Lagos De Cordoba\",\"Lagos De Cordoba\",\"Suba\",\"Las Nieves\",\"Kennedy\",\"Ciudad Bol\\u00edvar\",\"El Bat\\u00e1n\",\"El Bat\\u00e1n\",\"Puente Largo\",\"Suba\",\"Fontib\\u00f3n\",\"El Bat\\u00e1n\",\"Santa Barbara\",\"Engativa\",\"El Castillo\",\"Kennedy\",\"Teusaquillo\",\"Bosa\",\"Barrios Unidos\",\"Ciudad Bol\\u00edvar\",\"Bosa\",\"Fontib\\u00f3n\",\"Fontib\\u00f3n\",\"Fontib\\u00f3n\",\"Usaqu\\u00e9n\",\"Suba\",\"Engativa\",\"Fontib\\u00f3n\",\"Ciudad Bol\\u00edvar\",\"Kennedy\",\"Engativa\",\"Kennedy\",\"Usaqu\\u00e9n\",\"Suba\",\"Engativa\",\"Chapinero\",\"Kennedy\",\"Usaqu\\u00e9n\",\"Engativa\",\"Cedritos\",\"Nueva Zelandia\",\"Cedritos\",\"Cedritos\",\"Usaqu\\u00e9n\",\"Cedritos\",\"Cedritos\",\"Fontib\\u00f3n\",\"Engativa\",\"Fontib\\u00f3n\",\"Chapinero\",\"Bosa\",\"Suba\",\"Chapinero\",\"Usaqu\\u00e9n\",\"Usaqu\\u00e9n\",\"Kennedy\",\"Suba\",\"Barrios Unidos\",\"Cedritos\",\"Cedritos\",\"Engativa\",\"Engativa\",\"Suba\",\"Engativa\",\"Normandia\",\"San Patricio\",\"Engativa\",\"El Bat\\u00e1n\",\"Chapinero\",\"Antonio Nari\\u00f1o\",\"Cedritos\",\"Kennedy\",\"Kennedy\",\"Suba\",\"Kennedy\",\"Pasadena \",\"San Luis\",\"Barrios Unidos\",\"Usaqu\\u00e9n\",\"Puente Largo\",\"Ciudad Bol\\u00edvar\",\"El Bat\\u00e1n\",\"El Bat\\u00e1n\",\"Puente Largo\",\"Engativa\",\"El Castillo\",\"Engativa\",\"Usaqu\\u00e9n\",\"Tintala\",\"Fontib\\u00f3n\",\"Fontib\\u00f3n\",\"Fontib\\u00f3n\",\"Ciudad Bol\\u00edvar\",\"Bosa\",\"Bosa\",\"Engativa\",\"Suba\",\"Kennedy\",\"Usaqu\\u00e9n\",\"Teusaquillo\",\"Kennedy\",\"Suba\",\"Suba\",\"Cedritos\",\"Engativa\",\"Usaqu\\u00e9n\",\"Usaqu\\u00e9n\",\"Suba\",\"Cedritos\",\"Cedritos\",\"Kennedy\",\"Chapinero\",\"Chapinero\",\"Engativa\",\"Las Nieves\",\"Usaqu\\u00e9n\",\"Palermo\",\"Santa Fe\",\"Engativa\",\"Barrios Unidos\",\"Pinar De Suba\",\"Chapinero\",\"Usme\",\"Suba\",\"Engativa\",\"Chico Reservado\",\"Chico Reservado\",\"Los M\\u00e1rtires\",\"Engativa\",\"Usaqu\\u00e9n\",\"Normandia\",\"San Patricio\",\"Chico Reservado\",\"Engativa\",\"Engativa\",\"Pasadena \",\"Puente Largo\",\"Engativa\",\"Usaqu\\u00e9n\",\"Barrios Unidos\",\"Chapinero\",\"Suba\",\"Engativa\",\"Engativa\",\"Suba\",\"Engativa\",\"Barrios Unidos\",\"Gran Granada\",\"Tunjuelito\",\"Kennedy\",\"Engativa\",\"Bosa\",\"Suba\",\"Rafael Uribe Uribe\",\"Chapinero\",\"Chapinero\",\"Suba\",\"Usaqu\\u00e9n\",\"Bosa\",\"Gran Granada\",\"Chapinero\",\"Gran Granada\",\"Usaqu\\u00e9n\",\"Quinta Paredes\",\"Barrios Unidos\",\"Usaqu\\u00e9n\",\"Suba\",\"Kennedy\",\"Suba\",\"Engativa\",\"Chapinero\",\"Palermo\",\"Chapinero\",\"Engativa\",\"Kennedy\",\"Quinta Camacho\",\"Kennedy\",\"Engativa\",\"Bosa\",\"Colina Campestre\",\"Gran Granada\",\"Engativa\",\"Tunjuelito\",\"Engativa\",\"Suba\",\"Engativa\",\"Kennedy\",\"Quinta Camacho\",\"Suba\",\"Engativa\",\"Alhambra\",\"Tunjuelito\",\"Cedritos\",\"Usaqu\\u00e9n\",\"Suba\",\"Kennedy\",\"Suba\",\"Cedritos\",\"Engativa\",\"Fontib\\u00f3n\",\"Suba\",\"Engativa\",\"Usme\",\"Puente Aranda\",\"Cedritos\",\"Bosa\",\"Suba\",\"Cedritos\",\"Fontib\\u00f3n\",\"Gran Granada\",\"Bosa\",\"Chapinero\",\"Gran Granada\",\"Usaqu\\u00e9n\",\"Engativa\",\"Suba\",\"Engativa\",\"Suba\",\"Gran Granada\",\"Tunjuelito\",\"Suba\",\"Suba\",\"Quinta Camacho\",\"Kennedy\",\"Engativa\",\"Bosa\",\"Rafael Uribe Uribe\",\"Chapinero\",\"Suba\",\"Colina Campestre\",\"Suba\",\"Colina Campestre\",\"Barrios Unidos\",\"Engativa\",\"Kennedy\",\"Usaqu\\u00e9n\",\"Engativa\",\"Tunjuelito\",\"Engativa\",\"Bosa\",\"Gran Granada\",\"Fontib\\u00f3n\",\"Chapinero\",\"Chapinero\",\"Suba\",\"Suba\",\"Los M\\u00e1rtires\",\"Puente Aranda\",\"Santa Barbara\",\"Ingles\",\"Kennedy\",\"Alhambra\",\"Kennedy\",\"La Sabana\",\"Modelia\",\"Rafael Uribe Uribe\",\"Tintala\",\"Suba\",\"Kennedy\",\"San Cristobal\",\"Alhambra\",\"Usaqu\\u00e9n\",\"Patio Bonito\",\"Usaqu\\u00e9n\",\"Engativa\",\"Kennedy\",\"Usaqu\\u00e9n\",\"Engativa\",\"Bellavista Occidental\",\"Cedritos\",\"Villa Alsacia\",\"Villa Alsacia\",\"Teusaquillo\",\"Tunjuelito\",\"Rafael Uribe Uribe\",\"Los Rosales\",\"Tintala\",\"Kennedy\",\"Rafael Uribe Uribe\",\"Chapinero\",\"Fontib\\u00f3n\",\"Modelia\",\"Los M\\u00e1rtires\",\"Santa Barbara\",\"Cedritos\",\"Usaqu\\u00e9n\",\"Engativa\",\"Usaqu\\u00e9n\",\"Barrancas\",\"Usaqu\\u00e9n\",\"Puente Aranda\",\"Usaqu\\u00e9n\",\"Suba\",\"Kennedy\",\"Chapinero\",\"Teusaquillo\",\"San Cristobal\",\"Eduardo Santos\",\"Engativa\",\"Engativa\",\"Venecia\",\"Kennedy\",\"Santa Fe\",\"Kennedy\",\"Rafael Uribe Uribe\",\"Puente Aranda\",\"Ciudad Bol\\u00edvar\",\"Chapinero\",\"Kennedy\",\"Parque Central Bavaria\",\"Kennedy\",\"Kennedy\",\"Las Delicias\",\"Kennedy\",\"Suba\",\"Bosa\",\"Bosa\",\"Bosa\",\"Bosa\",\"Bosa\",\"Kennedy\",\"Chapinero Central\",\"Bosa\",\"Suba\",\"Antonio Nari\\u00f1o\",\"Kennedy\",\"Marly\",\"Villemar\",\"Engativa\",\"Kennedy\",\"Suba\",\"Barrios Unidos\",\"Suba\",\"Antonio Nari\\u00f1o\",\"Suba\",\"El Castillo\",\"Villas De Granada\",\"Chapinero Alto\",\"San Cristobal\",\"Kennedy\",\"Kennedy\",\"Barrios Unidos\",\"Suba\",\"Suba\",\"Suba\",\"Cedritos\",\"Kennedy\",\"Villa Alsacia\",\"Usaqu\\u00e9n\",\"Kennedy\",\"Usme\",\"Chapinero\",\"Suba\",\"Bosa\",\"Rafael Uribe Uribe\",\"Suba\",\"Kennedy\",\"Kennedy\",\"Chapinero\",\"Kennedy\",\"Kennedy\",\"Kennedy\",\"Usaqu\\u00e9n\",\"Rafael Uribe Uribe\",\"Niza\",\"Lagos De Cordoba\",\"Santa Barbara\",\"Santa Barbara\",\"Fontib\\u00f3n\",\"Modelia\",\"Las Nieves\",\"Santa Barbara\",\"Fontib\\u00f3n\",\"Teusaquillo\",\"Cedritos\",\"Madelena\",\"Antonio Nari\\u00f1o\",\"Bosa\",\"Nicolas De Federman\",\"Suba\",\"Chico Reservado\",\"Chico Reservado\",\"Usaqu\\u00e9n\",\"Suba\",\"Usaqu\\u00e9n\",\"Chico Reservado\",\"Suba\",\"Suba\",\"Chico Reservado\",\"Lagos De Cordoba\",\"Ciudad Bol\\u00edvar\",\"Ciudad Bol\\u00edvar\",\"Ciudad Bol\\u00edvar\",\"Fontib\\u00f3n\",\"Las Nieves\",\"Kennedy\",\"Ciudad Bol\\u00edvar\",\"Fontib\\u00f3n\",\"Las Nieves\",\"Quirigua\",\"Barrios Unidos\",\"Engativa\",\"Quirigua\",\"Suba\",\"Suba\",\"San Luis\",\"Cedritos\",\"Bosa\",\"Villemar\",\"Bella Suiza\",\"Usaqu\\u00e9n\",\"Engativa\",\"Suba\",\"Suba\",\"Santa Barbara\",\"Suba\",\"Suba\",\"Suba\",\"Bosa\",\"Fontib\\u00f3n\",\"Suba\",\"Suba\",\"Kennedy\",\"Suba\",\"Usaqu\\u00e9n\",\"Usaqu\\u00e9n\",\"Usaqu\\u00e9n\",\"Santa Barbara\",\"Rafael Uribe Uribe\",\"Kennedy\",\"Kennedy\",\"Usaqu\\u00e9n\",\"Suba\",\"Kennedy\",\"Santa Fe\",\"El Castillo\",\"Suba\",\"Usaqu\\u00e9n\",\"Costa Azul\",\"Engativa\",\"Suba\",\"Colina Campestre\",\"Engativa\",\"Puente Aranda\",\"Kennedy\",\"Suba\",\"Suba\",\"Usaqu\\u00e9n\",\"Bosa\",\"Usaqu\\u00e9n\",\"Turingia\",\"Bella Suiza\",\"Chico Reservado\",\"Suba\",\"San Patricio\",\"Suba\",\"Pasadena \",\"Kennedy\",\"Kennedy\",\"Suba\",\"Chapinero\",\"Rafael Uribe Uribe\",\"Suba\",\"Suba\",\"Verbenal\",\"Cedritos\",\"Suba\",\"Suba\",\"Cedritos\",\"Suba\",\"Verbenal\",\"Suba\",\"Chico Reservado\",\"La Candelaria\",\"Kennedy\",\"Chico Reservado\",\"Engativa\",\"Chapinero\",\"Suba\",\"Suba\",\"Usaqu\\u00e9n\",\"Puente Aranda\",\"Usaqu\\u00e9n\",\"Usaqu\\u00e9n\",\"Usaqu\\u00e9n\",\"Engativa\",\"Chico Norte\",\"Kennedy\",\"Kennedy\",\"Los M\\u00e1rtires\",\"Kennedy\",\"Engativa\",\"Kennedy\",\"Gran Granada\",\"Suba\",\"Kennedy\",\"Kennedy\",\"Quiroga\",\"Suba\",\"Usaqu\\u00e9n\",\"Suba\",\"Puente Aranda\",\"Suba\",\"Kennedy\",\"Quirigua\",\"San Luis\",\"Barrios Unidos\",\"Teusaquillo\",\"El Tunal\",\"Kennedy\",\"Suba\",\"Suba\",\"Engativa\",\"Fontib\\u00f3n\",\"Fontib\\u00f3n\",\"Usaqu\\u00e9n\",\"Fontib\\u00f3n\",\"Ciudad Bol\\u00edvar\",\"Bosa\",\"Bosa\",\"Engativa\",\"Fontib\\u00f3n\",\"Suba\",\"Antonio Nari\\u00f1o\",\"Usaqu\\u00e9n\",\"Teusaquillo\",\"Kennedy\",\"Suba\",\"Bosa\",\"Bosa\",\"Usaqu\\u00e9n\",\"Tunjuelito\",\"Suba\",\"Verbenal\",\"Usaqu\\u00e9n\",\"Verbenal\",\"Teusaquillo\",\"El Bat\\u00e1n\",\"Santa Barbara\",\"Suba\",\"Usaqu\\u00e9n\",\"Usaqu\\u00e9n\",\"Suba\",\"Cedritos\",\"Suba\",\"Cedritos\",\"Chico Reservado\",\"Suba\",\"Pasadena \",\"Kennedy\",\"Kennedy\",\"Las Nieves\",\"Engativa\",\"Rafael Uribe Uribe\",\"Rafael Uribe Uribe\",\"Chapinero\",\"Chico Reservado\",\"Suba\",\"Barrios Unidos\",\"Kennedy\",\"Suba\",\"Kennedy\",\"Engativa\",\"Barrios Unidos\",\"Chapinero\",\"Pinar De Suba\",\"Puente Aranda\",\"Suba\",\"Rafael Uribe Uribe\",\"Ciudad Bol\\u00edvar\",\"Rafael Uribe Uribe\",\"Restrepo\",\"Los Rosales\",\"Fontib\\u00f3n\",\"Bosa\",\"Bosa\",\"Bosa\",\"Suba\",\"Rafael Uribe Uribe\",\"Chapinero\",\"Chapinero\",\"Suba\",\"Suba\",\"Teusaquillo\",\"Engativa\",\"Colina Campestre\",\"Chapinero\",\"Engativa\",\"Usme\",\"Colina Campestre\",\"Palermo\",\"Santa Fe\",\"Suba\",\"Suba\",\"Pinar De Suba\",\"Kennedy\",\"Engativa\",\"Las Nieves\",\"Usaqu\\u00e9n\",\"Suba\",\"Kennedy\",\"Usme\",\"Fontib\\u00f3n\",\"Suba\",\"Engativa\",\"Fontib\\u00f3n\",\"Teusaquillo\",\"Bosa\",\"Pinar De Suba\",\"Usaqu\\u00e9n\",\"Suba\",\"Cedritos\",\"Suba\",\"Engativa\",\"Puente Largo\",\"Usaqu\\u00e9n\",\"Suba\",\"Chapinero\",\"Usaqu\\u00e9n\",\"Gran Granada\",\"Engativa\",\"Engativa\",\"Engativa\",\"Fontib\\u00f3n\",\"Cedritos\",\"Cedritos\",\"Engativa\",\"Colina Campestre\",\"Verbenal\",\"Modelia\",\"Verbenal\",\"Sotavento\",\"Bosa\",\"Usaqu\\u00e9n\",\"Usaqu\\u00e9n\",\"Engativa\",\"Rafael Uribe Uribe\",\"Usaqu\\u00e9n\",\"Suba\",\"Teusaquillo\",\"Gran Granada\",\"Usaqu\\u00e9n\",\"Usaqu\\u00e9n\",\"Nueva Autopista\",\"Usaqu\\u00e9n\",\"Suba\",\"Suba\",\"Ciudad Salitre\",\"Santa Barbara\",\"Barrancas\",\"Fontib\\u00f3n\",\"Engativa\",\"Suba\",\"Usaqu\\u00e9n\",\"Teusaquillo\",\"Fontib\\u00f3n\",\"Bosa\",\"Quinta Paredes\",\"Bosa\",\"Engativa\",\"Engativa\",\"Bosa\",\"Bosa\",\"Usaqu\\u00e9n\",\"Castilla\",\"Barrios Unidos\",\"Bosa\",\"Suba\",\"Teusaquillo\",\"Engativa\",\"Usaqu\\u00e9n\",\"Engativa\",\"Engativa\",\"Fontib\\u00f3n\",\"Barrancas\",\"Suba\",\"Engativa\",\"Niza\",\"Bosa\",\"Bosa\",\"Bosa\",\"Engativa\",\"Tunjuelito\",\"Tunjuelito\",\"Antonio Nari\\u00f1o\",\"Cedritos\",\"Teusaquillo\",\"Engativa\",\"Engativa\",\"Villa Alsacia\",\"La Soledad \",\"Suba\",\"Suba\",\"Suba\",\"Barrios Unidos\",\"Fontib\\u00f3n\",\"Suba\",\"Barrios Unidos\",\"Barrios Unidos\",\"San Diego\",\"Kennedy\",\"Las Aguas\",\"San Diego\",\"Chapinero\",\"Zona Noroccidental\",\"Santa Barbara\",\"Zona Noroccidental\",\"Zona Noroccidental\",\"Santa Librada\",\"Puente Aranda\",\"Zona Noroccidental\",\"Madelena\",\"Cedritos\",\"Zona Noroccidental\",\"Zona Noroccidental\",\"San Patricio\",\"Engativa\",\"Bochica\",\"Ciudad Berna\",\"Zona Noroccidental\",\"Zona Noroccidental\",\"Engativa\",\"Usaqu\\u00e9n\",\"El Bat\\u00e1n\",\"Santa Barbara\",\"La Calleja\",\"Zona Noroccidental\",\"Zona Noroccidental\",\"Zona Noroccidental\",\"San Patricio\",\"El Bat\\u00e1n\",\"Usaqu\\u00e9n\",\"Engativa\",\"Zona Noroccidental\",\"Engativa\",\"Zona Noroccidental\",\"Bochica\",\"Ciudad Berna\",\"Puente Aranda\",\"Usaqu\\u00e9n\",\"Gran Granada\",\"Fontib\\u00f3n\",\"Engativa\",\"Usaqu\\u00e9n\",\"Chapinero\",\"Santa Fe\",\"Antonio Nari\\u00f1o\",\"Restrepo\",\"Ciudad Berna\",\"Los M\\u00e1rtires\",\"Modelia\",\"Engativa\",\"Suba\",\"Bosa\",\"Santa Barbara\",\"San Cristobal\",\"Suba\",\"Suba\",\"Usaqu\\u00e9n\",\"Rafael Uribe Uribe\",\"Santa Barbara\",\"Zona Noroccidental\",\"Zona Noroccidental\",\"Engativa\",\"El Bat\\u00e1n\",\"Usaqu\\u00e9n\",\"San Patricio\",\"Zona Noroccidental\",\"Engativa\",\"Zona Noroccidental\",\"Bochica\",\"Ciudad Berna\",\"Tintala\",\"Chico Norte\",\"San Cristobal\",\"Santa Fe\",\"Villa Alsacia\",\"Kennedy\",\"Villemar\",\"Kennedy\",\"Engativa\",\"Kennedy\",\"Kennedy\",\"Usaqu\\u00e9n\",\"Suba\",\"Teusaquillo\",\"Fontib\\u00f3n\",\"Chico Reservado\",\"Suba\",\"Santa Barbara\",\"San Cristobal\",\"Kennedy\",\"Suba\",\"Kennedy\",\"Rafael Uribe Uribe\",\"Kennedy\",\"San Cristobal\",\"Suba\",\"Costa Azul\",\"Chapinero\",\"Lagos De Cordoba\",\"Costa Azul\",\"Galerias\",\"Capellania\",\"Hayuelos\",\"Santa Maria Del Lago\",\"Chapinero\",\"Santa Barbara\",\"Usaqu\\u00e9n\",\"Chico Reservado\",\"Los Rosales\",\"San Antonio Norte\",\"Santa Barbara\",\"Zona Noroccidental\",\"Los Rosales\",\"Santa Barbara\",\"San Antonio Norte\",\"Santa Barbara\",\"Santa Barbara\",\"Suba\",\"Santa Barbara\",\"Fontib\\u00f3n\",\"Cedritos\",\"Cedritos\",\"Usaqu\\u00e9n\",\"Bella Suiza\",\"Chapinero\",\"Usaqu\\u00e9n\",\"Cedritos\",\"Chapinero\",\"Zona Noroccidental\",\"Usaqu\\u00e9n\",\"Zona Noroccidental\",\"Zona Noroccidental\",\"Chapinero\",\"Zona Noroccidental\",\"Marly\",\"Marly\",\"Fontib\\u00f3n\",\"Chapinero\",\"Usaqu\\u00e9n\",\"Barrios Unidos\",\"Engativa\",\"Barrios Unidos\",\"Barrios Unidos\",\"Barrios Unidos\",\"Cedritos\",\"Fontib\\u00f3n\",\"Zona Noroccidental\",\"Usaqu\\u00e9n\",\"Teusaquillo\",\"Teusaquillo\",\"Suba\",\"La Candelaria\",\"Usaqu\\u00e9n\",\"Santa Barbara\",\"Barrios Unidos\",\"Barrios Unidos\",\"Barrios Unidos\",\"Barrios Unidos\",\"Barrios Unidos\",\"Barrios Unidos\",\"Kennedy\",\"Santa Fe\",\"Zona Noroccidental\",\"Zona Noroccidental\",\"Zona Noroccidental\",\"Chapinero\",\"Chapinero\",\"Chapinero\",\"Chico Norte\",\"La Candelaria\",\"Chapinero\",\"Chapinero\",\"Chapinero\",\"Santa Fe\",\"Gran Granada\",\"Teusaquillo\",\"Chapinero\",\"Chapinero\",\"Usaqu\\u00e9n\",\"Chapinero\",\"Quinta Camacho\",\"Chapinero\",\"Quinta Camacho\",\"Fontib\\u00f3n\",\"Barrios Unidos\",\"Santa Fe\",\"Santa Barbara\",\"Santa Barbara\",\"Teusaquillo\",\"Las Nieves\",\"Fontib\\u00f3n\",\"Kennedy\",\"Colina Campestre\",\"Teusaquillo\",\"Chapinero Central\",\"Bosa\",\"Usaqu\\u00e9n\",\"Chico Norte\",\"Cedritos\",\"Quinta Camacho\",\"Usaqu\\u00e9n\",\"Santa Barbara\",\"Usaqu\\u00e9n\",\"La Candelaria\",\"San Patricio\",\"Zona Noroccidental\",\"Barrios Unidos\",\"Usaqu\\u00e9n\",\"Villa Alsacia\",\"Chapinero Central\",\"Chapinero Central\",\"Santa Barbara\",\"Santa Barbara\",\"Usme\",\"Santa Teresa\",\"Gratamira\",\"Santa Barbara\",\"Chapinero\",\"Tintala\",\"Bosa\",\"Engativa\",\"Chico Reservado\",\"Engativa\",\"Chapinero\",\"Usaqu\\u00e9n\",\"Cedritos\",\"Santa Barbara\",\"Santa Barbara\",\"Pinar De Suba\",\"Chapinero Alto\",\"Cedritos\",\"Ciudad Bol\\u00edvar\",\"Teusaquillo\",\"Modelia\",\"Usaqu\\u00e9n\",\"Usaqu\\u00e9n\",\"Teusaquillo\",\"Usaqu\\u00e9n\",\"Cedritos\",\"Zona Noroccidental\",\"El Chic\\u00f3\",\"El Chic\\u00f3\",\"Tintala\",\"Madelena\",\"Fontib\\u00f3n\",\"Tintala\",\"Zona Noroccidental\",\"Ciudad Salitre\",\"Zona Noroccidental\",\"Chapinero\",\"Tintala\",\"Zona Noroccidental\",\"Cedritos\",\"Kennedy\",\"Ciudad Bol\\u00edvar\",\"Usaqu\\u00e9n\",\"Portales Del Norte\",\"La Calleja\",\"Kennedy\",\"Bosa\",\"Fontib\\u00f3n\",\"San Luis\",\"Barrios Unidos\",\"Santa Paula\",\"Bella Suiza\",\"Engativa\",\"Cedritos\",\"Usaqu\\u00e9n\",\"Cedritos\",\"Bosa\",\"La Calleja\",\"Santa Barbara\",\"Santa Barbara\",\"Zona Noroccidental\",\"El Chic\\u00f3\",\"Zona Noroccidental\",\"San Luis\",\"Kennedy\",\"Chapinero Central\",\"Kennedy\",\"Teusaquillo\",\"El Bat\\u00e1n\",\"Kennedy\",\"Puente Aranda\",\"Santa Barbara\",\"Usaqu\\u00e9n\",\"Cedritos\",\"Engativa\",\"Cedritos\",\"Santa Barbara\",\"Zona Noroccidental\",\"Fontib\\u00f3n\",\"Engativa\",\"Santa Barbara\",\"Mazuren\",\"Barrios Unidos\",\"Zona Noroccidental\",\"Chapinero Central\",\"Chapinero Central\",\"San Luis\",\"Chapinero\",\"Kennedy\",\"Chapinero Central\",\"Chapinero\",\"Chapinero Central\",\"Fontib\\u00f3n\",\"Portales Del Norte\",\"Bosa\",\"Cantagallo\",\"Santa Barbara\",\"Zona Noroccidental\",\"Usaqu\\u00e9n\",\"Zona Noroccidental\",\"Chapinero\",\"Fontib\\u00f3n\",\"Engativa\",\"Fontib\\u00f3n\",\"Santa Barbara\",\"Portales Del Norte\",\"Villa Alsacia\",\"La Uribe\",\"Chapinero Central\",\"Santa Barbara\",\"Cantagallo\",\"Usaqu\\u00e9n\",\"Santa Barbara\",\"El Bat\\u00e1n\",\"Bosa\",\"Fontib\\u00f3n\",\"Cedritos\",\"Barrios Unidos\",\"Zona Noroccidental\",\"Zona Noroccidental\",\"Santa Fe\",\"Engativa\",\"El Chic\\u00f3\",\"Santa Barbara\",\"Fontib\\u00f3n\",\"Barrios Unidos\",\"Santa Barbara\",\"Suba\",\"Gran America\",\"Barrios Unidos\",\"Barrios Unidos\",\"Barrios Unidos\",\"Barrios Unidos\",\"Barrios Unidos\",\"Usaqu\\u00e9n\",\"Marly\",\"Rafael Uribe Uribe\",\"Chapinero\",\"Usaqu\\u00e9n\",\"Santa Paula\",\"Santa Barbara\",\"Puente Aranda\",\"Kennedy\",\"Santa Fe\",\"Zona Noroccidental\",\"Zona Noroccidental\",\"Zona Noroccidental\",\"Chapinero\",\"Chapinero\",\"Chapinero\",\"Chico Norte\",\"La Candelaria\",\"Chapinero\",\"Chapinero\",\"Chapinero\",\"Santa Fe\",\"Gran Granada\",\"Teusaquillo\",\"Chapinero\",\"Chapinero\",\"Usaqu\\u00e9n\",\"Chapinero\",\"Quinta Camacho\",\"Chapinero\",\"Quinta Camacho\",\"Fontib\\u00f3n\",\"Barrios Unidos\",\"Santa Fe\",\"Santa Barbara\",\"Santa Barbara\",\"Teusaquillo\",\"Las Nieves\",\"Usaqu\\u00e9n\",\"Usaqu\\u00e9n\",\"Bosa\",\"Santa Barbara\",\"Pasadena \",\"Zona Noroccidental\",\"Suba\",\"Zona Noroccidental\",\"Zona Noroccidental\",\"Fontib\\u00f3n\",\"Usaqu\\u00e9n\",\"Usaqu\\u00e9n\",\"Andes Norte\",\"Usaqu\\u00e9n\",\"Alhambra\",\"Puente Largo\",\"Usaqu\\u00e9n\",\"Usaqu\\u00e9n\",\"La Candelaria\",\"Cedritos\",\"Zona Noroccidental\",\"Fontib\\u00f3n\",\"Cerros De Suba\",\"Kennedy\",\"Teusaquillo\",\"Colina Campestre\",\"Teusaquillo\",\"Chapinero Central\",\"Bosa\",\"Usaqu\\u00e9n\",\"Chico Norte\",\"Cedritos\",\"Chapinero Central\",\"Villa Alsacia\",\"Chapinero Central\",\"Usaqu\\u00e9n\",\"Quinta Camacho\",\"Usaqu\\u00e9n\",\"Santa Barbara\",\"La Candelaria\",\"San Patricio\",\"Zona Noroccidental\",\"Usaqu\\u00e9n\",\"Usaqu\\u00e9n\",\"Santa Barbara\",\"Cedritos\",\"Ciudad Bol\\u00edvar\",\"Pinar De Suba\",\"Santa Barbara\",\"Madelena\",\"Zona Noroccidental\",\"El Chic\\u00f3\",\"Tintala\",\"El Chic\\u00f3\",\"Tintala\",\"Fontib\\u00f3n\",\"Cedritos\",\"Usaqu\\u00e9n\",\"Fontib\\u00f3n\",\"Santa Paula\",\"Engativa\",\"Ciudad Bol\\u00edvar\",\"Bella Suiza\",\"Cedritos\",\"Bella Suiza\",\"San Luis\",\"Barrios Unidos\",\"Cedritos\",\"Villa Alsacia\",\"Kennedy\",\"San Luis\",\"Kennedy\",\"Kennedy\",\"Santa Paula\",\"Bella Suiza\",\"Engativa\",\"Cedritos\",\"Usaqu\\u00e9n\",\"Cedritos\",\"Bosa\",\"La Calleja\",\"Santa Barbara\",\"Santa Barbara\",\"Zona Noroccidental\",\"El Chic\\u00f3\",\"Zona Noroccidental\",\"San Luis\",\"Kennedy\",\"Chapinero Central\",\"Kennedy\",\"Kennedy\",\"Usaqu\\u00e9n\",\"Fontib\\u00f3n\",\"Antonio Nari\\u00f1o\",\"Usaqu\\u00e9n\",\"Fontib\\u00f3n\",\"Teusaquillo\",\"Villa Alsacia\",\"Fontib\\u00f3n\",\"Fontib\\u00f3n\",\"El Bat\\u00e1n\",\"Chapinero Central\",\"Portales Del Norte\",\"Fontib\\u00f3n\",\"El Chic\\u00f3\",\"Zona Noroccidental\",\"La Calleja\",\"El Bat\\u00e1n\",\"Zona Noroccidental\",\"Santa Barbara\",\"Santa Barbara\",\"Portales Del Norte\",\"Fontib\\u00f3n\",\"Fontib\\u00f3n\",\"Antonio Nari\\u00f1o\",\"Chapinero Central\",\"Zona Noroccidental\",\"Engativa\",\"Puente Aranda\",\"Fontib\\u00f3n\",\"Engativa\",\"Santa Barbara\",\"Fontib\\u00f3n\",\"Antonio Nari\\u00f1o\",\"Cedritos\",\"Antonio Nari\\u00f1o\",\"Engativa\",\"Chapinero Central\",\"Ciudad Salitre\",\"Chapinero\",\"Zona Noroccidental\",\"Chapinero Central\",\"Chapinero\",\"Portales Del Norte\",\"Chapinero Central\",\"Portales Del Norte\",\"Mazuren\",\"Santa Barbara\",\"Zona Noroccidental\",\"Santa Barbara\",\"Fontib\\u00f3n\",\"Cedritos\",\"Puente Aranda\",\"Kennedy\",\"Kennedy\",\"Kennedy\",\"Engativa\",\"Kennedy\",\"Santa Barbara\",\"Chico Reservado\",\"Bella Suiza\",\"Kennedy\",\"Puente Aranda\",\"Suba\",\"Usaqu\\u00e9n\",\"Barrios Unidos\",\"Barrios Unidos\",\"El Bat\\u00e1n\",\"La Calleja\",\"Cedritos\",\"Kennedy\",\"Chapinero\",\"Engativa\",\"Cedritos\",\"Kennedy\",\"Chapinero\",\"Teusaquillo\",\"Kennedy\",\"Kennedy\",\"Restrepo\",\"Engativa\",\"Chapinero\",\"Chapinero\",\"La Candelaria\",\"El Bat\\u00e1n\",\"Chapinero\",\"Zona Noroccidental\",\"Suba\",\"Usaqu\\u00e9n\",\"Alhambra\",\"Usaqu\\u00e9n\",\"Suba\",\"Ciudad Salitre\",\"Fontib\\u00f3n\",\"Fontib\\u00f3n\",\"Modelia\",\"Suba\",\"Usaqu\\u00e9n\",\"Usaqu\\u00e9n\",\"Santa Barbara\",\"Suba\",\"Santa Barbara\",\"Suba\",\"Suba\",\"Usaqu\\u00e9n\",\"Quinta Camacho\",\"Chapinero\",\"Los M\\u00e1rtires\",\"Santa Fe\",\"El Salitre\",\"Chico Reservado\",\"Usaqu\\u00e9n\",\"Santa Barbara\",\"Suba\",\"Niza\",\"Cedritos\",\"Suba\",\"Usaqu\\u00e9n\",\"Suba\",\"Cedritos\",\"El Bat\\u00e1n\",\"Chico Reservado\",\"Chico Reservado\",\"Suba\",\"Santa Barbara\",\"San Patricio\",\"Los Rosales\",\"Los Rosales\",\"Las Nieves\",\"Cedritos\",\"Suba\",\"Los Rosales\",\"Las Nieves\",\"Los Rosales\",\"Chapinero\",\"Alhambra\",\"Barrios Unidos\",\"Usaqu\\u00e9n\",\"Kennedy\",\"Usaqu\\u00e9n\",\"Usaqu\\u00e9n\",\"Santa Barbara\",\"Engativa\",\"Nueva Zelandia\",\"Usaqu\\u00e9n\",\"Cedritos\",\"Chapinero Alto\",\"Cedritos\",\"Cedritos\",\"Santa Barbara\",\"Santa Paula\",\"San Patricio\",\"Suba\",\"Cedritos\",\"Usaqu\\u00e9n\",\"Cedritos\",\"Cedritos\",\"Teusaquillo\",\"Chico Reservado\",\"Chico Reservado\",\"Suba\",\"Usaqu\\u00e9n\",\"Puente Largo\",\"Tintala\",\"Los Rosales\",\"Usaqu\\u00e9n\",\"Nueva Autopista\",\"El Bat\\u00e1n\",\"Usaqu\\u00e9n\",\"El Bat\\u00e1n\",\"Suba\",\"Cedritos\",\"Usaqu\\u00e9n\",\"Chapinero\",\"Usaqu\\u00e9n\",\"Nueva Autopista\",\"Suba\",\"Suba\",\"Nueva Autopista\",\"Chapinero\",\"Chico Reservado\",\"Cedritos\",\"Usaqu\\u00e9n\",\"Usaqu\\u00e9n\",\"Cedritos\",\"Modelia\",\"Nueva Autopista\",\"Cedritos\",\"Suba\",\"Ciudad Bol\\u00edvar\",\"Suba\",\"Colina Campestre\",\"Rafael Uribe Uribe\",\"Usaqu\\u00e9n\",\"Suba\",\"Cedritos\",\"Suba\",\"Sotavento\",\"Nueva Zelandia\",\"Suba\",\"Chapinero\",\"Fontib\\u00f3n\",\"Nueva Autopista\",\"Sotavento\",\"Teusaquillo\",\"Suba\",\"Fontib\\u00f3n\",\"Fontib\\u00f3n\",\"Modelia\",\"Suba\",\"Usaqu\\u00e9n\",\"Usaqu\\u00e9n\",\"Santa Barbara\",\"Suba\",\"Usaqu\\u00e9n\",\"Chapinero\",\"Quinta Camacho\",\"Santa Barbara\",\"Suba\",\"Suba\",\"Suba\",\"Suba\",\"Usaqu\\u00e9n\",\"Usaqu\\u00e9n\",\"Usaqu\\u00e9n\",\"Kennedy\",\"Engativa\",\"Suba\",\"La Salle\",\"Chapinero\",\"Los Rosales\",\"Puente Aranda\",\"Sotavento\",\"Suba\",\"Suba\",\"Hayuelos\",\"Suba\",\"Los Rosales\",\"Usaqu\\u00e9n\",\"Los Rosales\",\"Usaqu\\u00e9n\",\"Suba\",\"Chapinero\",\"Santa Barbara\",\"Gran Granada\",\"Usaqu\\u00e9n\",\"El Bat\\u00e1n\",\"Santa Barbara\",\"Usaqu\\u00e9n\",\"Nueva Autopista\",\"Santa Barbara\",\"La Salle\",\"Cedritos\",\"Chico Reservado\",\"Usaqu\\u00e9n\",\"Suba\",\"Suba\",\"Teusaquillo\",\"Suba\",\"Chapinero\",\"Chapinero\",\"Suba\",\"Chapinero\",\"Suba\",\"Sotavento\",\"Chapinero\",\"Suba\",\"Suba\",\"Santa Fe\",\"Suba\",\"Usaqu\\u00e9n\",\"Suba\",\"La Candelaria\",\"Cedritos\",\"Cedritos\",\"Suba\",\"Usaqu\\u00e9n\",\"El Refugio\",\"Cedritos\",\"Usaqu\\u00e9n\",\"Suba\",\"Madelena\",\"Usaqu\\u00e9n\",\"Usaqu\\u00e9n\",\"Suba\",\"Los Rosales\",\"Chapinero\",\"Chico Reservado\",\"Usaqu\\u00e9n\",\"Chapinero\",\"Cedritos\",\"Tintala\",\"Usaqu\\u00e9n\",\"Chico Reservado\",\"Mazuren\",\"Chico Reservado\",\"Suba\",\"El Bat\\u00e1n\",\"Ciudad Bol\\u00edvar\",\"Usaqu\\u00e9n\",\"El Bat\\u00e1n\",\"Usaqu\\u00e9n\",\"Los Rosales\",\"Nueva Autopista\",\"El Bat\\u00e1n\",\"El Bat\\u00e1n\",\"Ciudad Bol\\u00edvar\",\"Cedritos\",\"Usaqu\\u00e9n\",\"Bella Suiza\",\"Los Rosales\",\"Chapinero\",\"Cedritos\",\"Chico Reservado\",\"Bella Suiza\",\"Ciudad Bol\\u00edvar\",\"Nueva Autopista\",\"Chapinero\",\"Modelia\",\"Rafael Uribe Uribe\",\"Ciudad Bol\\u00edvar\",\"Suba\",\"Suba\",\"Chico Reservado\",\"Suba\",\"Cedritos\",\"Nueva Autopista\",\"Cedritos\",\"Usaqu\\u00e9n\",\"Suba\",\"Usaqu\\u00e9n\",\"Suba\",\"Cedritos\",\"Nueva Autopista\",\"Cedritos\",\"Usaqu\\u00e9n\",\"Suba\",\"Sotavento\",\"Nueva Zelandia\",\"Teusaquillo\",\"Kennedy\",\"Suba\",\"Puente Aranda\",\"Los Rosales\",\"Sotavento\",\"Engativa\",\"Capellania\",\"Suba\",\"Las Delicias\",\"Usaqu\\u00e9n\",\"Bogot\\u00e1 D.C\",\"Palermo\",\"Cedritos\",\"Engativa\",\"El Progreso\",\"Engativa\",\"Engativa\",\"Ciudad Salitre\",\"Usaqu\\u00e9n\",\"La Calleja\",\"Engativa\",\"Cedritos\",\"Usaqu\\u00e9n\",\"Cedritos\",\"Engativa\",\"Chapinero\",\"Kennedy\",\"Chapinero\",\"Zona Noroccidental\",\"Usme\",\"Usme\",\"Kennedy\",\"Puente Aranda\",\"La Merced\",\"Bosa\",\"Cedritos\",\"La Candelaria\",\"Quirigua\",\"Prado Veraniego\",\"Chico Reservado\",\"Santa Barbara\",\"Suba\",\"Suba\",\"Antonio Nari\\u00f1o\",\"Engativa\",\"Bosa\",\"Engativa\",\"Puente Aranda\",\"Marly\",\"Las Nieves\",\"Suba\",\"Las Nieves\",\"Gran Granada\",\"Barrios Unidos\",\"Palermo\",\"Suba\",\"Zona Noroccidental\",\"Las Nieves\",\"Los Rosales\",\"Ciudad Bol\\u00edvar\",\"Usaqu\\u00e9n\",\"La Calleja\",\"Cedritos\",\"Usaqu\\u00e9n\",\"Barrios Unidos\",\"Bosque De Pinos\",\"Colina Campestre\",\"Zona Noroccidental\",\"Santa Fe\",\"Suba\",\"Cedritos\",\"Fontib\\u00f3n\",\"Niza\",\"Nueva Autopista\",\"Engativa\",\"Fontib\\u00f3n\",\"Santa Barbara\",\"Barrios Unidos\",\"Rafael Uribe Uribe\",\"Teusaquillo\",\"Usaqu\\u00e9n\",\"Fontib\\u00f3n\",\"Usaqu\\u00e9n\",\"Teusaquillo\",\"Usaqu\\u00e9n\",\"Bella Suiza\",\"Kennedy\",\"La Estancia\",\"Engativa\",\"El Bat\\u00e1n\",\"Suba\",\"Chico Reservado\",\"Santa Fe\",\"Usaqu\\u00e9n\",\"Usaqu\\u00e9n\",\"Barrancas\",\"Antonio Nari\\u00f1o\",\"Barrios Unidos\",\"Santa Barbara\",\"Ciudad Berna\",\"San Patricio\",\"Chico Reservado\",\"Chapinero\",\"Fontib\\u00f3n\",\"Suba\",\"Usme\",\"Gran Granada\",\"Kennedy\",\"El Bat\\u00e1n\",\"Fontib\\u00f3n\",\"Ciudad Bol\\u00edvar\",\"Gran Granada\",\"Rafael Uribe Uribe\",\"Santa Barbara\",\"Chico Reservado\",\"San Patricio\",\"Ciudad Berna\",\"Fontib\\u00f3n\",\"Chapinero\",\"Suba\",\"Zona Noroccidental\",\"Barrios Unidos\",\"Fontib\\u00f3n\",\"Niza\",\"Suba\",\"Chico Reservado\",\"Engativa\",\"Santa Barbara\",\"Usaqu\\u00e9n\",\"Kennedy\",\"Chapinero\",\"Cedritos\",\"Suba\",\"Villas De Granada\",\"Chico Reservado\",\"Normandia\",\"Engativa\",\"Barrios Unidos\",\"Ciudad Salitre\",\"Suba\",\"Suba\",\"Kennedy\",\"Kennedy\",\"Santa Paula\",\"Galerias\",\"San Patricio\",\"Pasadena \",\"Suba\",\"San Patricio\",\"Usaqu\\u00e9n\",\"Chico Reservado\",\"Santa Barbara\",\"Barrios Unidos\",\"Usaqu\\u00e9n\",\"Santa Barbara\",\"Chico Reservado\",\"Chapinero\",\"Suba\",\"Niza\",\"San Patricio\",\"Santa Barbara\",\"Ciudad Salitre\",\"Kennedy\",\"Suba\",\"Usaqu\\u00e9n\",\"Bosa\",\"Suba\",\"Suba\",\"Chapinero\",\"Nicolas De Federman\",\"Engativa\",\"Bosa\",\"Engativa\",\"Ciudad Salitre\",\"Las Nieves\",\"Cedritos\",\"Usaqu\\u00e9n\",\"Suba\",\"El Chic\\u00f3\",\"Usaqu\\u00e9n\",\"La Calleja\",\"Nueva Zelandia\",\"Modelia\",\"Barrios Unidos\",\"Cedritos\",\"Santa Barbara\",\"Usaqu\\u00e9n\",\"Usaqu\\u00e9n\",\"Alhambra\",\"Usaqu\\u00e9n\",\"Cedritos\",\"Chico Reservado\",\"Cedritos\",\"Santa Paula\",\"Chapinero\",\"Usaqu\\u00e9n\",\"Chapinero\",\"Chico Reservado\",\"Los Rosales\",\"La Calleja\",\"El Bat\\u00e1n\",\"Usaqu\\u00e9n\",\"Usaqu\\u00e9n\",\"Cedritos\",\"Marly\",\"Teusaquillo\",\"Santa Barbara\",\"Cedritos\",\"Usaqu\\u00e9n\",\"Suba\",\"Suba\",\"Tintala\",\"Santa Barbara\",\"Niza\",\"Bosa\",\"Puente Aranda\",\"Cedritos\",\"Puente Aranda\",\"Villemar\",\"Bosa\",\"Kennedy\",\"Kennedy\",\"Puente Aranda\",\"Bosa\",\"Ciudad Bol\\u00edvar\",\"Engativa\",\"Ciudad Salitre\",\"Kennedy\",\"Kennedy\",\"Villemar\",\"Puente Aranda\",\"Bosa\",\"Kennedy\",\"La Calleja\",\"Ciudad Bol\\u00edvar\",\"Bosa\",\"Puente Aranda\",\"Rafael Uribe Uribe\",\"Bosa\",\"Kennedy\",\"Rafael Uribe Uribe\",\"Castilla\",\"Kennedy\",\"Madelena\",\"Santa Paula\",\"Puente Aranda\",\"Suba\",\"Villas De Granada\",\"Pasadena \",\"Boyaca \",\"San Cristobal\",\"Cedritos\",\"Engativa\",\"Santa Barbara\",\"Puente Aranda\",\"Kennedy\",\"Kennedy\",\"La Soledad \",\"Kennedy\",\"Kennedy\",\"Engativa\",\"Santa Fe\",\"Chapinero Central\",\"Bosa\",\"Antonio Nari\\u00f1o\",\"Usaqu\\u00e9n\",\"Cedritos\",\"San Cristobal\",\"Suba\",\"Kennedy\",\"Boyaca \",\"Pasadena \",\"Villas De Granada\",\"Castilla\",\"Kennedy\",\"Santa Barbara\",\"Usaqu\\u00e9n\",\"Kennedy\",\"Suba\",\"Puente Aranda\",\"Puente Aranda\",\"Rafael Uribe Uribe\",\"Fontib\\u00f3n\",\"Niza\",\"Cedritos\",\"Engativa\",\"Cedritos\",\"Puente Aranda\",\"Puente Aranda\",\"Suba\",\"Rafael Uribe Uribe\",\"Engativa\",\"Rafael Uribe Uribe\",\"Kennedy\",\"Usme\",\"Usaqu\\u00e9n\",\"Cedritos\",\"Santa Barbara\",\"Suba\",\"Tunjuelito\",\"Suba\",\"El Bat\\u00e1n\",\"Kennedy\",\"Suba\",\"Kennedy\",\"Usme\",\"Kennedy\",\"Bosa\",\"Teusaquillo\",\"Fontib\\u00f3n\",\"Kennedy\",\"Teusaquillo\",\"Kennedy\",\"Suba\",\"Puente Aranda\",\"Kennedy\",\"San Cristobal\",\"Kennedy\",\"Kennedy\",\"El Progreso\",\"Puente Aranda\",\"Puente Aranda\",\"Puente Aranda\",\"Bosa\",\"Suba\",\"Teusaquillo\",\"Kennedy\",\"Santa Fe\",\"Chico Reservado\",\"Kennedy\",\"Puente Aranda\",\"Restrepo\",\"Bosa\",\"Suba\",\"Kennedy\",\"La Candelaria\",\"Las Delicias\",\"Puente Aranda\",\"Ciudad Bol\\u00edvar\",\"Engativa\",\"Puente Aranda\",\"Bosa\",\"Kennedy\",\"Kennedy\",\"Puente Aranda\",\"Ciudad Bol\\u00edvar\",\"Kennedy\",\"Madelena\",\"Suba\",\"Barrios Unidos\",\"Teusaquillo\",\"Chapinero\",\"Ciudad Bol\\u00edvar\",\"Ciudad Bol\\u00edvar\",\"Ciudad Bol\\u00edvar\",\"Puente Aranda\",\"Rafael Uribe Uribe\",\"Puente Aranda\",\"Barrios Unidos\",\"Engativa\",\"El Bat\\u00e1n\",\"Colina Campestre\",\"Chico Reservado\",\"Fontib\\u00f3n\",\"Ciudad Bol\\u00edvar\",\"Usaqu\\u00e9n\",\"Fontib\\u00f3n\",\"Nueva Autopista\",\"Kennedy\",\"San Luis\",\"Kennedy\",\"Kennedy\",\"Parque Central Bavaria\",\"Restrepo\",\"Engativa\",\"Tintala\"],\"xaxis\":\"x\",\"yaxis\":\"y\",\"type\":\"histogram\"}],                        {\"template\":{\"data\":{\"histogram2dcontour\":[{\"type\":\"histogram2dcontour\",\"colorbar\":{\"outlinewidth\":0,\"ticks\":\"\"},\"colorscale\":[[0.0,\"#0d0887\"],[0.1111111111111111,\"#46039f\"],[0.2222222222222222,\"#7201a8\"],[0.3333333333333333,\"#9c179e\"],[0.4444444444444444,\"#bd3786\"],[0.5555555555555556,\"#d8576b\"],[0.6666666666666666,\"#ed7953\"],[0.7777777777777778,\"#fb9f3a\"],[0.8888888888888888,\"#fdca26\"],[1.0,\"#f0f921\"]]}],\"choropleth\":[{\"type\":\"choropleth\",\"colorbar\":{\"outlinewidth\":0,\"ticks\":\"\"}}],\"histogram2d\":[{\"type\":\"histogram2d\",\"colorbar\":{\"outlinewidth\":0,\"ticks\":\"\"},\"colorscale\":[[0.0,\"#0d0887\"],[0.1111111111111111,\"#46039f\"],[0.2222222222222222,\"#7201a8\"],[0.3333333333333333,\"#9c179e\"],[0.4444444444444444,\"#bd3786\"],[0.5555555555555556,\"#d8576b\"],[0.6666666666666666,\"#ed7953\"],[0.7777777777777778,\"#fb9f3a\"],[0.8888888888888888,\"#fdca26\"],[1.0,\"#f0f921\"]]}],\"heatmap\":[{\"type\":\"heatmap\",\"colorbar\":{\"outlinewidth\":0,\"ticks\":\"\"},\"colorscale\":[[0.0,\"#0d0887\"],[0.1111111111111111,\"#46039f\"],[0.2222222222222222,\"#7201a8\"],[0.3333333333333333,\"#9c179e\"],[0.4444444444444444,\"#bd3786\"],[0.5555555555555556,\"#d8576b\"],[0.6666666666666666,\"#ed7953\"],[0.7777777777777778,\"#fb9f3a\"],[0.8888888888888888,\"#fdca26\"],[1.0,\"#f0f921\"]]}],\"heatmapgl\":[{\"type\":\"heatmapgl\",\"colorbar\":{\"outlinewidth\":0,\"ticks\":\"\"},\"colorscale\":[[0.0,\"#0d0887\"],[0.1111111111111111,\"#46039f\"],[0.2222222222222222,\"#7201a8\"],[0.3333333333333333,\"#9c179e\"],[0.4444444444444444,\"#bd3786\"],[0.5555555555555556,\"#d8576b\"],[0.6666666666666666,\"#ed7953\"],[0.7777777777777778,\"#fb9f3a\"],[0.8888888888888888,\"#fdca26\"],[1.0,\"#f0f921\"]]}],\"contourcarpet\":[{\"type\":\"contourcarpet\",\"colorbar\":{\"outlinewidth\":0,\"ticks\":\"\"}}],\"contour\":[{\"type\":\"contour\",\"colorbar\":{\"outlinewidth\":0,\"ticks\":\"\"},\"colorscale\":[[0.0,\"#0d0887\"],[0.1111111111111111,\"#46039f\"],[0.2222222222222222,\"#7201a8\"],[0.3333333333333333,\"#9c179e\"],[0.4444444444444444,\"#bd3786\"],[0.5555555555555556,\"#d8576b\"],[0.6666666666666666,\"#ed7953\"],[0.7777777777777778,\"#fb9f3a\"],[0.8888888888888888,\"#fdca26\"],[1.0,\"#f0f921\"]]}],\"surface\":[{\"type\":\"surface\",\"colorbar\":{\"outlinewidth\":0,\"ticks\":\"\"},\"colorscale\":[[0.0,\"#0d0887\"],[0.1111111111111111,\"#46039f\"],[0.2222222222222222,\"#7201a8\"],[0.3333333333333333,\"#9c179e\"],[0.4444444444444444,\"#bd3786\"],[0.5555555555555556,\"#d8576b\"],[0.6666666666666666,\"#ed7953\"],[0.7777777777777778,\"#fb9f3a\"],[0.8888888888888888,\"#fdca26\"],[1.0,\"#f0f921\"]]}],\"mesh3d\":[{\"type\":\"mesh3d\",\"colorbar\":{\"outlinewidth\":0,\"ticks\":\"\"}}],\"scatter\":[{\"fillpattern\":{\"fillmode\":\"overlay\",\"size\":10,\"solidity\":0.2},\"type\":\"scatter\"}],\"parcoords\":[{\"type\":\"parcoords\",\"line\":{\"colorbar\":{\"outlinewidth\":0,\"ticks\":\"\"}}}],\"scatterpolargl\":[{\"type\":\"scatterpolargl\",\"marker\":{\"colorbar\":{\"outlinewidth\":0,\"ticks\":\"\"}}}],\"bar\":[{\"error_x\":{\"color\":\"#2a3f5f\"},\"error_y\":{\"color\":\"#2a3f5f\"},\"marker\":{\"line\":{\"color\":\"#E5ECF6\",\"width\":0.5},\"pattern\":{\"fillmode\":\"overlay\",\"size\":10,\"solidity\":0.2}},\"type\":\"bar\"}],\"scattergeo\":[{\"type\":\"scattergeo\",\"marker\":{\"colorbar\":{\"outlinewidth\":0,\"ticks\":\"\"}}}],\"scatterpolar\":[{\"type\":\"scatterpolar\",\"marker\":{\"colorbar\":{\"outlinewidth\":0,\"ticks\":\"\"}}}],\"histogram\":[{\"marker\":{\"pattern\":{\"fillmode\":\"overlay\",\"size\":10,\"solidity\":0.2}},\"type\":\"histogram\"}],\"scattergl\":[{\"type\":\"scattergl\",\"marker\":{\"colorbar\":{\"outlinewidth\":0,\"ticks\":\"\"}}}],\"scatter3d\":[{\"type\":\"scatter3d\",\"line\":{\"colorbar\":{\"outlinewidth\":0,\"ticks\":\"\"}},\"marker\":{\"colorbar\":{\"outlinewidth\":0,\"ticks\":\"\"}}}],\"scattermapbox\":[{\"type\":\"scattermapbox\",\"marker\":{\"colorbar\":{\"outlinewidth\":0,\"ticks\":\"\"}}}],\"scatterternary\":[{\"type\":\"scatterternary\",\"marker\":{\"colorbar\":{\"outlinewidth\":0,\"ticks\":\"\"}}}],\"scattercarpet\":[{\"type\":\"scattercarpet\",\"marker\":{\"colorbar\":{\"outlinewidth\":0,\"ticks\":\"\"}}}],\"carpet\":[{\"aaxis\":{\"endlinecolor\":\"#2a3f5f\",\"gridcolor\":\"white\",\"linecolor\":\"white\",\"minorgridcolor\":\"white\",\"startlinecolor\":\"#2a3f5f\"},\"baxis\":{\"endlinecolor\":\"#2a3f5f\",\"gridcolor\":\"white\",\"linecolor\":\"white\",\"minorgridcolor\":\"white\",\"startlinecolor\":\"#2a3f5f\"},\"type\":\"carpet\"}],\"table\":[{\"cells\":{\"fill\":{\"color\":\"#EBF0F8\"},\"line\":{\"color\":\"white\"}},\"header\":{\"fill\":{\"color\":\"#C8D4E3\"},\"line\":{\"color\":\"white\"}},\"type\":\"table\"}],\"barpolar\":[{\"marker\":{\"line\":{\"color\":\"#E5ECF6\",\"width\":0.5},\"pattern\":{\"fillmode\":\"overlay\",\"size\":10,\"solidity\":0.2}},\"type\":\"barpolar\"}],\"pie\":[{\"automargin\":true,\"type\":\"pie\"}]},\"layout\":{\"autotypenumbers\":\"strict\",\"colorway\":[\"#636efa\",\"#EF553B\",\"#00cc96\",\"#ab63fa\",\"#FFA15A\",\"#19d3f3\",\"#FF6692\",\"#B6E880\",\"#FF97FF\",\"#FECB52\"],\"font\":{\"color\":\"#2a3f5f\"},\"hovermode\":\"closest\",\"hoverlabel\":{\"align\":\"left\"},\"paper_bgcolor\":\"white\",\"plot_bgcolor\":\"#E5ECF6\",\"polar\":{\"bgcolor\":\"#E5ECF6\",\"angularaxis\":{\"gridcolor\":\"white\",\"linecolor\":\"white\",\"ticks\":\"\"},\"radialaxis\":{\"gridcolor\":\"white\",\"linecolor\":\"white\",\"ticks\":\"\"}},\"ternary\":{\"bgcolor\":\"#E5ECF6\",\"aaxis\":{\"gridcolor\":\"white\",\"linecolor\":\"white\",\"ticks\":\"\"},\"baxis\":{\"gridcolor\":\"white\",\"linecolor\":\"white\",\"ticks\":\"\"},\"caxis\":{\"gridcolor\":\"white\",\"linecolor\":\"white\",\"ticks\":\"\"}},\"coloraxis\":{\"colorbar\":{\"outlinewidth\":0,\"ticks\":\"\"}},\"colorscale\":{\"sequential\":[[0.0,\"#0d0887\"],[0.1111111111111111,\"#46039f\"],[0.2222222222222222,\"#7201a8\"],[0.3333333333333333,\"#9c179e\"],[0.4444444444444444,\"#bd3786\"],[0.5555555555555556,\"#d8576b\"],[0.6666666666666666,\"#ed7953\"],[0.7777777777777778,\"#fb9f3a\"],[0.8888888888888888,\"#fdca26\"],[1.0,\"#f0f921\"]],\"sequentialminus\":[[0.0,\"#0d0887\"],[0.1111111111111111,\"#46039f\"],[0.2222222222222222,\"#7201a8\"],[0.3333333333333333,\"#9c179e\"],[0.4444444444444444,\"#bd3786\"],[0.5555555555555556,\"#d8576b\"],[0.6666666666666666,\"#ed7953\"],[0.7777777777777778,\"#fb9f3a\"],[0.8888888888888888,\"#fdca26\"],[1.0,\"#f0f921\"]],\"diverging\":[[0,\"#8e0152\"],[0.1,\"#c51b7d\"],[0.2,\"#de77ae\"],[0.3,\"#f1b6da\"],[0.4,\"#fde0ef\"],[0.5,\"#f7f7f7\"],[0.6,\"#e6f5d0\"],[0.7,\"#b8e186\"],[0.8,\"#7fbc41\"],[0.9,\"#4d9221\"],[1,\"#276419\"]]},\"xaxis\":{\"gridcolor\":\"white\",\"linecolor\":\"white\",\"ticks\":\"\",\"title\":{\"standoff\":15},\"zerolinecolor\":\"white\",\"automargin\":true,\"zerolinewidth\":2},\"yaxis\":{\"gridcolor\":\"white\",\"linecolor\":\"white\",\"ticks\":\"\",\"title\":{\"standoff\":15},\"zerolinecolor\":\"white\",\"automargin\":true,\"zerolinewidth\":2},\"scene\":{\"xaxis\":{\"backgroundcolor\":\"#E5ECF6\",\"gridcolor\":\"white\",\"linecolor\":\"white\",\"showbackground\":true,\"ticks\":\"\",\"zerolinecolor\":\"white\",\"gridwidth\":2},\"yaxis\":{\"backgroundcolor\":\"#E5ECF6\",\"gridcolor\":\"white\",\"linecolor\":\"white\",\"showbackground\":true,\"ticks\":\"\",\"zerolinecolor\":\"white\",\"gridwidth\":2},\"zaxis\":{\"backgroundcolor\":\"#E5ECF6\",\"gridcolor\":\"white\",\"linecolor\":\"white\",\"showbackground\":true,\"ticks\":\"\",\"zerolinecolor\":\"white\",\"gridwidth\":2}},\"shapedefaults\":{\"line\":{\"color\":\"#2a3f5f\"}},\"annotationdefaults\":{\"arrowcolor\":\"#2a3f5f\",\"arrowhead\":0,\"arrowwidth\":1},\"geo\":{\"bgcolor\":\"white\",\"landcolor\":\"#E5ECF6\",\"subunitcolor\":\"white\",\"showland\":true,\"showlakes\":true,\"lakecolor\":\"white\"},\"title\":{\"x\":0.05},\"mapbox\":{\"style\":\"light\"}}},\"xaxis\":{\"anchor\":\"y\",\"domain\":[0.0,1.0],\"title\":{\"text\":\"value\"}},\"yaxis\":{\"anchor\":\"x\",\"domain\":[0.0,1.0],\"title\":{\"text\":\"count\"}},\"legend\":{\"title\":{\"text\":\"variable\"},\"tracegroupgap\":0},\"margin\":{\"t\":60},\"barmode\":\"relative\"},                        {\"responsive\": true}                    ).then(function(){\n",
              "                            \n",
              "var gd = document.getElementById('8c17059b-35ca-43c3-995e-e3b04a7c2aad');\n",
              "var x = new MutationObserver(function (mutations, observer) {{\n",
              "        var display = window.getComputedStyle(gd).display;\n",
              "        if (!display || display === 'none') {{\n",
              "            console.log([gd, 'removed!']);\n",
              "            Plotly.purge(gd);\n",
              "            observer.disconnect();\n",
              "        }}\n",
              "}});\n",
              "\n",
              "// Listen for the removal of the full notebook cells\n",
              "var notebookContainer = gd.closest('#notebook-container');\n",
              "if (notebookContainer) {{\n",
              "    x.observe(notebookContainer, {childList: true});\n",
              "}}\n",
              "\n",
              "// Listen for the clearing of the current output cell\n",
              "var outputEl = gd.closest('.output');\n",
              "if (outputEl) {{\n",
              "    x.observe(outputEl, {childList: true});\n",
              "}}\n",
              "\n",
              "                        })                };                            </script>        </div>\n",
              "</body>\n",
              "</html>"
            ]
          },
          "metadata": {}
        }
      ]
    },
    {
      "cell_type": "code",
      "source": [
        "import matplotlib.pyplot as plt\n",
        "import seaborn as sns\n",
        "\n",
        "plt.figure(figsize=(10,7))\n",
        "grafica = sns.histplot(data=inmuebles, x='Precio_Millon',kde=True, hue='Tipo')\n",
        "grafica.set_title('Distribucion de valores de los inmuebles en bogota')\n",
        "plt.savefig('/content/drive/MyDrive/inmercion_datos/valor_inmuebles.png',format='png')\n",
        "plt.xlim(50,1000)\n",
        "#plt.ylim(0,20)\n",
        "plt.show()"
      ],
      "metadata": {
        "id": "m5eFINIGgsyu"
      },
      "execution_count": null,
      "outputs": []
    },
    {
      "cell_type": "markdown",
      "source": [
        "***Desafios***\n",
        "1. Estudiar el histograma , seleccionar 3 tipos de inmuebles\n",
        "(refinar el grafico: titulos, aumentar el tamaño de labels, colores, conclusion de la informacion)\n",
        "\n",
        "2. Precio de metro cuadrado por Barrio y hacer el grafico mas adecuado"
      ],
      "metadata": {
        "id": "Zc1xnU7FpEAv"
      }
    },
    {
      "cell_type": "code",
      "source": [
        "inmuebles['Precio_Metro'] = inmuebles.Precio_Millon/inmuebles.Area \n",
        "precio_agrupado_metro = inmuebles.groupby('Barrio').Precio_Metro.mean().sort_values(ascending=False).head(30)\n",
        "precio_agrupado_metro"
      ],
      "metadata": {
        "id": "o8Qlkr20poze"
      },
      "execution_count": null,
      "outputs": []
    },
    {
      "cell_type": "code",
      "source": [
        "plt.figure(figsize=(30,8))\n",
        "ax = sns.barplot(y=precio_agrupado_metro,x=precio_agrupado_metro.index, color=\"#69b3a2\", )\n",
        "# Configuración del título y etiquetas de los ejes\n",
        "ax.set_title(\"Precio promedio por metro cuadrado por Barrio\", fontsize='30')\n",
        "ax.set_xlabel(\"Precio promedio por metro cuadrado (millones de pesos)\")\n",
        "ax.set_ylabel(\"Barrio\")\n",
        "\n",
        "# Mostrar el gráfico\n",
        "plt.show()"
      ],
      "metadata": {
        "id": "wM-KcaKZqjIZ"
      },
      "execution_count": null,
      "outputs": []
    },
    {
      "cell_type": "code",
      "source": [
        "inmuebles.describe()"
      ],
      "metadata": {
        "id": "-XOCfwyzu7ls"
      },
      "execution_count": null,
      "outputs": []
    },
    {
      "cell_type": "markdown",
      "source": [
        "# Aula 3"
      ],
      "metadata": {
        "id": "Ybi54L5iZz3I"
      }
    },
    {
      "cell_type": "code",
      "source": [
        "inmuebles['Valor_m2_Millon'] = inmuebles.Precio_Millon/inmuebles.Area\n",
        "inmuebles.head()"
      ],
      "metadata": {
        "id": "0hCO9VKeZ49-"
      },
      "execution_count": null,
      "outputs": []
    },
    {
      "cell_type": "code",
      "source": [
        "inmuebles.groupby('Barrio').mean()"
      ],
      "metadata": {
        "id": "dagcwW_pedhP"
      },
      "execution_count": null,
      "outputs": []
    },
    {
      "cell_type": "code",
      "source": [
        "datos_barrio = inmuebles.groupby('Barrio').sum()\n",
        "datos_barrio"
      ],
      "metadata": {
        "id": "iYpDgLJ1e9fH"
      },
      "execution_count": null,
      "outputs": []
    },
    {
      "cell_type": "code",
      "source": [
        "datos_barrio['Valor_m2_Barrio'] =  datos_barrio.Precio_Millon/datos_barrio.Area\n",
        "datos_barrio"
      ],
      "metadata": {
        "id": "nBb0TpiugPFK"
      },
      "execution_count": null,
      "outputs": []
    },
    {
      "cell_type": "code",
      "source": [
        "m2_barrio = dict(datos_barrio.Valor_m2_Barrio)\n",
        "m2_barrio\n"
      ],
      "metadata": {
        "id": "kBU-1KDVg6NC"
      },
      "execution_count": null,
      "outputs": []
    },
    {
      "cell_type": "code",
      "source": [
        "inmuebles['Valor_m2_Barrio'] = inmuebles['Barrio']\n",
        "inmuebles['Valor_m2_Barrio'] = inmuebles.Valor_m2_Barrio.map(m2_barrio)#genera un map con los barrios que ya existen y les asigna el valor promedio por metro cuadrado de cada uno\n",
        "inmuebles"
      ],
      "metadata": {
        "id": "C0QIqQ7fiC2Z"
      },
      "execution_count": null,
      "outputs": []
    },
    {
      "cell_type": "code",
      "source": [
        "inmuebles.Barrio.value_counts()[:10]"
      ],
      "metadata": {
        "id": "TrHuY0qRjO2I"
      },
      "execution_count": null,
      "outputs": []
    },
    {
      "cell_type": "code",
      "source": [
        "top_barrios = inmuebles.Barrio.value_counts()[:10].index\n",
        "top_barrios"
      ],
      "metadata": {
        "id": "YiTV6DwKoHML"
      },
      "execution_count": null,
      "outputs": []
    },
    {
      "cell_type": "code",
      "source": [
        "datos_barrio.reset_index(inplace=True)\n",
        "datos_barrio"
      ],
      "metadata": {
        "id": "H4rCw6RIofbt"
      },
      "execution_count": null,
      "outputs": []
    },
    {
      "cell_type": "code",
      "source": [
        "datos_barrio.query('Barrio in @top_barrios')"
      ],
      "metadata": {
        "id": "lF3b_kXro5cT"
      },
      "execution_count": null,
      "outputs": []
    },
    {
      "cell_type": "code",
      "source": [
        "plt.figure(figsize=(15,8))\n",
        "ax = sns.barplot(x=\"Barrio\", y=\"Valor_m2_Barrio\", data= datos_barrio.query('Barrio in @top_barrios'))\n",
        "ax.tick_params(axis='x', rotation=45)\n",
        "ax.set_title('Grafico de promedio de precio por metro cuadrado', fontsize='20')"
      ],
      "metadata": {
        "id": "UGvkvpbzpyzo"
      },
      "execution_count": null,
      "outputs": []
    },
    {
      "cell_type": "code",
      "source": [
        "plt.figure(figsize=(15,8))\n",
        "ax = sns.boxplot(x=\"Barrio\", y=\"Valor_m2_Millon\", data= inmuebles.query('Barrio in @top_barrios'))\n",
        "ax.tick_params(axis='x', rotation=45)\n",
        "plt.show()"
      ],
      "metadata": {
        "id": "DHjkPMQLycPA"
      },
      "execution_count": null,
      "outputs": []
    },
    {
      "cell_type": "code",
      "source": [
        "plt.figure(figsize=(15,8))\n",
        "ax = sns.boxplot(x=\"Barrio\", y=\"Valor_m2_Millon\", data= inmuebles.query('Barrio in @top_barrios & Valor_m2_Millon <=13'))\n",
        "ax.tick_params(axis='x', rotation=45)\n",
        "plt.show()"
      ],
      "metadata": {
        "id": "5aP-3mnD1R1d"
      },
      "execution_count": null,
      "outputs": []
    },
    {
      "cell_type": "code",
      "source": [
        "plt.figure(figsize=(15,8))\n",
        "ax = sns.boxplot(x=\"Barrio\", y=\"Area\", data= inmuebles.query('Barrio in @top_barrios & Area <=300'))\n",
        "ax.tick_params(axis='x', rotation=45)\n",
        "plt.show()"
      ],
      "metadata": {
        "id": "7tl0qnkc3APk"
      },
      "execution_count": null,
      "outputs": []
    },
    {
      "cell_type": "code",
      "source": [
        "plt.figure(figsize=(15,8))\n",
        "ax = sns.boxplot(x=\"Barrio\", y=\"Precio_Millon\", data= inmuebles.query('Barrio in @top_barrios & Precio_Millon < 2600'))\n",
        "ax.tick_params(axis='x', rotation=45)\n",
        "plt.show()"
      ],
      "metadata": {
        "id": "pLQe34_sVU7c"
      },
      "execution_count": null,
      "outputs": []
    },
    {
      "cell_type": "markdown",
      "source": [
        "datos estadisticos de la ciudad de bogota\n",
        "https://microdatos.dane.gov.co/index.php/catalog/743"
      ],
      "metadata": {
        "id": "HezihQGpbY-Z"
      }
    },
    {
      "cell_type": "code",
      "source": [
        "datos_raw = pd.read_csv('/content/drive/MyDrive/inmercion_datos/Identificación (Capítulo A).csv', encoding='latin-1',sep =';')\n",
        "datos_raw.head()"
      ],
      "metadata": {
        "id": "X4Yo3gDfc_Fg"
      },
      "execution_count": null,
      "outputs": []
    },
    {
      "cell_type": "code",
      "source": [
        "datos_raw.shape"
      ],
      "metadata": {
        "id": "jLUbfZE9dw1m"
      },
      "execution_count": null,
      "outputs": []
    },
    {
      "cell_type": "code",
      "source": [
        "datos_raw = datos_raw.loc[datos_raw.MPIO ==11001]\n",
        "datos_raw.shape"
      ],
      "metadata": {
        "id": "TQ5Hg84VhAeZ"
      },
      "execution_count": null,
      "outputs": []
    },
    {
      "cell_type": "code",
      "source": [
        "datos_b = pd.read_csv('/content/drive/MyDrive/inmercion_datos/Datos de la vivenda y su entorno (Capítulo B).csv', encoding='latin-1',sep =';')\n",
        "datos_c = pd.read_csv('/content/drive/MyDrive/inmercion_datos/Condiciones habitacionales del hogar (Capítulo C).csv', encoding='latin-1',sep =';')\n",
        "datos_e = pd.read_csv('/content/drive/MyDrive/inmercion_datos/Composición del hogar y demografía (Capítulo E).csv', encoding='latin-1',sep =';')\n",
        "datos_h = pd.read_csv('/content/drive/MyDrive/inmercion_datos/Educación (Capitulo H).csv', encoding='latin-1',sep =';')\n",
        "datos_l = pd.read_csv('/content/drive/MyDrive/inmercion_datos/Percepción sobre las condiciones de vida y el desempeño institucional (Capítulo L).csv', encoding='latin-1',sep =';')\n",
        "datos_k = pd.read_csv('/content/drive/MyDrive/inmercion_datos/Fuerza de trabajo (Capítulo K).csv', encoding='latin-1',sep =';')"
      ],
      "metadata": {
        "id": "sNjZKjM5lQ6A"
      },
      "execution_count": null,
      "outputs": []
    },
    {
      "cell_type": "code",
      "source": [
        "datos_dane = pd.merge(datos_raw, datos_b, on='DIRECTORIO', how='left')\n",
        "datos_dane.shape"
      ],
      "metadata": {
        "id": "-adKPWI4mAln"
      },
      "execution_count": null,
      "outputs": []
    },
    {
      "cell_type": "code",
      "source": [
        "datos_dane = pd.merge(datos_dane, datos_c, on='DIRECTORIO', how='left')\n",
        "datos_dane.shape"
      ],
      "metadata": {
        "id": "gr6_gbkPmdno"
      },
      "execution_count": null,
      "outputs": []
    },
    {
      "cell_type": "code",
      "source": [
        "datos_dane = pd.merge(datos_dane, datos_e, on='DIRECTORIO', how='left')\n",
        "datos_dane.shape"
      ],
      "metadata": {
        "id": "iYQTtYODmmLu"
      },
      "execution_count": null,
      "outputs": []
    },
    {
      "cell_type": "code",
      "source": [
        "datos_dane.info()"
      ],
      "metadata": {
        "id": "cujPAbsXvT2y"
      },
      "execution_count": null,
      "outputs": []
    },
    {
      "cell_type": "code",
      "source": [
        "#datos_dane = pd.merge(datos_dane, datos_l, on='DIRECTORIO', how='left')\n",
        "#datos_dane.shape"
      ],
      "metadata": {
        "id": "OZ2c5ungmqPI"
      },
      "execution_count": null,
      "outputs": []
    },
    {
      "cell_type": "code",
      "source": [
        "#datos_dane = pd.merge(datos_dane, datos_k, on='DIRECTORIO', how='left')\n",
        "#datos_dane.shape"
      ],
      "metadata": {
        "id": "gXVIuBOom878"
      },
      "execution_count": null,
      "outputs": []
    },
    {
      "cell_type": "code",
      "source": [
        "#datos_dane = pd.merge(datos_dane, datos_h, on='DIRECTORIO', how='left')\n",
        "#datos_dane.shape"
      ],
      "metadata": {
        "id": "jXlpuyt8nHGi"
      },
      "execution_count": null,
      "outputs": []
    },
    {
      "cell_type": "markdown",
      "source": [
        "# Aula 4"
      ],
      "metadata": {
        "id": "5raMj_ogeZkc"
      }
    },
    {
      "cell_type": "code",
      "source": [
        "datos_dane = pd.read_csv('/content/drive/MyDrive/inmercion_datos/datos_dane.csv')\n",
        "datos_dane.head()"
      ],
      "metadata": {
        "id": "q2uUiFWD8hJX"
      },
      "execution_count": null,
      "outputs": []
    },
    {
      "cell_type": "code",
      "source": [
        "datos_dane.shape"
      ],
      "metadata": {
        "id": "kvBn0HsCPsAs"
      },
      "execution_count": null,
      "outputs": []
    },
    {
      "cell_type": "code",
      "source": [
        "datos_dane.info()"
      ],
      "metadata": {
        "id": "HVKXORNbP6-v"
      },
      "execution_count": null,
      "outputs": []
    },
    {
      "cell_type": "code",
      "source": [
        "dic_dane = {\n",
        "       'NVCBP4':'CONJUNTO_CERRADO',\n",
        "       'NVCBP14A':'FABRICAS_CERCA', 'NVCBP14D':'TERMINALES_BUS', 'NVCBP14E':'BARES_DISCO', \n",
        "       'NVCBP14G':'OSCURO_PELIGROSO', 'NVCBP15A':'RUIDO', 'NVCBP15C':'INSEGURIDAD',\n",
        "       'NVCBP15F':'BASURA_INADECUADA', 'NVCBP15G':'INVASION','NVCBP16A3':'MOV_ADULTOS_MAYORES', \n",
        "       'NVCBP16A4':'MOV_NINOS_BEBES',\n",
        "       'NPCKP17':'OCUPACION','NPCKP18':'CONTRATO','NPCKP23':'SALARIO_MES', \n",
        "       'NPCKP44A':'DONDE_TRABAJA', 'NPCKPN62A':'DECLARACION_RENTA', \n",
        "       'NPCKPN62B':'VALOR_DECLARACION', 'NPCKP64A':'PERDIDA_TRABAJO_C19', \n",
        "       'NPCKP64E':'PERDIDA_INGRESOS_C19',\n",
        "       'NHCCP3':'TIENE_ESCRITURA', 'NHCCP6':'ANO_COMPRA', 'NHCCP7':'VALOR_COMPRA', 'NHCCP8_1':'HIPOTECA_CRED_BANCO',\n",
        "       'NHCCP8_2':'OTRO_CRED_BANCO', 'NHCCP8_3':'CRED_FNA', 'NHCCP8_6':'PRESTAMOS_AMIGOS',\n",
        "       'NHCCP8_7':'CESANTIAS', 'NHCCP8_8':'AHORROS', 'NHCCP8_9':'SUBSIDIOS',\n",
        "       'NHCCP9':'CUANTO_PAGARIA_MENSUAL', 'NHCCP11':'PLANES_ADQUIRIR_VIVIENDA', \n",
        "       'NHCCP11A':'MOTIVO_COMPRA', 'NHCCP12':'RAZON_NO_ADQ_VIV', 'NHCCP41':'TIENE_CARRO','NHCCP41A':'CUANTOS_CARROS',\n",
        "       'NHCCP47A':'TIENE_PERROS', 'NHCCP47B':'TIENE_GATOS', 'NHCLP2A':'VICTIMA_ATRACO', 'NHCLP2B':'VICTIMA_HOMICIDIO', \n",
        "       'NHCLP2C':'VICTIMA_PERSECUSION',\n",
        "       'NHCLP2E':'VICTIMA_ACOSO', 'NHCLP4':'COMO_VIVE_ECON', 'NHCLP5':'COMO_NIVEL_VIDA', \n",
        "       'NHCLP8AB':'REACCION_OPORTUNA_POLICIA', 'NHCLP8AE':'COMO_TRANSPORTE_URBANO', 'NHCLP10':'SON_INGRESOS_SUFICIENTES',\n",
        "       'NHCLP11':'SE_CONSIDERA_POBRE', 'NHCLP29_1A':'MED_C19_TRABAJO', \n",
        "       'NHCLP29_1C':'MED_C19_CAMBIO_VIVIENDA', 'NHCLP29_1E':'MED_C19_ENDEUDAMIENTO', \n",
        "       'NHCLP29_1F':'MED_C19_VENTA_BIENES','NPCHP4':'NIVEL_EDUCATIVO'\n",
        "       }"
      ],
      "metadata": {
        "id": "rgvUj9_sQzAv"
      },
      "execution_count": null,
      "outputs": []
    },
    {
      "cell_type": "code",
      "source": [
        "datos_dane = datos_dane.rename(columns=dic_dane)\n",
        "datos_dane.info()"
      ],
      "metadata": {
        "id": "b8hkbaj_SITC"
      },
      "execution_count": null,
      "outputs": []
    },
    {
      "cell_type": "code",
      "source": [
        "datos_dane.groupby('NOMBRE_ESTRATO')[['CONJUNTO_CERRADO','INSEGURIDAD','TERMINALES_BUS','BARES_DISCO','RUIDO','OSCURO_PELIGROSO','SALARIO_MES','TIENE_ESCRITURA','PERDIDA_TRABAJO_C19','PERDIDA_INGRESOS_C19','PLANES_ADQUIRIR_VIVIENDA']].mean().head()"
      ],
      "metadata": {
        "id": "Kh_pOca_SZwS"
      },
      "execution_count": null,
      "outputs": []
    },
    {
      "cell_type": "code",
      "source": [
        "datos = datos_dane[['NOMBRE_ESTRATO','CONJUNTO_CERRADO','INSEGURIDAD','TERMINALES_BUS','BARES_DISCO','RUIDO','OSCURO_PELIGROSO','SALARIO_MES','TIENE_ESCRITURA','PERDIDA_TRABAJO_C19','PERDIDA_INGRESOS_C19','PLANES_ADQUIRIR_VIVIENDA']].replace(2,0)\n",
        "datos"
      ],
      "metadata": {
        "id": "nVChLu7Flvtc"
      },
      "execution_count": null,
      "outputs": []
    },
    {
      "cell_type": "code",
      "source": [
        "datos.NOMBRE_ESTRATO.value_counts()"
      ],
      "metadata": {
        "id": "XQAJsu3unZQU"
      },
      "execution_count": null,
      "outputs": []
    },
    {
      "cell_type": "code",
      "source": [
        "datos.loc[datos.NOMBRE_ESTRATO == '20 de Julio']"
      ],
      "metadata": {
        "id": "ChNPQjjhnnMH"
      },
      "execution_count": null,
      "outputs": []
    },
    {
      "cell_type": "code",
      "source": [
        "datos_tratados = datos.groupby('NOMBRE_ESTRATO')[['CONJUNTO_CERRADO','INSEGURIDAD','TERMINALES_BUS','BARES_DISCO','RUIDO','OSCURO_PELIGROSO','SALARIO_MES','TIENE_ESCRITURA','PERDIDA_TRABAJO_C19','PERDIDA_INGRESOS_C19','PLANES_ADQUIRIR_VIVIENDA']].mean()\n",
        "datos_tratados"
      ],
      "metadata": {
        "id": "M3Eu89JMoEhk"
      },
      "execution_count": null,
      "outputs": []
    },
    {
      "cell_type": "code",
      "source": [
        "pd.merge(inmuebles, datos_tratados, left_on='UPZ', right_on='NOMBRE_ESTRATO', how='left')"
      ],
      "metadata": {
        "id": "vB4B96e9pFcb"
      },
      "execution_count": null,
      "outputs": []
    },
    {
      "cell_type": "code",
      "source": [
        "datos_ml = pd.merge(inmuebles, datos_tratados, left_on='UPZ', right_on='NOMBRE_ESTRATO', how='left')\n",
        "datos_ml.info()"
      ],
      "metadata": {
        "id": "q6aOr41ip-oB"
      },
      "execution_count": null,
      "outputs": []
    },
    {
      "cell_type": "code",
      "source": [
        "upz = pd.read_csv('/content/drive/MyDrive/inmercion_datos/cod_upz.csv')\n",
        "upz.head()"
      ],
      "metadata": {
        "id": "3hsOio2VqlPl"
      },
      "execution_count": null,
      "outputs": []
    },
    {
      "cell_type": "code",
      "source": [
        "datos_ml = pd.merge(datos_ml, upz, left_on='UPZ', right_on='NOMBRE_ESTRATO', how='inner')\n",
        "datos_ml.head()"
      ],
      "metadata": {
        "id": "xRczK6AEr8KW"
      },
      "execution_count": null,
      "outputs": []
    },
    {
      "cell_type": "code",
      "source": [
        "datos_ml.shape"
      ],
      "metadata": {
        "id": "tPTMkZo3ss86"
      },
      "execution_count": null,
      "outputs": []
    },
    {
      "cell_type": "code",
      "source": [
        "datos_ml.info()"
      ],
      "metadata": {
        "id": "LXzqq0qatOoJ"
      },
      "execution_count": null,
      "outputs": []
    },
    {
      "cell_type": "code",
      "source": [
        "plt.figure(figsize=(10,8))\n",
        "sns.boxplot(data=datos_ml, y='Precio_Millon')\n",
        "plt.show()"
      ],
      "metadata": {
        "id": "lPoh3qG4-JM9"
      },
      "execution_count": null,
      "outputs": []
    },
    {
      "cell_type": "code",
      "source": [
        "datos_ml.query('Precio_Millon > 5000 | Precio_Millon < 60')"
      ],
      "metadata": {
        "id": "hqHsfmRE-ql2"
      },
      "execution_count": null,
      "outputs": []
    },
    {
      "cell_type": "code",
      "source": [
        "datos_ml = datos_ml.query('Precio_Millon < 1200 & Precio_Millon > 60')\n",
        "datos_ml.shape"
      ],
      "metadata": {
        "id": "neuqE-m4AwMA"
      },
      "execution_count": null,
      "outputs": []
    },
    {
      "cell_type": "code",
      "source": [
        "plt.figure(figsize=(10,8))\n",
        "sns.boxplot(data=datos_ml, y='Precio_Millon')\n",
        "plt.show()"
      ],
      "metadata": {
        "id": "YJV2Y6M5_0Ty"
      },
      "execution_count": null,
      "outputs": []
    },
    {
      "cell_type": "code",
      "source": [
        "datos_ml['SALARIO_ANUAL_MI'] = datos_ml.SALARIO_MES*12/1000000\n",
        "datos_ml['SALARIO_ANUAL_MI']"
      ],
      "metadata": {
        "id": "myYIYoGhA7j6"
      },
      "execution_count": null,
      "outputs": []
    },
    {
      "cell_type": "code",
      "source": [
        "plt.figure(figsize=(10,8))\n",
        "sns.scatterplot(data=datos_ml, x='SALARIO_ANUAL_MI', y='Valor_m2_Millon')\n",
        "plt.ylim((0,15))\n",
        "plt.show()"
      ],
      "metadata": {
        "id": "JYceHoppCJKM"
      },
      "execution_count": null,
      "outputs": []
    },
    {
      "cell_type": "code",
      "source": [
        "datos_ml.corr()"
      ],
      "metadata": {
        "id": "E3ApM7ORDojx"
      },
      "execution_count": null,
      "outputs": []
    },
    {
      "cell_type": "code",
      "source": [
        "plt.figure(figsize=(18, 8))\n",
        "#https://www.tylervigen.com/spurious-correlations\n",
        "#mascara = np.triu(np.ones_like(datos_ml.corr(), dtype=bool)) mask=mascara,\n",
        "heatmap = sns.heatmap(datos_ml.corr(), vmin=-1, vmax=1, annot=True, cmap='BrBG')\n",
        "heatmap.set_title('Correlación de las variables', fontdict={'fontsize':18}, pad=16);"
      ],
      "metadata": {
        "id": "QDgHtJy8ERyB"
      },
      "execution_count": null,
      "outputs": []
    },
    {
      "cell_type": "code",
      "source": [
        "from sklearn.linear_model import LinearRegression\n",
        "from sklearn.model_selection import train_test_split\n",
        "\n",
        "X = datos_ml[['COD_UPZ_GRUPO']]\n",
        "y = datos_ml.Precio_Millon\n",
        "\n",
        "X_train , X_test, y_train, y_test = train_test_split(X,y,test_size=0.25, random_state=99)"
      ],
      "metadata": {
        "id": "GpY9EsUxE_Be"
      },
      "execution_count": null,
      "outputs": []
    },
    {
      "cell_type": "code",
      "source": [
        "X_train"
      ],
      "metadata": {
        "id": "9T3aVcIqJfxM"
      },
      "execution_count": null,
      "outputs": []
    },
    {
      "cell_type": "code",
      "source": [
        "X_test"
      ],
      "metadata": {
        "id": "0XmD4pzzJijy"
      },
      "execution_count": null,
      "outputs": []
    },
    {
      "cell_type": "code",
      "source": [
        "y_train"
      ],
      "metadata": {
        "id": "4WKTViH8JnSf"
      },
      "execution_count": null,
      "outputs": []
    },
    {
      "cell_type": "code",
      "source": [
        "y_test"
      ],
      "metadata": {
        "id": "jCx_4QVwJqWP"
      },
      "execution_count": null,
      "outputs": []
    },
    {
      "cell_type": "code",
      "source": [
        "modelo = LinearRegression()"
      ],
      "metadata": {
        "id": "xeqFMuVBJsta"
      },
      "execution_count": null,
      "outputs": []
    },
    {
      "cell_type": "code",
      "source": [
        "modelo.fit(X_train,y_train)"
      ],
      "metadata": {
        "id": "I0dekbzZKOk7"
      },
      "execution_count": null,
      "outputs": []
    },
    {
      "cell_type": "code",
      "source": [
        "y_predict_test = modelo.predict(X_test)"
      ],
      "metadata": {
        "id": "vmFI9eF4KeoL"
      },
      "execution_count": null,
      "outputs": []
    },
    {
      "cell_type": "code",
      "source": [
        "from sklearn.metrics import mean_absolute_error, r2_score\n",
        "\n",
        "baseline_mae = mean_absolute_error(y_test, y_predict_test)\n",
        "baseline_mae"
      ],
      "metadata": {
        "id": "eDZ8IipTK473"
      },
      "execution_count": null,
      "outputs": []
    },
    {
      "cell_type": "code",
      "source": [
        "baseline_r2 = r2_score(y_test, y_predict_test)\n",
        "baseline_r2"
      ],
      "metadata": {
        "id": "Dbb1OtaFLsBz"
      },
      "execution_count": null,
      "outputs": []
    },
    {
      "cell_type": "code",
      "source": [
        "X = datos_ml[['COD_UPZ_GRUPO','Habitaciones','Banos']] #,'CONJUNTO_CERRADO','SALARIO_ANUAL_MI','TIENE_ESCRITURA'\n",
        "\n",
        "Y = datos_ml[\"Precio_Millon\"]\n",
        "\n",
        "X_train, X_test, y_train, y_test = train_test_split(X, y, test_size = 0.25, random_state = 99)\n",
        "modelo_1 = LinearRegression()\n",
        "modelo_1.fit(X_train, y_train)\n",
        "y_predict_test = modelo_1.predict(X_test)\n",
        "y_predict_train = modelo_1.predict(X_train)\n",
        "mae_test = mean_absolute_error(y_test, y_predict_test)\n",
        "r2_test = r2_score(y_test, y_predict_test)\n",
        "mae_train = mean_absolute_error(y_train, y_predict_train)\n",
        "r2_train = r2_score(y_train, y_predict_train)\n",
        "print(mae_test,r2_test)\n",
        "print(mae_train,r2_train)"
      ],
      "metadata": {
        "id": "-Ym6FOFpMAmr"
      },
      "execution_count": null,
      "outputs": []
    },
    {
      "cell_type": "code",
      "source": [
        "X = datos_ml[['COD_UPZ_GRUPO','Habitaciones','Banos','CONJUNTO_CERRADO','SALARIO_ANUAL_MI','TIENE_ESCRITURA']] #,'CONJUNTO_CERRADO','SALARIO_ANUAL_MI','TIENE_ESCRITURA'\n",
        "\n",
        "Y = datos_ml[\"Precio_Millon\"]\n",
        "\n",
        "X_train, X_test, y_train, y_test = train_test_split(X, y, test_size = 0.25, random_state = 99)\n",
        "modelo_1 = LinearRegression()\n",
        "modelo_1.fit(X_train, y_train)\n",
        "y_predict_test = modelo_1.predict(X_test)\n",
        "y_predict_train = modelo_1.predict(X_train)\n",
        "mae_test = mean_absolute_error(y_test, y_predict_test)\n",
        "r2_test = r2_score(y_test, y_predict_test)\n",
        "mae_train = mean_absolute_error(y_train, y_predict_train)\n",
        "r2_train = r2_score(y_train, y_predict_train)\n",
        "print(mae_test,r2_test)\n",
        "print(mae_train,r2_train)"
      ],
      "metadata": {
        "id": "FFR-6n3YMhgf"
      },
      "execution_count": null,
      "outputs": []
    },
    {
      "cell_type": "code",
      "source": [
        "y_predict = modelo_1.predict([[816,3,2,1,50,1]])\n",
        "y_predict\n"
      ],
      "metadata": {
        "id": "nOpz_1c4Mt3I"
      },
      "execution_count": null,
      "outputs": []
    },
    {
      "cell_type": "code",
      "source": [],
      "metadata": {
        "id": "pteqLXaYRbJ8"
      },
      "execution_count": null,
      "outputs": []
    }
  ]
}